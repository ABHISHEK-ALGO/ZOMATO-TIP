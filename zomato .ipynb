{
 "cells": [
  {
   "cell_type": "markdown",
   "id": "72cfb31b",
   "metadata": {},
   "source": [
    "# Problem Statements\n",
    "\n",
    "### 1. Collect data from sqlite"
   ]
  },
  {
   "cell_type": "code",
   "execution_count": 1,
   "id": "851d0ea8",
   "metadata": {},
   "outputs": [],
   "source": [
    "import pandas as pd \n",
    "import numpy as np\n",
    "import matplotlib.pyplot as plt\n",
    "import seaborn as sns"
   ]
  },
  {
   "cell_type": "code",
   "execution_count": 2,
   "id": "fc225098",
   "metadata": {},
   "outputs": [],
   "source": [
    "import sqlite3"
   ]
  },
  {
   "cell_type": "code",
   "execution_count": 3,
   "id": "11b74e06",
   "metadata": {},
   "outputs": [],
   "source": [
    "con = sqlite3.connect(\"zomato_rawdata.sqlite\")\n"
   ]
  },
  {
   "cell_type": "code",
   "execution_count": 4,
   "id": "026b8171",
   "metadata": {},
   "outputs": [],
   "source": [
    "df = pd.read_sql_query('SELECT * FROM USERS' , con)"
   ]
  },
  {
   "cell_type": "code",
   "execution_count": 5,
   "id": "5416d203",
   "metadata": {},
   "outputs": [
    {
     "data": {
      "text/plain": [
       "(51717, 18)"
      ]
     },
     "execution_count": 5,
     "metadata": {},
     "output_type": "execute_result"
    }
   ],
   "source": [
    "df.shape"
   ]
  },
  {
   "cell_type": "code",
   "execution_count": 6,
   "id": "5374c8f6",
   "metadata": {},
   "outputs": [
    {
     "name": "stdout",
     "output_type": "stream",
     "text": [
      "<class 'pandas.core.frame.DataFrame'>\n",
      "RangeIndex: 51717 entries, 0 to 51716\n",
      "Data columns (total 18 columns):\n",
      " #   Column                       Non-Null Count  Dtype \n",
      "---  ------                       --------------  ----- \n",
      " 0   index                        51717 non-null  int64 \n",
      " 1   url                          51717 non-null  object\n",
      " 2   address                      51717 non-null  object\n",
      " 3   name                         51717 non-null  object\n",
      " 4   online_order                 51717 non-null  object\n",
      " 5   book_table                   51717 non-null  object\n",
      " 6   rate                         43942 non-null  object\n",
      " 7   votes                        51717 non-null  int64 \n",
      " 8   phone                        50509 non-null  object\n",
      " 9   location                     51696 non-null  object\n",
      " 10  rest_type                    51490 non-null  object\n",
      " 11  dish_liked                   23639 non-null  object\n",
      " 12  cuisines                     51672 non-null  object\n",
      " 13  approx_cost(for two people)  51371 non-null  object\n",
      " 14  reviews_list                 51717 non-null  object\n",
      " 15  menu_item                    51717 non-null  object\n",
      " 16  listed_in(type)              51717 non-null  object\n",
      " 17  listed_in(city)              51717 non-null  object\n",
      "dtypes: int64(2), object(16)\n",
      "memory usage: 7.1+ MB\n"
     ]
    }
   ],
   "source": [
    "df.info()"
   ]
  },
  {
   "cell_type": "markdown",
   "id": "f9feecfb",
   "metadata": {},
   "source": [
    "### 2.Data Cleaning "
   ]
  },
  {
   "cell_type": "code",
   "execution_count": 7,
   "id": "a4d1d46d",
   "metadata": {},
   "outputs": [
    {
     "data": {
      "text/plain": [
       "index                              0\n",
       "url                                0\n",
       "address                            0\n",
       "name                               0\n",
       "online_order                       0\n",
       "book_table                         0\n",
       "rate                            7775\n",
       "votes                              0\n",
       "phone                           1208\n",
       "location                          21\n",
       "rest_type                        227\n",
       "dish_liked                     28078\n",
       "cuisines                          45\n",
       "approx_cost(for two people)      346\n",
       "reviews_list                       0\n",
       "menu_item                          0\n",
       "listed_in(type)                    0\n",
       "listed_in(city)                    0\n",
       "dtype: int64"
      ]
     },
     "execution_count": 7,
     "metadata": {},
     "output_type": "execute_result"
    }
   ],
   "source": [
    "df.isnull().sum()# important columns have many missing values "
   ]
  },
  {
   "cell_type": "code",
   "execution_count": 8,
   "id": "3ac3a22f",
   "metadata": {
    "scrolled": true
   },
   "outputs": [
    {
     "data": {
      "text/plain": [
       "index                           int64\n",
       "url                            object\n",
       "address                        object\n",
       "name                           object\n",
       "online_order                   object\n",
       "book_table                     object\n",
       "rate                           object\n",
       "votes                           int64\n",
       "phone                          object\n",
       "location                       object\n",
       "rest_type                      object\n",
       "dish_liked                     object\n",
       "cuisines                       object\n",
       "approx_cost(for two people)    object\n",
       "reviews_list                   object\n",
       "menu_item                      object\n",
       "listed_in(type)                object\n",
       "listed_in(city)                object\n",
       "dtype: object"
      ]
     },
     "execution_count": 8,
     "metadata": {},
     "output_type": "execute_result"
    }
   ],
   "source": [
    "df.dtypes"
   ]
  },
  {
   "cell_type": "code",
   "execution_count": 9,
   "id": "6e91bffa",
   "metadata": {
    "scrolled": true
   },
   "outputs": [
    {
     "data": {
      "text/plain": [
       "array(['800', '300', '600', '700', '550', '500', '450', '650', '400',\n",
       "       '900', '200', '750', '150', '850', '100', '1,200', '350', '250',\n",
       "       '950', '1,000', '1,500', '1,300', '199', '80', '1,100', '160',\n",
       "       '1,600', '230', '130', '50', '190', '1,700', None, '1,400', '180',\n",
       "       '1,350', '2,200', '2,000', '1,800', '1,900', '330', '2,500',\n",
       "       '2,100', '3,000', '2,800', '3,400', '40', '1,250', '3,500',\n",
       "       '4,000', '2,400', '2,600', '120', '1,450', '469', '70', '3,200',\n",
       "       '60', '560', '240', '360', '6,000', '1,050', '2,300', '4,100',\n",
       "       '5,000', '3,700', '1,650', '2,700', '4,500', '140'], dtype=object)"
      ]
     },
     "execution_count": 9,
     "metadata": {},
     "output_type": "execute_result"
    }
   ],
   "source": [
    "df[\"approx_cost(for two people)\"].unique()#we have to convert them into numerical values and relace , as thousands mark"
   ]
  },
  {
   "cell_type": "code",
   "execution_count": 10,
   "id": "85cac233",
   "metadata": {},
   "outputs": [],
   "source": [
    "df[\"approx_cost(for two people)\"]=df[\"approx_cost(for two people)\"].str.replace(',',\"\")"
   ]
  },
  {
   "cell_type": "code",
   "execution_count": 11,
   "id": "24a77612",
   "metadata": {},
   "outputs": [
    {
     "data": {
      "text/plain": [
       "array(['800', '300', '600', '700', '550', '500', '450', '650', '400',\n",
       "       '900', '200', '750', '150', '850', '100', '1200', '350', '250',\n",
       "       '950', '1000', '1500', '1300', '199', '80', '1100', '160', '1600',\n",
       "       '230', '130', '50', '190', '1700', None, '1400', '180', '1350',\n",
       "       '2200', '2000', '1800', '1900', '330', '2500', '2100', '3000',\n",
       "       '2800', '3400', '40', '1250', '3500', '4000', '2400', '2600',\n",
       "       '120', '1450', '469', '70', '3200', '60', '560', '240', '360',\n",
       "       '6000', '1050', '2300', '4100', '5000', '3700', '1650', '2700',\n",
       "       '4500', '140'], dtype=object)"
      ]
     },
     "execution_count": 11,
     "metadata": {},
     "output_type": "execute_result"
    }
   ],
   "source": [
    "df[\"approx_cost(for two people)\"].unique()"
   ]
  },
  {
   "cell_type": "code",
   "execution_count": 12,
   "id": "49ed7556",
   "metadata": {},
   "outputs": [],
   "source": [
    "df[\"approx_cost(for two people)\"]=df[\"approx_cost(for two people)\"].astype(float)"
   ]
  },
  {
   "cell_type": "code",
   "execution_count": 13,
   "id": "c9b8ec1a",
   "metadata": {},
   "outputs": [
    {
     "data": {
      "text/plain": [
       "dtype('float64')"
      ]
     },
     "execution_count": 13,
     "metadata": {},
     "output_type": "execute_result"
    }
   ],
   "source": [
    "df[\"approx_cost(for two people)\"].dtype"
   ]
  },
  {
   "cell_type": "code",
   "execution_count": 14,
   "id": "72cecd9e",
   "metadata": {
    "scrolled": true
   },
   "outputs": [
    {
     "data": {
      "text/plain": [
       "array([ 800.,  300.,  600.,  700.,  550.,  500.,  450.,  650.,  400.,\n",
       "        900.,  200.,  750.,  150.,  850.,  100., 1200.,  350.,  250.,\n",
       "        950., 1000., 1500., 1300.,  199.,   80., 1100.,  160., 1600.,\n",
       "        230.,  130.,   50.,  190., 1700.,   nan, 1400.,  180., 1350.,\n",
       "       2200., 2000., 1800., 1900.,  330., 2500., 2100., 3000., 2800.,\n",
       "       3400.,   40., 1250., 3500., 4000., 2400., 2600.,  120., 1450.,\n",
       "        469.,   70., 3200.,   60.,  560.,  240.,  360., 6000., 1050.,\n",
       "       2300., 4100., 5000., 3700., 1650., 2700., 4500.,  140.])"
      ]
     },
     "execution_count": 14,
     "metadata": {},
     "output_type": "execute_result"
    }
   ],
   "source": [
    "df[\"approx_cost(for two people)\"].unique()"
   ]
  },
  {
   "cell_type": "code",
   "execution_count": 15,
   "id": "69de94db",
   "metadata": {
    "scrolled": false
   },
   "outputs": [
    {
     "data": {
      "text/plain": [
       "array(['4.1/5', '3.8/5', '3.7/5', '3.6/5', '4.6/5', '4.0/5', '4.2/5',\n",
       "       '3.9/5', '3.1/5', '3.0/5', '3.2/5', '3.3/5', '2.8/5', '4.4/5',\n",
       "       '4.3/5', 'NEW', '2.9/5', '3.5/5', None, '2.6/5', '3.8 /5', '3.4/5',\n",
       "       '4.5/5', '2.5/5', '2.7/5', '4.7/5', '2.4/5', '2.2/5', '2.3/5',\n",
       "       '3.4 /5', '-', '3.6 /5', '4.8/5', '3.9 /5', '4.2 /5', '4.0 /5',\n",
       "       '4.1 /5', '3.7 /5', '3.1 /5', '2.9 /5', '3.3 /5', '2.8 /5',\n",
       "       '3.5 /5', '2.7 /5', '2.5 /5', '3.2 /5', '2.6 /5', '4.5 /5',\n",
       "       '4.3 /5', '4.4 /5', '4.9/5', '2.1/5', '2.0/5', '1.8/5', '4.6 /5',\n",
       "       '4.9 /5', '3.0 /5', '4.8 /5', '2.3 /5', '4.7 /5', '2.4 /5',\n",
       "       '2.1 /5', '2.2 /5', '2.0 /5', '1.8 /5'], dtype=object)"
      ]
     },
     "execution_count": 15,
     "metadata": {},
     "output_type": "execute_result"
    }
   ],
   "source": [
    "#lets work on rate\n",
    "\n",
    "df['rate'].unique() #we need to remove these decimal "
   ]
  },
  {
   "cell_type": "code",
   "execution_count": 16,
   "id": "e9ebf55e",
   "metadata": {},
   "outputs": [
    {
     "data": {
      "text/plain": [
       "0         4.1\n",
       "1         4.1\n",
       "2         3.8\n",
       "3         3.7\n",
       "4         3.8\n",
       "         ... \n",
       "51712    3.6 \n",
       "51713    None\n",
       "51714    None\n",
       "51715    4.3 \n",
       "51716    3.4 \n",
       "Name: rate, Length: 51717, dtype: object"
      ]
     },
     "execution_count": 16,
     "metadata": {},
     "output_type": "execute_result"
    }
   ],
   "source": [
    "df['rate']=df['rate'].str.replace('/5','')\n",
    "# we further find that there are none , new ,- as well we have to convert them to string first\n",
    "df['rate']"
   ]
  },
  {
   "cell_type": "code",
   "execution_count": 17,
   "id": "82a4dfdf",
   "metadata": {},
   "outputs": [
    {
     "data": {
      "text/plain": [
       "array(['4.1', '3.8', '3.7', '3.6', '4.6', '4.0', '4.2', '3.9', '3.1',\n",
       "       '3.0', '3.2', '3.3', '2.8', '4.4', '4.3', 'NEW', '2.9', '3.5',\n",
       "       None, '2.6', '3.8 ', '3.4', '4.5', '2.5', '2.7', '4.7', '2.4',\n",
       "       '2.2', '2.3', '3.4 ', '-', '3.6 ', '4.8', '3.9 ', '4.2 ', '4.0 ',\n",
       "       '4.1 ', '3.7 ', '3.1 ', '2.9 ', '3.3 ', '2.8 ', '3.5 ', '2.7 ',\n",
       "       '2.5 ', '3.2 ', '2.6 ', '4.5 ', '4.3 ', '4.4 ', '4.9', '2.1',\n",
       "       '2.0', '1.8', '4.6 ', '4.9 ', '3.0 ', '4.8 ', '2.3 ', '4.7 ',\n",
       "       '2.4 ', '2.1 ', '2.2 ', '2.0 ', '1.8 '], dtype=object)"
      ]
     },
     "execution_count": 17,
     "metadata": {},
     "output_type": "execute_result"
    }
   ],
   "source": [
    "df['rate'].unique()"
   ]
  },
  {
   "cell_type": "code",
   "execution_count": 18,
   "id": "36085ed7",
   "metadata": {},
   "outputs": [],
   "source": [
    "df['rate'] = df['rate'].astype(str)"
   ]
  },
  {
   "cell_type": "code",
   "execution_count": 19,
   "id": "df22e4a0",
   "metadata": {},
   "outputs": [],
   "source": [
    "df['rate'].replace('NEW' , np.nan , inplace=True)\n",
    "df['rate'].replace('None' , np.nan , inplace=True)\n",
    "df['rate'].replace('-' , np.nan , inplace=True)"
   ]
  },
  {
   "cell_type": "code",
   "execution_count": 20,
   "id": "d6f79b24",
   "metadata": {},
   "outputs": [
    {
     "data": {
      "text/plain": [
       "10052"
      ]
     },
     "execution_count": 20,
     "metadata": {},
     "output_type": "execute_result"
    }
   ],
   "source": [
    "df['rate'].isnull().sum()"
   ]
  },
  {
   "cell_type": "code",
   "execution_count": 21,
   "id": "39323bdb",
   "metadata": {
    "scrolled": true
   },
   "outputs": [],
   "source": [
    "df['rate']=df['rate'].astype(float)\n"
   ]
  },
  {
   "cell_type": "markdown",
   "id": "12f3a7e9",
   "metadata": {},
   "source": [
    "### 3.Data Analysis for most famous dishes of most famous restaurant."
   ]
  },
  {
   "cell_type": "code",
   "execution_count": 22,
   "id": "d6dbe58b",
   "metadata": {},
   "outputs": [],
   "source": [
    "# those restaurants who delivered the most are most famous reastaurants."
   ]
  },
  {
   "cell_type": "code",
   "execution_count": 23,
   "id": "b5fc5ad9",
   "metadata": {
    "scrolled": true
   },
   "outputs": [
    {
     "data": {
      "text/plain": [
       "rest_type\n",
       "Quick Bites                   19132\n",
       "Casual Dining                 10330\n",
       "Cafe                           3732\n",
       "Delivery                       2604\n",
       "Dessert Parlor                 2263\n",
       "                              ...  \n",
       "Dessert Parlor, Kiosk             2\n",
       "Food Court, Beverage Shop         2\n",
       "Dessert Parlor, Food Court        2\n",
       "Sweet Shop, Dessert Parlor        1\n",
       "Quick Bites, Kiosk                1\n",
       "Name: count, Length: 93, dtype: int64"
      ]
     },
     "execution_count": 23,
     "metadata": {},
     "output_type": "execute_result"
    }
   ],
   "source": [
    "df['rest_type'].value_counts()"
   ]
  },
  {
   "cell_type": "code",
   "execution_count": 24,
   "id": "d2d5145c",
   "metadata": {},
   "outputs": [
    {
     "data": {
      "text/plain": [
       "227"
      ]
     },
     "execution_count": 24,
     "metadata": {},
     "output_type": "execute_result"
    }
   ],
   "source": [
    "df['rest_type'].isnull().sum()"
   ]
  },
  {
   "cell_type": "code",
   "execution_count": 25,
   "id": "83d2029e",
   "metadata": {},
   "outputs": [
    {
     "data": {
      "text/plain": [
       "(51717, 18)"
      ]
     },
     "execution_count": 25,
     "metadata": {},
     "output_type": "execute_result"
    }
   ],
   "source": [
    "df.shape"
   ]
  },
  {
   "cell_type": "code",
   "execution_count": 26,
   "id": "26e231c4",
   "metadata": {},
   "outputs": [
    {
     "data": {
      "text/plain": [
       "(51490, 18)"
      ]
     },
     "execution_count": 26,
     "metadata": {},
     "output_type": "execute_result"
    }
   ],
   "source": [
    "data=df.dropna(subset=['rest_type'])\n",
    "data.shape"
   ]
  },
  {
   "cell_type": "code",
   "execution_count": 27,
   "id": "edbc42a7",
   "metadata": {
    "scrolled": true
   },
   "outputs": [
    {
     "data": {
      "text/html": [
       "<div>\n",
       "<style scoped>\n",
       "    .dataframe tbody tr th:only-of-type {\n",
       "        vertical-align: middle;\n",
       "    }\n",
       "\n",
       "    .dataframe tbody tr th {\n",
       "        vertical-align: top;\n",
       "    }\n",
       "\n",
       "    .dataframe thead th {\n",
       "        text-align: right;\n",
       "    }\n",
       "</style>\n",
       "<table border=\"1\" class=\"dataframe\">\n",
       "  <thead>\n",
       "    <tr style=\"text-align: right;\">\n",
       "      <th></th>\n",
       "      <th>index</th>\n",
       "      <th>url</th>\n",
       "      <th>address</th>\n",
       "      <th>name</th>\n",
       "      <th>online_order</th>\n",
       "      <th>book_table</th>\n",
       "      <th>rate</th>\n",
       "      <th>votes</th>\n",
       "      <th>phone</th>\n",
       "      <th>location</th>\n",
       "      <th>rest_type</th>\n",
       "      <th>dish_liked</th>\n",
       "      <th>cuisines</th>\n",
       "      <th>approx_cost(for two people)</th>\n",
       "      <th>reviews_list</th>\n",
       "      <th>menu_item</th>\n",
       "      <th>listed_in(type)</th>\n",
       "      <th>listed_in(city)</th>\n",
       "    </tr>\n",
       "  </thead>\n",
       "  <tbody>\n",
       "    <tr>\n",
       "      <th>3</th>\n",
       "      <td>3</td>\n",
       "      <td>https://www.zomato.com/bangalore/addhuri-udupi...</td>\n",
       "      <td>1st Floor, Annakuteera, 3rd Stage, Banashankar...</td>\n",
       "      <td>Addhuri Udupi Bhojana</td>\n",
       "      <td>No</td>\n",
       "      <td>No</td>\n",
       "      <td>3.7</td>\n",
       "      <td>88</td>\n",
       "      <td>+91 9620009302</td>\n",
       "      <td>Banashankari</td>\n",
       "      <td>Quick Bites</td>\n",
       "      <td>Masala Dosa</td>\n",
       "      <td>South Indian, North Indian</td>\n",
       "      <td>300.0</td>\n",
       "      <td>[('Rated 4.0', \"RATED\\n  Great food and proper...</td>\n",
       "      <td>[]</td>\n",
       "      <td>Buffet</td>\n",
       "      <td>Banashankari</td>\n",
       "    </tr>\n",
       "    <tr>\n",
       "      <th>23</th>\n",
       "      <td>23</td>\n",
       "      <td>https://www.zomato.com/bangalore/my-tea-house-...</td>\n",
       "      <td>224/Y, 4th Phase, 7th Block, 100 Feet Ring Roa...</td>\n",
       "      <td>My Tea House</td>\n",
       "      <td>Yes</td>\n",
       "      <td>No</td>\n",
       "      <td>3.6</td>\n",
       "      <td>62</td>\n",
       "      <td>080 65975430\\r\\n+91 7337733798</td>\n",
       "      <td>Banashankari</td>\n",
       "      <td>Quick Bites, Cafe</td>\n",
       "      <td>Pasta, Iced Tea</td>\n",
       "      <td>Italian, Fast Food, Cafe, European</td>\n",
       "      <td>600.0</td>\n",
       "      <td>[('Rated 4.0', \"RATED\\n  So, went here with fr...</td>\n",
       "      <td>[]</td>\n",
       "      <td>Cafes</td>\n",
       "      <td>Banashankari</td>\n",
       "    </tr>\n",
       "    <tr>\n",
       "      <th>26</th>\n",
       "      <td>26</td>\n",
       "      <td>https://www.zomato.com/bangalore/coffee-tindi-...</td>\n",
       "      <td>27th Cross Rd, Banashankari Stage II, Banashan...</td>\n",
       "      <td>Coffee Tindi</td>\n",
       "      <td>Yes</td>\n",
       "      <td>No</td>\n",
       "      <td>3.8</td>\n",
       "      <td>75</td>\n",
       "      <td>+91 9945758046</td>\n",
       "      <td>Banashankari</td>\n",
       "      <td>Cafe, Quick Bites</td>\n",
       "      <td>None</td>\n",
       "      <td>Cafe, South Indian</td>\n",
       "      <td>200.0</td>\n",
       "      <td>[('Rated 5.0', 'RATED\\n  please provide some e...</td>\n",
       "      <td>[]</td>\n",
       "      <td>Cafes</td>\n",
       "      <td>Banashankari</td>\n",
       "    </tr>\n",
       "    <tr>\n",
       "      <th>31</th>\n",
       "      <td>31</td>\n",
       "      <td>https://www.zomato.com/bangalore/foodiction-1-...</td>\n",
       "      <td>2/1, 7th Main, Dwarakangar, Hosakeregalli, Ban...</td>\n",
       "      <td>Foodiction</td>\n",
       "      <td>Yes</td>\n",
       "      <td>No</td>\n",
       "      <td>2.8</td>\n",
       "      <td>506</td>\n",
       "      <td>+91 9916107070</td>\n",
       "      <td>Banashankari</td>\n",
       "      <td>Quick Bites</td>\n",
       "      <td>Burgers, Lassi, Chicken Grill, Naan, Momos, Ch...</td>\n",
       "      <td>North Indian, Fast Food, Chinese, Burger</td>\n",
       "      <td>500.0</td>\n",
       "      <td>[('Rated 1.0', \"RATED\\n  Worst restaurant ever...</td>\n",
       "      <td>[]</td>\n",
       "      <td>Delivery</td>\n",
       "      <td>Banashankari</td>\n",
       "    </tr>\n",
       "    <tr>\n",
       "      <th>34</th>\n",
       "      <td>34</td>\n",
       "      <td>https://www.zomato.com/bangalore/faasos-banash...</td>\n",
       "      <td>80, BDA Complex, 2nd Stage, Banashankari, Bang...</td>\n",
       "      <td>Faasos</td>\n",
       "      <td>Yes</td>\n",
       "      <td>No</td>\n",
       "      <td>4.2</td>\n",
       "      <td>415</td>\n",
       "      <td>+91 7700020020</td>\n",
       "      <td>Banashankari</td>\n",
       "      <td>Quick Bites</td>\n",
       "      <td>Rolls, Veggie Wrap, Chocolate Fantasy, Rice Bo...</td>\n",
       "      <td>North Indian, Biryani, Fast Food</td>\n",
       "      <td>500.0</td>\n",
       "      <td>[('Rated 3.0', 'RATED\\n  Not worth for the mon...</td>\n",
       "      <td>['Chole Kulcha Meal', 'Upvas Aloo Paratha With...</td>\n",
       "      <td>Delivery</td>\n",
       "      <td>Banashankari</td>\n",
       "    </tr>\n",
       "    <tr>\n",
       "      <th>...</th>\n",
       "      <td>...</td>\n",
       "      <td>...</td>\n",
       "      <td>...</td>\n",
       "      <td>...</td>\n",
       "      <td>...</td>\n",
       "      <td>...</td>\n",
       "      <td>...</td>\n",
       "      <td>...</td>\n",
       "      <td>...</td>\n",
       "      <td>...</td>\n",
       "      <td>...</td>\n",
       "      <td>...</td>\n",
       "      <td>...</td>\n",
       "      <td>...</td>\n",
       "      <td>...</td>\n",
       "      <td>...</td>\n",
       "      <td>...</td>\n",
       "      <td>...</td>\n",
       "    </tr>\n",
       "    <tr>\n",
       "      <th>51641</th>\n",
       "      <td>51641</td>\n",
       "      <td>https://www.zomato.com/bangalore/andhra-spices...</td>\n",
       "      <td>188, ITPL Main Road, Brookefields, Bangalore, ...</td>\n",
       "      <td>Andhra Spices</td>\n",
       "      <td>No</td>\n",
       "      <td>No</td>\n",
       "      <td>3.2</td>\n",
       "      <td>4</td>\n",
       "      <td>None</td>\n",
       "      <td>Brookefield</td>\n",
       "      <td>Quick Bites</td>\n",
       "      <td>None</td>\n",
       "      <td>Andhra, Chinese, South Indian</td>\n",
       "      <td>NaN</td>\n",
       "      <td>[('Rated 2.0', \"RATED\\n  Food is not upto the ...</td>\n",
       "      <td>[]</td>\n",
       "      <td>Dine-out</td>\n",
       "      <td>Whitefield</td>\n",
       "    </tr>\n",
       "    <tr>\n",
       "      <th>51642</th>\n",
       "      <td>51642</td>\n",
       "      <td>https://www.zomato.com/bangalore/basaveshwara-...</td>\n",
       "      <td>Nanjudeshwari complex, Oppsite Brookefield Mal...</td>\n",
       "      <td>Basaveshwara Khanavali</td>\n",
       "      <td>No</td>\n",
       "      <td>No</td>\n",
       "      <td>NaN</td>\n",
       "      <td>0</td>\n",
       "      <td>+91 9740912864\\n+91 7353747430</td>\n",
       "      <td>Brookefield</td>\n",
       "      <td>Quick Bites</td>\n",
       "      <td>None</td>\n",
       "      <td>South Indian</td>\n",
       "      <td>200.0</td>\n",
       "      <td>[]</td>\n",
       "      <td>[]</td>\n",
       "      <td>Dine-out</td>\n",
       "      <td>Whitefield</td>\n",
       "    </tr>\n",
       "    <tr>\n",
       "      <th>51643</th>\n",
       "      <td>51643</td>\n",
       "      <td>https://www.zomato.com/bangalore/new-ambur-bir...</td>\n",
       "      <td>AECS Layout, ITPL Main Road, Brookefield, Bang...</td>\n",
       "      <td>New Ambur Biryani</td>\n",
       "      <td>No</td>\n",
       "      <td>No</td>\n",
       "      <td>NaN</td>\n",
       "      <td>0</td>\n",
       "      <td>+91 9443087893</td>\n",
       "      <td>Brookefield</td>\n",
       "      <td>Quick Bites</td>\n",
       "      <td>None</td>\n",
       "      <td>Biryani, Kebab</td>\n",
       "      <td>300.0</td>\n",
       "      <td>[]</td>\n",
       "      <td>[]</td>\n",
       "      <td>Dine-out</td>\n",
       "      <td>Whitefield</td>\n",
       "    </tr>\n",
       "    <tr>\n",
       "      <th>51644</th>\n",
       "      <td>51644</td>\n",
       "      <td>https://www.zomato.com/bangalore/punjabi-thadk...</td>\n",
       "      <td>7/3, ASK Tower, Kundanahalli Gate, Next to Bat...</td>\n",
       "      <td>Punjabi Thadka</td>\n",
       "      <td>No</td>\n",
       "      <td>No</td>\n",
       "      <td>NaN</td>\n",
       "      <td>0</td>\n",
       "      <td>+91 7338330336\\n+91 9591568221</td>\n",
       "      <td>Brookefield</td>\n",
       "      <td>Quick Bites</td>\n",
       "      <td>None</td>\n",
       "      <td>North Indian</td>\n",
       "      <td>400.0</td>\n",
       "      <td>[]</td>\n",
       "      <td>[]</td>\n",
       "      <td>Dine-out</td>\n",
       "      <td>Whitefield</td>\n",
       "    </tr>\n",
       "    <tr>\n",
       "      <th>51645</th>\n",
       "      <td>51645</td>\n",
       "      <td>https://www.zomato.com/bangalore/raapchick-bro...</td>\n",
       "      <td>Opposite Brookefield Mall, Kundanhalli, Brooke...</td>\n",
       "      <td>Raapchick</td>\n",
       "      <td>Yes</td>\n",
       "      <td>No</td>\n",
       "      <td>3.6</td>\n",
       "      <td>49</td>\n",
       "      <td>080 41717785\\n+91 9571153004</td>\n",
       "      <td>Brookefield</td>\n",
       "      <td>Quick Bites</td>\n",
       "      <td>Burgers</td>\n",
       "      <td>Fast Food, Burger</td>\n",
       "      <td>300.0</td>\n",
       "      <td>[('Rated 5.0', \"RATED\\n  I was randomly lookin...</td>\n",
       "      <td>['Chicken Wrap', 'Veg Crunch Burger', 'Spicy P...</td>\n",
       "      <td>Dine-out</td>\n",
       "      <td>Whitefield</td>\n",
       "    </tr>\n",
       "  </tbody>\n",
       "</table>\n",
       "<p>20639 rows × 18 columns</p>\n",
       "</div>"
      ],
      "text/plain": [
       "       index                                                url  \\\n",
       "3          3  https://www.zomato.com/bangalore/addhuri-udupi...   \n",
       "23        23  https://www.zomato.com/bangalore/my-tea-house-...   \n",
       "26        26  https://www.zomato.com/bangalore/coffee-tindi-...   \n",
       "31        31  https://www.zomato.com/bangalore/foodiction-1-...   \n",
       "34        34  https://www.zomato.com/bangalore/faasos-banash...   \n",
       "...      ...                                                ...   \n",
       "51641  51641  https://www.zomato.com/bangalore/andhra-spices...   \n",
       "51642  51642  https://www.zomato.com/bangalore/basaveshwara-...   \n",
       "51643  51643  https://www.zomato.com/bangalore/new-ambur-bir...   \n",
       "51644  51644  https://www.zomato.com/bangalore/punjabi-thadk...   \n",
       "51645  51645  https://www.zomato.com/bangalore/raapchick-bro...   \n",
       "\n",
       "                                                 address  \\\n",
       "3      1st Floor, Annakuteera, 3rd Stage, Banashankar...   \n",
       "23     224/Y, 4th Phase, 7th Block, 100 Feet Ring Roa...   \n",
       "26     27th Cross Rd, Banashankari Stage II, Banashan...   \n",
       "31     2/1, 7th Main, Dwarakangar, Hosakeregalli, Ban...   \n",
       "34     80, BDA Complex, 2nd Stage, Banashankari, Bang...   \n",
       "...                                                  ...   \n",
       "51641  188, ITPL Main Road, Brookefields, Bangalore, ...   \n",
       "51642  Nanjudeshwari complex, Oppsite Brookefield Mal...   \n",
       "51643  AECS Layout, ITPL Main Road, Brookefield, Bang...   \n",
       "51644  7/3, ASK Tower, Kundanahalli Gate, Next to Bat...   \n",
       "51645  Opposite Brookefield Mall, Kundanhalli, Brooke...   \n",
       "\n",
       "                         name online_order book_table  rate  votes  \\\n",
       "3       Addhuri Udupi Bhojana           No         No   3.7     88   \n",
       "23               My Tea House          Yes         No   3.6     62   \n",
       "26               Coffee Tindi          Yes         No   3.8     75   \n",
       "31                 Foodiction          Yes         No   2.8    506   \n",
       "34                     Faasos          Yes         No   4.2    415   \n",
       "...                       ...          ...        ...   ...    ...   \n",
       "51641           Andhra Spices           No         No   3.2      4   \n",
       "51642  Basaveshwara Khanavali           No         No   NaN      0   \n",
       "51643       New Ambur Biryani           No         No   NaN      0   \n",
       "51644          Punjabi Thadka           No         No   NaN      0   \n",
       "51645               Raapchick          Yes         No   3.6     49   \n",
       "\n",
       "                                phone      location          rest_type  \\\n",
       "3                      +91 9620009302  Banashankari        Quick Bites   \n",
       "23     080 65975430\\r\\n+91 7337733798  Banashankari  Quick Bites, Cafe   \n",
       "26                     +91 9945758046  Banashankari  Cafe, Quick Bites   \n",
       "31                     +91 9916107070  Banashankari        Quick Bites   \n",
       "34                     +91 7700020020  Banashankari        Quick Bites   \n",
       "...                               ...           ...                ...   \n",
       "51641                            None   Brookefield        Quick Bites   \n",
       "51642  +91 9740912864\\n+91 7353747430   Brookefield        Quick Bites   \n",
       "51643                  +91 9443087893   Brookefield        Quick Bites   \n",
       "51644  +91 7338330336\\n+91 9591568221   Brookefield        Quick Bites   \n",
       "51645    080 41717785\\n+91 9571153004   Brookefield        Quick Bites   \n",
       "\n",
       "                                              dish_liked  \\\n",
       "3                                            Masala Dosa   \n",
       "23                                       Pasta, Iced Tea   \n",
       "26                                                  None   \n",
       "31     Burgers, Lassi, Chicken Grill, Naan, Momos, Ch...   \n",
       "34     Rolls, Veggie Wrap, Chocolate Fantasy, Rice Bo...   \n",
       "...                                                  ...   \n",
       "51641                                               None   \n",
       "51642                                               None   \n",
       "51643                                               None   \n",
       "51644                                               None   \n",
       "51645                                            Burgers   \n",
       "\n",
       "                                       cuisines  approx_cost(for two people)  \\\n",
       "3                    South Indian, North Indian                        300.0   \n",
       "23           Italian, Fast Food, Cafe, European                        600.0   \n",
       "26                           Cafe, South Indian                        200.0   \n",
       "31     North Indian, Fast Food, Chinese, Burger                        500.0   \n",
       "34             North Indian, Biryani, Fast Food                        500.0   \n",
       "...                                         ...                          ...   \n",
       "51641             Andhra, Chinese, South Indian                          NaN   \n",
       "51642                              South Indian                        200.0   \n",
       "51643                            Biryani, Kebab                        300.0   \n",
       "51644                              North Indian                        400.0   \n",
       "51645                         Fast Food, Burger                        300.0   \n",
       "\n",
       "                                            reviews_list  \\\n",
       "3      [('Rated 4.0', \"RATED\\n  Great food and proper...   \n",
       "23     [('Rated 4.0', \"RATED\\n  So, went here with fr...   \n",
       "26     [('Rated 5.0', 'RATED\\n  please provide some e...   \n",
       "31     [('Rated 1.0', \"RATED\\n  Worst restaurant ever...   \n",
       "34     [('Rated 3.0', 'RATED\\n  Not worth for the mon...   \n",
       "...                                                  ...   \n",
       "51641  [('Rated 2.0', \"RATED\\n  Food is not upto the ...   \n",
       "51642                                                 []   \n",
       "51643                                                 []   \n",
       "51644                                                 []   \n",
       "51645  [('Rated 5.0', \"RATED\\n  I was randomly lookin...   \n",
       "\n",
       "                                               menu_item listed_in(type)  \\\n",
       "3                                                     []          Buffet   \n",
       "23                                                    []           Cafes   \n",
       "26                                                    []           Cafes   \n",
       "31                                                    []        Delivery   \n",
       "34     ['Chole Kulcha Meal', 'Upvas Aloo Paratha With...        Delivery   \n",
       "...                                                  ...             ...   \n",
       "51641                                                 []        Dine-out   \n",
       "51642                                                 []        Dine-out   \n",
       "51643                                                 []        Dine-out   \n",
       "51644                                                 []        Dine-out   \n",
       "51645  ['Chicken Wrap', 'Veg Crunch Burger', 'Spicy P...        Dine-out   \n",
       "\n",
       "      listed_in(city)  \n",
       "3        Banashankari  \n",
       "23       Banashankari  \n",
       "26       Banashankari  \n",
       "31       Banashankari  \n",
       "34       Banashankari  \n",
       "...               ...  \n",
       "51641      Whitefield  \n",
       "51642      Whitefield  \n",
       "51643      Whitefield  \n",
       "51644      Whitefield  \n",
       "51645      Whitefield  \n",
       "\n",
       "[20639 rows x 18 columns]"
      ]
     },
     "execution_count": 27,
     "metadata": {},
     "output_type": "execute_result"
    }
   ],
   "source": [
    "data_qk=data[data['rest_type'].str.contains('Quick Bites')]\n",
    "data_qk"
   ]
  },
  {
   "cell_type": "code",
   "execution_count": 28,
   "id": "ee1883bb",
   "metadata": {},
   "outputs": [
    {
     "data": {
      "text/plain": [
       "3                                              masala dosa\n",
       "23                                         pasta, iced tea\n",
       "26                                                    None\n",
       "31       burgers, lassi, chicken grill, naan, momos, ch...\n",
       "34       rolls, veggie wrap, chocolate fantasy, rice bo...\n",
       "                               ...                        \n",
       "51641                                                 None\n",
       "51642                                                 None\n",
       "51643                                                 None\n",
       "51644                                                 None\n",
       "51645                                              burgers\n",
       "Name: dish_liked, Length: 20639, dtype: object"
      ]
     },
     "execution_count": 28,
     "metadata": {},
     "output_type": "execute_result"
    }
   ],
   "source": [
    "data_qk['dish_liked'].str.lower() # making all of them in lower case "
   ]
  },
  {
   "cell_type": "code",
   "execution_count": 29,
   "id": "a17c361f",
   "metadata": {
    "scrolled": true
   },
   "outputs": [
    {
     "data": {
      "text/plain": [
       "'masala dosapasta, iced teaburgers, lassi, chicken grill, naan, momos, chicken burger, biryanirolls, veggie wrap, chocolate fantasy, rice bowls, chicken rice, paneer makhanwala, chicken tikka wrapdabeli, faluda, masala poori, sandwiches, tokri chaat, pav bhaji, dahipuriburgers, fries, hot chocolatepane pizza, lava cake, pasta, stuffed garlic bread, chocolava cake, tacosbiryaniparatha, pastapasta, momos, rolls, chicken roll, chilli chicken, paneer roll, spaghettigrape juice, chicken grill, chicken tikka roll, shawarma roll, chicken shawarama, biryani combo, rollsvegetable biryani, ginger chicken, chicken biryani, donne biryani, chicken kebab, egg bhurji, dum biryanirolls, momos, fries, veggie roll, chicken kebab roll, paneer roll, cheese rollbenne dosa, mirchi bajji, filter coffee, poha, tea, butter dosa, crispy dosamasala dosapanipuri, chaat, noodles, dahi bhallerooftop ambiencecoffee, tea, kesari bath, open dosa, vada, idli, bread dosamasala dosa, tirupathi pongal, filter coffee, vada, kharabath, kali dosa, rava idlirolls, paratha, chicken biryaniburgers, french frieschicken biryani, rollscoffee, chaatpizza, nachos, salads, peri peri fries, brownie, pasta alfredo, spaghettichicken grill, biryani, roti, chicken masalachaat, pav bhaji, dabeli, vada pav, tawa pulav, panipuri, malpuapizza, burgersbiryaniparatha, vada pav, chaat, pav bhaji, panipuri, masala poori, dhoklawhole meat shawarma, friespanneer butter masala, lassi, paratha, jeera rice, paneer parantha, bhindi fry, veg kolhapurijowar roti, buttermilk, sabudana vada, thali, mirchi bajji, brinjal currywhite pasta, noodles, babycorn manchurian, pizza, veg momos, fry momos, tawa pulavmasala dosa, sandwiches, coffee, onion dosa, rava dosa, chaat, sandwichfrench fries, burgersnoodles, pasta, schezwan momos, chicken momo, teriyaki chicken, thukpa, friessweet lassi, gulab jamun, palak paneer paratha, paneer paranthapizza, white sauce pasta, masala garlic breadburgers, fries, mojito, chicken burgerchicken biryani, mutton biryani, egg biryani, chicken fry, mutton frysandwiches, chocolate sandwich, chaat, veg cheese sandwich, chilli cheese, corn sandwichveggie delight, paneer tikka, saladfaluda, brownie, sandwich, kulfi, fruit salad, sweet lassi, chocolate fudgeroti, masala dosafilter coffee, tea, hot coffee, hatti samosabadam milk, potato twister, pav bhaji, panipuri, tikki chaat, cheese cutletpasta, iced teachicken biryanikharabath, crispy vada, filter coffee, idli vada, idli chutney, kesari bath, gulab jamunjowar roti, buttermilk, jolada rotti, brinjal curry, coffee, pongal, vegetable biryanisweet pongal, mini idlis, filter coffee, open masala dosa, pakoda, vada, raagi dosaparatha, coffee, halwa, lassicoffee, masala dosatandoori chicken, rollsaloo parathasandwiches, noodles, sandwichvada, masala dosa, idlicoffee, masala dosa, vegetable biryanibiryani, thick shakes, friessweet pongal, curd ricewaffles, sandwiches, maggi, thick shakes, chocolate sandwichhoney chilli potatoes, nachos, lemonade, hakka noodles, babycorn manchurian, mushroom manchurian, spring rollmasala vada pav, cheese vada pav, friescoffee, thali, kharabath, masala dosa, idli vada, vanilla ice cream, bisi bele bhaathparatha, lassi, manchurian, thalirolls, burgers, juicy momos, chicken momo, chocolate momos, mushroom momo, paneer momoschicken grillsugarcane juice, popcornrava dosa, roti, masala dosa, kulcha, sandwiches, vada pav, idlimasala poori, bhel puri, panipuri, chaat, dahipuri, sev puri, dahi aloo purineer dosa, sea food, pepper chickenginger chai, ginger tea, banana cake, samosa, masala chai, banana walnutmasala dosa, idli, filter coffee, medu dosaparatha, kachori, tea, lassi, samosa, vada pavlassi, panneer butter masala, paratha, thalimughlai paratha, laccha paratha, rollspanneer butter masala, vada, curd rice, idli, jeera rice, naan, kulchabiryani, chilli chicken, neer dosabiryanimysore pak, pav bhaji, chaat, masala poori, badam milk, paratha, panipuripanneer butter masala, lassi, paratha, jeera rice, paneer parantha, bhindi fry, veg kolhapuriroti, masala dosakesari bath, masala dosamasala dosa, vada, upma, filter coffee, kesari bath, idli chutney, kharabathpanneer butter masala, vada, curd rice, idli, jeera rice, naan, kulchapasta, momos, rolls, chicken roll, chilli chicken, paneer roll, spaghettiburgers, french friesjowar roti, buttermilk, sabudana vada, thali, mirchi bajji, brinjal curryburgers, fries, hot chocolatemasala dosa, idli chutney, kharabath, filter coffee, kesari bath, idli vada, maddur vadatandoori maggi, paneer sizzler, pasta, pizza, butter garlic fries, peri peri maggi, garlic maggimasala dosa, idli, filter coffee, medu dosachicken biryanimasala dosa, tirupathi pongal, filter coffee, vada, kharabath, kali dosa, rava idliburgers, lassi, chicken grill, naan, momos, chicken burger, biryanivegetable biryani, ginger chicken, chicken biryani, donne biryani, chicken kebab, egg bhurji, dum biryanimasala dosaveggie delight, paneer tikka, saladkhali dosa, kali dosa, masala dosa, vada sambarcoffee, jeera rice, masala dosa, neer dosamasala dosapane pizza, lava cake, pasta, stuffed garlic bread, chocolava cake, tacosvegetable biryani, masala dosa, kulcha, masala papad, tomato soupchicken grillgarlic bread, pasta, nachos, salsa, thin crust pizzarolls, veggie wrap, chocolate fantasy, rice bowls, chicken rice, paneer makhanwala, chicken tikka wraplassi, panneer butter masala, paratha, thalicoffee, masala dosa, kharabath, idli vada, kesari bathpanipuri, chaat, noodles, dahi bhallerooftop ambiencechicken grill, biryani, roti, chicken masalaparatha, kachori, tea, lassi, samosa, vada pavcoffee, tea, kesari bath, open dosa, vada, idli, bread dosarolls, burgers, juicy momos, chicken momo, chocolate momos, mushroom momo, paneer momosbiryanicoffee, masala dosacheese dosa, chocolate dosa, corn dosa, pesarattu, bread dosaneer dosa, sea food, pepper chickenmutton biryani, mutton chops, chicken biryani, chicken fry, paya, mutton fry, chilli chickenfilter kaapi, filter coffee, khara bhath, maddur vada, crispy masala dosa, kesari bath, ghee masala dosasweet pongal, curd ricebenne dosa, mirchi bajji, filter coffee, poha, tea, butter dosa, crispy dosachicken biryani, mutton biryani, egg biryani, chicken fry, mutton frycoffee, vada, curd rice, ghee roast paneer, thalisweet pongal, mini idlis, filter coffee, open masala dosa, pakoda, vada, raagi dosakhali dosa, kali dosa, upma, filter coffee, kesari bath, set dosa, masala dosamasala dosa, vada, obbattu, badam milk, khara bhath, coffee, puri saagumasala vada pav, cheese vada pav, friesmasala poori, rumali roti, sandwiches, chaat, burgerskharabath, crispy vada, filter coffee, idli vada, idli chutney, kesari bath, gulab jamunmasala dosa, vada, set dosa, filter coffee, raita, idli sambar, crispy dosafilter coffee, rava idli, kali dosa, carrot halwa, idli vada, vada sambar, bondasandwiches, veg burger, pizza sandwich, burgers, french fries, wedges, club sandwichcoffee, masala dosa, vegetable biryanijowar roti, buttermilk, jolada rotti, brinjal curry, coffee, pongal, vegetable biryanicoffee, idli, masala dosa, sagu dosa, kesari bath, kharabath, plain dosadabeli, faluda, masala poori, sandwiches, tokri chaat, pav bhaji, dahipurimasala dosa, idli, vada sambarbuttermilk, jolada rottisandwiches, chocolate sandwich, chaat, veg cheese sandwich, chilli cheese, corn sandwichthin crust pizzaburgers, mojito, lamb burger, french fries, hot dog, bbq burger, wedgesradhaballavi, biryani, egg noodles, egg roll, fish curry, egg devils, thaliparatha, shahi paneerpanneer butter masala, idli, masala dosa, vada, coffee, roti, thalidal makhani, lassi, butter chicken, panneer butter masala, mix veg, saag, butter naanlassi, roti, veg thali, aloo paratha, egg currygulab jamun, buttermilk, egg bhurji, sprout salad, rotiperi peri chicken, chicken pizza, white pasta, kit kat shakepav bhaji, coffee, set dosa, vada, masala poorithali, egg masala, chole, paratha, roti, butter chicken, paneer manchurianparatha, kadai paneerbiryanirasgulla, mutton kosha, chicken kasha, samosa chaat, kheer, veg thalichole bhature, pav bhaji, misal pavbiryani, kshatriya kebablitti, liti chokha, lassi, tea, paratha, thali, chaifriesfruit custard, russian cutletprompt servicesaladlassichicken grill, biryani, shawarma roll, rolls, chicken kebab, chicken shwarma roll, pulpy grape juiceburgers, whopper meal, crispy chicken, french fries, grilled wingsneer dosa, coffee, pav bhaji, khali dosa, panipuri, masala dosa, teapasta, fries, cheesiano pizza, veggie pizza, cheesy garlic bread, peri peri paneer pizzaburgers, wings, fries, rice bowl, popcorn chicken, zinger burger, chicken snackermasala dosa, idli, coffee, vada, set dosaparatha, chicken kebab, biryani, lassi, butter chicken, veg kolhapuri, pahari chickenegg biryani, donne biryanifries, whole meat shawarmacoffeerumali roti, rumali shawarma, burgers, shawarma burgerkheer, lassi, paratha, amritsari kulcha, dal makhani, chole bhature, aloo kulcharolls, momos, paratha, chicken tikka roll, mutton keema, egg rolllassi, amritsari kulcha, punjabi kulcha, paneer kulcha, punjabi chole, aloo kulcha, parathachaat, samosa, thali, sweet lassi, biryani, egg roll, masala paneeraloo paratha, samosa, kachori, poha, chaatshawarma, chicken grill, tandoori chicken, butter chicken, rolls, chicken tikka, grape juicechicken curry, chicken biryani, jeera rice, paneer biryani, ghee rice, roti, aloo matarmomos, manchow soup, pizza sandwich, spring roll, noodles, fries, fried ricerolls, chicken roll, tandoori chicken, biryani, chicken lollipop, paratha, chicken grillsamosa, chicken chettinad, murgh makhanimalai kofta, sandwiches, aloo paratha, chole bhature, panneer butter masala, kulcha, poori choletacos, fries, nachos, burritobuttermilk, dal makhani, boondi raita, baingan bharta, aloo paratha, roti, thalicheese dosa, tea, pizza dosamutton kosha, basanti pulao, chicken biryanivada, coffee, masala dosa, gulab jamun, roti, idli, tomato soupthali, dhokla, samosa, poha, club kachori, paratha, teapie, thin crust pizza, cheesy pizza, pepperoni pizza, paneer pizzaparatha, palak paneerparatha, chole bhature, lassi, thali, paneer paranthamasala prawn, mutton kosha, thali, mutton curry, luchi, fish cutlet, bengali pulaoburgers, mocha frappe, french fries, maharaja mac, oreo shake, egg wrapchaat, chole bhature, raj kachori, thali, rasmalai, paratha, pav bhajifish, rasmalai, doi katla, aalo bhaja, bhetki paturi, chicken kasha, aloo postopizza, garlic breadtortilla chips, tabasco pizza, salsa, mixed sauce pasta, white sauce pasta, manali pizza, nawabi pizzanoodles, corn momo, manchurian, momo platter, veg momos, potato momos, tandoori momosginger tea, ginger chai, banana cake, masala chai, egg sandwich, vada pavburgers, chicken popcorn, peri peri chicken, wings, peri peri burger, fries, crunchy veg burgerparatha, chicken curryburgers, mojito, lamb burger, french fries, hot dog, bbq burger, wedgespizza, garlic bread, chicken lasagnesea food, neer dosachicken biryani, butter chickenaloo paratha, manchuriansea food, neer dosa, fish, crab sukha, biryani, chicken thali, chicken mealpoha, tea, parathaburgers, chicken wingschaat, panipuri, lassi, gol gappe, paratha, pav bhaji, samosapanneer butter masala, manchurian, noodles, tandoori roti, naan, paratha, french friesvada, masala dosa, filter coffee, kesari bath, kharabath, open dosachicken biryanichicken tikka sandwich, hot chocolate brownie, red velvet shake, chicken sandwiches, french fries, cheese sandwich, irish cream coffeeroti, dal makhani, lassi, panneer butter masala, kulcha, masala papad, butter chickenakki rottis, neer dosaroti, chicken biryanishawarmacoffee, masala dosaappam, tea, chicken curry, kadala curry, fish, egg curry, idiyappampoha, jalebi, paratha, bhindi masala, kachori, puri sabzi, samosachicken grill, roast chicken, chicken wings, sweet potato mash, pulled chicken burger, sweet potato friesmasala dosa, vada, filter coffeeparatha, butter naan, thali, tandoori roti, lassirice bowl, nachos, rice bowls, salad, california burrito, tacos, saladstandoori chicken, butter naan, kadai paneer, pepper chickencoffee, pav bhaji, masala dosa, vada sambarlassi, chai, parathathin crust pizzachicken lollipop, dragon rolls, pasta alfredo, chicken pakora, burgers, cappuccino, chicken wingsveg thali, fish thalimasala dosa, chole bhature, coffeenoodlesteadal makhani, thali, rajma masala, dal fry, sweet lassi, gulab jamunbiryani, butter chicken, chicken wings, tandoori chicken, chicken grill, arabian grape juicevada, pongal, podi idli, masala dosa, podi dosa, idiyappam, ricepasta, sandwiches, cappuccino, sandwichbiryani, manchow soup, naanvadaburgers, masala dosa, millet pizza, falafel wrapcourteous staffpasta, sandwiches, cappuccino, sandwichchicken tikka sandwich, hot chocolate brownie, red velvet shake, chicken sandwiches, french fries, cheese sandwich, irish cream coffeeginger tea, ginger chai, banana cake, masala chai, egg sandwich, vada pavmasala dosa, idli, coffee, vada, set dosapav bhaji, coffee, set dosa, vada, masala pooririce bowl, nachos, rice bowls, salad, california burrito, tacos, saladsburgers, mocha frappe, french fries, maharaja mac, oreo shake, egg wrapchole bhature, pav bhaji, misal pavdal makhani, lassi, butter chicken, panneer butter masala, mix veg, saag, butter naantacos, fries, nachos, burritochaat, thali, jalebi, rajma, paneer tikka, paratha, kulfisea food, neer dosapizza, peppy paneermalai kofta, sandwiches, aloo paratha, chole bhature, panneer butter masala, kulcha, poori choleburgers, whopper meal, crispy chicken, french fries, grilled wingsrice bowl, paneer zinger burger, burgers, crispy chicken, chicken boneless stripsvada, masala dosa, coffee, akki rottis, idli chutney, curd rice, ghee roast dosacourteous staffparatha, chicken curryburgers, chicken popcorn, peri peri chicken, wings, peri peri burger, fries, crunchy veg burgerchicken biryani, butter chickenappam, tea, chicken curry, kadala curry, fish, egg curry, idiyappamchicken biryanisaladparatha, chicken kebab, biryani, lassi, butter chicken, veg kolhapuri, pahari chickenchicken curry, chicken biryani, jeera rice, paneer biryani, ghee rice, roti, aloo matarfries, whole meat shawarmachicken wrap, veggie wrap, rolls, paneer wrapchaat, panipuri, lassi, aloo paratha, chai, gulab jamunteapizza, garlic bread, veg suprememasala prawn, mutton kosha, thali, mutton curry, luchi, fish cutlet, bengali pulaoburgers, masala dosa, millet pizza, falafel wrapthin crust pizzabuttermilk, dal makhani, boondi raita, baingan bharta, aloo paratha, roti, thaliroti, chicken biryanimasala dosa, idlimasala dosa, chole bhature, coffeenoodlesakki rottis, neer dosaparatha, chole bhature, lassi, thali, paneer paranthaaloo parathabiryanipaneer hyderabadi, panneer butter masala, roti, coffee, masala dosa, mughlai biryani, idli vadabiryani, butter chicken, chicken wings, tandoori chicken, chicken grill, arabian grape juicechicken grill, shawarma, tandoori chicken, rolls, chicken kebab, chicken tikka, butter chickenpot biryani, sea food, fish thalishawarma, chicken grill, tandoori chicken, butter chicken, rolls, chicken tikka, grape juicecoffee, pav bhaji, masala dosa, vada sambarvada, pongal, podi idli, masala dosa, podi dosa, idiyappam, ricetortilla chips, tabasco pizza, salsa, mixed sauce pasta, white sauce pasta, manali pizza, nawabi pizzabiryani, kshatriya kebabfriesradhaballavi, biryani, egg noodles, egg roll, fish curry, egg devils, thalilitti, liti chokha, lassi, tea, paratha, thali, chairasgulla, mutton kosha, chicken kasha, samosa chaat, kheer, veg thalialoo paratha, samosa, kachori, poha, chaatparatha, palak paneerparatha, butter naan, thali, tandoori roti, lassibiryani, manchow soup, naanvadalassiparatha, shahi paneercoffee, cappuccinoburgers, fries, chicken filet burger, peri peri chicken wings, peri peri chicken salad, peri peri chicken burger, falafelpizza, nachos, salads, peri peri fries, brownie, pasta alfredo, spaghettichaat, pav bhaji, dabeli, vada pav, tawa pulav, panipuri, malpuaburgers, french friesmasala dosa, tirupathi pongal, filter coffee, vada, kharabath, kali dosa, rava idliparatha, thalichocolate cookies, mexican pattycoffee, masala dosa, tea, badam milk, vada, idli, raagi dosadabeli, faluda, masala poori, sandwiches, tokri chaat, pav bhaji, dahipuriwhole meat shawarma, malgoum shawarma, rolls, pita bread, kerala parottagrape juice, chicken grill, chicken tikka roll, shawarma roll, chicken shawarama, biryani combo, rollschicken stew, ghee rice, biryani, chaiparathadabeli, samosa, tawa pulav, cheese vada pavneer dosa, coffee, pav bhaji, khali dosa, panipuri, masala dosa, teasweet pongal, mini idlis, filter coffee, open masala dosa, pakoda, vada, raagi dosaparatha, vada pav, chaat, pav bhaji, panipuri, masala poori, dhoklabiryanicoffeeginger chai, ginger tea, banana cake, samosa, masala chai, banana walnutwhite pasta, noodles, babycorn manchurian, pizza, veg momos, fry momos, tawa pulavchicken biryani, rollsrolls, veggie wrap, chocolate fantasy, rice bowls, chicken rice, paneer makhanwala, chicken tikka wrapmasala dosa, idli, filter coffee, medu dosarolls, burgers, juicy momos, chicken momo, chocolate momos, mushroom momo, paneer momosjowar roti, buttermilk, sabudana vada, thali, mirchi bajji, brinjal curryvada, coffee, masala dosa, gulab jamun, roti, idli, tomato soupparatha, coffee, halwa, lassirasmalai, kaju katli, paratha, pav bhaji, badam milk, rasgulla, dhoklachai, lemon tea, chicken rollpanneer butter masala, lassi, paratha, jeera rice, paneer parantha, bhindi fry, veg kolhapuricoffee, masala dosamasala vada pav, cheese vada pav, friesbiryani, chicken curry, paya soup, paratha, mutton keema, chicken guntur, pepper chickenfrench fries, burgersgarlic bread, sandwiches, aloo tikki burger, club sandwich, white sauce pasta, garlic ricethali, dhokla, samosa, poha, club kachori, paratha, teanoodles, pasta, schezwan momos, chicken momo, teriyaki chicken, thukpa, friesmasala dosa, sandwiches, coffee, onion dosa, rava dosa, chaat, sandwichburgers, tea, ferrero rocher, sandwich, french friesmasala dosa, coffee, pongal, tea, bondaburgers, fries, schezwan burger, maharaja macburgers, chicken popcorn, peri peri chicken, wings, peri peri burger, fries, crunchy veg burgerrolls, biryani, mutton seekh, egg roll, chicken tikka, chicken rollrolls, burgers, sandwiches, nachos, sweet lassi, fries, methi parathachaat, aloo tikki, dabeli, panipuri, pav bhaji, vada pav, masala poorichicken biryanipizzawaffles, sandwiches, maggi, thick shakes, chocolate sandwichbiryani, thick shakes, frieschicken grill, biryani, roti, chicken masalaburgers, fries, wood fire pizzapizza, white sauce pasta, masala garlic breadbenne dosa, mirchi bajji, filter coffee, poha, tea, butter dosa, crispy dosafilter coffee, tea, hot coffee, hatti samosapaneer sandwich, sandwiches, burgers, momos, maggi, ferrero rocher shake, thick shakessugarcane juice, popcornsandwiches, noodles, sandwichcoffee, masala dosa, vegetable biryanivada, masala dosa, idlikachori, indori poha, cheese paratha, paneer parantha, thali, poha jalebipasta, iced tealassi, chai, parathalassi, panneer butter masala, paratha, thalicoffee, thali, kharabath, masala dosa, idli vada, vanilla ice cream, bisi bele bhaathchocolate sandwich, corn sandwich, chocolate sandwiches, lassi, chilli cheese, chaat, panipurikharabath, filter coffee, idli vada, crispy vada, kesari bath, hot coffee, teacoffeeneer dosa, sea food, pepper chickenroti, chicken biryanitandoori chicken, butter chicken, tandoori roti, bhindi masala, paratha, dal makhanisweet lassi, gulab jamun, palak paneer paratha, paneer parantharoti, masala dosachicken lollipop, dragon rolls, pasta alfredo, chicken pakora, burgers, cappuccino, chicken wingsvada pav, misal pav, sabudana vada, dabeli, pav bhaji, sabudana khichdi, lassibadam milk, potato twister, pav bhaji, panipuri, tikki chaat, cheese cutletsweet pongal, curd ricehoney chilli potatoes, nachos, lemonade, hakka noodles, babycorn manchurian, mushroom manchurian, spring rollbutter naan, buttermilk, jowar roti, panneer butter masalachicken biryani, mutton biryani, egg biryani, chicken fry, mutton frybenne dosa, idli, coffeesandwiches, chocolate sandwich, chaat, veg cheese sandwich, chilli cheese, corn sandwichmasala poori, bhel puri, panipuri, chaat, dahipuri, sev puri, dahi aloo purisea food, neer dosa, fish, crab sukha, biryani, chicken thali, chicken mealdal makhani, thali, rajma masala, dal fry, sweet lassi, gulab jamunparatha, lassi, manchurian, thalijowar roti, buttermilk, jolada rotti, brinjal curry, coffee, pongal, vegetable biryaniparatha, kachori, tea, lassi, samosa, vada pavkharabath, crispy vada, filter coffee, idli vada, idli chutney, kesari bath, gulab jamuncoffee, cappuccinorooftop ambiencechicken grill, rumali roti, rollsfaluda, brownie, sandwich, kulfi, fruit salad, sweet lassi, chocolate fudgefish curry, appam, tea, egg roast, sea foodobbattupasta, momos, rolls, chicken roll, chilli chicken, paneer roll, spaghettirolls, momos, fries, veggie roll, chicken kebab roll, paneer roll, cheese rollmasala dosapanipuri, chaat, noodles, dahi bhallesandwiches, fruit juices, choco almond, cheese sandwichmysore pak, pav bhaji, chaat, masala poori, badam milk, paratha, panipuriobbattucoffee, thali, kharabath, masala dosa, idli vada, vanilla ice cream, bisi bele bhaathbiryani, thick shakes, frieschicken biryani, mutton biryani, egg biryani, chicken fry, mutton fryrava idli, filter coffee, ghee masala dosa, badam halwa, upma, raita, rasam ricefilter kaapi, filter coffee, khara bhath, maddur vada, crispy masala dosa, kesari bath, ghee masala dosafilter coffee, kesari bath, idli vada, upma, badam milk, kharabath, teasweet pongal, curd ricegrape juice, chicken grill, chicken tikka roll, shawarma roll, chicken shawarama, biryani combo, rollsbenne dosa, mirchi bajji, filter coffee, poha, tea, butter dosa, crispy dosapizza, nachos, salads, peri peri fries, brownie, pasta alfredo, spaghettimasala poori, bhel puri, panipuri, chaat, dahipuri, sev puri, dahi aloo purifries, hot wings, burgers, rice bowlcoffee, vada, curd rice, ghee roast paneer, thaliburgers, fries, schezwan burger, maharaja mackhali dosa, kali dosa, upma, filter coffee, kesari bath, set dosa, masala dosasweet pongal, mini idlis, filter coffee, open masala dosa, pakoda, vada, raagi dosachocolate sandwich, corn sandwich, chocolate sandwiches, lassi, chilli cheese, chaat, panipurikharabath, crispy vada, filter coffee, idli vada, idli chutney, kesari bath, gulab jamunmasala dosa, vada, obbattu, badam milk, khara bhath, coffee, puri saagumasala vada pav, cheese vada pav, friescoffee, masala dosa, vegetable biryanimasala poori, rumali roti, sandwiches, chaat, burgersstuffed garlic bread, tacos, golden corn pizza, chocolavamasala dosa, vada, set dosa, filter coffee, raita, idli sambar, bondasandwich, masala dosa, set dosa, onion dosa, coffee, rava dosa, chaatgarlic bread, sandwiches, veg burger, pizza sandwich, burgers, french fries, wedgeswhite pasta, noodles, babycorn manchurian, pizza, veg momos, fry momos, tawa pulavjowar roti, buttermilk, manchurian, brinjal curry, jolada rotti, coffee, panneer butter masalamasala dosa, filter coffee, vada, kali dosa, rava idli, carrot halwa, khali dosagarlic breadcoffee, idli, masala dosa, sagu dosa, kesari bath, kharabath, plain dosachocolate cookies, mexican patty, double chocolate cookie, veggie delightcoffee, masala dosa, vada, idli, puri saagu, upma, set dosamasala dosa, rava dosa, khali dosa, vada, filter coffee, kali dosa, kesari bathdabeli, faluda, masala poori, tokri chaat, sandwiches, pav bhaji, basket chatcoffee, masala dosa, masala poori, kadhai paneer, thalibadam milk, potato twister, pav bhaji, panipuri, tikki chaat, cheese cutletbuttermilk, jolada rottibutter naan, buttermilk, jowar roti, panneer butter masalasandwiches, chocolate sandwich, chaat, veg cheese sandwich, chilli cheese, corn sandwichpizza, white sauce pasta, masala garlic breadburgers, chicken whopper, french friesmutton biryani, mutton chops, chicken fry, chicken biryani, paya, mutton fry, chilli chickenlassi, panneer butter masala, paratha, jeera rice, paneer parantha, veg kolhapuri, bhindi frychicken fry, mutton fry, mutton biryani, chicken biryani, chicken kebab, donne biryani, chilli chickencoffee, thali, kharabath, masala dosa, idli vada, vanilla ice cream, bisi bele bhaathvada, masala dosa, idlikesari bath, benne masala dosa, kharabath, tea, filter coffee, idli vada, aloo palyapasta, momos, rolls, chicken roll, chilli chicken, paneer roll, spaghettichicken kebab, ghee rice, chicken grill, paratha, chicken biryanimasala dosa, coffee, pongal, tea, bondafilter coffee, masala dosa, upma, aloo palya, crispy vada, kharabath, idli vadarava dosa, roti, masala dosa, kulcha, sandwiches, vada pav, idlimasala dosa, idli chutney, kharabath, filter coffee, kesari bath, idli vada, maddur vadahoney chilli potatoes, nachos, lemonade, hakka noodles, babycorn manchurian, mushroom manchurian, spring rollbiryani, thick shakes, friestandoori maggi, paneer sizzler, pasta, pizza, butter garlic fries, peri peri maggi, garlic magginoodles, pasta, schezwan momos, chicken momo, teriyaki chicken, thukpa, friescurd rice, bisi bele bhaath, pongalparatha, coffee, halwa, lassikhali dosa, kali dosa, masala dosa, vada sambarpuri saagu, idli sambar, filter coffee, plain dosa, idli vada, vada sambar, rava idlicoffee, masala dosacoffee, jeera rice, masala dosa, neer dosaneer dosa, sea food, pepper chickenmasala dosavegetable biryani, masala dosa, kulcha, masala papad, tomato soupchicken grill, biryani, roti, chicken masalavada, idli, coffee, masala dosalassi, panneer butter masala, paratha, thalimasala dosa, idli, vada sambarchicken biryanirolls, biryani, mutton seekh, egg roll, chicken tikka, chicken rollburgers, fries, chicken filet burger, peri peri chicken wings, peri peri chicken salad, peri peri chicken burger, falafelkesari bath, masala dosachicken biryani, rollscoffee, masala dosa, kharabath, idli vada, kesari bathcoffee, tomato soup, thali, vada sambar, biryanicoffee, cappuccinorolls, burgers, juicy momos, chicken momo, chocolate momos, mushroom momo, paneer momospanipuri, chaat, noodles, dahi bhallerooftop ambiencecheese dosa, chocolate dosa, corn dosa, pesarattu, bread dosapasta, apple pie, sandwich, chocolate cake, burgers, hot chocolate, donutjeera rice, thali, rotitea, biryaninaan, paratha, sweet lassi, egg masala, matar paneer, dal tadka, panneer butter masalachicken curry, paratha, fish, kerala parottagulab jamun, thali, saladpanneer butter masala, butter chicken, kadhai paneer, egg biryani, noodles, chilli paneerlassi, naan, chicken biryani, butter chicken, aloo paratha, manchurian, paneer tikka masalaburgerslassi, thali, paratha, rajma, malai kofta, buttermilk, phulke ghar kesandwiches, paratha, fruit lassi, gulab jamunmomos, rolls, paratha, chaaphyderabadi biryani, paneer biryanifilter coffee, vada, biryani, masala dosarolls, chicken biryaniginger tea, poha, banana cake, lemon chai, samosa, masala tea, ginger chairotirice bowl, burgers, french fries, popcorn chickenchocolate momos, thukpa, momo burger, chicken momobeef fry, beef biryani, fish curry, appam, karimeen fryaloo paratha, panneer butter masalagarlic breadlassi, paratha, chur chur naan, raita, chana masala, kheer, buttermilkrolls, chicken wrap, veggie wrap, thali, paneer curry, sabudana vada, sabudana kheertea, coffee, sabudana khichdi, samosa, sandwiches, khichda, onion pakodafries, whole meat shawarma, rollschaat, vada pav, fafda, sandwiches, kutchi dabeli, sev puricoffee, vada, chaat, rava idlibiryani, gulab jamun, shikanji, kulfi, chaatburgers, jerk chicken salad, salads, lemon mojito, lemonade, chicken patty, veg burgerthali, mutton handichicken grill, grape juice, tandoori chicken, shawarma roll, wings, rolls, chicken currycheese naan, biryani, onion ringspizza burger, garlic bread, chocolavaaloo paratha, dal makhani, paneer parantha, chaatrolls, parathathalassery biryani, chicken fry, chicken biryaniburgers, strawberry shake, fries, pancakes, chicken salad, lambsandwiches, maggi, rolls, chole bhature, ginger tea, paratha, rava masala dosaparatha, thali, rajmaparatha, samosa, chole bhature, pav bhaji, kachori, vada pavthali, lassi, dal bati churma, paratha, buttermilk, paneer malai kofta, dal tadkapizza, hyderabadi chicken biryani, chicken tikka biryanirajma, fried rice, lassi, butter phulkas, bhindi fry, thali, butter chickenliti chokha, noodles, litti, paratha, pav bhajiburgers, friesrolls, chicken shawarama, chicken shwarma roll, abbabi chicken, shawarma rollparatha, thali, rajma, pohavada, coffee, idli, masala dosa, tea, onion dosa, podi dosamasala vada pav, kulfipita bread, rolls, shawarma roll, lebanese shawarma, chicken grill, barbeque chickenkulcha, samosa chaat, panipuri, sev puri, chai, filter coffee, aloo tikki cholechai, vada pav, pizzapaneer tikka, dal bati, gulab jamun, thali, tandoori mushrooms, chole, chinese bhelpasta, pizza, garlic breaddal tadkaparathadal tadka, matar methi malai, malai kofta, jeera rice, rotipasta, apple pie, sandwich, chocolate cake, burgers, hot chocolate, donutsandwiches, chicken tikka sandwichchicken grill, butter chicken, shawarma, chicken shwarma roll, chicken lollipop, rumali roti, rollsburgersliti chokha, chilli chicken, chicken litti, paratha, lassi, pan fried momos, egg currychicken drumsticks, wood fire pizza, thin crust pizza, barbeque chicken, lime soda, veggie pizza, bbq chickenpaneer tikka, tandoori momos, soya chaap, afghani chaaprolls, beda roti, chicken baida roti, chicken tikka roll, aloo tikka roll, mushroom rollparatha, rajma chawalpasta, sandwich, sandwiches, caesar salad, salads, fries, egg wrapchicken biryani, mutton biryanichole, lassi, parathaparatha, puri sabzi, tea, cholechaat, burgers, cheese maggi, tea, chocolate shake, lassi, cheese vada pavchole bhature, rasmalai, rasgulla, chaat, pav bhaji, kaju katli, samosasattu paratha, lassi, dal makhani, rotirolls, veg momos, chicken momo, paneer tikka rollparatha, samosa, chole bhature, pav bhaji, kachori, vada pavpasta, apple pie, sandwich, chocolate cake, burgers, hot chocolate, donutpasta, sandwich, sandwiches, caesar salad, salads, fries, egg wrapchole bhature, rasmalai, rasgulla, chaat, pav bhaji, kaju katli, samosadal tadka, matar methi malai, malai kofta, jeera rice, rotithali, lassi, dal bati churma, paratha, buttermilk, paneer malai kofta, dal tadkafilter coffee, vada, biryani, masala dosalassi, paratha, chur chur naan, raita, chana masala, kheer, buttermilklassi, thali, paratha, rajma, malai kofta, buttermilk, phulke ghar kehyderabadi biryani, paneer biryaniparatha, samosa, chole bhature, pav bhaji, kachori, vada pavpasta, apple pie, sandwich, chocolate cake, burgers, hot chocolate, donutchole, lassi, parathalassi, naan, chicken biryani, butter chicken, aloo paratha, manchurian, paneer tikka masalabeef fry, beef biryani, fish curry, appam, karimeen fryburgers, friesaloo paratha, panneer butter masalarajma, fried rice, lassi, butter phulkas, bhindi fry, thali, butter chickenchai, vada pav, pizzarolls, chicken shawarama, chicken shwarma roll, abbabi chicken, shawarma rollmasala vada pav, kulfiparatha, thali, rajma, pohapasta, sandwich, sandwiches, caesar salad, salads, fries, egg wrapcheese naan, biryani, onion ringstea, biryanichicken biryani, mutton biryanipaneer tikka, dal bati, gulab jamun, thali, tandoori mushrooms, chole, chinese bhelpizza burgernaan, paratha, sweet lassi, egg masala, matar paneer, dal tadka, panneer butter masalarolls, parathachaat, thali, chole bhature, dahipuri, raita, raj kachori, lassiliti chokha, noodles, litti, paratha, pav bhajitea, coffee, sabudana khichdi, samosa, sandwiches, khichda, onion pakodathalassery biryani, chicken fry, chicken biryanivada, coffee, idli, masala dosa, tea, onion dosa, podi dosashawarma, pita breadparatha, rajma chawalchicken grill, butter chicken, shawarma, chicken shwarma roll, chicken lollipop, rumali roti, rollsidli, vada, pongal, filter coffee, mini idlis, rava masala dosa, teachicken curry, paratha, fish, kerala parottasattu paratha, lassi, dal makhani, rotipasta, pizza, garlic breadchicken grill, shawarma roll, biryani, pulpy grape juice, paratha, chicken shawarama, chicken tikkarolls, beda roti, chicken baida roti, chicken tikka roll, aloo tikka roll, mushroom rolldal tadkarolls, whole meat shawarma, chicken shawarama, malgoum shawarmarolls, veg momos, chicken momo, paneer tikka rollwaffles, pie, corn dogsalads, sandwiches, arugula salad, pasta, avocado sandwich, protein smoothie, spaghettibiryanifish curry, roast chicken, kerala parotta, appam, mutton pepper fry, sea food, ghee ricepepper chicken, chicken biryani, mutton biryaniburgers, fries, peri peri chicken, nachos, wings, rolls, tandoori burgerburgers, tandoori grill burger, mango shake, cheesy fries, whopper burger, chicken keema burger, chicken crisp burgerburgers, coffee, chocolate donut, bagel, chocolate drink, dunkaccinos, hot chocolaterolls, beda roti, veggie roll, chicken seekh roll, chicken kalimirch, kathi roll, mutton kebab rollrolls, fries, egg rollbutter chicken, parathaginger tea, maggi, ice tea, ginger chai, samosa, lemon tea, vada pavdal fryburgers, crispy chicken, chicken zinger burger, french fries, chicken fries, hot wingsrasgulla, luchi, samosa, radhaballavi, rasmalai, kheer kadam, chamchamrolls, chicken grilltawa pulav, faluda, pav bhaji, ice cream sundae, brownie, hot chocolate fudge, fruit saladcoffee, roti, vada pavchicken biryani, lemon chicken rollbiryanisalad, salads, sandwichesrolls, chicken tikka roll, cheese rollburgers, chocolate momos, noodles, cheese momoschilli chickenrolls, shawarma, beef roll, chicken shawarama, beef shwarma, haleem, chicken rollpizza, pasta, burgers, lasagne, masala garlic breadperi peri chicken, shawarma, biryani, rollschaat, sandwiches, rasmalaiwaffles, pie, corn dogfilter coffee, kesari bath, curd rice, idli vada, crispy masala dosa, masala tea, thick coconut chutneyrolls, egg roll, chai, ginger tea, biryani, rasgulla, luchirolls, burgers, sandwiches, nachos, sweet lassi, fries, methi parathasandwiches, rose faluda, pizza, custard apple cream, pav bhajipizza, garlic breadrolls, whole meat shawarmavada, masala dosa, filter coffeehariyali chicken, rice kheer, chicken kebab, chicken biryani, firewood biryani, mutton biryani, badam phirnidum biryanichaat, panipuri, chole bhature, rasmalai, chhole bhature, sev puri, samosaburgers, mc spicy chicken, chicken burger, maharaja macparatha, paneer pakora, chole bhature, rajma chawal, chaach, lassi, buttermilkrolls, biryani, butter chicken, chicken manchurian rollburgers, sandwiches, momos, chicken seekh roll, sandwichcoffee, idli, masala dosa, burgerschole, tea, filter coffee, vada, upma, butter masala dosa, idlimasala dosa, coffeevada, idli, kharabath, noodles, filter coffeemasala dosa, panneer butter masala, thalifried cheese, french fries, maggi, thick shakes, chilli cheese fries, teachai, maggi, english breakfastdonne biryani, mutton biryanicocktails, pizza, murgh platter, draught beer, chicken wings, veg platter, friesmutton chops, mutton fry, brain fry, mutton masala, mutton curry, donne biryani, chicken curryburgers, salad, mocktails, pasta arrabiata, fries, nutella cheesecake, teriyaki chicken wingsmomos, chicken lollipop, chicken momo, noodles, chicken thukpafilter coffee, mini idlisirish coffee, gelato ice cream, italian icecream, chocolate cakesandwiches, tea, masala chai, pasta, maggi, sandwich, chicken burgerlassi, amritsari kulcha, cholebutter naan, buttermilk, jowar roti, panneer butter masalatandoori chicken, butter chicken, garlic naanburgers, cheesy pizza, chips, fries, rice bowl, white sauce pasta, chicken wingsdal makhanimutton biryani, chilli chicken, pepper chicken, chicken fry, donne chicken biryani, chicken guntur, chicken kebablassi, shahi paneer, kheer, paneer bhurji, methi paratha, paneer parantha, stuffed parathaparatha, chaat, masala dosa, pav bhaji, tea, kulcha, filter coffeedonne chicken biryani, akki rottis, roti, mutton chops, chicken curry, vada, coffeebeef biryani, chicken biryani, chicken kebab, mutton biryani, beef kabab, paratha, ghee ricemomos, noodles, chop sueysandwiches, fruit bowl, panipuri, corn sandwich, palak paneer, arabian grape juice, cheesy grilled sandwichburgers, biryani, cheesecakenachos, california burrito, rice bowl, saladsshawarma, burgers, beef burger, potato wedges, vegetable noodles, cheese fatayer, garlic friesgobhi pakoda, bajji, raita, ginger tea, jalapeno cheese poppers, mojito, chaigarlic naan, tandoori chicken, basmati ricesamosa, teaparatha, samosa, vada pavtea, filter coffee, pongal, masala dosacoffee, pasta, sandwiches, sunday breakfast, apple pie, hot chocolate, chicken quicheburgers, coffee, chocolate donut, bagel, chocolate drink, dunkaccinos, hot chocolateburgers, sandwiches, momos, chicken seekh roll, sandwichchaat, sandwiches, rasmalaigulab jamun, chaat, jalebi, chole, sev puri, rasgulla, masala pooriirish coffee, gelato ice cream, italian icecream, chocolate cakeplum cakesandwiches, rose faluda, pizza, custard apple cream, pav bhajibadam milk, chaat, rasmalai, mysore pak, samosa, paneer cutlets, kachoriwaffles, pie, corn dogsandwiches, chicken sandwich, oreo shake, irish coffee creamcoffee, veg puff, latteparatha, samosa, vada pavplum cake, burgers, sandwiches, donut, mutton samosa, sponge cake, baked breadcocktails, pizza, murgh platter, draught beer, chicken wings, veg platter, friesmasala dosa, panneer butter masala, thalinoodles, thukpa, beef momos, chowmein, veg momos, cheese momosburgers, coffee, chocolate donut, bagel, chocolate drink, dunkaccinos, hot chocolateburgers, ginger chicken, virgin mojito, popcorn, rice bowlburgers, sandwiches, momos, chicken seekh roll, sandwichthukpa, vegetable noodles, steam chicken momos, chowmein, chicken shaptra, chicken manchurian, dumplingsburgers, chocolate momos, noodles, cheese momossandwichburgers, mc spicy chicken, chicken burger, maharaja macfilter coffee, kesari bath, curd rice, idli vada, crispy masala dosa, masala tea, thick coconut chutneytandoori chicken, butter chicken, garlic naanrasgulla, luchi, samosa, radhaballavi, rasmalai, kheer kadam, chamchamfilter coffee, rava idli, rava masala dosa, vada, raagi dosa, podi dosa, badam halwabiryanisalads, sandwiches, arugula salad, pasta, avocado sandwich, protein smoothie, spaghettibanana cake, ginger tea, masala chai, samosa, ginger chai, poha, egg puffgarlic naan, tandoori chicken, basmati ricechole, tea, filter coffee, vada, upma, butter masala dosa, idlirolls, beef kabab, seekh kebab, seekh rollburgers, salad, mocktails, pasta arrabiata, fries, nutella cheesecake, teriyaki chicken wingsbeef biryani, chicken biryani, chicken kebab, mutton biryani, beef kabab, paratha, ghee ricegulab jamun, chaat, jalebi, chole, sev puri, rasgulla, masala poorimomos, noodles, chop sueymutton cutlets, filter coffee, masala dosa, omelette, vada, scrambled eggs, hot coffeelassi, amritsari kulcha, cholemasala dosa, idli, kali dosa, ghee khali dosa, tomato rice, set dosa, ghee ricebiryaniburgers, fries, peri peri chicken, nachos, wings, rolls, tandoori burgerchicken curry, biryani, chilli chicken, fry prawns, chicken kebabparatha, paneer pakora, chole bhature, rajma chawal, chaach, lassi, buttermilksandwiches, fruit bowl, panipuri, corn sandwich, palak paneer, arabian grape juice, cheesy grilled sandwichakki rottis, rumali roti, masala dosa, vada, raagi roti, rava idli, coffeecoffee, roti, vada pavburgers, biryani, cheesecakefilter coffee, idliplum cakerolls, shawarma, beef roll, chicken shawarama, beef shwarma, haleem, chicken rollrolls, burgers, sandwiches, nachos, sweet lassi, fries, methi parathasandwiches, rose faluda, pizza, custard apple cream, pav bhajipizza, garlic breadvada, idli, kharabath, noodles, filter coffeepav bhaji, panipuri, chaatsea food, fish fry, fish curry, fish kebab, buttermilk, fry prawns, ragi muddechilli chickendonne chicken biryani, akki rottis, roti, mutton chops, chicken curry, vada, coffeeshawarma, burgers, beef burger, potato wedges, vegetable noodles, cheese fatayer, garlic friesmasala dosa, filter coffee, vada, akki rottis, rava dosadonne biryani, mutton biryanirolls, beda roti, afghan chicken, reshmi kebab, chicken tikka rollrolls, chicken tikka roll, cheese rollparatha, chaat, masala dosa, pav bhaji, tea, kulcha, filter coffeehariyali chicken, rice kheer, chicken kebab, chicken biryani, firewood biryani, mutton biryani, badam phirnirolls, veggie wrap, chicken wrap, paneer wrap, chole, dal makhani, jal-jeeramasala dosa, filter coffeedal makhanimutton biryani, chilli chicken, pepper chicken, chicken fry, donne chicken biryani, chicken guntur, chicken kebabgobhi pakoda, bajji, raita, ginger tea, jalapeno cheese poppers, mojito, chaipav bhaji, chaat, masala poori, panipuri, dahipuri, sev puri, sandwichessamosa, teaplum cake, burgers, sandwiches, donut, mutton samosa, sponge cake, baked breadbiryani, buttermilk, mutton curry, thali, mutton frysandwiches, tea, masala chai, pasta, maggi, sandwich, chicken burgermasala dosa, khali dosa, kali dosa, gini dosa, idli, potato masala, coffeevadanachos, california burrito, rice bowl, saladsnachos, pasta del barone, cheesy garlic bread, thin crust pizza, oreo milkshake, tortilla chips, manali pizzacoffee, pasta, sandwiches, sunday breakfast, apple pie, hot chocolate, chicken quichecocktails, pizza, murgh platter, draught beer, chicken wings, veg platter, friesfaluda, sandwiches, paneer tikka pizza, cream mango, custard apple cream, veg sandwichthali, dhokla, chaat, samosa, panipuri, jalebi, pav bhajiburgers, hot dog, mint mojito, french fries, bbq burger, lime mojito, grilled burgerwaffles, pizza, coffee, burgers, hot chocolate, fries, pancakeschole, paratha, rajmabiryani, sandwich, thali, roti, shahi paneerparatha, thalilaccha paratha, murgh lababdar, biryani, mutton bhuna gosht, litti, bhuna chickenpoha, vada pav, tea, sandwiches, chicken sandwich, french omelette, french friesrabri, naan, chaap, raita, tandoori chicken, tangdi kabab, dal makhaniroti, fish fry, egg noodleschole, roti, vadaburgers, mcmuffin, french fries, waffles, pancakes, mc veggie, coffeedum biryani, hyderabadi biryanitandoori chickenparathadabeli, pav bhaji, cheese vada pavparathasandwiches, lassi, berry delight, faluda, oreo shakepizza, garlic breadchole bhature, jalebi, chaat, puri sabzi, buttermilk, dhokla, panipurirolls, falafel, biryani, parathachole bhature, paratha, veg thali, poori bhaji, chaat, chhole bhatureburgers, friestandoori momos, pasta, afghani momos, chicken wings, roasted chillipane pizza, garlic bread, thin crust pizza, paneer pizza, pepperoni, pastabiryani, chicken grill, roast chicken, tandoori chicken, pepper chicken, roti, rollsveg platter, chicken kebab roll, chai, aloo samosa, chicken samosasandwich, paratha, poha, sandwiches, idli vada, tea, rotipanneer butter masala, paratha, vegetable biryanichaat, ginger tea, club kachori, samosa, aloo paratha, thali, dhoklachicken biryanifish, paratha, fried ricesandwich, gujarati food, pav bhaji, tea, thali, panipuripoha, aloo parathadal makhani, paneer thaliparatha, paneer thali, tandoori roti, chole bhaturethali, biryani, aloo parathadonut, burgers, eclair, hot chocolatethali, salad, palak paneer, chicken curry, butter chicken, buttermilk, shahi paneerfish, veg thali, biryanichole bhature, deluxe thali, lassi, chaat, aloo paratha, soya chaap biryani, dahipurifish curry, dal makhani, khichda, chicken handikheer, paneer chatpata, mango lassi, thali, paratha, gulab jamun, buttermilkrice, paratha, thalibutter naan, paratha, kulcha, butter chicken, shawarma, roti, thalirasgulla, mutton kosha, luchi, fish cutlet, aloo posto, alur dom, thaliliti chokha, litti, sattu paratha, dal bati, thali, rotiburgers, fries, chicken jumbo burger, salads, jumbo royale burger, peri peri wrap, peri peri chicken burgermutton biryani, rotiburgers, chicken roll, rolls, fries, wings, tandoori momos, chicken grillbanana cake, chai, lemon tea, ginger tea, masala teafrench fries, whole meat shawarma, chicken shawaramahealthy breakfast, kadhi, sprout salad, rajma chawal, salads, onion paratha, dal makhanirolls, chicken tikka roll, chicken bhuna roll, biryani, lassi, paneer bhurji roll, beda rotimutton thali, mutton curry, veg thalisabudana vada, kulfi, schezwan vada pav, ginger teaparathamasala chai, sandwiches, samosa, masala tea, ice tea, bombay sandwich, chicken mayo sandwichlaccha paratha, butter naan, roti, vegetable biryaniplain dosa, palak dosa, mushroom dosafrench fries, peri peri friesrolls, rice, biryaniparathaparatha, veg thali, chole bhature, gulab jamun, lassi, dal fry, rotichicken grill, dal fry, arabian grape juice, rumali roti, shawarma rollrice bowl, nachos, rice bowls, california burrito, burrito bowl, salads, tacoschicken guntur, vegetable biryani, executive chicken biryani, mutton biryani, hyderabadi chicken biryaniparatha, thalibiryani, idli, vada, chicken curryfishfilter coffee, plain dosabiryani, parathabrownie chocolate, donutparatha, pizza parantha, tea, sandwich, honey chilli potatoes, pasta alfredo, coffeeveg tandoori momos, keema pav, butter chicken, pav bhaji, rolls, galauti kebab, achari paneermudpie, sandwich, masala dosa, hot coffee, pasta, pizza dosa, parathabiryani, chicken currymutton biryanichaat, panipuri, jalebi, vada pav, samosa, gol gappe, chole bhaturelassi, paratha, chaach, chole bhature, thalithali, lassi, rice, chole bhature, paratha, dal makhani, dal tadkabeef fry, appam, chicken curry, kerala parotta, idiyappam, egg curry, biryanidum biryaniburgersparathatacos, nachos, pizza, mexican friespastaroti, riceroast chicken, appam, kadala curry, fish frywaffles, pizza, coffee, burgers, hot chocolate, fries, pancakesrollspotato fries, chicken currychaisandwichpanneer butter masala, lassiparatha, tandoori chicken, panneer butter masala, chole bhatureveggie pizza, french friesdal makhani, reshmi kebab, thali, panneer butter masala, naan, rice, masala papadrolls, rasgulla, fish fry, bhetki paturi, mutton kosha, veg thali, luchithepla, poha, gujarati food, paratha, chocolate sandwich, cheese dabelinon veg thali, egg maggimutton curry, aloo parathasandwiches, chaat, panipuri, sandwichsamosa, jalebi, rasmalai, poha, aloo poori, panipuri, aloo sabjibiryani, raitawaffles, burgers, pizza, teapapdi chaat, panneer butter masala, tea, paneer lababdar, biryani, kullad chai, chicken tikka masalapasta, burgers, fries, nachos, exotic garlic bread, pizza, thick shakesveg thali, fish thalirolls, noodles, mughlai paratha, paneer kathi roll, veg manchow soup, crispy chicken, chicken manchurianchole bhature, jalebi, chaat, puri sabzi, buttermilk, dhokla, panipuridonut, burgers, eclair, hot chocolatewaffles, pizza, coffee, burgers, hot chocolate, fries, pancakesfish, veg thali, biryanipoha, ginger tea, samosa, ginger chai, banana cake, cake rusk, coffeethali, lassi, rice, chole bhature, paratha, dal makhani, dal tadkachole bhature, jalebi, chaat, puri sabzi, buttermilk, dhokla, panipuribiryani, chicken grill, roast chicken, tandoori chicken, pepper chicken, roti, rollsliti chokha, litti, sattu paratha, dal bati, thali, rotinachos, burrito, rice bowl, pizza, fiesta potatoes, chicken burritos, crispy tacosparatha, gulab jamun, thali, lassi, kheer, roti, palak paneerveggie pizza, french friesburgers, masala fries, wingspanneer butter masala, paratha, vegetable biryanizinger burger, hot wings, chicken wings, crispy chicken, friessabudana vada, kulfi, schezwan vada pav, ginger teawaffles, burgers, pizza, teapanneer butter masala, coffee, tea, idli, manchurian, vada, thaliburgers, mcmuffin, french fries, waffles, pancakes, mc veggie, coffeepav bhaji, coffee, tea, masala dosa, naanbiryani, chicken curryfish, paratha, fried riceparatha, chicken parantha, chicken curry, panneer butter masaladonut, burgers, eclair, hot chocolatemasala dosa, tea, onion dosa, vada, rava idli, kesari bathpizzaburgers, hot dog, mint mojito, french fries, bbq burger, lime mojito, grilled burgerparathasandwiches, chaat, panipuri, sandwichmudpie, sandwich, masala dosa, hot coffee, pasta, pizza dosa, parathaparatha, tandoori chicken, panneer butter masala, chole bhatureburgerschaat, panipuri, jalebi, vada pav, samosa, gol gappe, chole bhaturesamosa, jalebi, rasmalai, poha, aloo poori, panipuri, aloo sabjichaat, ginger tea, club kachori, samosa, aloo paratha, thali, dhoklabeef fry, appam, chicken curry, kerala parotta, idiyappam, egg curry, biryanimutton curry, aloo parathalaccha paratha, butter naan, roti, vegetable biryanichole bhature, paratha, veg thali, poori bhaji, chaat, chhole bhaturesandwich, paratha, poha, sandwiches, idli vada, tea, rotilassi, chaat, chole bhature, jalebi, panipuri, thali, parathamutton thali, mutton curry, veg thalirasgulla, mutton kosha, luchi, fish cutlet, aloo posto, alur dom, thaliwaffles, pizza, coffee, burgers, hot chocolate, fries, pancakesdum biryaniparatha, pizza parantha, sandwich, tea, honey chilli potatoes, pasta alfredo, coffeeparathachicken grill, dal fry, arabian grape juice, rumali roti, shawarma rollrolls, salad, dal makhani, chicken wrap, pizza, chocolate cake, chocolate fantasyrolls, falafel, biryani, paratharice bowl, nachos, rice bowls, california burrito, burrito bowl, salads, tacospizza, garlic bread, veg supremerolls, mix vegpapdi chaat, panneer butter masala, tea, paneer lababdar, biryani, kullad chai, chicken tikka masalapasta, burgers, fries, nachos, exotic garlic bread, pizza, thick shakespanneer butter masala, lassirolls, rasgulla, fish fry, bhetki paturi, mutton kosha, veg thali, luchicoffee, kerala parotta, thalassery dum biriyani, appam, noodles, malabari biryani, thalassery chicken currychaidal makhani, paneer thaliparatha, paneer thali, tandoori roti, chole bhaturelassi, paratha, chaach, chole bhature, thalichicken guntur, vegetable biryani, executive chicken biryani, mutton biryani, hyderabadi chicken biryaniparatha, thalirolls, rice, biryanifilter coffee, idli, vada, masala dosa, tea, pongal, plain dosacoffee, vada, mla dosapastaparatha, lassi, rollsbiryani, idli, vada, chicken curryfishsandwiches, lassi, berry delight, faluda, oreo shakeburgers, chicken fries, chicken grill, hot wings, chicken rollparathaburgers, fries, hot dog, chicken hotdog, cuban mojito, cheese burger, grilled burgerchicken lollipop, dragon rolls, pasta alfredo, chicken pakora, burgers, cappuccino, chicken wingspanneer butter masala, idli, masala dosa, vada, coffee, roti, thaliradhaballavi, biryani, egg noodles, egg roll, fish curry, egg devils, thaliroast chickenfish, parathaputtu biryani, egg roastjeera rice, corn paratha, paneer bhurji, gobhi matar, vegetarian, sweet lassi, dal frygulab jamun, chaat, raita, chole, soya chaap, panipuri, dal makhanichole, kulfi, kachori, samosa, chaat, pav bhaji, barfifries, white sauce pasta, monster pizza, cheesy garlic bread, cheesy pizza, margherita pizzaburgers, wings, whopper burger, cheesy fries, italian friespoha, samosa, jalebi, kachoriparatha, shahi paneerburgers, fries, chicken filet burger, peri peri chicken wings, peri peri chicken salad, peri peri chicken burger, falafelbiryanithali, egg masala, chole, paratha, roti, butter chicken, paneer manchurianfish, appam, egg roast, kadala curry, chicken curry, beef fry, ghee riceambur biryani, mutton biryani, raitalassi, roti, veg thali, aloo paratha, egg currysalads, chicken tikka, veg shammi, teriyaki chicken, sandwich, veggie delight, aloo pattymutton biryani, dragon chicken, chicken dum biryani, vegetable biryani, paneer biryanineer dosarasgulla, mutton kosha, chicken kasha, samosa chaat, kheer, veg thalipyaz kachori, chaat, gajar ka halwa, shrikhand, jalebi rabri, churma, boondi raitatacos, nachos, potato pops, potato burrito, fiery potato, rice bowls, taco jointcoffee, masala dosa, tea, badam milk, vada, idli, raagi dosaneer dosa, coffee, pav bhaji, khali dosa, panipuri, masala dosa, tearava idli, filter coffee, tea, vada, paper masala dosa, donne biryanifriesparatha, kadai paneerchicken stew, ghee rice, chai, beef biryanighee ricefruit custard, russian cutletburgers, crispy chicken, fiery chicken, chicken wings, chicken grill, rice bowl, hot wingsmasala dosathali, coffee, buttermilk, tea, methi paratha, sweet lassi, aamrasbutter naan, tandoori chicken, chicken tikka masala, malai kofta, biryani, wheat paratha, noodlespizza, spinach curry, saladlassimasala dosa, panneer butter masalacoffee, peri peri fries, hot chocolate, scrambled eggs, donut, grilled chicken wrap, ice teapasta, fries, cheesiano pizza, veggie pizza, cheesy garlic bread, peri peri paneer pizzaraita, vegetable biryani, biryani combopodi idli, masala dosa, pongal, coffee, mini idlis, appam, raagi dosaprompt servicedabeli, samosa, tawa pulav, cheese vada pavbiryani, chicken curry, paya soup, paratha, mutton keema, chicken guntur, pepper chickenvada, rava idli, masala dosa, coffeerasmalai, kheer kadammasala dosalassi, punjabi chicken, paratha, kadhai murgh, butter naan, lemon chicken, rotichaat, samosa, thali, sweet lassi, biryani, egg roll, masala paneersandwiches, fruit juices, chaat, paneer sandwich, watermelon juice, cheese sandwichpoha, bread omelette, ginger chai, ginger teakulcha, chole, mutton curry, paratha, mint raita, chicken curry, dal makhanilassi, amritsari kulcha, punjabi kulcha, paneer kulcha, punjabi chole, aloo kulcha, parathamutton kosha, kosha mangshofish thali, aloo parathavada, coffee, masala dosa, gulab jamun, roti, idli, tomato soupidli, coffee, vadacoffee, dahi vada, chaatchaat, pav bhaji, panipuri, basket chat, mango lassi, sev puri, misalchaat, dabeli, pav bhaji, dhokla, gujarati food, jalebi, panipurialoo paratha, samosa, kachori, poha, chaatpasta, burgers, sandwichesmasala dosa, coffee, pongal, tea, bondanoodles, pasta, tibetan momos, clear soup, chicken momo, tibetan thukpa, teabeef fry, fish fry, appam, masala prawn, egg roast, chicken curry, biryanithali, dhokla, samosa, poha, club kachori, paratha, teatea, chole, khichda, butter paneer, paneer bhurji, paratha, masala chaimutton kosha, basanti pulao, chicken biryaniparatha, rolls, rotimasala dosa, pongal, filter coffee, tea, idlipaneer biryani, naanginger chai, ginger tea, pakoda, paratha, maggi, pav bhaji, sulemani chaichaat, chole bhature, raj kachori, thali, rasmalai, paratha, pav bhajipizza, chicken biryanipav bhaji, dabeli, paratha, raj kachori, vada pavshawarma, sandwichesdal makhani, amritsari kulchaparatha, palak paneermasala dosa, vada, tea, coffee, idlicheese parathabenne dosacoffee, burgers, pasta, beef steak, chicken lasagne, salads, sandwichessabudana vada, masala dosa, filter coffee, pesarattu upma, podi idli, mirchi bajji, pongalburgers, tea, ferrero rocher, sandwich, french friespoha, kachori, samosa, sabudana khichdi, parathatikki, chicken tikka, chicken biryani, thali, shammi kebab roll, rumali roti, nihariburgers, chicken popcorn, peri peri chicken, wings, peri peri burger, fries, crunchy veg burgerfriendly staffvada, idli, masala dosa, filter coffee, tea, sandwichesmasala dosa, biryani, chicken stew, tea, appam, parathasandwiches, sandwichchaat, panipuri, lassi, gol gappe, paratha, pav bhaji, samosagulab jamun, samosa, paratha, paneer curry, biryani, chaat, veg cutletchicken biryani, ambur biryani, kothu paratha, onion raita, fish frymomos, rice noodles, kung pao chicken, noodle, rice bowl, thai green curry, chicken dim sumsaag, veg thalifilter coffee, badam milk, idli, hot coffee, samosa, lemon tea, mini idlisburgers, fries, chicken wings, popcorn, chicken grillchaat, aloo tikki, dabeli, panipuri, pav bhaji, vada pav, masala poorifruit bowl, grape juice, nannari sharbat, cheese sandwich, tea, cheese sandwiches, orange juicegulab jamun, buttermilk, egg bhurji, sprout salad, rotishawarma, chicken grill, faludapoha, tea, parathatea, coffee, neer dosa, gajar ka halwa, thali, chaat, cheese dosaspicy chickenveg momos, noodles, cheese momos, jhol momos, wai wai bhel, brownie, chicken momopizza parantha, chai, paratha, fries, cheese maggi, rajma chawalburgers, fries, hot dog, chicken hotdog, cuban mojito, cheese burger, grilled burgerkachori, indori poha, cheese paratha, paneer parantha, thali, poha jalebimasala dosa, vada, filter coffeechicken curry, red rice, fish currywhole meat shawarma, fries, jumbo shawarma, malgoum shawarma, rolls, chicken shawarama, kerala parottaginger tea, filter coffee, sandwich, poha, waffles, vadabiryaniroti, dal makhani, lassi, panneer butter masala, kulcha, masala papad, butter chickencoffee, sandwiches, teatandoori chai, tea, paratha, samosa chaat, onion pakoda, raj kachorilitti, liti chokha, lassi, tea, paratha, thali, chaibiryani, paratha, chicken masala, kerala parottashawarmaparatha, rajmafilter coffee, lunch thali, idli, mini idlis, ghee masala dosa, rasam vada, pongalchicken tikka sandwich, hot chocolate brownie, red velvet shake, chicken sandwiches, french fries, cheese sandwich, irish cream coffeechicken grill, grape juice, biryani, shawarma roll, rolls, chicken kebab, chicken shwarma rolltandoori chicken, butter chicken, tandoori roti, bhindi masala, paratha, dal makhaniparatha, chicken kebab, biryani, lassi, butter chicken, veg kolhapuri, pahari chickenegg biryani, donne biryanirolls, chicken roll, tandoori chicken, biryani, chicken lollipop, paratha, chicken grillcoffeeginger tea, chai, samosa, bun omelette, elaichi tea, egg bhurji, carrot cakevada, masala dosa, kharabath, filter coffee, kesari bath, idli sambarparatha, chicken currycoffee, pav bhaji, masala dosa, vada sambarlassi, paratha, paneer parantha, butter chicken, punjabi chicken, shahi paneer, chicken kolhapuriparatha, butter naan, thali, tandoori roti, lassibiryani, fish currytandoori chicken, chicken boneless biryani, hyderabadi biryani, lemon chicken, mutton biryani, raitalassi, chai, parathatea, chai, sandwiches, sandwichbhindi fry, aloo fry, sweet lassi, paratha, tawa roti, palak paneer, butter chickenmutton biryani, chicken kebab, donne biryaniparatha, mutton currymomos, pizza sandwich, manchow soup, spring roll, noodles, fries, fried ricechicken biryani, thali, rolls, ambur biryani, palak paneer, salad, bhatti ka murghrumali roti, rumali shawarma, burgers, shawarma burgermushroom masala, thali, aloo paratha, roti, samosa, panneer butter masalabutter chicken, dal makhani, roti, tangdi kabab, panneer butter masalachaat, gulab jamun, panipuri, samosa, dhokla, thali, kachorimomos, noodles, thukpa, teriyaki chicken, chicken chowmein, clear chicken soup, beef chillichicken biryani, dum biryani, vegetable biryani, mutton biryanipizza, peri peri fries, veg paprikafish, rasmalai, doi katla, aalo bhaja, bhetki paturi, chicken kasha, aloo postoburgers, belgian fries, pasta, salads, falafel pockets, greek sandwichchicken lollipop, dragon rolls, pasta alfredo, chicken pakora, burgers, cappuccino, chicken wingsnoodles, pasta, schezwan momos, chicken momo, teriyaki chicken, thukpa, friesfrench fries, peri peri fries, cup cake, potato fries, fried cheese, chicken fries, mexican friesbaklava, falafel roll, falafel plate, pita bread, mint lemonade, pita pocket, pomegranate juicematar paneer, paratha, chole bhature, lassisea food, neer dosatortilla chips, tabasco pizza, salsa, mixed sauce pasta, white sauce pasta, manali pizza, nawabi pizzaalmond shake, pizza friesshawarma, chicken grill, tandoori chicken, butter chicken, rolls, chicken tikka, grape juicebuttermilk, dal makhani, boondi raita, baingan bharta, aloo paratha, roti, thalikosha mangsho, daab chingri, fish curry, dum biryanichicken biryani, butter chickenrolls, biryani, mutton seekh, egg roll, chicken tikka, chicken rollburgers, fries, wood fire pizzapizza, garlic bread, chicken lasagnebingsu, mocktails, custard, chocolate oreo, sandwiches, brownie, korean ice creamveg thali, fish thalichicken biryani, hyderabadi dum biryani, raitawaffles, pasta alfredoakki rottis, neer dosapizza, rolls, burgersappam, buttermilk, fry prawns, roast beef, masala prawn, chicken stew, murgh ghee roastsandwiches, fruit juices, burgers, chicken sandwich, omelette, french fries, oreo shakeperi peri chicken, chicken pizza, white pasta, kit kat shakesea food, neer dosa, fish, crab sukha, biryani, chicken thali, chicken mealhoney chilli potatoes, nachos, lemonade, hakka noodles, babycorn manchurian, mushroom manchurian, spring rollburgers, nachos, oreo shake, veg sandwich, veg burgerroti, chicken biryanisandwiches, fries, sandwich, pizza, thick shakes, garlic breadvada pav, misal pav, sabudana vada, dabeli, pav bhaji, sabudana khichdi, lassichicken grill, roast chicken, chicken wings, sweet potato mash, pulled chicken burger, sweet potato friespoha, jalebi, paratha, bhindi masala, kachori, puri sabzi, samosarolls, chicken wings, shawarma, chicken tikka roll, burgers, fries, pastapoha, jalebi, paratha, bhindi masala, kachori, puri sabzi, samosarolls, chicken wings, shawarma, chicken tikka roll, burgers, fries, pastachicken nachos, chicken tacos, rice bowlnoodles, nasi goreng, rolls, kiwi mojito, brownie, tom yum soup, dumplingslassi, soya chaap, fish, masala papadmomos, chicken lollipop, chicken momo, noodles, chicken thukpaegg noodles, biryaniparathavadawood fire pizzanoodles, beef momos, chicken shaptra, chicken thukpa, clear soup, beef momo, chicken thupkatandoori chicken, butter naan, kadai paneer, pepper chickenburgers, cheesy pizza, chips, fries, rice bowl, white sauce pasta, chicken wingsbiryani, manchow soup, naanbhaji dosacoffee, cappuccinohyderabadi biryani, ginger chickenwhole meat shawarma, jumbo shawarma, spicy shawarma, momosperi peri chicken, fries, lemongrass chicken, margherita pizzaraita, hyderabadi biryanipizza, dragon chicken, butter chicken, noodles, chicken wings, chicken noodlerice, donne biryani, mutton biryani, chicken kebab, chilli chicken, chicken biryani, kshatriya kebabnutella waffledal makhani, thali, rajma masala, dal fry, sweet lassi, gulab jamunappam, chicken curry, passion fruit juice, crepethaliburgers, zinger burgerwaffles, nutella ice cream, french friesfish curry, appam, tea, egg roast, sea foodbenne dosa, idli, coffeedal makhani, rice, buttermilkchicken grill, rumali roti, rollsmomos, noodles, thukpa, chicken thupka, manchow soup, chicken momo, crispy honey chickenthali, thepla, gulab jamun, masala lassi, rice, gujarati food, roticheese dosa, tea, pizza dosacup cakesea food, thali, red snapper, fish fry, neer dosaidli, masala dosafaluda, sandwiches, paneer tikka pizza, cream mango, custard apple cream, veg sandwichnachos, rice bowl, california burrito, rice bowls, chicken quesadilla, bbq chicken, pink lemonadechai, aloo samosa, tealiti chokha, chilli chicken, chicken litti, paratha, lassi, pan fried momos, egg currychocolate sandwich, chaat, corn sandwich, chilli cheese, cheese sandwiches, veg sandwichmutton biryani, ghee ricethali, chicken lollipop, gundappa donne biryani, mutton biryanipasta, sandwiches, cappuccino, sandwichburgerschole bhature, chaat, kulfi, kachori, pav bhaji, samosa, barfichaat, panipuri, lassi, gol gappe, paratha, pav bhaji, samosasamosa, dhokla, ladoo, sweet kachori, onion kachori, ghee jalebichaat, chole bhature, thali, rasmalai, raj kachori, paratha, pav bhajichole bhature, puri sabzi, chaat, panipuri, rasmalai, jalebi, pav bhajiginger tea, chai, coffeehazelnut cappuccino, pancakes, red velvet cake, nutella shake, murgh ghee roast, butter chicken, chocolate icecreamsmishti doi, rasgulla, radhaballavi, rasmalai, chamcham, dum aloo, malai rollwaffles, nutella ice cream, french friesfaluda, sandwiches, paneer tikka pizza, cream mango, custard apple cream, veg sandwichpasta, sandwiches, cappuccino, sandwichradhaballavi, biryani, egg noodles, egg roll, fish curry, egg devils, thalichaat, chole bhature, raj kachori, thali, rasmalai, paratha, pav bhajitandoori chicken, butter naan, kadai paneer, pepper chickenburgers, fries, hot dog, chicken hotdog, cuban mojito, cheese burger, grilled burgerchai, masala tea, samosa, banana cake, egg puff, ginger teamasala dosaburgers, fries, wood fire pizza, nachosmomos, pizza sandwich, manchow soup, spring roll, noodles, fries, fried ricelassi, paratha, paneer parantha, butter chicken, punjabi chicken, shahi paneer, chicken kolhapurirasgulla, mutton kosha, chicken kasha, samosa chaat, kheer, veg thalifish, appam, egg roast, kadala curry, chicken curry, beef fry, ghee ricepanneer butter masala, idli, masala dosa, vada, coffee, roti, thaliroast chicken, thalassery biryaniegg biryani, donne biryaniambur biryani, mutton biryani, prawn, raita, brinjal curry, vegetable biryani, fishrumali roti, rumali shawarma, burgers, shawarma burgerlitti, liti chokha, lassi, tea, paratha, thali, chaiburgers, chicken bucket, paneer zinger burgercheese burst pizzarolls, chicken mayo, bbq chicken, chocolate fantasy, paneer roll, fiery paneer tikka, chicken wrapgulab jamun, buttermilk, egg bhurji, sprout salad, rotipoha, jalebi, paratha, bhindi masala, kachori, puri sabzi, samosamasala dosa, panneer butter masalashawarma, chicken grill, faludaaloo paratha, samosa, kachori, poha, chaatsamosa, dhokla, ladoo, sweet kachori, onion kachori, ghee jalebiparatha, rolls, rotichicken grill, biryani, shawarma roll, rolls, arabian pulpy grape juicelassi, roti, veg thali, aloo paratha, egg currychaat, gulab jamun, panipuri, samosa, dhokla, thali, kachorirolls, momos, paratha, chicken tikka roll, mutton keema, egg rollwhole meat shawarmachaat, dabeli, panipuriidli, masala dosabiryani, rolls, tandoori chicken, chicken egg roll, laccha parathanoodles, nasi goreng, rolls, kiwi mojito, brownie, tom yum soup, dumplingsbeef fry, fish fry, appam, masala prawn, egg roast, chicken curry, biryanimatar paneer, paratha, chole bhature, lassikachori, indori poha, cheese paratha, paneer parantha, thali, poha jalebichicken stew, ghee rice, chai, beef biryaniparatha, butter naan, thali, tandoori roti, lassimutton biryani, dragon chicken, chicken dum biryani, vegetable biryani, paneer biryanifish, rasmalai, doi katla, aalo bhaja, bhetki paturi, chicken kasha, aloo postoroti, dal makhani, lassi, panneer butter masala, kulcha, masala papad, butter chickenchole bhature, puri sabzi, chaat, panipuri, rasmalai, jalebi, pav bhajiparatha, rajmaburgers, french friesfilter coffee, pongalginger tea, chai, coffeechaat, samosa, thali, sweet lassi, biryani, egg roll, masala paneerraita, hyderabadi biryanisandwiches, fruit juices, burgers, chicken sandwich, omelette, french fries, oreo shakemutton kosha, basanti pulao, chicken biryanipizza parantha, chai, paratha, fries, cheese maggi, rajma chawaldal makhani, rice, buttermilkveg thali, fish thalithali, egg masala, chole, paratha, roti, butter chicken, paneer manchurianmasala dosa, vada, filter coffeenutella wafflerolls, chicken roll, tandoori chicken, biryani, chicken lollipop, paratha, chicken grillmasala dosa, plain dosalassi, soya chaap, fish, masala papadpie, thin crust pizza, cheesy pizza, pepperoni pizza, paneer pizzaparathabiryani, manchow soup, naanvadawood fire pizzaaloo paratha, ande ka fundaputtu biryani, egg roastginger chai, ginger tea, pakoda, paratha, maggi, pav bhaji, sulemani chaitandoori chicken, butter chicken, tandoori roti, bhindi masala, paratha, dal makhaniparatha, kadai paneerlassiparatha, shahi paneerchicken lollipop, dragon rolls, pasta alfredo, chicken pakora, burgers, cappuccino, chicken wingspaneer hyderabadi, biryani, idli, panneer butter masala, roti, coffee, masala dosanachos, rice bowl, california burrito, rice bowls, chicken quesadilla, bbq chicken, pink lemonademomos, noodles, thukpa, chicken thupka, manchow soup, chicken momo, crispy honey chickenmutton biryani, ghee ricebiryani, chicken curry, paya soup, paratha, mutton keema, chicken guntur, pepper chickengulab jamun, chaat, raita, chole, soya chaap, panipuri, dal makhanimasala dosa, coffee, rava idli, badam halwa, thali, vada, fruit saladmomos, noodles, thukpa, teriyaki chicken, chicken chowmein, clear chicken soup, beef chillipizza, spinach curry, saladburgers, peri peri chicken, grilled lamb burger, chicken burger, french friesappam, buttermilk, fry prawns, roast beef, masala prawn, chicken stew, murgh ghee roastmasala idli, filter coffeeveg momos, noodles, cheese momos, jhol momos, wai wai bhel, brownie, chicken momonoodles, pasta, tibetan momos, clear soup, chicken momo, tibetan thukpa, teakulcha, chole, mutton curry, paratha, mint raita, chicken curry, dal makhanilassi, punjabi chicken, paratha, kadhai murgh, butter naan, lemon chicken, rotiburgers, chicken crisp burger, chicken whopper, chicken keema burger, chicken fries, mutton whopper, chocolate shakesandwiches, masala pav, chicken burger, filter coffee, burgers, masala chai, french friessandwiches, sandwich, coffee, cheesecakefaluda, sandwiches, paneer tikka pizza, cream mango, custard apple cream, veg sandwichmushroom masala, thali, aloo paratha, roti, samosa, panneer butter masalakosha mangsho, daab chingri, fish curry, dum biryaniburgerschai, lemon tea, chicken rolltandoori chicken, chicken boneless biryani, hyderabadi biryani, lemon chicken, mutton biryani, raitaburgers, tea, ferrero rocher, sandwich, french friesbiryani, fish currynoodles, beef momos, chicken shaptra, chicken thukpa, clear soup, beef momo, chicken thupkamishti doi, rasgulla, radhaballavi, rasmalai, chamcham, dum aloo, malai rollginger tea, chai, samosa, bun omelette, elaichi tea, egg bhurji, carrot cakechocolate sandwich, chaat, corn sandwich, chilli cheese, cheese sandwiches, veg sandwichcoffee, masala dosa, tea, badam milk, vada, idli, raagi dosanachos, tacos, mexican pizza, cheesy fiesta potato, fries, rice bowl, salsachaat, dabeli, pav bhaji, dhokla, gujarati food, jalebi, panipuricoffeetea, coffee, neer dosa, gajar ka halwa, thali, chaat, cheese dosavada, idli, masala dosa, filter coffee, tea, sandwichesfish thali, aloo parathapizza, peri peri fries, veg paprikamasala dosavada pav, misal pav, sabudana vada, dabeli, pav bhaji, sabudana khichdi, lassimasala dosa, pongal, filter coffee, tea, idliburgers, chicken popcorn, peri peri chicken, wings, peri peri burger, fries, crunchy veg burgerthali, chicken lollipop, gundappa donne biryani, mutton biryanivada, coffee, masala dosa, gulab jamun, roti, idli, tomato soupvada, rava idli, masala dosa, coffeepav bhaji, dabeli, paratha, raj kachori, vada pavbiryani, paratha, chicken masala, kerala parottamasala dosa, tea, vada, idli, coffeedal makhani, amritsari kulchacoffee, burgers, pasta, beef steak, chicken lasagne, salads, sandwichespizza, garlic bread, chicken lasagnetortilla chips, tabasco pizza, salsa, mixed sauce pasta, white sauce pasta, manali pizza, nawabi pizzaliti chokha, chilli chicken, pan fried momos, noodles, chicken litti, paratha, lassihyderabadi biryani, ginger chickenparatha, chicken kebab, biryani, lassi, butter chicken, chicken curry, veg kolhapurirolls, masala veg frankie, chicken frankieparatha, fish fryroti, chicken biryanimasala dosa, handi biryani, maddur vada, filter coffee, goli bajji, kesari bath, rava idlichaat, panipuri, lassi, aloo paratha, chai, gulab jamunburgers, belgian fries, pasta, salads, falafel pockets, greek sandwichidli, vada, coffee, masala dosa, masala pooricoffee, pav bhaji, masala dosa, vada sambarsea food, thali, red snapper, fish fry, neer dosasandwiches, sandwich, coffeethali, thepla, gulab jamun, masala lassi, rice, gujarati food, rotiakki rottis, neer dosafish curry, appam, tea, egg roast, sea foodburgers, zinger burgerchai, lemon tea, ginger tea, rollsfalafel, shawarma, chicken shawarama, salad, whole wheat pita, middle eastern food, pizzamasala dosa, idlipav bhaji, dahipuri, chaat, paratha, noodleslassi, chai, parathatea, chole, khichda, butter paneer, paneer bhurji, paratha, masala chaidahi vada, masala dosa, coffee, chaat, rotichicken grill, rumali roti, rollsrolls, veggie roll, chicken tikka roll, beda rotiraita, vegetable biryani, biryani combosalads, sandwiches, arugula salad, pasta, avocado sandwich, protein smoothie, spaghettiwaffles, pie, corn dogburgers, cheesy pizza, chips, fries, rice bowl, white sauce pasta, chicken wingssandwiches, tea, masala chai, pasta, maggi, sandwich, chicken burgerwaffles, pie, corn dogpizza, chicken pocket, garlic breaddal frychai, maggi, english breakfastburgers, tandoori grill burger, mango shake, cheesy fries, whopper burger, chicken keema burger, chicken crisp burgerbiryanirolls, chicken grillchicken biryani, lemon chicken rollpepper chicken, chicken biryani, mutton biryanitawa pulav, faluda, pav bhaji, ice cream sundae, brownie, hot chocolate fudge, fruit saladrolls, french fries, chicken momo, roti, pulpy grape juice, mutton keema, chicken kebabburgers, chocolate momos, noodles, cheese momosburgers, salad, mocktails, pasta arrabiata, fries, nutella cheesecake, teriyaki chicken wingsburgers, fries, peri peri chicken, nachos, wings, rolls, tandoori burgerbutter chicken, parathaburgers, wedges, mcspicy chicken burger, french fries, mc chickenburgers, crispy chicken, chicken zinger burger, french fries, chicken fries, hot wingsburgers, coffee, chocolate donut, bagel, chocolate drink, dunkaccinos, hot chocolatemomos, noodles, chop sueydum biryanishawarma, burgers, beef burger, potato wedges, vegetable noodles, cheese fatayer, garlic frieshariyali chicken, rice kheer, chicken kebab, chicken biryani, firewood biryani, mutton biryani, badam phirnilassi, amritsari kulcha, choletea, filter coffee, pongal, masala dosarolls, shawarma, beef roll, chicken shawarama, beef shwarma, haleem, chicken rollfilter coffee, samosa, tea, hot coffeecoffee, roti, vada pavpizza, pasta, burgers, lasagne, masala garlic breadsandwiches, chicken sandwich, oreo shake, irish coffee creamrasgulla, luchi, samosa, radhaballavi, rasmalai, kheer kadam, chamchamparatha, paneer pakora, chole bhature, rajma chawal, chaach, lassi, buttermilkrolls, whole meat shawarmabanana cake, samosa, poha, maggi, masala chai, sandwiches, ginger lemon tearolls, biryani, butter chicken, chicken manchurian rolldonne biryani, mutton biryanilassi, shahi paneer, kheer, paneer bhurji, methi paratha, paneer parantha, stuffed parathacoffee, paratha, chaat, masala dosa, dahipuri, pav bhaji, teamomos, shawarma, chicken shawaramabeef biryani, chicken biryani, chicken kebab, mutton biryani, beef kabab, paratha, ghee ricesandwiches, fruit bowl, panipuri, corn sandwich, palak paneer, arabian grape juice, cheesy grilled sandwichburgers, biryani, cheesecakenachos, california burrito, rice bowl, saladsveg momos, honey chilli potatoesrolls, momos, paneer roll, veggie rollmutton biryani, chilli chicken, pepper chicken, chicken fry, donne chicken biryani, chicken guntur, chicken kebabgobhi pakoda, bajji, raita, ginger tea, jalapeno cheese poppers, mojito, chaitandoori chicken, butter chicken, garlic naangarlic naan, tandoori chicken, basmati ricesamosa, teaparatha, samosa, vada pavrolls, mutton seekh roll, malai tikka, chicken tikka roll, mutton baida roti, reshmi tikka roll, beda rotimutton chops, mutton fry, brain fry, mutton masala, mutton curry, donne biryani, chicken curryvada, idli, kharabath, noodles, filter coffeefilter coffee, mini idlisfilter coffee, kesari bath, curd rice, idli vada, crispy masala dosa, masala tea, thick coconut chutneydal makhanichilli chickendonne chicken biryani, akki rottis, roti, mutton chops, chicken curry, vada, coffeerolls, chicken tikka roll, cheese rollcoffee, pasta, sandwiches, sunday breakfast, apple pie, hot chocolate, chicken quichecoffee, idli, masala dosa, burgersvada, masala dosa, filter coffeerice, hyderabadi biryani, crab masala, mutton, chilli chickenburgers, sandwiches, momos, chicken seekh roll, sandwichmasala dosa, coffeemasala dosa, panneer butter masala, thalichaat, panipuri, chole bhature, rasmalai, chhole bhature, sev puri, samosaparatha, momos, lassi, sandwiches, burgers, nachos, potato wedgesbiryaniburgers, salad, mocktails, pasta arrabiata, fries, nutella cheesecake, teriyaki chicken wingsirish coffee, gelato ice cream, italian icecream, chocolate cakecocktails, pizza, murgh platter, draught beer, chicken wings, veg platter, friessandwiches, chicken sandwich, oreo shake, irish coffee creamburgers, coffee, chocolate donut, bagel, chocolate drink, dunkaccinos, hot chocolategulab jamun, chaat, jalebi, samosa, chole, sev puri, rasgullairish coffee, gelato ice cream, italian icecream, chocolate cakeplum cakesandwiches, rose faluda, pizza, custard apple cream, pav bhajibadam milk, chaat, rasmalai, mysore pak, samosa, paneer cutlets, kachoriburgers, sandwiches, momos, chicken seekh roll, sandwichwaffles, pie, corn dogchaat, sandwiches, rasmalaicoffee, veg puff, latteparatha, samosa, vada pavplum cake, burgers, sandwiches, donut, mutton samosa, sponge cake, baked breadbiryanimomos, noodles, chop sueymutton cutlets, filter coffee, masala dosa, omelette, vada, scrambled eggs, hot coffeeshawarma, burgers, beef burger, potato wedges, vegetable noodles, cheese fatayer, garlic friesparatha, momos, lassi, sandwiches, burgers, nachos, potato wedgesdonne biryani, mutton biryanimasala dosa, filter coffeerolls, chicken tikka roll, cheese rollrasgulla, luchi, samosa, radhaballavi, rasmalai, kheer kadam, chamchamfilter coffee, rava idli, rava masala dosa, vada, raagi dosa, podi dosa, badam halwacocktails, pizza, murgh platter, draught beer, chicken wings, veg platter, friesbiryanisalads, sandwiches, arugula salad, pasta, avocado sandwich, protein smoothie, spaghettimasala dosa, panneer butter masala, thalinoodles, thukpa, beef momos, chowmein, veg momos, cheese momosbanana cake, ginger tea, masala chai, samosa, ginger chai, poha, egg puffgarlic naan, tandoori chicken, basmati ricechole, tea, filter coffee, vada, upma, butter masala dosa, idliburgers, coffee, chocolate donut, bagel, chocolate drink, dunkaccinos, hot chocolatebeef biryani, chicken biryani, chicken kebab, mutton biryani, beef kabab, paratha, ghee ricegulab jamun, chaat, jalebi, samosa, chole, sev puri, rasgullarolls, beef kabab, seekh kebab, seekh rolllassi, amritsari kulcha, choleburgers, salad, mocktails, pasta arrabiata, fries, nutella cheesecake, teriyaki chicken wingsmasala dosa, idli, kali dosa, ghee khali dosa, tomato rice, set dosa, ghee ricesandwiches, fruit bowl, panipuri, corn sandwich, palak paneer, arabian grape juice, cheesy grilled sandwichchicken curry, biryani, chilli chicken, fry prawns, chicken kebabburgers, fries, peri peri chicken, nachos, wings, rolls, tandoori burgercoffee, roti, vada pavakki rottis, rumali roti, masala dosa, vada, raagi roti, rava idli, coffeeburgers, ginger chicken, virgin mojito, popcorn, rice bowlpizza, garlic breadrolls, shawarma, beef roll, chicken shawarama, beef shwarma, haleem, chicken rollburgers, biryani, cheesecakefilter coffee, idliplum cakechilli chickenparatha, paneer pakora, chole bhature, rajma chawal, chaach, lassi, buttermilkvada, idli, kharabath, noodles, filter coffeesandwiches, rose faluda, pizza, custard apple cream, pav bhajidonne chicken biryani, akki rottis, roti, mutton chops, chicken curry, vada, coffeehariyali chicken, rice kheer, chicken kebab, chicken biryani, firewood biryani, mutton biryani, badam phirnipav bhaji, panipuri, chaatburgers, sandwiches, momos, chicken seekh roll, sandwichsea food, fish fry, fish curry, fish kebab, buttermilk, fry prawns, ragi muddethukpa, vegetable noodles, steam chicken momos, chowmein, chicken shaptra, chicken manchurian, dumplingsburgers, french fries, maharaja chicken burger, mc flurrymasala dosa, filter coffee, vada, akki rottis, rava dosaburgers, chicken tandoori grill burger, cheesy chicken fries, chicken whopper, whopper burger, tandoor chicken burger, mutton whoppersalad, salads, sandwichesrolls, beda roti, afghan chicken, reshmi kebab, chicken tikka rollmutton biryani, chilli chicken, pepper chicken, chicken fry, donne chicken biryani, chicken guntur, chicken kebabfilter coffee, kesari bath, curd rice, idli vada, crispy masala dosa, masala tea, thick coconut chutneyrolls, veggie wrap, chicken wrap, paneer wrap, chole, dal makhani, jal-jeeragobhi pakoda, bajji, raita, ginger tea, jalapeno cheese poppers, mojito, chaitandoori chicken, butter chicken, garlic naanpav bhaji, chaat, masala poori, panipuri, dahipuri, sev puri, sandwichessamosa, teadal makhaniplum cake, burgers, sandwiches, donut, mutton samosa, sponge cake, baked breadbiryani, buttermilk, mutton curry, thali, mutton frymasala dosa, khali dosa, kali dosa, gini dosa, idli, potato masala, coffeesandwiches, tea, masala chai, pasta, maggi, sandwich, chicken burgerrolls, biryani, butter chicken, chicken manchurian rollvadanachos, california burrito, rice bowl, saladsveg momos, honey chilli potatoescoffee, paratha, chaat, masala dosa, dahipuri, pav bhaji, tearolls, fries, egg rollnachos, pasta del barone, cheesy garlic bread, thin crust pizza, oreo milkshake, tortilla chips, manali pizzacoffee, pasta, sandwiches, sunday breakfast, apple pie, hot chocolate, chicken quichecocktails, pizza, murgh platter, draught beer, chicken wings, veg platter, friescocktails, pizza, murgh platter, draught beer, chicken wings, veg platter, friesburgers, chicken bbq burger, mojito, french fries, hot dog, lamb burger, paneer burgerpizza, waffles, pasta, sandwiches, garlic bread, chicken grill, cheese sandwichchicken grill, salad, ghee riceburgersparatha, biryanitandoori roti, soya chaapparatha, chicken butter masala, chicken parantha, palak paneer, hariyali chicken, thalibutter chicken, rumali roti, ghee rice, chicken biryani, panneer butter masala, sweet lassi, lemon chickenburgers, chicken burger, chips, veg burgerburgers, chocolate shake, chicken fries, veg whopper, chicken whopper, veg burger, grilled chicken burgerhyderabadi biryani, chicken biryani, vegetable biryaniegg dosaparatha, samosa, paneer parantha, salad, sweet lassi, dal makhani, raitamatar paneerchicken biryani, hyderabadi biryaniburgers, fries, potato krisper, chicken bucket, chicken popcorn, hot wings, rice bowlfish thali, chicken curry, chicken biryani, aalo bhajavada, filter coffeechicken grill, shawarma, coconut juicechicken biryani, wingsfish, egg tadka, kachori, luchinaan, shawarma, chicken grill, noodlespizzapasta, potato wedges, ice tea, thin crust pizza, supreme pizza, farm pizzachole bhature, veg thalinoodlesegg noodles, lamb chops, hyderabadi chicken dum biryani, gajar ka halwa, al faham chicken, fried ricemasala vada pavchicken grill, cheese balls, vegetable noodlesbadam milk, masala dosa, filter coffee, pav bhaji, noodles, idli, chole bhaturerolls, paratha, panneer butter masalapanipuri, chaat, gol gappe, thali, rasgulla, dhokla, raj kachoripizza, wafflessandwiches, chaat, rasmalai, pizza, ginger tea, sandwich, parathasamosa chat, tea, aloo samosa, chai, ginger paneer, burger samosa, chicken kebablassi, vada pav, chole bhature, thalitea, masala poha, chicken roll, pastapizza dosa, chicken kheema dosa, keema dosa, masala dosadal fryparatha, chicken curry, biryanipizza, waffles, pasta, sandwiches, garlic bread, chicken grill, cheese sandwichdonut, brownie, hot chocolate, sandwichesburgers, chicken bbq burger, mojito, french fries, hot dog, lamb burger, paneer burgerchicken burger, corn sandwich, french fries, veg burgerprompt servicepot biryani, paneer biryani, tandoori chicken, chicken chettinad, egg biryani, chicken dum biryani, kulchapizza, sandwiches, burgers, chaat, panipurigarlic bread, thin crust pizza, pizza burgermasala dosa, chaat, vada, sandwiches, filter coffeechaat, rasmalai, samosa, pav bhaji, raj kachorichicken boneless biryani, chicken kebab, nati biryanivegetable biryani, chicken wings, chicken biryanichaat, paratha, thali, panipuri, pav bhaji, gajar ka halwa, veg cutletpizza, wafflespizza, waffles, pasta, sandwiches, garlic bread, chicken grill, cheese sandwichdonut, brownie, hot chocolate, sandwichesswiss rollbiryani, andhra meal, chicken curryegg noodles, lamb chops, hyderabadi chicken dum biryani, gajar ka halwa, al faham chicken, fried ricemasala dosa, chaat, vada, sandwiches, filter coffeechole bhature, veg thalipizza dosa, chicken kheema dosa, keema dosa, masala dosarajasthani thali, paratha, gulab jamun, paneer tikka masala, sweet lassi, buttermilk, gatte ki subziburgers, chicken bbq burger, mojito, french fries, hot dog, lamb burger, paneer burgerchicken biryani, wingsbadam milk, masala dosa, filter coffee, pav bhaji, noodles, idli, chole bhatureegg dosaparatha, lassi, chai, dal bati churma thali, chole bhatureparatha, biryanichaat, paratha, thali, panipuri, pav bhaji, gajar ka halwa, veg cutletpizza, wafflesrolls, chocolate fantasy, chicken rice, chocolava, paneer wrap, kheer, veggie wraphot wingstea, masala poha, chicken roll, pastaburgers, rice bowlsandwiches, chaat, rasmalai, pizza, ginger tea, sandwich, parathatea, vada, fruit juices, filter coffeelassi, vada pav, chole bhature, thalinaan, shawarma, chicken grill, noodlesfish, egg tadka, kachori, luchinoodles, rolls, magginoodlessamosa chat, tea, aloo samosa, chai, ginger paneer, burger samosa, chicken kebabpizza, waffles, pasta, sandwiches, garlic bread, chicken grill, cheese sandwichfish thali, chicken curry, chicken biryani, aalo bhajapizza, sandwiches, burgers, chaat, panipuritandoori roti, soya chaapparatha, chicken butter masala, chicken parantha, palak paneer, hariyali chicken, thaliparatha, chicken curry, biryaniburgers, chocolate shake, chicken fries, veg whopper, chicken whopper, veg burger, grilled chicken burgerchicken grill, shawarma, coconut juicepot biryani, paneer biryani, tandoori chicken, chicken chettinad, egg biryani, chicken dum biryani, kulchagarlic bread, pastaprompt servicerolls, paratha, panneer butter masalachaat, rasmalai, samosa, pav bhaji, raj kachorichicken boneless biryani, chicken kebab, nati biryanivegetable biryani, chicken wings, chicken biryanichicken grill, salad, ghee ricechicken grill, cheese balls, vegetable noodlesdal fryparatha, chole bhatureparatha, samosa, paneer parantha, salad, sweet lassi, dal makhani, raitamatar paneerbaklava, chocolate mousse, fruit custard, cup cake, fruit tart, brownie, blueberry mousseburgers, fries, peri peri chicken, nachos, wings, rolls, tandoori burgerburgers, tandoori grill burger, mango shake, cheesy fries, whopper burger, chicken keema burger, chicken crisp burgerpepper chicken, chicken biryani, mutton biryanifries, malgoum shawarmarolls, jumbo chicken roll, falafel roll, chicken kudu roll, shawarma, mutton roll, spicy rollrolls, biryani, butter chicken, chicken manchurian rolldal fryrolls, beda roti, veggie roll, chicken seekh roll, chicken kalimirch, kathi roll, mutton kebab rolldeluxe thali, chole bhaturerolls, fries, egg rollrolls, chicken grillburgers, coffee, chocolate donut, bagel, chocolate drink, dunkaccinos, hot chocolateburgers, crispy chicken, chicken zinger burger, french fries, chicken fries, hot wingstacos, nachos, tikka masala burrito, chicken quesadilla, salsa, mexican fries, paneer tacoburgers, beef burger, cheesy fries, peri peri chicken burger, beef patty, oreo shake, steak burgerlassi, amritsari kulcha, cholebadam milk, kulfi, rasmalai, rasgullacoffee, roti, vada pavsandwiches, tea, masala chai, pasta, maggi, sandwich, chicken burgerchicken biryani, lemon chicken rollfish curry, appam, paratha, sea food, beef biryani, beef curry, beef frypepperoni, cheesy pizzabiryanichicken momo, chilli pork, chicken thukpa, noodles, manchow soup, pork momo, veg momosburgers, sandwiches, pizza, beef burger, chicken bbq burger, french fries, barbecue chicken burgerfrench fries, chicken roll, sandwich, falafel roll, charcoal shawarma, chicken fries, brosted chickengarlic bread, nachos, pasta, thin crust pizza, manali pizza, hawaian pizzasalad, salads, sandwichesrolls, mutton seekh, chicken rollwaffles, pie, corn dogmutton chops, mutton fry, brain fry, mutton masala, mutton curry, donne biryani, chicken currypizza, pasta, burgers, lasagne, masala garlic breadburgerschicken biryani, chicken samosa, hyderabadi biryani, kheer, mutton biryaniburgers, chocolate momos, noodles, cheese momosburgers, hot wings, friesteavada, masala dosa, filter coffeepork thali, chicken curry, prawn curry, momos, pork fry, smoked pork, saladcoffee, roti, masala dosarolls, chicken tikka roll, cheese rollburgers, mojito, sea food, hot dog, french fries, crab burger, peri friesmomos, shawarma, chicken shawaramamomos, thukpa, butter teasandwiches, rose faluda, pizza, custard apple cream, pav bhajidal makhaninoodles, chicken lollipoppizzaburgers, mc spicy chicken, chicken burger, maharaja macdabeli, vada pav, dhokla, farsan, samosa, jalebichaat, panipuri, chole bhature, rasmalai, chhole bhature, sev puri, samosavada, idli, kharabath, noodles, filter coffeeparatha, momos, pasta, lassi, sandwiches, burgers, nachoschai, maggi, english breakfastmasala dosa, coffeedonne biryani, mutton biryanibanana cake, samosa, poha, maggi, masala chai, sandwiches, ginger lemon teachole, tea, filter coffee, vada, upma, butter masala dosa, idliburgers, salad, mocktails, pasta arrabiata, fries, nutella cheesecake, teriyaki chicken wingsmasala dosa, panneer butter masala, thalibiryani, chicken tikkacoffee, idli, masala dosa, burgersirish coffee, gelato ice cream, italian icecream, chocolate cakekesari bath, vada, filter coffeecocktails, pizza, murgh platter, draught beer, chicken wings, veg platter, frieschilli chickenbaklava, chocolate mousse, fruit custard, cup cake, fruit tart, brownie, blueberry mousseveg momos, honey chilli potatoesfried cheese, french fries, maggi, thick shakes, chilli cheese fries, teaburgers, sandwiches, momos, chicken seekh roll, sandwichfilter coffee, mini idlisrasgulla, luchi, samosa, radhaballavi, rasmalai, kheer kadam, chamchamlassi, shahi paneer, kheer, paneer bhurji, methi paratha, paneer parantha, stuffed parathaparatha, paneer pakora, chole bhature, rajma chawal, chaach, lassi, buttermilkfilter coffee, kesari bath, curd rice, idli vada, crispy masala dosa, masala tea, thick coconut chutneydonne biryani, chilli chicken, chicken guntur, mutton biryani, chicken biryani, mutton thalicoffee, pasta, sandwiches, sunday breakfast, apple pie, hot chocolate, chicken quicherice, hyderabadi biryani, crab masala, mutton, chilli chickennachos, california burrito, rice bowl, saladsrolls, momos, paneer roll, veggie rollgobhi pakoda, bajji, raita, ginger tea, jalapeno cheese poppers, mojito, chaiparatha, samosa, vada pavshawarma, falafel pita, veg bonanza pizza, cheese manakeesh, arabic cuisine, cheese steak pizzaplum cake, burgers, sandwiches, donut, mutton samosa, sponge cake, baked breadmasala dosa, filter coffeebaklava, chocolate mousse, fruit custard, cup cake, fruit tart, brownie, blueberry moussemalai kulfi, kulfi faluda, panipuri, anjeer kulfi, chaat, matka kulfi, mango kulficoffee, pasta, sandwiches, sunday breakfast, apple pie, hot chocolate, chicken quichegulab jamun, chaat, jalebi, samosa, chole, sev puri, rasgullasandwiches, rose faluda, pizza, custard apple cream, pav bhajiparatha, samosa, vada pavpizza, pasta, burgers, lasagne, masala garlic breadplum cake, burgers, sandwiches, donut, mutton samosa, sponge cake, baked breadlassi, shahi paneer, kheer, paneer bhurji, methi paratha, paneer parantha, stuffed parathabiryani, chicken tikkasandwiches, tea, masala chai, pasta, maggi, sandwich, chicken burgerrolls, biryani, butter chicken, chicken manchurian rollrolls, mutton seekh, chicken rollpizzamasala dosa, filter coffeebaklava, chocolate mousse, fruit custard, cup cake, fruit tart, brownie, blueberry mousseveg momos, honey chilli potatoeszinger burger, burgers, popcorn chickencoffee, idli, masala dosa, burgersrolls, fries, egg rollrolls, veggie wrap, chicken wrap, kheercoffee, pasta, sandwiches, sunday breakfast, apple pie, hot chocolate, chicken quichesandwich, saladgulab jamun, chaat, jalebi, samosa, chole, sev puri, rasgullafilter coffee, idliburgers, chicken tandoori grill burger, cheesy chicken fries, chicken whopper, whopper burger, tandoor chicken burger, mutton whoppersandwiches, rose faluda, pizza, custard apple cream, pav bhajipav bhaji, panipuri, chaatburgers, peri peri friesgobhi pakoda, bajji, raita, ginger tea, jalapeno cheese poppers, mojito, chaipav bhaji, chaat, masala poori, panipuri, dahipuri, sev puri, sandwicheslassi, amritsari kulcha, cholebiryani, buttermilk, mutton curry, thali, mutton frycoffee, roti, vada pavnachos, california burrito, rice bowl, saladsrolls, momos, paneer roll, veggie rollbanana cake, samosa, poha, maggi, masala chai, sandwiches, ginger lemon teadal makhanimasala dosa, coffeeburgers, chai, paratha, sandwich, ginger tea, chaat, oreo shakepizza, dragon chicken, butter chicken, noodles, chicken wings, chicken noodleburgers, cheesy pizza, chips, fries, rice bowl, white sauce pasta, chicken wingshyderabadi biryani, ginger chickenginger tea, poha, banana cake, lemon chai, samosa, masala tea, ginger chairaita, vegetable biryani, biryani combocoffee, peri peri fries, hot chocolate, scrambled eggs, donut, grilled chicken wrap, ice teajeera rice, corn paratha, paneer bhurji, gobhi matar, vegetarian, sweet lassi, dal frystuffed garlic breadmutton biryani, chicken kebab, donne biryanirice bowl, california burrito, mexican samosavada, masala dosa, kharabath, filter coffee, kesari bath, idli sambarburgers, wings, whopper burger, cheesy fries, italian friesfries, white sauce pasta, monster pizza, cheesy garlic bread, cheesy pizza, margherita pizzachicken burger, rolls, tea, fries, kathi roll, sandwich, mango juicevada, masala dosa, coffeeidli, plain dosa, neer dosa, masala dosa, thali, uddin vadarolls, momos, masala fries, chicken tikka roll, parathaburgers, strawberry shake, fries, pancakes, chicken salad, lambbingsu, mocktails, custard, chocolate oreo, sandwiches, brownie, korean ice creampizza, risotto, aglio olio pasta, pasta barbarescacoffee, vada, rava masala dosa, upmachicken biryanipoha, samosa, jalebi, kachorimango kulfi, kulcha, chole, rice, tandoori chicken, shahi tukda, paneer wrapbiryani, ricechicken biryani, ambur biryani, kothu paratha, onion raita, fish frytandoori chicken, chicken boneless biryani, hyderabadi biryani, lemon chicken, mutton biryani, raitasalads, chicken ceaser salad, sandwiches, burrito bowl, shawarma, sandwichburgers, crispy chicken, fiery chicken, chicken wings, chicken grill, rice bowl, hot wingspanneer butter masala, butter chicken, kadhai paneer, egg biryani, paratha, noodles, chilli paneermasala dosa, pongal, filter coffee, tea, idlifries, whole meat shawarma, rollsrotitandoori chai, tea, paratha, samosa chaat, onion pakoda, raj kachorikachori, tea, badam milk, lassi, chaat, paratha, rabritea, biryanichicken biryani, thali, rolls, ambur biryani, palak paneer, salad, bhatti ka murghfish, parathathali, mutton handibiryani, fish curryrava idli, filter coffee, tea, vada, paper masala dosa, donne biryanibenne dosabhindi fry, aloo fry, sweet lassi, paratha, tawa roti, palak paneer, butter chickenparatha, rajma chawalburgersmushroom masala, thali, aloo paratha, roti, samosa, panneer butter masalalassi, punjabi chicken, paratha, kadhai murgh, butter naan, lemon chicken, rotichicken drumsticks, wood fire pizza, thin crust pizza, barbeque chicken, lime soda, veggie pizza, bbq chickenmutton kosha, kosha mangshorolls, parathathalipasta, burgers, sandwicheschicken noodle, noodles, paneer lababdar, parathapizza, bannoffee pie, mocktails, pasta alfredo, burgers, nachos, veg burgerexotic garlic bread, spicy falafel, burgers, pasta, pita pocket, pita pizza, veggie pizzachicken curry, red rice, fish currychicken biryani, hyderabadi dum biryani, raitamomos, rice noodles, kung pao chicken, noodle, rice bowl, thai green curry, chicken dim sumtomato basil soup, mushroom soup, veg supreme pizza, masala lemonade, creamy mushroom pasta, garlic bread stickpizza, chicken biryanicoffee, dahi vada, chaatmasala dosa, biryani, chicken stew, tea, appam, parathapav bhaji, dabeli, paratha, raj kachori, vada pavambur biryani, mutton biryani, raitalassi, jeera rice, sattu parathamasala vada pav, kulfilassi, thali, paratha, rajma, malai kofta, buttermilk, phulke ghar kechaat, chole bhature, pav bhaji, gulab jamun, bhel puri, paneer pakoralassi, dal makhani, ajwaini paratha, mushroom masala, roti, shahi tukda, shahi paneerchai, vada pav, pizzapita bread, rolls, shawarma roll, lebanese shawarma, chicken grill, barbeque chickenchole, lassi, parathaghee riceidli, coffee, vadaspicy chickenlassi, liti chokha, chicken keema paratha, buttermilk, raita, aloo paratha, chocolate paratharolls, beda roti, chicken baida roti, chicken tikka roll, aloo tikka roll, mushroom rollmasala dosa, vada, tea, coffee, idliburgers, chai, paratha, sandwich, ginger tea, chaat, oreo shakepaneer tikka, dal bati, gulab jamun, thali, tandoori mushrooms, chole, chinese bhelcup cakepizza, rolls, burgerssandwiches, fries, sandwich, pizza, thick shakes, garlic breadsandwiches, chicken tikka sandwichpoha, bread omelette, ginger chai, ginger teachai, ginger tea, maggi, aloo paratha, samosa, coffee, sandwichmomos, rolls, paratha, chaapchaat, burgers, cheese maggi, tea, chocolate shake, lassi, cheese vada pavchaat, vada pav, fafda, sandwiches, kutchi dabeli, sev purisaag, veg thalipaneer tikka, tandoori momos, soya chaap, afghani chaappasta, pizza, garlic breadburgersparatha, puri sabzi, tea, cholechicken grill, shawarma roll, biryani, pulpy grape juice, paratha, chicken shawarama, chicken tikkavada, idli, masala dosa, filter coffee, tea, sandwichesrolls, chicken shawarama, chicken shwarma roll, abbabi chicken, shawarma rollchicken biryani, dum biryani, vegetable biryani, mutton biryanisandwiches, maggi, rolls, chole bhature, ginger tea, paratha, rava masala dosarajma, fried rice, lassi, butter phulkas, bhindi fry, thali, butter chickentikki, chicken tikka, chicken biryani, thali, shammi kebab roll, rumali roti, niharichicken grill, butter chicken, shawarma, chicken shwarma roll, chicken lollipop, rumali roti, rollsprompt serviceparathathalassery biryani, chicken fry, chicken biryanipizza, hyderabadi chicken biryani, chicken tikka biryanicoffee, vada, chaat, rava idliappam, chicken curry, passion fruit juice, crepeburgers, nachos, oreo shake, veg sandwich, veg burgerwaffles, pasta alfredochaat, raj kachori, bhel puri, sev puri, pav bhaji, panipuri, vada pavsabudana vada, masala dosa, filter coffee, pesarattu upma, podi idli, mirchi bajji, pongalburgers, waffles, fries, peri peri chicken wings, jumbo royale burger, chicken doner, saladthali, coffee, buttermilk, tea, methi paratha, sweet lassi, aamrasbaklava, falafel roll, falafel plate, pita bread, mint lemonade, pita pocket, pomegranate juicepaneer biryani, naanliti chokha, chilli chicken, chicken litti, paratha, lassi, pan fried momos, egg currytea, coffee, sabudana khichdi, samosa, sandwiches, onion pakoda, khichdarasmalai, kheer kadamwaffles, pasta alfredopanipuri, jalebi rabri, momos, papdi chaat, dhokla, paratha, aloo tikki chatpanipuri, paratha, badam milk, chaat, chole bhature, raj kachori, rasmalaicup cakechaat, panipuri, badam milk, aloo tikki chatrasmalai, kheer kadamliti chokha, chilli chicken, chicken litti, paratha, lassi, pan fried momos, egg curryburgers, chai, paratha, sandwich, ginger tea, chaat, oreo shakethali, coffee, buttermilk, tea, methi paratha, sweet lassi, aamraspizza, bannoffee pie, mocktails, pasta alfredo, burgers, nachos, veg burgerburgers, waffles, fries, peri peri chicken wings, jumbo royale burger, chicken doner, saladpizza, hyderabadi chicken biryani, chicken tikka biryanimutton biryani, chicken kebab, donne biryanichaat, chole bhature, pav bhaji, gulab jamun, bhel puri, paneer pakoraburgers, nachos, oreo shake, veg sandwich, veg burgerburgers, crispy chicken, fiery chicken, chicken wings, chicken grill, rice bowl, hot wingslassi, dal makhani, ajwaini paratha, mushroom masala, roti, shahi tukda, shahi paneeridli sambar, bisi bele bhaath, podi masala dosa, tea, filter coffee, curd rice, vadapaneer biryani, naanrava idli, filter coffee, tea, vada, paper masala dosa, donne biryanitandoori chai, tea, paratha, samosa chaat, onion pakoda, raj kachoririce bowl, california burrito, mexican samosarolls, veggie wrap, panneer butter masala, veggie roll, chicken wrap, paneer roll, chicken rollchicken biryani, hyderabadi dum biryani, raitawaffles, pasta alfredomushroom masala, thali, aloo paratha, roti, samosa, panneer butter masalathali, mutton handiburgerschicken grill, grape juice, tandoori chicken, shawarma roll, wings, rolls, chicken curryghee ricepanneer butter masala, butter chicken, kadhai paneer, egg biryani, paratha, noodles, chilli paneerbenne dosapanipuri, jalebi rabri, momos, papdi chaat, dhokla, paratha, aloo tikki chattandoori chicken, chicken boneless biryani, hyderabadi biryani, lemon chicken, mutton biryani, raitabiryani, fish currycoffee, peri peri fries, hot chocolate, scrambled eggs, donut, grilled chicken wrap, ice teaburgers, strawberry shake, fries, pancakes, chicken salad, lambprompt servicerice, donne biryani, mutton biryani, chicken kebab, chilli chicken, chicken biryani, kshatriya kebabcoffee, vada, chaat, rava idlipizza, garlic bread, pasta, chocolava cake, chicken fiestacoffee, dahi vada, chaatpanipuri, paratha, badam milk, chaat, chole bhature, raj kachori, rasmalaichicken biryani, ambur biryani, kothu paratha, onion raita, fish fryexotic garlic bread, spicy falafel, burgers, pasta, pita pocket, pita pizza, veggie pizzapita bread, rolls, shawarma roll, lebanese shawarma, chicken grill, barbeque chickenfish, parathamutton kosha, kosha mangshopaneer tikka, tandoori momos, soya chaap, afghani chaapchicken burger, rolls, tea, fries, kathi roll, sandwich, mango juicesandwiches, fries, sandwich, pizza, thick shakes, garlic breadvada, idli, masala dosa, filter coffee, tea, sandwichesveg salad, sandwichchai, keema fries, sandwiches, chicken keema, rajma chawal, ginger tea, momosspicy chickenmomos, rolls, paratha, chaapmasala dosa, pongal, filter coffee, tea, idlisattu paratha, rajma, masala papad, onion paratha, aloo parathakachori, tea, badam milk, lassi, chaat, paratha, rabrisabudana vada, masala dosa, filter coffee, pesarattu upma, podi idli, mirchi bajji, pongalchicken biryani, dum biryani, vegetable biryani, mutton biryaniidli, plain dosa, neer dosa, masala dosa, thali, uddin vadaparathaparatha, puri sabzi, tea, cholerotitomato basil soup, mushroom soup, veg supreme pizza, masala lemonade, creamy mushroom pasta, garlic bread stickchaat, vada pav, fafda, sandwiches, kutchi dabeli, sev purirolls, momos, masala fries, chicken tikka roll, parathapizza, risotto, aglio olio pasta, pasta barbarescacoffee, vada, rava masala dosa, upmavada, masala dosa, coffeepizza, rolls, burgerssandwiches, maggi, rolls, chole bhature, ginger tea, paratha, rava masala dosachaat, burgers, cheese maggi, tea, chocolate shake, lassi, cheese vada pavpizza, chicken biryanilassi, liti chokha, chicken keema paratha, buttermilk, raita, aloo paratha, chocolate parathachicken biryanicharcoal chicken, shawarma, biryani, pulpy grape juice, veg fried rice, fish, mutton seekhmango kulfi, kulcha, chole, rice, tandoori chicken, shahi tukda, paneer wrapbiryani, ricechicken drumsticks, wood fire pizza, thin crust pizza, barbeque chicken, lime soda, veggie pizza, bbq chickenidli, coffee, vadasalads, chicken ceaser salad, sandwiches, burrito bowl, shawarma, sandwichchaat, raj kachori, bhel puri, sev puri, pav bhaji, panipuri, vada pavlassi, punjabi chicken, paratha, kadhai murgh, butter naan, lemon chicken, rotichicken biryani, thali, rolls, ambur biryani, palak paneer, salad, bhatti ka murghplain paratha, prawn, chicken biryani, chicken dak bunglow, chicken masala, roti, aloo postopav bhaji, dabeli, paratha, raj kachori, vada pavsaag, veg thalihyderabadi biryani, ginger chickenmasala dosa, biryani, chicken stew, tea, appam, parathajeera rice, corn paratha, paneer bhurji, gobhi matar, vegetarian, sweet lassi, dal frypie, thin crust pizza, cheesy pizza, pepperoni pizza, paneer pizzafilter coffee, masala dosachicken noodle, noodles, paneer lababdar, parathapoha, bread omelette, ginger chai, ginger tearaita, vegetable biryani, biryani comboburgers, mojito, sea food, hot dog, french fries, crab burger, peri friesburgers, steak, pancakes, beef burger, oreo thick shakes, chicken juicy burger, pastaidli vada, tea, masala dosa, filter coffee, pav bhaji, kesari bath, chaatchaat, dabeli, pav bhaji, sandwiches, farsan, sandwich, vada pavpepper chicken, chicken biryani, mutton biryanifish curry, roast chicken, kerala parotta, appam, mutton pepper fry, sea food, ghee riceburgers, tandoori grill burger, mango shake, cheesy fries, whopper burger, chicken keema burger, chicken crisp burgerparatha, soya chaap, lassi, tandoori chaap, malai chaap, biryani, gulab jamunkadhai paneer, parathadal frybutter chicken, parathaidli vada, filter coffee, masala dosa, curd ricebiryaniburgers, peri peri chicken, fries, jumbo royale burger, falafel roll, shawarma, chicken jumbo burgerrolls, chicken grillgulab jamun, chaat, paratha, vada pav, masala pav bhaji, buttermilk, aloo tikki chatroast beef, chicken curry, tea, pazham pori, fish fry, beef fry, puttu biryanikesari bath, vada, filter coffeechai, maggi, english breakfastdonne biryani, chicken biryani combo, pepper chicken, chicken fryrajma, tandoori roti, sweet lassi, tandoori chicken, naan, dal makhani, veg thalidal tadkaburgers, coffee, chocolate donut, bagel, chocolate drink, dunkaccinos, hot chocolateburgers, ginger chicken, hot wings, veg burger, french fries, rice bowlcoffee, roti, vada pavlassi, amritsari kulcha, cholerollsbadam milk, kulfi, rasmalai, rasgullaburgers, french fries, garlic bread, sandwiches, cheesy juicy burger, veg burgertacos, nachos, tikka masala burrito, chicken quesadilla, salsa, mexican fries, paneer tacosandwichsamosa, poha, chaat, chhole bhature, ginger tea, chole, aloo tikkimasala dosa, rava dosa, rava idli, filter coffee, vada, kesari bath, veg sandwichmutton chops, mutton fry, brain fry, mutton masala, mutton curry, donne biryani, chicken curryginger tea, maggi, ice tea, ginger chai, samosa, lemon tea, vada pavburgers, sandwiches, pizza, beef burger, chicken bbq burger, french fries, barbecue chicken burgerperi peri chicken, shawarma, biryani, rollssandwiches, sandwich, french fries, creme caramel, onion rings, potato frieschicken curry, fish, thali, rolls, rasgulla, chicken biryanipasta, supreme pizza, thin crust pizza, cheesy garlic breadburgers, fries, mcaloo tikki, vegetarian, mc spicy chicken, sandwichespizza, pasta, burgers, lasagne, masala garlic breadshawarma, rolls, chicken grill, kathi roll, paneer roll, chicken shawarama, egg rollpoha, bun maskas, ginger chai, sabudana khichdi, vada pav, samosa bun, sandwichessea food, fish, tomato masala, murgh ghee roast, neer dosa, ghee roast mutton, mutton sukhaburgers, steak, pancakes, beef burger, oreo thick shakes, chicken juicy burger, pastapizza, garlic breadthali, lassi, litti, pav bhaji, chole bhature, aloo paratharolls, paratha, double egg rollchicken grill, rolls, chicken roll, shawarma roll, rumali roti, paneer roll, tandoori chickenmomos, thukpa, butter teaburgers, mojito, sea food, hot dog, french fries, crab burger, peri friesrasmalai, gulab jamun, pav bhaji, chaat, sev puri, kaju katliparatha, gulab jamun, sweet lassi, paneer bhurji, chaach, paneer parantha, raitaparatha, panipuri, puri sabzi, rasgulla, rasmalai, pav bhaji, samosa chaatchaat, panipuri, chole bhature, rasmalai, chhole bhature, sev puri, samosapaneer biryani, vegetable biryani, parathaschezwan momos, noodlesdum biryanirolls, paratha, chicken chaap, kathi roll, chicken egg roll, mutton biryanisandwiches, maggi, ginger chai, samosa, ginger tea, kesar chai, masala chaimomos, thick shakes, peri peri fries, burgers, hot chocolate, sandwich, virgin mojitosandwiches, thick shakes, nutella shake, sandwich, coffee, choco almondrolls, beda roti, chicken malai roll, peri peri chicken, mutton baida roti, chicken beda, chicken baida rotiburgers, momos, sandwiches, chicken seekh roll, sandwichnoodles, paneer manchurian, chaat, paratha, paneer fried rice, babycorn manchurianfilter coffee, mini idlisburgers, raita, fries, chicken noodle, bbq burger, poha, sandwichesmasala dosa, panneer butter masala, thalisalads, pasta, sandwiches, momos, hakka noodles, veg salad, russian saladcocktails, pizza, murgh platter, draught beer, chicken wings, veg platter, friesburgers, fries, veg burger, wingstandoori chicken, aloo paratha, chicken curry, butter naan, paneer bhurjibiryani, murgh lababdar, thalifilter coffee, kesari bath, curd rice, idli vada, crispy masala dosa, masala tea, thick coconut chutneyfried cheese, french fries, maggi, thick shakes, chilli cheese fries, teaandhra meal, biryani, chicken curryegg noodles, biryanirolls, beda roti, veggie roll, chicken seekh roll, chicken kalimirch, kathi roll, mutton kebab rollmasala dosa, idli, tea, podi dosa, pongal, filter coffee, mini idlispalak chicken, mutton keema masala, sarson ka saag, mushroom masala, makkai roti, palak paneer, butter chickensweet lassi, thali, kadhai paneer, kadhi, aloo paratha, paneer bhurji, cholerolls, egg roll, chai, ginger tea, biryani, rasgulla, luchiseekh kebab, hyderabadi biryani, vegetable biryani, chicken biryani, raita, kheer, egg biryanimomos, shawarma, chicken shawaramadal makhaniwaffles, pie, corn dognoodles, chicken lollipoprolls, whole meat shawarmachicken grill, chicken shawarama, shawarma, tandoori chicken, rumali roti, rolls, egg biryaniparatha, panneer butter masala, dal tadka, shahi paneer, sweet lassi, dal makhani, biryanisandwiches, chicken sandwich, paneer sandwich, fruit juices, hot chocolate, oreo shake, watermelon juicebutter chickenrolls, momos, biryani, veggie roll, vada, parathalassi, shahi paneer, kheer, paneer bhurji, methi paratha, paneer parantha, stuffed parathaveg momoschole, veg thaliburgers, ricecoffee, vegetable biryani, masala chai, rotiginger tea, cheesy samosa, ginger chai, masala tea, indori poha, chocolate samosa, chicken samosabeef fry, kerala parotta, fish, roast beef, appam, crab toast, mackerel fryburgerscajun potato, pasta, panneer butter masala, sandwich, kulcha, raita, dal makhanirice, hyderabadi biryani, crab masala, mutton, chilli chickendonne biryani, chilli chicken, chicken guntur, mutton biryani, chicken biryani, mutton thalibiryanichaat, pav bhaji, kheer, jalebi, panipuri, tea, dahipuriambur biryanichaat, pav bhaji, panipuri, samosa, chole bhature, jalebi, parathapanneer butter masala, rolls, chicken roll, paneer roll, tandoori chicken, naan, egg bhurjirasmalai, gulab jamun, pav bhaji, chaat, sev puri, kaju katlisalads, pasta, sandwiches, momos, hakka noodles, veg salad, russian saladchaat, panipuri, chole bhature, rasmalai, chhole bhature, sev puri, samosacup cake, almond pie, chicken delight, apple pie, chicken quichebadam milk, kulfi, rasmalai, rasgullarasgulla, samosaparatha, panipuri, puri sabzi, rasgulla, rasmalai, pav bhaji, samosa chaatrasgulla, mishti doi, samosa, kheer kadam, veg cutlet, rasmalaitandoori chicken, aloo paratha, chicken curry, butter naan, paneer bhurjimasala dosa, filter coffee, lunch thali, rava idli, neer dosa, medu vada, teaburgers, fries, mcaloo tikki, vegetarian, mc spicy chicken, sandwichestea, tomato rice, filter coffee, idli, biryanizinger burger, crispy chicken, rice bowl, hot wings, pizza, chicken popcorn, virgin mojitoperi peri chicken, shawarma, biryani, rollsidli vada, tea, masala dosa, filter coffee, pav bhaji, kesari bath, chaattacos, nachos, tikka masala burrito, chicken quesadilla, salsa, mexican fries, paneer tacokesari bath, vada, filter coffeepane pizza, garlic bread, pepperoni pizza, chocolava cake, veggie pizza, cheese burst pizzaburgers, chicken bucket, rolls, chicken frieschaat, dabeli, pav bhaji, sandwiches, farsan, sandwich, vada pavchai, maggi, english breakfastburgers, tandoori grill burger, mango shake, cheesy fries, whopper burger, chicken keema burger, chicken crisp burgerdonne biryani, chilli chicken, chicken guntur, mutton biryani, chicken biryani, mutton thalisalads, pasta, sandwiches, momos, hakka noodles, veg salad, russian saladrolls, egg roll, chai, ginger tea, biryani, rasgulla, luchiburgers, chocolate mousse, peri peri wings, peri peri fries, wedges, peri peri chicken salad, saladsburgers, mojito, sea food, hot dog, french fries, crab burger, peri friesburgers, steak, pancakes, beef burger, oreo thick shakes, chicken juicy burger, pastakadhai paneer, parathacoffeerolls, beda roti, veggie roll, chicken seekh roll, chicken kalimirch, kathi roll, mutton kebab rollbeef fry, kerala parotta, fish, roast beef, appam, crab toast, mackerel fryburgers, french fries, garlic bread, sandwiches, cheesy juicy burger, veg burgeridli, filter coffee, vada curry, podi dosa, sweet pongalmomos, thukpa, butter teaparatha, panneer butter masala, dal tadka, shahi paneer, sweet lassi, dal makhani, biryanimomos, thick shakes, peri peri fries, burgers, hot chocolate, sandwich, virgin mojitovada, masala dosa, filter coffeedonne biryani, chicken biryani combo, pepper chicken, chicken fryandhra meal, biryani, chicken currychicken teriyaki bao, kaffir lime, walnut brownie, rice bowls, khao suey, veg bao, snapperburgers, raita, fries, chicken noodle, bbq burger, poha, sandwichesmasala dosa, idli, tea, podi dosa, pongal, filter coffee, mini idlismutton chops, mutton fry, brain fry, mutton masala, mutton curry, donne biryani, chicken curryseekh kebab, hyderabadi biryani, vegetable biryani, chicken biryani, raita, kheer, egg biryanirice bowl, california burrito, nachos, salad, burrito bowl, chips, rice bowlsburgers, sandwiches, pizza, beef burger, chicken bbq burger, french fries, barbecue chicken burgercup cake, almond pie, chicken delight, apple pie, chicken quichefilter coffee, mini idlisparatha, gulab jamun, sweet lassi, paneer bhurji, chaach, paneer parantha, raitarolls, french fries, chicken momo, roti, pulpy grape juice, mutton keema, chicken kebabrice, hyderabadi biryani, crab masala, mutton, chilli chickenrolls, chicken tikka roll, egg roll, veggie rollsalads, salad, sandwich, chicken ham, roast chicken submomos, shawarma, chicken shawaramabutter chickenrolls, momos, biryani, veggie roll, vada, parathaveg momosrolls, beda roti, chicken malai roll, peri peri chicken, mutton baida roti, chicken beda, chicken baida rotiburgers, ricegulab jamun, chaat, paratha, vada pav, masala pav bhaji, buttermilk, aloo tikki chatpepper chicken, chicken biryani, mutton biryanimalabar fish curry, appam, idiyappam, sea food, fish fry, thali, ghee ricesandwiches, sandwich, french fries, creme caramel, onion rings, potato friesshawarma, rolls, chicken grill, kathi roll, paneer roll, chicken shawarama, egg rollginger tea, cheesy samosa, ginger chai, masala tea, indori poha, chocolate samosa, chicken samosaparatha, soya chaap, lassi, tandoori chaap, malai chaap, biryani, gulab jamunroast beef, chicken curry, tea, pazham pori, fish fry, beef fry, puttu biryanisamosa, poha, chaat, chhole bhature, ginger tea, chole, aloo tikkifish curry, roast chicken, kerala parotta, appam, mutton pepper fry, sea food, ghee ricenoodles, paneer manchurian, chaat, paratha, paneer fried rice, babycorn manchurianbiryanivada, rava masala dosa, biryanichicken grill, chicken shawarama, shawarma, tandoori chicken, rumali roti, rolls, egg biryanichicken grill, rolls, chicken roll, shawarma roll, rumali roti, paneer roll, tandoori chickensea food, fish, tomato masala, murgh ghee roast, neer dosa, ghee roast mutton, mutton sukhachole, veg thaliparatha, panipuri, puri sabzi, rasgulla, rasmalai, pav bhaji, samosa chaatdum biryanithali, lassi, litti, pav bhaji, chole bhature, aloo parathachicken wrap, rolls, chicken overload, falafel, paratha, paneer wrap, veggie wrappalak chicken, mutton keema masala, sarson ka saag, mushroom masala, makkai roti, dal tadka, palak paneerchaat, pav bhaji, kheer, jalebi, panipuri, tea, dahipuriburgers, fries, veg burger, wingspav bhaji, masala dosa, tea, rotirolls, paratha, chicken chaap, kathi roll, chicken egg roll, mutton biryanicoffee, vegetable biryani, masala chai, rotipoha, bun maskas, ginger chai, sabudana khichdi, vada pav, samosa bun, sandwichesidli vada, filter coffee, masala dosa, curd riceambur biryanichaat, pav bhaji, panipuri, samosa, chole bhature, jalebi, parathadal frypanneer butter masala, rolls, chicken roll, paneer roll, tandoori chicken, naan, egg bhurjipasta, supreme pizza, thin crust pizza, cheesy garlic breadlassi, amritsari kulcha, cholesandwiches, maggi, ginger chai, samosa, ginger tea, kesar chai, masala chaibiryanithali, chole bhature, lassi, gulab jamun, saladrajma, tandoori roti, sweet lassi, tandoori chicken, naan, dal makhani, veg thalibiryani, murgh lababdar, thaliburgersrolls, chicken grillcoffee, cappuccinochicken lollipop, dragon rolls, pasta alfredo, chicken pakora, burgers, cappuccino, chicken wingspanneer butter masala, idli, masala dosa, vada, coffee, roti, thalichole, kulfi, kachori, samosa, chaat, pav bhaji, barfiradhaballavi, egg noodles, egg roll, egg devils, alur domputtu biryani, egg roastburgers, peri peri chicken, grilled lamb burger, chicken burger, french friesgulab jamun, raita, chaat, chole, soya chaap, panipuri, dal makhanishawarma, chicken grill, faludabenne dosa, mirchi bajji, filter coffee, poha, tea, butter dosa, crispy dosaroast chickenparatha, shahi paneerwhole meat shawarma, fries, jumbo shawarma, malgoum shawarma, rolls, chicken shawarama, kerala parottagulab jamun, buttermilk, egg bhurji, sprout salad, rotipizza, nachos, salads, peri peri fries, brownie, pasta alfredo, spaghettichaat, pav bhaji, dabeli, vada pav, tawa pulav, panipuri, malpuathali, egg masala, chole, paratha, roti, butter chicken, paneer manchuriansalads, chicken tikka, veg shammi, teriyaki chicken, sandwich, veggie delight, aloo pattyrasgulla, mutton kosha, chicken kasha, samosa chaat, kheer, veg thalifish, appam, egg roast, kadala curry, chicken curry, beef fry, ghee ricechaat, pav bhaji, panipuri, basket chat, mango lassi, sev puri, misalveg momos, noodles, cheese momos, jhol momos, wai wai bhel, brownie, chicken momoparatha, thalifriesbiryani, parathacoffee, masala dosa, tea, badam milk, vada, idli, raagi dosamutton biryani, dragon chicken, chicken dum biryani, vegetable biryani, paneer biryaniburgers, chicken crisp burger, chicken whopper, chicken keema burger, chicken fries, mutton whopper, chocolate shakeshawarma, chicken grill, grape juice, biryani, rolls, paratha, veggie rolldum biryani, mutton biryanilassi, veg thali, roti, aloo paratha, egg currychicken stew, ghee rice, chai, beef biryanidabeli, samosa, tawa pulav, cheese vada pavneer dosa, coffee, pav bhaji, khali dosa, panipuri, masala dosa, teafruit custard, russian cutletrolls, chicken roll, tandoori chicken, biryani, chicken lollipop, paratha, chicken grillburgers, chicken bucket, paneer zinger burgerprompt servicepizza, spinach curry, saladmasala dosamasala dosa, panneer butter masalapasta, fries, cheesiano pizza, veggie pizza, cheesy garlic bread, peri peri paneer pizzasweet pongal, mini idlis, filter coffee, open masala dosa, pakoda, vada, raagi dosaparatha, vada pav, chaat, pav bhaji, panipuri, masala poori, dhoklarumali roti, rumali shawarma, burgers, shawarma burgerlassirolls, momos, paratha, chicken tikka roll, mutton keema, egg rollcoffeechaat, dabeli, pav bhaji, dhokla, gujarati food, jalebi, panipuriginger chai, ginger tea, banana cake, samosa, masala chai, banana walnutwhite pasta, noodles, babycorn manchurian, pizza, veg momos, fry momos, tawa pulavmomos, pizza sandwich, manchow soup, spring roll, noodles, fried rice, frieschicken biryani, rollsfilter coffee, lunch thali, idli, mini idlis, ghee masala dosa, rasam vada, pongalchaat, samosa, thali, sweet lassi, biryani, egg roll, masala paneersandwiches, fruit juices, chaat, paneer sandwich, watermelon juice, cheese sandwichmasala dosarolls, burgers, juicy momos, chicken momo, chocolate momos, mushroom momo, paneer momosvada, coffee, masala dosa, gulab jamun, roti, idli, tomato soupparatha, coffee, halwa, lassimutton biryani, ambur biryani, chicken biryanifrench fries, peri peri fries, cup cake, potato fries, fried cheese, chicken fries, mexican friesmasala vada pav, cheese vada pav, friesmomos, noodles, thukpa, teriyaki chicken, chicken chowmein, clear chicken soup, beef chillinoodles, pasta, tibetan momos, clear soup, chicken momo, tibetan thukpa, teagarlic bread, sandwiches, aloo tikki burger, club sandwich, white sauce pasta, garlic ricealoo paratha, samosa, kachori, poha, chaatchaat, chole bhature, raj kachori, thali, rasmalai, paratha, pav bhajinachos, tacos, mexican pizza, cheesy fiesta potato, fries, rice bowl, salsathali, dhokla, samosa, poha, club kachori, paratha, teatea, chole, khichda, butter paneer, paneer bhurji, paratha, masala chainoodles, pasta, schezwan momos, chicken momo, teriyaki chicken, thukpa, friesburgers, oreo mcflurry, french fries, mcspicy chicken burger, cheesy fries, paneer pockets, tikkimasala dosa, sandwiches, coffee, onion dosa, rava dosa, chaat, sandwichburgers, tea, ferrero rocher, sandwich, french friesparatha, rolls, rotishawarma, chicken grill, tandoori chicken, butter chicken, rolls, chicken tikka, grape juicesweet lassi, gulab jamun, palak paneer paratha, paneer paranthachaat, panipuri, lassi, gol gappe, paratha, pav bhaji, samosamasala dosa, coffee, pongal, tea, bondaginger chai, ginger tea, pakoda, paratha, maggi, pav bhaji, sulemani chaimughlai paratha, laccha paratha, rollsbeef fry, fish fry, appam, masala prawn, egg roast, chicken curry, biryaniburgers, chicken popcorn, peri peri chicken, wings, peri peri burger, fries, crunchy veg burgerburgers, momo burger, chocolate momos, tandoori momoscoffee, burgers, pasta, beef steak, chicken lasagne, salads, sandwichestortilla chips, tabasco pizza, salsa, mixed sauce pasta, white sauce pasta, manali pizza, nawabi pizzafish thali, aloo paratharolls, biryani, mutton seekh, egg roll, chicken tikka, chicken rollchaat, aloo tikki, dabeli, panipuri, pav bhaji, vada pav, masala poorirolls, chicken mayo, bbq chicken, chocolate fantasy, paneer roll, fiery paneer tikka, chicken wrapchicken biryanisandwiches, sandwichcheese dosa, tea, pizza dosafish, rasmalai, doi katla, aalo bhaja, bhetki paturi, chicken kasha, aloo postocheese parathaburgers, fries, chicken wings, popcorn, chicken grillwaffles, sandwiches, maggi, thick shakes, chocolate sandwichfilter coffee, badam milk, idli, hot coffee, samosa, lemon tea, mini idlismutton kosha, basanti pulao, fish curry, chicken biryanipizza, garlic bread, chicken lasagnewhole meat shawarma, jumbo shawarma, spicy shawarma, momosshawarma, sandwichesobbattubiryani, fries, thick shakeschicken grill, biryani, roti, chicken masalaburgers, fries, wood fire pizza, nachosmargarita, pizza burger, garlic breadginger tea, filter coffee, sandwich, poha, waffles, vadasandwiches, chocolate sandwich, potato twister, sev puri, corn sandwich, cheese sandwich, panipuriburgers, fries, hot dog, chicken hotdog, cuban mojito, cheese burger, grilled burgerpaneer sandwich, sandwiches, burgers, momos, maggi, ferrero rocher shake, thick shakespizza parantha, chai, paratha, fries, cheese maggi, rajma chawalpoha, tea, parathashawarmamasala dosa, vada, filter coffeealoo paratha, manchuriansugarcane juice, popcornsandwiches, noodles, sandwichginger tea, chai, samosa, bun omelette, elaichi tea, egg bhurji, carrot cakecoffee, masala dosa, vegetable biryanivada, masala dosa, idlitea, coffee, neer dosa, gajar ka halwa, thali, chaat, cheese dosabadam milk, potato twister, pav bhaji, panipuri, tikki chaat, cheese cutletcoffee, masala dosakachori, indori poha, cheese paratha, paneer parantha, thali, poha jalebisandwiches, fruit juices, french fries, irish coffeebiryani, paratha, chicken masala, kerala parottabiryaniparathapoha, jalebi, paratha, bhindi masala, kachori, puri sabzi, samosakosha mangsho, daab chingri, fish curry, dum biryanilassi, chai, parathachicken kebablitti, liti chokha, lassi, tea, paratha, thali, chaibiryanilassi, panneer butter masala, paratha, thalicoffee, thali, kharabath, masala dosa, idli vada, vanilla ice cream, bisi bele bhaathpizza fries, almond shakemomos, chicken lollipop, chicken momo, noodles, chicken thukpacoffee, pav bhaji, masala dosa, vada sambarkharabath, filter coffee, idli vada, crispy vada, kesari bath, hot coffee, teapizza, ice cream rollegg biryani, donne biryanipizza, peri peri fries, veg paprikachicken grill, roast chicken, chicken wings, sweet potato mash, pulled chicken burger, sweet potato friespanneer butter masala, lassi, paratha, jeera rice, paneer parantha, veg kolhapuri, bhindi frycoffeeburgers, zinger burgerbiryani, chicken curry, paya soup, paratha, mutton keema, chicken guntur, pepper chickenroti, chicken biryanitandoori chicken, butter chicken, tandoori roti, bhindi masala, paratha, dal makhanimutton biryani, ghee riceparatha, chicken kebab, biryani, lassi, butter chicken, veg kolhapuri, pahari chickenlassi, amritsari kulcha, punjabi kulcha, paneer kulcha, punjabi chole, aloo kulcha, paratharoti, dal makhani, lassi, panneer butter masala, kulcha, masala papad, butter chickenroti, dal makhani, lassi, panneer butter masala, kulcha, masala papad, butter chickenlassi, paratha, paneer parantha, butter chicken, punjabi chicken, shahi paneer, chicken kolhapuriburgers, belgian fries, pasta, salads, falafel pockets, greek sandwichroti, masala dosakulcha, chole, mutton curry, paratha, mint raita, chicken curry, dal makhanichicken lollipop, dragon rolls, pasta alfredo, chicken pakora, burgers, cappuccino, chicken wingsdal makhani, amritsari kulchavada pav, misal pav, sabudana vada, dabeli, pav bhaji, sabudana khichdi, lassinutella wafflesweet pongal, curd ricetandoori chicken, butter naan, kadai paneer, pepper chickenparatha, palak paneerhoney chilli potatoes, nachos, lemonade, hakka noodles, babycorn manchurian, mushroom manchurian, spring rollbiryani, chilli chicken, neer dosabutter naan, buttermilk, jowar roti, panneer butter masalabenne dosa, idli, coffeeakki rottis, neer dosaparatha, butter naan, thali, tandoori roti, lassisea food, neer dosa, fish, crab sukha, biryani, chicken thali, chicken mealnoodles, beef momos, chicken shaptra, chicken thukpa, clear soup, beef momo, chicken thupkawaffles, nutella ice cream, french friesdal makhani, thali, rajma masala, dal fry, sweet lassi, gulab jamunparatha, lassi, manchurian, thalijowar roti, buttermilk, jolada rotti, brinjal curry, coffee, pongal, vegetable biryaniappam, buttermilk, fry prawns, roast beef, masala prawn, chicken stew, murgh ghee roastcoffee, cappuccinoparatha, kheer, lassi, buttermilk, paneer bhurji, custard, bhindi masalarooftop ambiencesea food, thali, red snapper, fish fry, neer dosaidli, masala dosachicken grill, rumali roti, rollskharabath, crispy vada, filter coffee, idli vada, idli chutney, kesari bath, pohafaluda, brownie, sandwich, kulfi, fruit salad, sweet lassi, chocolate fudgeveg thali, fish thaliraita, hyderabadi biryaniclub chicken sandwich, sandwiches, coffee, pie, burgers, carrot cake, cheesecakefish curry, appam, tea, egg roast, sea foodpasta, momos, rolls, chicken roll, chilli chicken, paneer roll, spaghettimasala dosasandwiches, fruit juices, burgers, chicken sandwich, omelette, french fries, oreo shakepasta, sandwiches, cappuccino, sandwichpanipuri, chaat, noodles, dahi bhallerolls, veggie roll, chicken roll, french friessandwiches, chocolate sandwich, chaat, veg cheese sandwich, chilli cheese, corn sandwichparathawood fire pizzafaluda, sandwiches, paneer tikka pizza, cream mango, custard apple cream, veg sandwichobbattucoffee, thali, kharabath, masala dosa, idli vada, vanilla ice cream, bisi bele bhaathbiryani, fries, thick shakesparatha, rasgulla chaat, mysore pak, panipuri, pav bhaji, malai kulfi, mango lassirasmalai, kaju katli, paratha, pav bhaji, badam milk, rasgulla, dhoklasamosa, dhokla, ladoo, sweet kachori, onion kachori, ghee jalebichaat, chole bhature, raj kachori, thali, rasmalai, paratha, pav bhajiginger tea, chai, coffeepasta, sandwiches, cappuccino, sandwichmutton biryani, mutton chops, chicken biryani, chicken fry, paya, mutton fry, chilli chickenvada, masala dosa, idlimutton biryani, ghee ricecurd rice, bisi bele bhaath, pongalcoffee, tomato soup, thali, vada sambar, biryanichicken fry, mutton fry, mutton biryani, chicken biryani, chicken kebab, donne biryani, chilli chickenburgers, crispy chicken, chicken wings, rice bowl, zinger burger, fries, chicken bucketcoffee, thali, kharabath, masala dosa, idli vada, vanilla ice cream, bisi bele bhaathsandwiches, chocolate sandwich, potato twister, sev puri, corn sandwich, cheese sandwich, panipurichicken grill, grape juice, biryani, shawarma roll, rolls, chicken kebab, chicken shwarma rollbiryani, chicken curry, paratha, paya soup, mutton keema, chicken guntur, pepper chickenvada, kesari bath, idli, coffee, benne masala dosa, kharabath, teamasala dosa, pongal, tea, bonda, filter coffeeidli, masala dosa, filter coffee, upma, aloo palya, crispy vada, kharabathrava dosa, roti, masala dosa, kulcha, sandwiches, vada pav, idliburgers, tandoor chicken burger, cheesy italian fries, chocolate shake, cheesy chicken fries, whopper burger, chicken whoppergarlic bread, pasta, pizza burgerchai, lemon tea, chicken rollburgers, tea, ferrero rocher, sandwich, french friessandwich, salad, veggie delight, salads, roasted chickenhoney chilli potatoes, nachos, lemonade, hakka noodles, babycorn manchurian, mushroom manchurian, spring rollmasala poori, dahipuri, panipuri, sev puri, vada pavbiryani, fries, thick shakesburgers, french fries, chicken burgercoffee, masala dosa, tea, badam milk, vada, idli, raagi dosanoodles, pasta, schezwan momos, chicken momo, teriyaki chicken, thukpa, friesgarlic bread, sandwiches, aloo tikki burger, club sandwich, white sauce pasta, garlic ricecoffeevada pav, misal pav, sabudana vada, dabeli, pav bhaji, sabudana khichdi, lassibiryanitea, kharabath, filter coffee, idliparatha, coffee, halwa, lassipuri saagu, idli sambar, filter coffee, plain dosa, idli vada, vada sambar, rava idliparathavada, rava idli, masala dosa, coffeevada, coffee, idli, masala dosamasala dosa, idli, vada sambarburgers, fries, chicken filet burger, peri peri chicken wings, peri peri chicken salad, peri peri chicken burger, falafelrolls, biryani, mutton seekh, egg roll, chicken tikka, chicken rollbuttermilk, thali, brinjal curry, salad, jowar roti, chilli bhajjichicken biryani, rollscoffee, cappuccinofish curry, appam, tea, egg roast, sea foodpasta, thin crust pizza, cheesy garlic bread, salsa, brownie, manali pizza, masala garlic breadlassi, chai, parathachicken grill, rumali roti, rollschicken lollipop, dragon rolls, pasta alfredo, chicken pakora, burgers, cappuccino, chicken wingspaneer hyderabadi, biryani, idli, panneer butter masala, roti, coffee, masala dosabenne dosa, mirchi bajji, filter coffee, poha, tea, butter dosa, crispy dosasea food, neer dosa, fish, crab sukha, biryani, chicken thali, chicken mealmasala dosa, coffee, pongal, rava idli, badam halwa, thali, vadatacos, california burrito, salsa, nachos, rice bowl, pink lemonadefruit custard, russian cutletroast chicken, thalassery biryanirumali roti, rumali shawarma, burgers, shawarma burgerpasta, momos, rolls, chicken roll, chilli chicken, paneer roll, spaghettichaat, chole bhature, raj kachori, thali, rasmalai, paratha, pav bhajisandwiches, sandwich, coffee, cheesecaketandoori chicken, butter naan, kadai paneer, pepper chickengulab jamun, buttermilk, egg bhurji, sprout salad, rotimasala dosa, idli chutney, kharabath, filter coffee, kesari bath, idli vada, maddur vadatandoori maggi, paneer sizzler, pasta, pizza, butter garlic fries, peri peri maggi, garlic maggipot biryani, sea food, fish thalimasala dosa, panneer butter masalaroti, masala dosacoffee, masala dosa, vegetable biryaniparatha, kheer, lassi, buttermilk, paneer bhurji, custard, bhindi masalapoha, tea, parathasamosa, dhokla, ladoo, sweet kachori, onion kachori, ghee jalebimasala dosa, vada, set dosa, filter coffee, raita, idli sambar, crispy dosaparatha, thalicoffeenachos, tacos, burrito, mexican pizza, cheesy fiesta potato, fries, rice bowlrolls, chicken roll, chicken wrap, veggie wrap, raita, cheesy chicken, sabudana kheersabudana vada, akki rottis, vegetable biryani, coffee, bhel puri, vada pav, buttermilkfish thali, aloo parathaburgers, chicken popcorn, peri peri chicken, wings, peri peri burger, fries, crunchy veg burgerkachori, indori poha, cheese paratha, paneer parantha, thali, poha jalebichicken stew, ghee rice, chai, beef biryaniparatha, butter naan, thali, tandoori roti, lassifish, rasmalai, doi katla, aalo bhaja, bhetki paturi, chicken kasha, aloo postomasala dosa, tea, vada, idli, coffeecoffee, jeera rice, masala dosa, set dosa, neer dosathali, dhokla, samosa, poha, club kachori, paratha, teamasala dosafilter coffee, pongalginger tea, chai, coffeechaat, samosa, thali, sweet lassi, biryani, egg roll, masala paneersandwiches, fruit juices, burgers, chicken sandwich, omelette, french fries, oreo shakecoffee, masala dosa, masala poori, kadhai paneerroti, chicken biryanimasala dosa, handi biryani, maddur vada, filter coffee, goli bajji, kesari bath, rava idlipizza parantha, chai, paratha, fries, cheese maggi, rajma chawaldal makhani, thali, rajma masala, dal fry, sweet lassi, gulab jamunchaat, panipuri, lassi, aloo paratha, chai, gulab jamunthali, egg masala, chole, paratha, roti, butter chicken, paneer manchurianmasala dosa, vada, filter coffeecoffee, pav bhaji, masala dosa, vada sambarpanipuri, chaat, noodles, dahi bhallerolls, chicken roll, tandoori chicken, biryani, chicken lollipop, paratha, chicken grillakki rottis, neer dosarolls, veggie roll, chicken roll, french friesmasala dosa, plain dosarooftop ambiencetea, chocolate cookies, ginger chai, masala chai, poori bhaji, sulemani chai, sandwichsandwiches, chocolate sandwich, chaat, veg cheese sandwich, chilli cheese, corn sandwichmasala dosa, idlipav bhaji, dahipuri, chaat, paratha, noodlesparathawood fire pizzadahi vada, masala dosa, coffee, chaat, rotitea, masala dosa, vadachai, masala tea, samosa, banana cake, egg puff, ginger teaparatha, shahi paneerchicken lollipop, dragon rolls, pasta alfredo, chicken pakora, burgers, cappuccino, chicken wingsburgers, mojito, lamb burger, french fries, hot dog, bbq burger, wedgespanneer butter masala, idli, masala dosa, vada, coffee, roti, thalisaladradhaballavi, egg noodles, egg roll, fish curry, egg devils, thali, alur domputtu biryani, egg roastburgers, fries, chicken filet burger, peri peri chicken wings, peri peri chicken salad, peri peri chicken burger, falafelroast chickenparatha, shahi paneerpav bhaji, coffee, set dosa, masala dosa, vada, masala poorirasgulla, mutton kosha, chicken kasha, samosa chaat, kheer, veg thaligulab jamun, buttermilk, egg bhurji, sprout salad, rotithali, egg masala, chole, paratha, roti, butter chicken, paneer manchurianfriesbiryanicoffee, chaatchaat, pav bhaji, panipuri, basket chat, mango lassi, sev puri, misalfish, appam, egg roast, kadala curry, chicken curry, beef fry, ghee ricebiryani, kshatriya kebabparatha, thalicoffee, masala dosa, tea, badam milk, vada, idli, raagi dosabiryanilassi, veg thali, roti, aloo paratha, egg curryburgers, whopper meal, crispy chicken, french fries, grilled wingswhole meat shawarma, malgoum shawarma, rolls, pita bread, kerala parottaparatha, pastadabeli, samosa, tawa pulav, cheese vada pavprompt serviceneer dosa, coffee, pav bhaji, khali dosa, panipuri, masala dosa, teafruit custard, russian cutletrolls, chicken roll, chicken wrap, veggie wrap, raita, cheesy chicken, sabudana kheerparatha, vada pav, chaat, pav bhaji, panipuri, masala poori, dhoklapasta, fries, cheesiano pizza, veggie pizza, cheesy garlic bread, peri peri paneer pizzachicken grill, grape juice, biryani, shawarma roll, rolls, chicken kebab, chicken shwarma rollburgers, crispy chicken, chicken wings, rice bowl, zinger burger, fries, chicken bucketlassirolls, paratha, chicken biryanirumali roti, rumali shawarma, burgers, shawarma burgersamosa, chicken chettinad, murgh makhanicoffeebiryanirolls, momos, paratha, chicken tikka roll, mutton keema, egg rollginger chai, ginger tea, banana cake, samosa, masala chai, banana walnutmomos, pizza sandwich, manchow soup, spring roll, noodles, fried rice, frieschaat, samosa, thali, sweet lassi, biryani, egg roll, masala paneerparatha, coffee, halwa, lassialoo parathamasala dosa, panneer butter masalavada, rava idli, masala dosa, coffeetandoori chicken, rollskheer, lassi, paratha, amritsari kulcha, dal makhani, chole bhature, aloo kulchaaloo paratha, samosa, kachori, poha, chaatpizza, burgerstacos, fries, nachos, burritoshawarma, chicken grill, tandoori chicken, butter chicken, rolls, chicken tikka, grape juicerolls, chicken roll, tandoori chicken, biryani, chicken lollipop, paratha, chicken grillvada, coffee, masala dosa, gulab jamun, roti, idli, tomato souplassi, amritsari kulcha, punjabi kulcha, paneer kulcha, punjabi chole, aloo kulcha, parathachaat, chole bhature, raj kachori, thali, rasmalai, paratha, pav bhajithali, dhokla, samosa, poha, club kachori, paratha, teanoodles, corn momo, manchurian, momo platter, veg momos, potato momos, tandoori momosnoodles, pasta, schezwan momos, chicken momo, teriyaki chicken, thukpa, friesburgers, tea, ferrero rocher, sandwich, french friessweet lassi, gulab jamun, palak paneer paratha, paneer paranthachaat, panipuri, lassi, gol gappe, paratha, pav bhaji, samosaburgers, mocha frappe, french fries, maharaja mac, oreo shake, egg wrapmughlai paratha, laccha paratha, rollspizza, garlic breadpizza, thick shakesginger chai, ginger tea, pakoda, paratha, maggi, pav bhaji, sulemani chaiburgers, mojito, lamb burger, french fries, hot dog, bbq burger, wedgesburgers, chicken popcorn, peri peri chicken, wings, peri peri burger, fries, crunchy veg burgerrolls, biryani, mutton seekh, egg roll, chicken tikka, chicken rollmasala dosa, coffee, pongal, tea, bondachaat, aloo tikki, dabeli, panipuri, pav bhaji, vada pav, masala pooripizza, garlic bread, chicken lasagnetortilla chips, tabasco pizza, salsa, mixed sauce pasta, white sauce pasta, manali pizza, nawabi pizzaburgers, momo burger, chocolate momos, tandoori momosrolls, chicken egg roll, aloo paratha, sattu paratha, paneer rollburgers, fries, chicken wingsvada, masala dosa, filter coffee, kesari bath, kharabath, open dosawaffles, sandwiches, maggi, thick shakes, chocolate sandwichmutton kosha, basanti pulao, chicken biryanibiryani, fries, thick shakespaneer sandwich, sandwiches, burgers, momos, maggi, ferrero rocher shake, thick shakesfilter coffee, tea, hot coffee, hatti samosacoffee, thali, kharabath, masala dosa, idli vada, vanilla ice cream, bisi bele bhaathshawarmacoffee, masala dosavada, masala dosa, idlialoo paratha, manchurianpoha, tea, parathamasala dosa, vada, filter coffeeparathapoha, jalebi, paratha, bhindi masala, kachori, puri sabzi, samosachicken kebablassi, chai, parathalitti, liti chokha, lassi, tea, paratha, thali, chaibiryaniperi peri chicken, chicken pizza, white pasta, kit kat shakechicken grill, roast chicken, chicken wings, sweet potato mash, pulled chicken burger, sweet potato friesthin crust pizzaegg biryani, donne biryanichicken biryani, butter chickencoffee, pav bhaji, masala dosa, vada sambarcoffeebiryani, butter chicken, chicken wings, tandoori chicken, chicken grill, arabian grape juicelassi, paratha, paneer parantha, butter chicken, punjabi chicken, shahi paneer, chicken kolhapuribiryani, chicken curry, paya soup, paratha, mutton keema, chicken guntur, pepper chickenakki rottis, neer dosaraita, vegetable biryani, biryani combodal makhani, roti, panneer butter masala, lassi, kulcha, masala papad, butter chickenroti, masala dosachicken lollipop, fried cheese, pasta alfredo, dragon rolls, chicken pakora, burgers, chicken wingsparatha, chicken kebab, biryani, lassi, butter chicken, veg kolhapuri, pahari chickencheese dosa, tea, pizza dosafish, rasmalai, doi katla, aalo bhaja, bhetki paturi, chicken kasha, aloo postomasala prawn, mutton kosha, thali, fish cutlet, mutton curry, luchi, fish fingertandoori chicken, butter naan, kadai paneer, pepper chickenparatha, chicken curryparatha, palak paneerbiryani, chilli chicken, neer dosasea food, neer dosahoney chilli potatoes, nachos, lemonade, hakka noodles, babycorn manchurian, mushroom manchurian, spring rollvada, pongal, podi idli, masala dosa, podi dosa, idiyappam, ricepasta, sandwiches, cappuccino, sandwichparatha, kheer, lassi, buttermilk, paneer bhurji, custard, bhindi masalavada pav, misal pav, sabudana vada, dabeli, pav bhaji, sabudana khichdi, lassirolls, veg momos, masala friesparatha, butter naan, thali, tandoori roti, lassisea food, neer dosa, fish, crab sukha, biryani, chicken thali, chicken mealdal makhani, thali, rajma masala, dal fry, sweet lassi, gulab jamunbenne dosa, idli, coffeeparatha, lassi, manchurian, thaliveg thali, fish thalipanneer butter masala, manchurian, noodles, tandoori roti, naan, paratha, french friesidli, masala dosachicken grill, rumali roti, rollsfish curry, appam, tea, egg roast, sea foodchocolate sandwich, chaat, corn sandwich, chilli cheese, cheese sandwiches, veg sandwichrasgulla, rasmalai, mishti doipasta, sandwiches, cappuccino, sandwichsamosa, dhokla, ladoo, sweet kachori, onion kachori, ghee jalebiparatha, rasgulla chaat, mysore pak, panipuri, pav bhaji, malai kulfi, mango lassiginger tea, chai, coffeechaat, chole bhature, raj kachori, thali, rasmalai, paratha, pav bhajichicken lollipop, dragon rolls, pasta alfredo, chicken pakora, burgers, cappuccino, chicken wingspaneer hyderabadi, biryani, idli, panneer butter masala, roti, coffee, masala dosasea food, neer dosa, fish, crab sukha, biryani, chicken thali, chicken mealbiryani, butter chicken, chicken wings, tandoori chicken, chicken grill, arabian grape juicechicken grill, shawarma, tandoori chicken, chicken kebab, rolls, chicken tikka, grape juicethali, dhokla, samosa, poha, club kachori, paratha, teasandwiches, sandwich, coffee, cheesecakepot biryani, sea food, fish thalitea, masala dosa, vadalassi, amritsari kulcha, punjabi kulcha, paneer kulcha, punjabi chole, aloo kulcha, parathamasala dosa, coffee, rava idli, badam halwa, thali, vada, fruit saladtacos, california burrito, salsa, nachos, rice bowl, pink lemonadepasta, fries, cheesiano pizza, veggie pizza, cheesy garlic bread, peri peri paneer pizzafruit custard, russian cutletburgers, wings, fries, rice bowl, popcorn chicken, zinger burger, chicken snackernoodles, corn momo, manchurian, momo platter, veg momos, potato momos, tandoori momospizza, thick shakesvada, masala dosa, filter coffee, kesari bath, kharabath, open dosaparatha, kheer, lassi, buttermilk, paneer bhurji, custard, bhindi masalarolls, chicken roll, chicken wrap, veggie wrap, raita, cheesy chicken, sabudana kheercoffee, french fries, hash brown, cappuccino, maharaja mac, wings, teagarlic bread, peppy paneer pizza, chocolava cake, cheese burst pizzaburgers, mojito, lamb burger, french fries, hot dog, bbq burger, wedgespoha, tea, parathacheese dosa, tea, pizza dosaburgers, fries, chicken wingspizza, garlic bread, chicken lasagnemasala dosa, tea, vada, idli, coffeeparatha, thalikheer, lassi, paratha, amritsari kulcha, dal makhani, chole bhature, aloo kulchaaloo paratha, manchuriancoffeeshawarma, chicken grill, tandoori chicken, butter chicken, rolls, chicken tikka, grape juicesandwiches, chaat, chicken ham, salads, salad, tea, sandwichcoffee, pav bhaji, masala dosa, vada sambarmasala dosa, handi biryani, maddur vada, filter coffee, goli bajji, kesari bath, rava idlivada, pongal, podi idli, masala dosa, podi dosa, idiyappam, ricetortilla chips, tabasco pizza, salsa, mixed sauce pasta, white sauce pasta, manali pizza, nawabi pizzabiryani, kshatriya kebabcoffee, masala dosadal makhani, thali, rajma masala, dal fry, sweet lassi, gulab jamunrolls, veg momos, masala friestea, chocolate cookies, ginger chai, masala chai, poori bhaji, sulemani chai, sandwichpav bhaji, dahipuri, chaat, paratha, noodlesfriesnoodlesparatha, chicken currychicken biryani, butter chickennachos, tacos, mexican pizza, cheesy fiesta potato, fries, rice bowl, salsaparatha, chicken kebab, biryani, lassi, butter chicken, veg kolhapuri, pahari chickenburgers, chicken fries, onion rings, chicken whopper, spicy chicken wings, mutton whopper, crispy veg burgermasala prawn, mutton kosha, thali, fish cutlet, mutton curry, luchi, fish fingermasala dosa, idliakki rottis, neer dosaaloo parathabiryanivada, masala dosa, idliradhaballavi, egg noodles, egg roll, fish curry, egg devils, thali, alur domchicken grill, grape juice, biryani, shawarma roll, rolls, chicken kebab, chicken shwarma rollbiryani, chicken curry, paya soup, paratha, mutton keema, chicken guntur, pepper chickenlitti, liti chokha, lassi, tea, paratha, thali, chairumali roti, rumali shawarma, burgers, shawarma burgercoffee, masala dosa, tea, badam milk, vada, idli, raagi dosaidli, masala dosa, filter coffee, upma, aloo palya, crispy vada, kharabathroti, masala dosaburgers, tea, ferrero rocher, sandwich, french frieschocolate sandwich, chaat, corn sandwich, chilli cheese, cheese sandwiches, veg sandwichvada pav, misal pav, sabudana vada, dabeli, pav bhaji, sabudana khichdi, lassicoffeesamosa, dhokla, ladoo, sweet kachori, onion kachori, ghee jalebithali, egg masala, chole, paratha, roti, butter chicken, paneer manchuriangulab jamun, buttermilk, egg bhurji, sprout salad, rotiparatha, palak paneertea, kharabath, filter coffee, idlirolls, chicken roll, tandoori chicken, biryani, chicken lollipop, paratha, chicken grillpanneer butter masala, manchurian, noodles, tandoori roti, naan, paratha, french friesparatha, lassi, manchurian, thalichaat, chole bhature, raj kachori, thali, rasmalai, paratha, pav bhajimutton kosha, basanti pulao, chicken biryanirolls, biryani, mutton seekh, egg roll, chicken tikka, chicken rollfilter coffee, pongalginger tea, chai, coffeefish, rasmalai, doi katla, aalo bhaja, bhetki paturi, chicken kasha, aloo postoparatha, butter naan, thali, tandoori roti, lassichaat, samosa, thali, sweet lassi, biryani, egg roll, masala paneertandoori chicken, butter naan, kadai paneer, pepper chickenchai, masala tea, samosa, banana cake, egg puff, ginger teachicken grill, rumali roti, rollsmasala dosa, vada, filter coffeelassifish curry, appam, tea, egg roast, sea foodparatha, pastalassi, chai, parathavada, coffee, masala dosa, gulab jamun, roti, idli, tomato soupmughlai paratha, laccha paratha, rollsparatha, shahi paneerburgers, popcorn, pancakes, brownie, nachos, pasta, terminator burgerchicken burger, pasta, hash brown, noodlesshawarmarolls, jumbo chicken roll, falafel roll, chicken kudu roll, shawarma, mutton roll, spicy rolldeluxe thali, chole bhaturevada, butter masala dosa, coffeekesaria lassi, chaat, pav bhaji, paratha, rasmalai, jalebi rabri, teadonne biryani, pepper chickenparatha, lassi, dal bati, kachori, roti, churma, liti chokhasandwich, salads, sandwiches, salad, chicken tikkathatte idliparatha, roti, curd rice, thali, tea, dal bati, gajar halwalassi, thali, biryani, pav bhaji, chole bhature, gulab jamun, veg kolhapuriburgers, cheesy fries, chicken wings, veg burger, veg whopperfilter coffee, onion rava masala dosa, tea, chole bhature, roti, noodles, vadaparatha, sea food, fish biryani, duck roastroti, paratha, biryani, thalibiryani, sea food, fish curry ricefish curry, appam, paratha, sea food, beef biryani, beef curry, beef fryburgers, beef burger, cheesy fries, peri peri chicken burger, beef patty, oreo shake, steak burgerbutter chicken, shawarma roll, chicken shawarama, rolls, chicken grill, al faham chicken, rotidonut, burgers, coffeeparatha, chicken biryani, butter chicken, lassi, chilli paneer, tandoori chicken, naanrolls, veggie roll, paneer achari roll, keema rollneer dosa, biryani, malabari paratha, thali, chicken curryaloo paratha, veggie wrap, sabudana kheer, chicken wrap, rolls, khichda, thalichicken burger, popcorn chicken, sandwichpepperoni, cheesy pizzafrench fries, chicken roll, sandwich, falafel roll, charcoal shawarma, chicken fries, brosted chickenshawarma, chicken shawarama, kerala parotta, lemon tea, fish, ghee rice, appamchicken momo, noodles, pan fried momosparatha, dal makhani, lassi, naan, veg thali, chole, kulchasandwiches, sandwich, oreo shake, french friesgarlic bread, nachos, pasta, thin crust pizza, manali pizza, hawaian pizzachicken curryteapasta italiano, pizza burger, stuffed garlic breadmomos, noodleskulfi, masala vada pavchaat, pav bhaji, buttermilk, ajwaini paratha, raj kachori, sev puri, bhel puricoffee, roti, masala dosamurgh patiala, shawarma, chicken grillburgers, fries, peri peri chicken salad, jumbo royale burger, salads, rolls, chicken peri peri wrapburgers, fries, chicken wrapcheese sandwiches, cheese sandwich, chocolate sandwich, chicken sandwich, chocolate sandwiches, french fries, teriyaki chickenchicken biryaniparatha, kheer, thali, roti, rajma, paneer chatpatafries, malgoum shawarmamutton biryani, rolls, chicken rollrolls, french fries, parathachole bhature, chaat, jalebi, kulfi, rasgullaburrito bowl, tacos, salad, salads, steak, lemonade, fishshawarmashawarma, alpham chicken, chicken grillchaat, pav bhaji, paratha, lassi, panipuri, dahipuri, bhel purichaat, paratha, vada pav, dal makhani, paneer bhurji, rabri, kulchadabeli, vada pav, dhokla, farsan, samosa, jalebimutton biryani, donne biryani, mutton fry, chicken guntur, chicken biryanichicken momo, chilli pork, chicken thukpa, noodles, manchow soup, pork momo, veg momoschicken burger, pasta, hash brown, noodlesburgers, lamb burger, sandwiches, brownie, churros, hot dog, chocolate cakepork thali, chicken curry, prawn curry, momos, pork fry, smoked pork, saladchicken biryani, chicken samosa, hyderabadi biryani, kheer, mutton biryaniburgers, popcorn, pancakes, brownie, nachos, pasta, terminator burgerfish, mutton kasha, mutton curry, mutton kosha, mutton thali, doi katla, aalo bhajafish fry, chicken curry, duck roast, kerala style biryanibiryaniburgerschaat, raj kachori, dhokla, rasmalai, paratha, chole, pav bhajipanneer butter masalacoffee, cheesecake, sweet potato cake, hot chocolate, sweet potato latte, ramen, french toastmomos, shawarmanoodlesshawarma, falafel pita, veg bonanza pizza, cheese manakeesh, arabic cuisine, cheese steak pizzarolls, jumbo shawarmapepper chicken, donne biryani, chicken biryani, chicken kebabburgers, plum cakebiryani, appam, chicken currysandwiches, sausage roll, garlic breadshawarmarolls, chicken momo, biryani, paneer rollappam, roast chicken, duck roast, vegetable stewvada pav, kulfi, mumbai sandwich, rolls, keema rollvada pav, kulfi, mumbai sandwich, rolls, keema rollcoffee, cheesecake, sweet potato cake, hot chocolate, sweet potato latte, ramen, french toastburgers, popcorn, pancakes, brownie, nachos, pasta, terminator burgersandwiches, sausage roll, garlic breadchaat, raj kachori, dhokla, rasmalai, paratha, chole, pav bhajidabeli, vada pav, dhokla, farsan, samosa, jalebibiryanishawarma, chicken shawarama, kerala parotta, lemon tea, fish, ghee rice, appamcoffee, rava idli, kesari bath, rava masala dosa, badam halwa, vada, pongalmutton biryani, rolls, chicken rollchole bhature, chaat, jalebi, kulfi, rasgullachaat, pav bhaji, buttermilk, ajwaini paratha, raj kachori, sev puri, bhel purifish fry, chicken curry, duck roast, kerala style biryanipasta italiano, pizza burger, stuffed garlic breadchaat, pav bhaji, paratha, lassi, panipuri, dahipuri, bhel purivada, butter masala dosa, coffeeburgers, fries, peri peri chicken salad, jumbo royale burger, salads, rolls, chicken peri peri wrapparatha, kheer, thali, roti, rajma, paneer chatpatasandwich, salads, sandwiches, salad, chicken tikkaburgers, hot wings, friesfilter coffee, onion rava masala dosa, tea, chole bhature, roti, noodles, vadacheese sandwiches, cheese sandwich, chocolate sandwich, chicken sandwich, chocolate sandwiches, french fries, teriyaki chickenparatha, chicken biryani, butter chicken, lassi, chilli paneer, tandoori chicken, naancoffee, cheesecake, sweet potato cake, hot chocolate, sweet potato latte, ramen, french toastshawarmapanneer butter masala, vada, filter coffee, tandoori rotimasala dosa, caramel coffee, filter coffee, vadakulfi, masala vada pavaloo paratha, masala dosa, coffee, dahi vada, paneer parantha, sweet lassi, mix veg parantharolls, jumbo chicken roll, falafel roll, chicken kudu roll, mutton roll, shawarma, spicy rollbiryani, appam, chicken currychicken burger, popcorn chicken, sandwichfish, mutton kasha, mutton curry, mutton kosha, mutton thali, doi katla, aalo bhajaburgers, fries, mutton whopper, chicken grill, mango shake, chicken whopper, chocolate milkshakemutton biryani, donne biryani, mutton fry, chicken guntur, chicken biryanifries, malgoum shawarmashawarma, falafel pita, veg bonanza pizza, cheese manakeesh, arabic cuisine, cheese steak pizzahot wings, crispy chicken, popcorn chicken, rice bowl, rice bowls, zinger burgerchicken momo, chilli pork, chicken thukpa, noodles, manchow soup, pork momo, veg momossandwiches, sausage roll, garlic breadchicken biryani, chicken samosa, hyderabadi biryani, kheer, mutton biryanimomos, noodlesaloo paratha, veggie wrap, sabudana kheer, chicken wrap, rolls, khichda, thaliburgersfrench fries, chicken roll, sandwich, falafel roll, charcoal shawarma, chicken fries, brosted chickenrolls, french fries, parathashawarmarolls, jumbo shawarmapork thali, chicken curry, prawn curry, momos, pork fry, smoked pork, saladfish curry, appam, paratha, sea food, beef biryani, beef curry, beef frycoffee, roti, masala dosaburgers, fries, mc chicken, mc veggie burgerteachicken burger, pasta, hash brown, noodlespepper chicken, donne biryani, chicken biryani, chicken kebabburgers, beef burger, cheesy fries, peri peri chicken burger, beef patty, oreo shake, steak burgerpodi dosa, vada, pongal, ghee dosa, masala dosa, coffeesandwiches, sandwich, oreo shake, french friescoffee, vada, masala dosa, gulab jamunchicken currymurgh patiala, shawarma, chicken grillbadam milk, chaat, sev puri, gol gappechaat, paratha, vada pav, dal makhani, paneer bhurji, rabri, kulchanoodlesgarlic bread, nachos, pasta, thin crust pizza, manali pizza, hawaian pizzamasala dosarolls, chicken momo, biryani, paneer rollshawarma, alpham chicken, chicken grillappam, roast chicken, duck roast, vegetable stewmasala dosa, thali, riceburgers, popcorn, pancakes, brownie, nachos, pasta, terminator burgerchicken burger, pasta, hash brown, noodleschaat, pav bhaji, buttermilk, ajwaini paratha, raj kachori, sev puri, bhel purishawarmasandwich, salads, sandwiches, salad, chicken tikkaburgers, fries, peri peri chicken salad, jumbo royale burger, salads, rolls, chicken peri peri wrapfries, malgoum shawarmarolls, jumbo chicken roll, falafel roll, chicken kudu roll, mutton roll, shawarma, spicy rollchaat, pav bhaji, paratha, lassi, panipuri, dahipuri, bhel purirolls, french fries, parathadeluxe thali, chole bhatureparatha, roti, curd rice, thali, tea, dal bati, gajar halwaburgers, cheesy fries, chicken wings, veg burger, veg whoppervada, butter masala dosa, coffeeshawarmahot wings, crispy chicken, popcorn chicken, rice bowl, rice bowls, zinger burgerburgers, beef burger, cheesy fries, peri peri chicken burger, beef patty, oreo shake, steak burgerthatte idlibutter chicken, shawarma roll, chicken shawarama, rolls, chicken grill, al faham chicken, rotidonne biryani, pepper chickenfilter coffee, onion rava masala dosa, tea, chole bhature, roti, noodles, vadashawarma, alpham chicken, chicken grillparatha, sea food, fish biryani, duck roastrasgulla, chaat, rasmalai, mysore pak, badam milk, sandwiches, barfibiryani, sea food, fish curry ricerolls, veggie roll, paneer achari roll, keema rollfish curry, appam, paratha, sea food, beef biryani, beef curry, beef frychicken momo, noodles, pan fried momoskesaria lassi, chaat, pav bhaji, paratha, rasmalai, jalebi rabri, teagarlic bread, nachos, pasta, thin crust pizza, manali pizza, hawaian pizzachicken burger, popcorn chicken, sandwichkulfi, masala vada pavfrench fries, chicken roll, sandwich, falafel roll, charcoal shawarma, chicken fries, brosted chickenpepperoni, cheesy pizzamomos, noodlesneer dosa, biryani, malabari paratha, thali, chicken currychocolavaparatha, lassi, dal bati, kachori, roti, churma, liti chokhaaloo paratha, veggie wrap, sabudana kheer, chicken wrap, rolls, khichda, thalidabeli, vada pav, dhokla, farsan, samosa, jalebimomos, shawarmasandwiches, sandwich, oreo shake, french friesburgerschicken biryani, chicken samosa, hyderabadi biryani, kheer, mutton biryanishawarma, chicken shawarama, kerala parotta, lemon tea, fish, ghee rice, appamburgers, hot wings, friesmurgh patiala, shawarma, chicken grillpork thali, chicken curry, prawn curry, momos, pork fry, smoked pork, saladcheese sandwiches, cheese sandwich, chocolate sandwich, chicken sandwich, chocolate sandwiches, french fries, teriyaki chickenteaburgers, fries, mc chicken, mc veggie burgercoffee, roti, masala dosaburrito bowl, tacos, salad, salads, steak, lemonade, fishparatha, kheer, thali, roti, rajma, paneer chatpatabiryani, appam, chicken currycoffee, idli, masala dosa, burgerschicken burger, pasta, hash brown, noodlesroti, paratha, biryani, thalichicken biryaniburgers, lamb burger, sandwiches, brownie, churros, hot dog, chocolate cakechaat, raj kachori, dhokla, rasmalai, paratha, chole, pav bhajiburgers, popcorn, pancakes, brownie, nachos, pasta, terminator burgerchaat, paratha, vada pav, dal makhani, paneer bhurji, rabri, kulchasandwiches, sausage roll, garlic breadlassi, thali, biryani, pav bhaji, chole bhature, gulab jamun, veg kolhapuriparatha, chicken biryani, butter chicken, lassi, chilli paneer, tandoori chicken, naanmutton biryani, donne biryani, mutton fry, chicken guntur, chicken biryanirolls, jumbo shawarmachicken momo, chilli pork, chicken thukpa, noodles, manchow soup, pork momo, veg momosshawarmachicken currypanneer butter masalabiryanifish, mutton kasha, mutton curry, mutton kosha, mutton thali, doi katla, aalo bhajafish fry, chicken curry, duck roast, kerala style biryanilassi, shahi paneer, kheer, paneer bhurji, methi paratha, paneer parantha, stuffed parathanoodlespepper chicken, donne biryani, chicken biryani, chicken kebabfilter coffee, vada, masala dosa, pongal, idli, onion uttapam, kesari bathcoffee, pasta, sandwiches, sunday breakfast, apple pie, hot chocolate, chicken quicheshawarma, falafel pita, veg bonanza pizza, cheese manakeesh, arabic cuisine, cheese steak pizzachaat, paratha, panipuri, pav bhaji, dahipuri, tea, rollsmutton biryani, rolls, chicken rollchole bhature, chaat, jalebi, kulfi, rasgullacoffee, cheesecake, sweet potato cake, hot chocolate, sweet potato latte, ramen, french toastrolls, chicken momo, biryani, paneer rollappam, roast chicken, duck roast, vegetable stewvada pav, kulfi, mumbai sandwich, rolls, keema rollburgers, popcorn, pancakes, brownie, nachos, pasta, terminator burgerrasgulla, chaat, rasmalai, mysore pak, badam milk, sandwiches, barfisandwiches, sausage roll, garlic breadchaat, raj kachori, dhokla, rasmalai, paratha, chole, pav bhajidabeli, vada pav, dhokla, farsan, samosa, jalebicoffee, cheesecake, sweet potato cake, hot chocolate, sweet potato latte, ramen, french toastchicken biryanirolls, falafel roll, jumbo chicken roll, chicken kudu roll, spicy roll, mutton roll, shawarmabiryani, appam, chicken currychicken burger, popcorn chicken, burgers, sandwich, friesfish, mutton kasha, mutton curry, mutton kosha, mutton thali, doi katla, aalo bhajaburgers, fries, mutton whopper, chicken grill, mango shake, chicken whopper, chicken burgermutton biryani, donne biryani, mutton fry, chicken guntur, chicken biryanimalgoum shawarma, french friesrice bowl, hot wings, popcorn chicken, crispy chicken, rice bowls, zinger burgershawarma, falafel pita, veg bonanza pizza, cheese manakeesh, arabic cuisine, cheese steak pizzamomos, chicken momo, chilli pork, chicken thukpa, noodles, manchow soup, pork momosandwiches, sausage roll, garlic breadmomos, noodleschicken wrap, veggie wrap, aloo paratha, rolls, sabudana kheer, khichda, rotiburgersshawarma, french fries, chicken roll, sandwich, brosted chicken, falafel roll, chicken friesrolls, french fries, parathashawarmashawarma, rollschicken curry, prawn curry, smoked pork thali, momos, pork fry, pork vindaloo, saladfish curry, appam, paratha, sea food, beef biryani, beef curry, beef frycoffee, roti, masala dosaburgers, maharaja burger, mc chicken, french fries, mc veggie burgerteabiryanichicken burger, pasta, hash brown, noodlesmutton biryanishawarma, chicken shawarama, kerala parotta, lemon tea, fish, ghee rice, appammurgh patiala, shawarma, chicken grillnoodlescoffee, rava idli, kesari bath, rava masala dosa, thali, badam halwa, vadamutton biryani, rolls, chicken rollpepper chicken, donne biryani, chicken biryani, chicken kebabchole bhature, chaat, jalebi, kulfi, rasgullafish fry, chicken curry, duck roast, kerala style biryanipodi dosa, vada, pongal, ghee dosa, masala dosa, coffeesandwiches, sandwich, oreo shake, french friespasta italiano, pizza burger, stuffed garlic breadchaat, pav bhaji, paratha, lassi, panipuri, dahipuri, bhel puridonne biryani, pepper chickenvada, butter masala dosa, coffeeburgers, fries, jumbo royale burger, salads, peri peri chicken salad, potato wedges, rollsnoodles, chicken lollipopparatha, kheer, thali, roti, rajma, paneer chatpatasandwich, salads, sandwiches, salad, chicken tikkacoffee, vada, masala dosa, gulab jamunbutter chicken, shawarma roll, chicken shawarama, chicken grill, rolls, al faham chicken, biryanifilter coffee, onion rava masala dosa, tea, chole bhature, roti, noodles, vadachicken curryburgers, chicken fries, hot wingschicken biryani, chicken samosa, hyderabadi biryani, kheer, mutton biryanichicken cheese sandwich, cheese sandwiches, chocolate sandwich, chocolate sandwiches, french fries, teriyaki chickenbadam milk, chaat, sev puri, gol gappechaat, paratha, vada pav, dal makhani, paneer bhurji, rabri, kulchaparatha, chicken biryani, butter chicken, lassi, chilli paneer, tandoori chicken, naancoffee, cheesecake, sweet potato cake, hot chocolate, sweet potato latte, ramen, french toastgarlic bread, nachos, pasta, thin crust pizza, hawaian pizza, manali pizzatea, coffee, kadala curry, chicken dum biryani, shawarma, ghee rice, chicken kebabmasala dosapanneer butter masala, vada, filter coffee, tandoori rotirolls, chicken momo, biryani, paneer rollshawarma, alpham chickenmasala dosa, caramel coffee, filter coffee, vadaappam, roast chicken, duck roast, vegetable stewaloo paratha, masala dosa, coffee, dahi vada, paneer parantha, sweet lassi, mix veg paranthaburgers, fried cheese, cheesy fries, oreo shake, pulled beef burger, beef patty, cheese ballsmasala dosa, thali, riceburgers, mojito, bbq burger, peri peri fries, grilled burgerperi peri chicken, fries, lemongrass chicken, margherita pizzaginger tea, poha, irani chai, chaai, sandwich, thick shakespanneer butter masala, idli, masala dosa, vada, coffee, roti, thalishawarma, chicken grill, faludapoha, samosa, jalebi, kachorifries, white sauce pasta, monster pizza, cheesy garlic bread, cheesy pizza, margherita pizzachole, kulfi, kachori, samosa, chaat, pav bhaji, barfiputtu biryani, egg roastburgers, peri peri chicken, grilled lamb burger, chicken burger, french friesgulab jamun, raita, chaat, chole, soya chaap, panipuri, dal makhaniroast chickenburgers, wings, whopper burger, cheesy fries, italian friesjeera rice, corn paratha, paneer bhurji, gobhi matar, vegetarian, sweet lassi, dal fryfish, parathawhole meat shawarma, fries, jumbo shawarma, malgoum shawarma, rolls, chicken shawarama, kerala parottapyaz kachori, chaat, gajar ka halwa, shrikhand, jalebi rabri, churma, boondi raitaneer dosafish curry, roast chicken, kerala parotta, appam, mutton pepper fry, sea food, ghee ricegulab jamun, buttermilk, egg bhurji, sprout salad, rotitacos, nachos, potato pops, potato burrito, fiery potato, rice bowls, taco jointambur biryani, mutton biryani, raitathali, egg masala, chole, paratha, roti, butter chicken, paneer manchurianveg momos, noodles, cheese momos, jhol momos, wai wai bhel, brownie, chicken momoveg salad, sandwichfish, appam, egg roast, kadala curry, chicken curry, beef fry, ghee ricedum biryani, mutton biryanibiryani, parathalassi, veg thali, roti, aloo paratha, egg currypanneer butter masala, butter chicken, kadhai paneer, egg biryani, paratha, noodles, chilli paneerginger tea, poha, banana cake, lemon chai, samosa, masala tea, ginger chaiburgers, crispy chicken, chicken grill, fiery chicken, chicken wings, ginger chicken, rice bowlbutter chicken, paratharava idli, filter coffee, tea, vada, paper masala dosa, donne biryanirotimutton biryani, dragon chicken, chicken dum biryani, vegetable biryani, paneer biryanichicken stew, ghee rice, chai, beef biryanimasala dosa, vada, tea, coffee, idlivada, masala dosa, kharabath, filter coffee, kesari bath, idli sambarrumali roti, rumali shawarma, burgers, shawarma burgerchicken grill, biryani, shawarma roll, rolls, arabian pulpy grape juicecoffee, peri peri fries, hot chocolate, scrambled eggs, donut, grilled chicken wrap, ice teachaat, dabeli, panipurimasala dosarolls, momos, paratha, chicken tikka roll, mutton keema, egg rollchaat, dabeli, pav bhaji, dhokla, gujarati food, jalebi, panipuripoha, bread omelette, ginger chai, ginger teamomos, pizza sandwich, manchow soup, chowmein, spring roll, noodles, white pastasandwiches, fruit juices, chaat, paneer sandwich, watermelon juice, cheese sandwichmasala dosa, panneer butter masalapodi idli, masala dosa, pongal, coffee, mini idlis, appam, raagi dosavada, rava idli, masala dosa, coffeeegg biryani, donne biryanimutton biryani, chicken kebab, donne biryanimutton kosha, kosha mangshoaloo paratha, samosa, kachori, poha, chaatfrench fries, peri peri fries, cup cake, potato fries, fried cheese, chicken fries, mexican friestandoori chicken, chicken boneless biryani, hyderabadi biryani, lemon chicken, mutton biryani, raitapav bhaji, dabeli, paratha, raj kachori, vada pavrolls, chicken roll, tandoori chicken, biryani, chicken lollipop, paratha, chicken grillmutton biryani, ambur biryani, chicken biryanimomos, noodles, thukpa, teriyaki chicken, chicken chowmein, clear chicken soup, beef chillinoodles, pasta, tibetan momos, clear soup, chicken momo, tibetan thukpa, teamasala dosachaat, chole bhature, raj kachori, thali, rasmalai, paratha, pav bhajipizza, spinach curry, saladcoffee, dahi vada, chaattea, chole, khichda, butter paneer, paneer bhurji, paratha, masala chaithali, mutton handiparatha, rolls, rotisabudana vada, masala dosa, filter coffee, pesarattu upma, podi idli, mirchi bajji, pongalcoffee, vada, chaat, rava idlichaat, panipuri, lassi, gol gappe, paratha, pav bhaji, samosafish thali, aloo parathaburgers, strawberry shake, fries, pancakes, chicken salad, lambbenne dosaginger chai, ginger tea, pakoda, paratha, maggi, pav bhaji, sulemani chaipasta, supreme pizza, thin crust pizza, cheesy garlic breadpizza, rolls, burgersbeef fry, fish fry, appam, masala prawn, egg roast, chicken curry, biryanichole, kulcha, mutton curry, paratha, mint raita, chicken curry, dal makhanibutter chicken, dal makhani, roti, tangdi kabab, panneer butter masalaburgers, chicken popcorn, peri peri chicken, wings, peri peri burger, fries, crunchy veg burgerbaklava, falafel roll, falafel plate, pita bread, mint lemonade, pita pocket, pomegranate juicecheese vada pav, kulfi, burgers, tikki, cheese fingers, schezwan vada pavpizza parantha, chai, paratha, fries, cheese maggi, rajma chawalchicken curry, fish, thali, rolls, rasgulla, chicken biryanicoffee, burgers, pasta, beef steak, chicken lasagne, salads, sandwichespizza, barbeque chickenpizza, bannoffee pie, mocktails, pasta alfredo, burgers, nachos, veg burgerpizza, chicken biryanibingsu, mocktails, custard, chocolate oreo, sandwiches, brownie, korean ice creamsandwiches, fries, sandwich, pizza, thick shakes, garlic breadpoha, kachori, samosa, sabudana khichdi, parathaappam, chicken curry, passion fruit juice, crepesandwiches, sandwichpita bread, rolls, shawarma roll, lebanese shawarma, chicken grill, barbeque chickenshawarma, sandwichesfish, rasmalai, doi katla, aalo bhaja, bhetki paturi, chicken kasha, aloo postoburgers, fries, chicken wings, popcorn, chicken grillsandwiches, maggi, ginger chai, samosa, ginger tea, kesar chai, masala chaimutton kosha, basanti pulao, fish curry, chicken biryaniwhole meat shawarma, jumbo shawarma, spicy shawarma, momosmomos, rice noodles, kung pao chicken, noodle, rice bowl, thai green curry, chicken dim sumsandwiches, maggi, rolls, chole bhature, ginger tea, paratha, rava masala dosarolls, bbq chicken, paneer makhanwala, jumbo chicken roll, veggie wrap, sabudana vada, chicken wrapburgers, fries, hot dog, chicken hotdog, cuban mojito, cheese burger, grilled burgerginger tea, filter coffee, sandwich, poha, waffles, vadagulab jamun, samosa, paratha, paneer curry, biryani, chaat, veg cutletmasala dosa, pongal, filter coffee, tea, idliexotic garlic bread, spicy falafel, burgers, pasta, pita pocket, pita pizza, veggie pizzatandoori chai, tea, paratha, samosa chaat, onion pakoda, raj kachoriidli, coffee, masala dosa, fruit juices, vada, thali, manchuriancheese parathafilter coffee, badam milk, idli, hot coffee, samosa, lemon tea, mini idlisburgers, wood fire pizza, nachoswaffles, pasta alfredo, hot coffeefilter coffee, lunch thali, idli, mini idlis, ghee masala dosa, rasam vada, pongalcoffee, sandwiches, teavada, idli, masala dosa, filter coffee, tea, sandwichesburgers, chai, paratha, sandwich, ginger tea, chaat, oreo shakeginger tea, chai, samosa, bun omelette, elaichi tea, egg bhurji, carrot caketea, coffee, neer dosa, gajar ka halwa, thali, chaat, cheese dosaveg momos, burgers, chocolate momos, momo burger, whole meat shawarma, paneer momoschicken drumsticks, wood fire pizza, thin crust pizza, barbeque chicken, lime soda, veggie pizza, bbq chickenmasala dosa, biryani, chicken stew, tea, appam, parathaspicy chickenbiryani, paratha, chicken masala, kerala parottaparatha, liti chokha, buttermilk, tea, aloo litti, raitasandwiches, fruit juices, french fries, irish coffeenaanrolls, veggie roll, chicken tikka roll, beda rotikosha mangsho, daab chingri, fish curry, dum biryanikachori, indori poha, cheese paratha, paneer parantha, thali, poha jalebibutter naan, tandoori chicken, chicken tikka masala, malai kofta, biryani, wheat paratha, noodlespoha, jalebi, paratha, bhindi masala, kachori, puri sabzi, samosasaag, veg thaliburgers, zinger burgertea, chai, sandwiches, sandwichbiryaniliti chokha, chilli chicken, chicken litti, paratha, lassi, pan fried momos, egg currypizza fries, almond shakemushroom masala, thali, aloo paratha, roti, samosa, panneer butter masalapizza, peri peri fries, veg paprikamomos, chicken lollipop, chicken momo, noodles, chicken thukparoti, chicken biryanirolls, chicken wings, shawarma, chicken tikka roll, burgers, fries, pastapizza, ice cream rolltandoori chicken, butter chicken, tandoori roti, bhindi masala, paratha, dal makhanipasta, burgers, sandwicheslassi, paratha, paneer parantha, butter chicken, punjabi chicken, shahi paneer, chicken kolhapuritikki, chicken tikka, chicken biryani, thali, shammi kebab roll, rumali roti, niharichicken nachos, chicken tacos, rice bowlraita, vegetable biryani, biryani combothali, coffee, buttermilk, tea, methi paratha, sweet lassi, aamrasbiryani, murgh lababdar, thalibhindi fry, aloo fry, sweet lassi, paratha, tawa roti, palak paneer, butter chickenburgers, belgian fries, pasta, salads, falafel pockets, greek sandwichroti, dal makhani, lassi, panneer butter masala, kulcha, masala papad, butter chickenlassi, punjabi chicken, paratha, kadhai murgh, butter naan, lemon chicken, rotibiryani, fish currychicken biryani, dum biryani, vegetable biryani, mutton biryanichicken biryani, hyderabadi dum biryani, raitanutella waffletandoori chicken, butter naan, kadai paneer, pepper chickenchicken biryani, thali, rolls, ambur biryani, palak paneer, salad, bhatti ka murghdal makhani, amritsari kulchaparatha, mutton currydum aloo, sweet lassi, aloo paratha, biryaniperi peri chicken, fries, lemongrass chicken, margherita pizzasandwiches, sandwich, coffeecoffee, vegetable biryani, masala chai, rotihyderabadi biryani, ginger chickennoodles, beef momos, chicken shaptra, chicken thukpa, clear soup, beef momo, chicken thupkawaffles, nutella ice cream, french friesburgers, cheesy pizza, chips, fries, rice bowl, white sauce pasta, chicken wingspizza, dragon chicken, butter chicken, noodles, chicken wings, chicken noodlesea foodchicken curry, red rice, fish curryappam, buttermilk, fry prawns, roast beef, masala prawn, chicken stew, murgh ghee roastcup cakethaliegg noodles, biryaniveg thali, fish thalithali, thepla, gulab jamun, masala lassi, rice, gujarati food, rotisea food, thali, red snapper, fish fry, neer dosadal makhani, rice, buttermilkraita, hyderabadi biryaniidli, masala dosa, sweet lassilassi, nachos, mojito, roti, panipuri, pizza, wafflesnachos, rice bowl, california burrito, rice bowls, chicken quesadilla, bbq chicken, pink lemonademomos, noodles, thukpa, chicken thupka, manchow soup, chicken momo, crispy honey chickenchai, aloo samosa, teathali, chicken lollipop, gundappa donne biryani, mutton biryanisabudana khichdi, pav bhaji, pyaz kachori, chole bhature, faluda, malai ghewar, lassithali, dhokla, chaat, samosa, panipuri, jalebi, pav bhajidhokla, raj kachori, panipuri, jalebi, pyaz kachorirolls, aloo paratha, lassi, bread omeletteluchi, mutton kosha, mutton curry, roti, fish finger, chicken currychole bhature, omeletteenglish breakfast, eggs, baked beans, oreo pancake, nutella pancakes, french toast, omelettewood fire pizzachicken noodle, noodles, paneer lababdar, paratharolls, shawarma roll, chicken grill, thalipizza, mocktailschicken biryani, chicken kebabfaluda, sandwiches, paneer tikka pizza, cream mango, custard apple cream, veg sandwichburgershazelnut cappuccino, pancakes, nutella shake, chocolate icecreams, butter chicken, hibiscus tealassi, nachos, mojito, roti, panipuri, pizza, wafflesmishti doi, rasgulla, radhaballavi, rasmalai, chamcham, dum aloo, malai rollfaluda, sandwiches, paneer tikka pizza, cream mango, custard apple cream, veg sandwichthali, dhokla, chaat, samosa, panipuri, jalebi, pav bhajiwaffles, nutella ice cream, french friesclub chicken sandwich, sandwiches, coffee, pie, burgers, carrot cake, cheesecakechole, kulfi, kachori, samosa, chaat, pav bhaji, barficup cakedum aloo, sweet lassi, aloo paratha, biryanifries, white sauce pasta, monster pizza, cheesy garlic bread, cheesy pizza, margherita pizzabingsu, mocktails, custard, chocolate oreo, sandwiches, brownie, korean ice creampizza, garlic bread, chocolavabutter naan, tandoori chicken, chicken tikka masala, malai kofta, biryani, wheat paratha, noodlessea foodpizza, dragon chicken, butter chicken, noodles, chicken wings, chicken noodlebhindi fry, aloo fry, sweet lassi, paratha, tawa roti, palak paneer, butter chickensandwiches, sandwich, coffeegarlic bread, pasta, veggie pizza, salsa, nachos, nawabi pizza, sicilian pizzaginger tea, masala tea, banana cake, poha, samosa, vada pav, sandwichesfaluda, sandwiches, paneer tikka pizza, cream mango, custard apple cream, veg sandwichthali, dhokla, chaat, samosa, panipuri, jalebi, pav bhajichole bhature, omeletterolls, shawarma roll, chicken grill, thalibutter chicken, parathatacos, nachos, potato pops, potato burrito, fiery potato, rice bowls, taco jointpyaz kachori, chaat, gajar ka halwa, shrikhand, jalebi rabri, churma, boondi raitalassi, nachos, mojito, roti, panipuri, pizza, wafflesmasala chaach, stuffed paratha, gulkand lassinachos, rice bowl, california burrito, rice bowls, chicken quesadilla, bbq chicken, pink lemonadefilter coffee, lunch thali, idli, mini idlis, ghee masala dosa, rasam vada, pongalmomos, noodles, thukpa, chicken thupka, manchow soup, chicken momo, crispy honey chickenpizza, spinach curry, saladcoffee, sandwiches, teabaklava, falafel roll, falafel plate, pita bread, mint lemonade, pita pocket, pomegranate juicemomos, noodles, thukpa, teriyaki chicken, chicken chowmein, clear chicken soup, beef chillipodi idli, masala dosa, pongal, coffee, mini idlis, appam, raagi dosapizza, ice cream rollgulab jamun, raita, chaat, chole, soya chaap, panipuri, dal makhaniveg momos, noodles, cheese momos, jhol momos, wai wai bhel, brownie, chicken momomasala idli, filter coffeetea, upma, coffee, pongal, podi idli, masala vada, mini idlischole, kulcha, mutton curry, paratha, mint raita, chicken curry, dal makhanineer dosaburgers, peri peri chicken, spicy chicken, grilled lamb burger, chicken burger, french friesnoodles, pasta, tibetan momos, clear soup, thukpa, steak, chicken momomomos, rice noodles, kung pao chicken, noodle, rice bowl, thai green curry, chicken dim sumsandwiches, masala pav, chicken burger, filter coffee, burgers, masala chai, french friessalads, chicken tikka, veg shammi, teriyaki chicken, sandwich, veggie delight, aloo pattykosha mangsho, daab chingri, fish curry, dum biryanirice bowl, burgers, hot wings, virgin mojito, chicken popcorn, fries, zinger burgerappam, buttermilk, fry prawns, roast beef, masala prawn, chicken stew, murgh ghee roastchai, ginger tea, maggi, aloo paratha, samosa, coffee, sandwichnaannoodles, beef momos, chicken shaptra, chicken thukpa, clear soup, beef momo, chicken thupkamishti doi, rasgulla, radhaballavi, rasmalai, chamcham, dum aloo, malai rolljeera rice, corn paratha, paneer bhurji, gobhi matar, vegetarian, sweet lassi, dal frytea, coffee, neer dosa, gajar ka halwa, thali, chaat, cheese dosapizza, peri peri fries, veg paprikaburgers, chicken crisp burger, chicken whopper, chicken keema burger, chicken fries, mutton whopper, chocolate shakeburgers, oreo mcflurry, french fries, mcspicy chicken burger, paneer pockets, tikki, chicken maharaja macrolls, bbq chicken, paneer makhanwala, jumbo chicken roll, veggie wrap, sabudana vada, chicken wrapchicken biryani, thali, rolls, ambur biryani, palak paneer, salad, bhatti ka murghginger tea, chai, samosa, bun omelette, elaichi tea, egg bhurji, carrot caketikki, chicken tikka, chicken biryani, thali, shammi kebab roll, rumali roti, niharirolls, chicken wings, shawarma, chicken tikka roll, burgers, fries, pastachaat, dabeli, pav bhaji, dhokla, gujarati food, jalebi, panipurithali, chicken lollipop, gundappa donne biryani, mutton biryanichicken curry, fish, thali, rolls, rasgulla, chicken biryanipoha, kachori, samosa, sabudana khichdi, parathasabudana khichdi, pav bhaji, pyaz kachori, chole bhature, faluda, malai ghewar, lassidal makhani, amritsari kulchaappam, chicken curry, passion fruit juice, crepebiryani, paratha, chicken masala, kerala parottahyderabadi biryani, ginger chickenburgers, mojito, bbq burger, peri peri fries, grilled burgerpav bhaji, dabeli, paratha, raj kachori, vada pavparatha, mutton currydhokla, raj kachori, panipuri, jalebi, pyaz kachorimasala dosaburgers, zinger burgerbutter chicken, dal makhani, roti, tangdi kabab, panneer butter masalasaag, veg thaliperi peri chicken, fries, lemongrass chicken, margherita pizzaburgers, belgian fries, pasta, salads, falafel pockets, greek sandwichrolls, masala veg frankie, chicken frankierolls, aloo paratha, lassi, bread omeletteparatha, fish frymasala dosa, biryani, chicken stew, tea, appam, parathafish thali, aloo paratharolls, momos, masala fries, kulfi, french fries, egg roll, paneer rollcoffee, burgers, pasta, beef steak, chicken lasagne, salads, sandwichesmomos, chicken lollipop, chicken momo, noodles, chicken thukpaluchi, mutton kosha, mutton curry, roti, fish finger, chicken curryidli, vada, coffee, masala dosa, masala poorithali, thepla, gulab jamun, masala lassi, rice, gujarati food, rotiburgers, fries, chicken wings, popcorn, chicken grillchai, lemon tea, ginger tea, rollsthalisea food, thali, red snapper, fish fry, neer dosafilter coffee, masala dosafalafel, shawarma, chicken shawarama, salad, whole wheat pita, middle eastern food, pizzachicken curry, red rice, fish curryplain paratha, prawn, chicken biryani, chicken dak bunglow, chicken masala, roti, aloo postoenglish breakfast, eggs, baked beans, oreo pancake, nutella pancakes, french toast, omelettesandwiches, sandwich, salads, shahi paneerchicken nachos, chicken tacos, rice bowlchicken noodle, noodles, paneer lababdar, paratharolls, momos, chicken egg roll, fries, cheese roll, veggie rolltea, chole, khichda, butter paneer, paneer bhurji, paratha, masala chaiegg noodles, biryanichicken biryani, chicken kebabpanneer butter masalaclub chicken sandwich, sandwiches, coffee, pie, burgers, carrot cake, cheesecakepoha, bread omelette, ginger chai, ginger teaidli sambar, bisi bele bhaath, podi masala dosa, tea, filter coffee, curd rice, vadafish, appam, egg roast, kadala curry, chicken curry, beef fry, ghee riceroast chicken, thalassery biryaniburgers, wood fire pizza, nachosmushroom masala, thali, aloo paratha, roti, samosa, panneer butter masalabenne dosathali, mutton handichicken biryani, ambur biryani, kothu paratha, onion raita, fish fryburgersfish, parathadonne biryani, mutton biryani, chicken kebab, chilli chicken, chicken biryani, kshatriya kebab, chicken frieschicken grill, grape juice, tandoori chicken, shawarma roll, wings, rolls, chicken currytandoori chicken, chicken boneless biryani, hyderabadi biryani, lemon chicken, mutton biryani, raitaparatha, liti chokha, buttermilk, tea, aloo litti, raitashawarma, chicken grill, faludamutton biryani, dragon chicken, chicken dum biryani, vegetable biryani, paneer biryanipizza, chicken biryaninutella waffleliti chokha, chilli chicken, chicken litti, paratha, lassi, pan fried momos, egg currypizza parantha, chai, paratha, fries, cheese maggi, rajma chawalraita, hyderabadi biryanichicken stew, ghee rice, chai, beef biryanibeef fry, fish fry, appam, masala prawn, egg roast, chicken curry, biryanidal makhani, rice, buttermilkmasala dosa, plain dosawood fire pizzarolls, veggie roll, chicken tikka roll, beda rotikachori, indori poha, cheese paratha, paneer parantha, thali, poha jalebiparatha, rolls, rotitandoori chicken, butter chicken, tandoori roti, bhindi masala, paratha, dal makhaniputtu biryani, egg roastmasala dosadum biryani, mutton biryanipanneer butter masala, idli, masala dosa, vada, coffee, roti, thaliroast chickenburgers, peri peri chicken, spicy chicken, grilled lamb burger, chicken burger, french friesjeera rice, corn paratha, paneer bhurji, gobhi matar, vegetarian, sweet lassi, dal fryradhaballavi, egg noodles, egg roll, egg devils, alur domputtu biryani, egg roastfries, white sauce pasta, monster pizza, cheesy garlic bread, cheesy pizza, margherita pizzashawarma, chicken grill, faludaburgers, wings, whopper burger, cheesy fries, italian friesgulab jamun, raita, chaat, chole, soya chaap, panipuri, dal makhanifish, parathaparatha, shahi paneerneer dosachole, kulfi, kachori, samosa, chaat, pav bhaji, barfithali, egg masala, paratha, chole, roti, butter chicken, paneer manchuriangulab jamun, buttermilk, egg bhurji, sprout salad, rotifish curry, roast chicken, kerala parotta, appam, mutton pepper fry, sea food, ghee ricebiryanifish, appam, egg roast, kadala curry, chicken curry, beef fry, ghee riceambur biryani, mutton biryani, raitalassi, veg thali, roti, aloo paratha, egg curryrasgulla, mutton kosha, chicken kasha, samosa chaat, kheer, veg thalipyaz kachori, chaat, gajar ka halwa, shrikhand, jalebi rabri, churma, boondi raitaparatha, kadai paneertacos, nachos, potato pops, potato burrito, fiery potato, rice bowls, taco jointveg momos, noodles, cheese momos, jhol momos, wai wai bhel, brownie, chicken momorava idli, filter coffee, tea, vada, paper masala dosa, donne biryaniwhole meat shawarma, fries, jumbo shawarma, malgoum shawarma, rolls, chicken shawarama, kerala parottabutter chicken, parathaveg salad, sandwichdum biryani, mutton biryanimutton biryani, dragon chicken, chicken dum biryani, vegetable biryani, paneer biryanighee ricechai, masala tea, samosa, banana cake, egg puff, ginger teamasala dosa, vada, tea, coffee, idlilitti, liti chokha, lassi, tea, paratha, thali, chaifriendly staffburgers, crispy chicken, fiery chicken, chicken wings, chicken grill, rice bowl, hot wingsbutter naan, tandoori chicken, chicken tikka masala, malai kofta, biryani, wheat paratha, noodleslassichicken biryani, chicken kebabchicken stew, ghee rice, chai, beef biryanitandoori chicken, butter chicken, tandoori roti, bhindi masala, paratha, dal makhanimasala dosachicken grill, grape juice, biryani, shawarma roll, rolls, chicken kebab, chicken shwarma rollraita, vegetable biryani, biryani combovada, masala dosa, kharabath, filter coffee, kesari bath, idli sambaregg biryani, donne biryanilassi, paratha, paneer parantha, butter chicken, punjabi chicken, shahi paneer, chicken kolhapuribiryani, fish currytandoori chicken, chicken boneless biryani, hyderabadi biryani, lemon chicken, mutton biryani, raitavada, rava idli, masala dosa, coffeepodi idli, masala dosa, pongal, coffee, mini idlis, appam, raagi dosabiryani, chicken curry, paratha, paya soup, mutton keema, chicken guntur, pepper chickenmasala dosa, panneer butter masalalassi, punjabi chicken, paratha, kadhai murgh, butter naan, lemon chicken, rotichaat, samosa, thali, sweet lassi, biryani, egg roll, masala paneermutton biryani, chicken kebab, donne biryanisandwiches, fruit juices, chaat, paneer sandwich, watermelon juice, cheese sandwichpoha, bread omelette, ginger chai, ginger teafish thali, aloo parathaaloo paratha, samosa, kachori, poha, chaatchole, kulcha, mutton curry, paratha, mint raita, chicken curry, dal makhanibhindi fry, aloo fry, sweet lassi, paratha, tawa roti, palak paneer, butter chickenmutton biryani, ambur biryani, chicken biryanirolls, momos, chicken egg roll, fries, cheese roll, veggie rollcoffee, dahi vada, chaatpizza, spinach curry, saladmasala dosamomos, pizza sandwich, manchow soup, chowmein, spring roll, noodles, white pastachaat, dabeli, pav bhaji, dhokla, gujarati food, jalebi, panipurichaat, dabeli, panipuriplain paratha, prawn, chicken biryani, chicken dak bunglow, chicken masala, roti, aloo postochicken biryani, thali, rolls, ambur biryani, palak paneer, salad, bhatti ka murghbeef fry, fish fry, appam, masala prawn, egg roast, chicken curry, biryaninoodles, pasta, tibetan momos, clear soup, thukpa, steak, chicken momochicken biryani, dum biryani, vegetable biryani, mutton biryanirumali roti, rumali shawarma, burgers, shawarma burgerburgers, oreo mcflurry, french fries, mcspicy chicken burger, paneer pockets, tikki, chicken maharaja macmutton kosha, basanti pulao, fish curry, chicken biryanirolls, chicken roll, tandoori chicken, biryani, chicken lollipop, paratha, chicken grilltea, chole, khichda, butter paneer, paneer bhurji, paratha, masala chaiginger chai, ginger tea, pakoda, paratha, maggi, pav bhaji, sulemani chaiparatha, rolls, rotimushroom masala, thali, aloo paratha, roti, samosa, panneer butter masalachaat, chole bhature, raj kachori, thali, rasmalai, paratha, pav bhajishawarma, sandwichesmomos, noodles, thukpa, teriyaki chicken, chicken chowmein, clear chicken soup, beef chillimasala dosa, pongal, filter coffee, tea, idlidal makhani, amritsari kulchapav bhaji, dabeli, paratha, raj kachori, vada pavfish, rasmalai, doi katla, aalo bhaja, bhetki paturi, chicken kasha, aloo postofilter coffee, lunch thali, idli, mini idlis, ghee masala dosa, rasam vada, pongalbutter chicken, dal makhani, roti, tangdi kabab, panneer butter masalarolls, chicken mayo, bbq chicken, chocolate fantasy, paneer roll, fiery paneer tikka, chicken wrapparatha, palak paneerchicken curry, fish, thali, rolls, rasgulla, chicken biryaniburgers, tea, ferrero rocher, sandwich, french friespizza, chicken biryanipizza, barbeque chickenpoha, kachori, samosa, sabudana khichdi, parathafrench fries, peri peri fries, cup cake, potato fries, fried cheese, chicken fries, mexican friespasta, supreme pizza, thin crust pizza, cheesy garlic breadtikki, chicken tikka, chicken biryani, thali, shammi kebab roll, rumali roti, niharivada, idli, masala dosa, filter coffee, tea, sandwichesbaklava, falafel roll, falafel plate, pita bread, mint lemonade, pita pocket, pomegranate juiceburgers, chicken popcorn, peri peri chicken, wings, peri peri burger, fries, crunchy veg burgerpizza parantha, chai, paratha, fries, cheese maggi, rajma chawalcheese parathacoffee, burgers, pasta, beef steak, chicken lasagne, salads, sandwicheschai, lemon tea, chicken rollmasala dosa, biryani, chicken stew, tea, appam, parathaidli, coffee, masala dosa, fruit juices, vada, thali, manchuriangulab jamun, samosa, paratha, paneer curry, biryani, chaat, veg cutletsandwiches, sandwichchaat, panipuri, lassi, gol gappe, paratha, pav bhaji, samosakosha mangsho, daab chingri, fish curry, dum biryanipizza, rolls, burgerssaag, veg thalinachos, rice bowl, california burrito, rice bowls, chicken quesadilla, bbq chicken, pink lemonadebingsu, mocktails, custard, chocolate oreo, sandwiches, brownie, korean ice creamchaat, aloo tikki, dabeli, panipuri, pav bhaji, vada pav, masala poorifruit bowl, grape juice, nannari sharbat, cheese sandwich, tea, cheese sandwiches, orange juicenaanburgers, fries, chicken wings, popcorn, chicken grillmomos, noodles, thukpa, chicken thupka, manchow soup, chicken momo, crispy honey chickenmomos, rice noodles, kung pao chicken, rice bowl, noodle, thai green curry, chicken dim sumsattu parathatea, coffee, neer dosa, gajar ka halwa, thali, chaat, cheese dosafilter coffee, badam milk, idli, hot coffee, samosa, lemon tea, mini idlisspicy chickenburgers, wood fire pizza, nachosburgers, fries, hot dog, chicken hotdog, cuban mojito, cheese burger, grilled burgerchicken biryani, hyderabadi dum biryani, raitachicken curry, red rice, fish curryakki rottis, neer dosakachori, indori poha, cheese paratha, paneer parantha, thali, poha jalebicoffee, sandwiches, tearoti, dal makhani, lassi, panneer butter masala, kulcha, masala papad, butter chickenginger tea, filter coffee, sandwich, poha, waffles, vadasandwiches, fries, sandwich, pizza, thick shakes, garlic breadchai, aloo samosa, teabiryani, paratha, chicken masala, kerala parottamasala dosa, vada, filter coffeecheese vada pav, kulfi, burgers, tikki, cheese fingers, schezwan vada pavappam, buttermilk, fry prawns, roast beef, masala prawn, chicken stew, murgh ghee roastcoffeeginger tea, chai, samosa, bun omelette, elaichi tea, egg bhurji, carrot cakesandwiches, fruit juices, french fries, irish coffeeroti, chicken biryanirolls, veggie roll, chicken tikka roll, beda rotiparatha, butter naan, thali, tandoori roti, lassipoha, jalebi, paratha, bhindi masala, kachori, puri sabzi, samosachai, ginger tea, maggi, aloo paratha, samosa, coffee, sandwichtea, chai, sandwiches, sandwichliti chokha, chilli chicken, chicken litti, paratha, lassi, pan fried momos, egg curryrolls, chicken wings, shawarma, chicken tikka roll, burgers, fries, pastaparatha, mutton currypasta, burgers, sandwicheschicken nachos, chicken tacos, rice bowltandoori chicken, butter naan, kadai paneer, pepper chickenburgers, belgian fries, pasta, salads, falafel pockets, greek sandwichpizza, peri peri fries, veg paprikaveg thali, fish thaliegg noodles, biryanibenne dosapizza fries, almond shakevada pav, misal pav, sabudana vada, dabeli, pav bhaji, sabudana khichdi, lassinoodles, beef momos, chicken shaptra, chicken thukpa, clear soup, beef momo, chicken thupkasea foodpizza, ice cream rollthali, thepla, gulab jamun, masala lassi, rice, gujarati food, rotinutella waffleperi peri chicken, fries, lemongrass chicken, margherita pizzacoffee, cappuccinomomos, chicken lollipop, chicken momo, noodles, chicken thukpaburgers, cheesy pizza, chips, fries, rice bowl, white sauce pasta, chicken wingswhole meat shawarma, jumbo shawarma, spicy shawarma, momoshyderabadi biryani, ginger chickenpizza, dragon chicken, butter chicken, noodles, chicken wings, chicken noodlecoffee, vegetable biryani, masala chai, rotiappam, chicken curry, passion fruit juice, crepethalidonne biryani, mutton biryani, chicken kebab, chilli chicken, chicken biryani, kshatriya kebab, chicken friesfish curry, appam, tea, egg roast, sea foodraita, hyderabadi biryaniwaffles, nutella ice cream, french friesidli, masala dosa, sweet lassichicken grill, rumali roti, rollsdal makhani, rice, buttermilkburgers, zinger burgerfaluda, sandwiches, paneer tikka pizza, cream mango, custard apple cream, veg sandwichlassi, nachos, mojito, roti, panipuri, pizza, wafflespizza, spicy paneer, chicken wings, garlic breadthali, chicken lollipop, gundappa donne biryani, mutton biryaninoodles, nasi goreng, rolls, kiwi mojito, brownie, tom yum soup, dumplingssabudana khichdi, pav bhaji, pyaz kachori, chole bhature, faluda, malai ghewar, lassithali, dhokla, chaat, samosa, panipuri, jalebi, pav bhajidhokla, raj kachori, panipuri, jalebi, pyaz kachorisandwiches, fruit juices, burgers, chicken sandwich, omelette, french fries, oreo shakeluchi, mutton kosha, mutton curry, roti, fish finger, chicken currysandwiches, sandwich, coffeelassi, soya chaap, fish, masala papadparathachole bhature, omeletteenglish breakfast, eggs, baked beans, oreo pancake, nutella pancakes, french toast, omelettebhaji dosawood fire pizzaginger tea, poha, irani chai, chaai, sandwich, thick shakesrolls, shawarma roll, chicken grill, thalicup cakeburgerssea food, thali, red snapper, fish fry, neer dosahazelnut cappuccino, pancakes, nutella shake, chocolate icecreams, butter chicken, vanilla ice cream, hibiscus teafaluda, sandwiches, paneer tikka pizza, cream mango, custard apple cream, veg sandwichclub chicken sandwich, sandwiches, coffee, pie, burgers, carrot cake, cheesecakelassi, nachos, mojito, roti, panipuri, pizza, wafflesbingsu, mocktails, custard, chocolate oreo, sandwiches, brownie, korean ice creammishti doi, rasgulla, radhaballavi, rasmalai, chamcham, dum aloo, malai rollthali, dhokla, chaat, samosa, panipuri, jalebi, pav bhajiwaffles, nutella ice cream, french friessandwiches, sandwich, coffeechole, kulfi, kachori, samosa, chaat, pav bhaji, barfichole bhature, puri sabzi, chaat, panipuri, rasmalai, jalebi, pav bhajifaluda, sandwiches, paneer tikka pizza, cream mango, custard apple cream, veg sandwichnachos, rice bowl, california burrito, rice bowls, chicken quesadilla, bbq chicken, pink lemonadefilter coffee, lunch thali, idli, mini idlis, ghee masala dosa, rasam vada, pongalmomos, noodles, thukpa, chicken thupka, manchow soup, chicken momo, crispy honey chickenveg momos, noodles, cheese momos, jhol momos, wai wai bhel, brownie, chicken momomasala idli, filter coffeeburgers, peri peri chicken, spicy chicken, grilled lamb burger, chicken burger, french friesnoodles, pasta, tibetan momos, clear soup, thukpa, steak, chicken momosandwiches, masala pav, chicken burger, filter coffee, burgers, masala chai, french friessalads, chicken tikka, veg shammi, teriyaki chicken, sandwich, veggie delight, aloo pattypizza, lemonade, pastakosha mangsho, daab chingri, fish curry, dum biryaninoodles, beef momos, chicken shaptra, chicken thukpa, clear soup, beef momo, chicken thupkaburgers, oreo mcflurry, french fries, mcspicy chicken burger, paneer pockets, tikki, chicken maharaja macginger tea, chai, samosa, bun omelette, elaichi tea, egg bhurji, carrot cakesattu parathaburgers, zinger burgermasala dosaburgers, belgian fries, pasta, salads, falafel pockets, greek sandwichthali, thepla, gulab jamun, masala lassi, rice, gujarati food, rotisea food, thali, red snapper, fish fry, neer dosatea, chole, khichda, butter paneer, paneer bhurji, paratha, masala chaiclub chicken sandwich, sandwiches, coffee, pie, burgers, carrot cake, cheesecakeginger tea, masala tea, banana cake, poha, samosa, vada pav, sandwichesthali, dhokla, chaat, samosa, panipuri, jalebi, pav bhajichole bhature, omeletterolls, shawarma roll, chicken grill, thalibutter chicken, parathatacos, nachos, potato pops, potato burrito, fiery potato, rice bowls, taco jointpyaz kachori, chaat, gajar ka halwa, shrikhand, jalebi rabri, churma, boondi raitalassi, nachos, mojito, roti, panipuri, pizza, wafflesmasala chaach, stuffed paratha, gulkand lassipizza, spinach curry, saladcoffee, sandwiches, teafries, white sauce pasta, monster pizza, cheesy garlic bread, cheesy pizza, margherita pizzabaklava, falafel roll, falafel plate, pita bread, mint lemonade, pita pocket, pomegranate juicemomos, noodles, thukpa, teriyaki chicken, chicken chowmein, clear chicken soup, beef chillipodi idli, masala dosa, pongal, coffee, mini idlis, appam, raagi dosapizza, ice cream rollgulab jamun, raita, chaat, chole, soya chaap, panipuri, dal makhanibingsu, mocktails, custard, chocolate oreo, sandwiches, brownie, korean ice creamtea, upma, coffee, pongal, podi idli, masala vada, mini idlischole, kulcha, mutton curry, paratha, mint raita, chicken curry, dal makhanineer dosamomos, rice noodles, kung pao chicken, rice bowl, noodle, thai green curry, chicken dim sumrice bowl, burgers, hot wings, virgin mojito, chicken popcorn, fries, zinger burgerappam, buttermilk, fry prawns, roast beef, masala prawn, chicken stew, murgh ghee roastchai, ginger tea, maggi, aloo paratha, samosa, coffee, sandwichbutter naan, tandoori chicken, chicken tikka masala, malai kofta, biryani, wheat paratha, noodlesnaanmishti doi, rasgulla, radhaballavi, rasmalai, chamcham, dum aloo, malai rollsea foodtea, coffee, neer dosa, gajar ka halwa, thali, chaat, cheese dosapizza, peri peri fries, veg paprikajeera rice, corn paratha, paneer bhurji, gobhi matar, vegetarian, sweet lassi, dal fryburgers, chicken crisp burger, chicken whopper, chicken keema burger, chicken fries, mutton whopper, chocolate shakerolls, bbq chicken, paneer makhanwala, jumbo chicken roll, veggie wrap, sabudana vada, chicken wrapchicken biryani, thali, rolls, ambur biryani, palak paneer, salad, bhatti ka murghtikki, chicken tikka, chicken biryani, thali, shammi kebab roll, rumali roti, niharirolls, chicken wings, shawarma, chicken tikka roll, burgers, fries, pastapizza, dragon chicken, butter chicken, noodles, chicken wings, chicken noodlechaat, dabeli, pav bhaji, dhokla, gujarati food, jalebi, panipurithali, chicken lollipop, gundappa donne biryani, mutton biryanichicken curry, fish, thali, rolls, rasgulla, chicken biryanipoha, kachori, samosa, sabudana khichdi, parathasabudana khichdi, pav bhaji, pyaz kachori, chole bhature, faluda, malai ghewar, lassidal makhani, amritsari kulchaappam, chicken curry, passion fruit juice, crepebiryani, paratha, chicken masala, kerala parottaparatha, liti chokha, buttermilk, tea, aloo litti, raitahyderabadi biryani, ginger chickenburgers, mojito, bbq burger, peri peri fries, grilled burgerparatha, mutton currypav bhaji, dabeli, paratha, raj kachori, vada pavbhindi fry, aloo fry, sweet lassi, paratha, tawa roti, palak paneer, butter chickendhokla, raj kachori, panipuri, jalebi, pyaz kachoributter chicken, dal makhani, roti, tangdi kabab, panneer butter masalasaag, veg thaliperi peri chicken, fries, lemongrass chicken, margherita pizzarolls, masala veg frankie, chicken frankieparatha, fish fryfish thali, aloo parathamasala dosa, biryani, chicken stew, tea, appam, paratharolls, momos, masala fries, kulfi, french fries, egg roll, paneer rollmomos, chicken lollipop, chicken momo, noodles, chicken thukpacoffee, burgers, pasta, beef steak, chicken lasagne, salads, sandwichesluchi, mutton kosha, mutton curry, roti, fish finger, chicken curryidli, vada, coffee, masala dosa, masala poorisandwiches, sandwich, coffeeburgers, fries, chicken wings, popcorn, chicken grillchai, lemon tea, ginger tea, rollsthaligarlic bread, pasta, veggie pizza, salsa, nachos, nawabi pizza, sicilian pizzafilter coffee, masala dosafalafel, shawarma, chicken shawarama, salad, whole wheat pita, middle eastern food, pizzachicken curry, red rice, fish curryplain paratha, prawn, chicken biryani, chicken dak bunglow, chicken masala, roti, aloo postoenglish breakfast, eggs, baked beans, oreo pancake, nutella pancakes, french toast, omelettesandwiches, sandwich, salads, shahi paneerchicken nachos, chicken tacos, rice bowlrolls, veggie roll, chicken tikka roll, beda rotirolls, momos, chicken egg roll, fries, cheese roll, veggie rollegg noodles, biryanichicken biryani, chicken kebabpanneer butter masalapoha, bread omelette, ginger chai, ginger teaambur biryani, mutton biryani, prawn, raita, brinjal curry, vegetable biryani, fishfish, appam, egg roast, kadala curry, chicken curry, beef fry, ghee ricelassi, paratha, paneer parantha, butter chicken, punjabi chicken, shahi paneer, chicken kolhapuriroast chicken, thalassery biryaniburgers, wood fire pizza, nachosmasala dosa, panneer butter masalalassi, veg thali, roti, aloo paratha, egg currywhole meat shawarmadonne biryani, mutton biryani, chicken kebab, chilli chicken, chicken biryani, kshatriya kebab, chicken friesburgers, chicken popcorn, peri peri chicken, wings, peri peri burger, fries, crunchy veg burgernoodles, nasi goreng, rolls, kiwi mojito, brownie, tom yum soup, dumplingsidli, masala dosa, sweet lassichole bhature, puri sabzi, chaat, panipuri, rasmalai, jalebi, pav bhajivada, rava idli, masala dosa, coffeeshawarma, chicken grill, faludamutton biryani, dragon chicken, chicken dum biryani, vegetable biryani, paneer biryanisandwiches, fruit juices, burgers, chicken sandwich, omelette, french fries, oreo shakechaat, panipuri, lassi, aloo paratha, chai, gulab jamunnutella wafflechicken grill, biryani, shawarma roll, rolls, arabian pulpy grape juicepizza parantha, chai, paratha, fries, cheese maggi, rajma chawalraita, hyderabadi biryanichicken stew, ghee rice, chai, beef biryanibeef fry, fish fry, appam, masala prawn, egg roast, chicken curry, biryanidal makhani, rice, buttermilkmasala dosa, plain dosalassi, soya chaap, fish, masala papadroti, chicken biryaniparathawood fire pizzakachori, indori poha, cheese paratha, paneer parantha, thali, poha jalebiparatha, rolls, rotitandoori chicken, butter chicken, tandoori roti, bhindi masala, paratha, dal makhaniputtu biryani, egg roastchaat, dabeli, panipurimasala dosadum biryani, mutton biryaniburgers, mojito, bbq burger, peri peri fries, grilled burgerperi peri chicken, fries, lemongrass chicken, margherita pizzaginger tea, poha, irani chai, chaai, sandwich, thick shakesfish curry, roast chicken, kerala parotta, appam, mutton pepper fry, sea food, ghee ricechole, kulfi, kachori, samosa, chaat, pav bhaji, barfijeera rice, corn paratha, paneer bhurji, gobhi matar, vegetarian, sweet lassi, dal frygulab jamun, raita, chaat, chole, soya chaap, panipuri, dal makhaniputtu biryani, egg roastburgers, peri peri chicken, spicy chicken, grilled lamb burger, chicken burger, french friesfries, white sauce pasta, monster pizza, cheesy garlic bread, cheesy pizza, margherita pizzashawarma, chicken grill, faludafish, parathapanneer butter masala, idli, masala dosa, vada, coffee, roti, thaliburgers, wings, whopper burger, cheesy fries, italian friesroast chickenwhole meat shawarma, fries, jumbo shawarma, malgoum shawarma, rolls, chicken shawarama, kerala parottagulab jamun, buttermilk, egg bhurji, sprout salad, rotiparatha, tikka, rajma, sweet lassi, murgh patiala, paneer lababdar, dal makhanisalads, chicken tikka, veg shammi, teriyaki chicken, sandwich, veggie delight, aloo pattyfish, appam, egg roast, kadala curry, chicken curry, beef fry, ghee ricelassi, veg thali, roti, aloo paratha, egg currythali, egg masala, paratha, chole, roti, butter chicken, paneer manchurianrolls, bbq chicken, paneer makhanwala, jumbo chicken roll, veggie wrap, sabudana vada, chicken wrapmutton biryani, dragon chicken, chicken dum biryani, vegetable biryani, paneer biryanidum biryani, mutton biryaniveg momos, noodles, cheese momos, jhol momos, wai wai bhel, brownie, chicken momoneer dosaambur biryani, mutton biryani, raitatacos, nachos, potato pops, potato burrito, fiery potato, rice bowls, taco jointbutter chicken, parathapyaz kachori, chaat, gajar ka halwa, shrikhand, jalebi rabri, churma, boondi raitabutter naan, tandoori chicken, chicken tikka masala, malai kofta, biryani, wheat paratha, noodlesburgers, crispy chicken, fiery chicken, chicken wings, chicken grill, rice bowl, hot wingschicken stew, ghee rice, chai, beef biryanichicken grill, biryani, shawarma roll, rolls, arabian pulpy grape juicerotifilter coffee, lunch thali, idli, mini idlis, ghee masala dosa, rasam vada, pongalrolls, chicken roll, tandoori chicken, biryani, chicken lollipop, paratha, chicken grillpizza, spinach curry, saladmasala dosa, panneer butter masalaraita, vegetable biryani, biryani combomasala dosatandoori chicken, butter chicken, tandoori roti, bhindi masala, paratha, dal makhaniegg biryani, donne biryanilassi, paratha, paneer parantha, butter chicken, punjabi chicken, shahi paneer, chicken kolhapurivada, masala dosa, kharabath, filter coffee, kesari bath, idli sambarpodi idli, masala dosa, pongal, coffee, mini idlis, appam, raagi dosalassi, punjabi chicken, paratha, kadhai murgh, butter naan, lemon chicken, rotirolls, momos, paratha, chicken tikka roll, mutton keema, egg rolltandoori chicken, chicken boneless biryani, hyderabadi biryani, lemon chicken, mutton biryani, raitabhindi fry, aloo fry, sweet lassi, paratha, tawa roti, palak paneer, butter chickenmasala dosarumali roti, rumali shawarma, burgers, shawarma burgerburgers, cheesy pizza, chips, fries, rice bowl, white sauce pasta, chicken wingsfish thali, aloo parathasandwiches, fruit juices, chaat, paneer sandwich, watermelon juice, cheese sandwichvada, rava idli, masala dosa, coffeecoffee, dahi vada, chaatchole, kulcha, mutton curry, paratha, mint raita, chicken curry, dal makhanipizza, dragon chicken, butter chicken, noodles, chicken wings, chicken noodlechaat, dabeli, panipuriplain paratha, prawn, chicken biryani, chicken dak bunglow, chicken masala, roti, aloo postomutton biryani, ambur biryani, chicken biryanibutter chicken, dal makhani, roti, tangdi kabab, panneer butter masalamomos, pizza sandwich, manchow soup, chowmein, spring roll, noodles, white pastachaat, dabeli, pav bhaji, dhokla, gujarati food, jalebi, panipurimasala dosa, rava dosa, rava idli, filter coffee, vada, kesari bath, veg sandwichmutton biryani, chicken kebab, donne biryaninoodles, pasta, tibetan momos, clear soup, thukpa, steak, chicken momomomos, noodles, thukpa, teriyaki chicken, chicken chowmein, clear chicken soup, beef chillibeef fry, fish fry, appam, masala prawn, egg roast, chicken curry, biryanipasta, burgers, sandwichespav bhaji, dabeli, paratha, raj kachori, vada pavpizza, chicken biryanimushroom masala, thali, aloo paratha, roti, samosa, panneer butter masalapasta, supreme pizza, thin crust pizza, cheesy garlic breadthali, mutton handimasala dosa, pongal, filter coffee, tea, idliburgers, oreo mcflurry, french fries, mcspicy chicken burger, paneer pockets, tikki, chicken maharaja macfrench fries, peri peri fries, cup cake, potato fries, fried cheese, chicken fries, mexican friesrolls, shawarma, chicken shawarama, beef shwarma, haleem, beef seekh roll, chicken rolltea, chole, khichda, butter paneer, paneer bhurji, paratha, masala chaiparatha, rolls, rotichicken curry, fish, thali, rolls, rasgulla, chicken biryanichaat, chole bhature, raj kachori, thali, rasmalai, paratha, pav bhajiginger chai, ginger tea, pakoda, paratha, maggi, pav bhaji, sulemani chaifish, rasmalai, doi katla, aalo bhaja, bhetki paturi, chicken kasha, aloo postoappam, chicken curry, passion fruit juice, crepecoffee, burgers, pasta, beef steak, chicken lasagne, salads, sandwichesbaklava, falafel roll, falafel plate, pita bread, mint lemonade, pita pocket, pomegranate juicetikki, chicken tikka, chicken biryani, thali, shammi kebab roll, rumali roti, niharibingsu, mocktails, custard, chocolate oreo, sandwiches, brownie, korean ice creamburgers, chicken popcorn, peri peri chicken, peri peri burger, fries, chicken wings, crunchy veg burgershawarma, sandwichessandwiches, fries, sandwich, pizza, thick shakes, garlic breadlassi, nachos, mojito, roti, panipuri, pizza, wafflespizza, garlic bread, chocolavadal makhani, amritsari kulchagulab jamun, samosa, paratha, paneer curry, biryani, chaat, veg cutletliti chokha, chilli chicken, chicken litti, paratha, lassi, pan fried momos, egg currycheese paratharolls, chicken wings, shawarma, chicken tikka roll, burgers, fries, pastadum biryanikosha mangsho, daab chingri, fish curry, dum biryaniwhole meat shawarma, jumbo shawarma, spicy shawarma, momosvada, idli, masala dosa, filter coffee, tea, sandwichesmomos, rice noodles, kung pao chicken, rice bowl, noodle, thai green curry, chicken dim sumnaanchaat, panipuri, lassi, gol gappe, paratha, pav bhaji, samosasaag, veg thalisattu parathaburgers, fries, chicken wings, popcorn, chicken grillmasala dosa, vada, tea, coffee, idliburgers, wood fire pizza, nachosroti, dal makhani, lassi, panneer butter masala, kulcha, masala papad, butter chickenburgers, mojito, bbq burger, peri peri fries, grilled burgerchicken curry, red rice, fish currymasala dosa, biryani, chicken stew, tea, appam, parathaburgers, zinger burgerpoha, bread omelette, ginger chai, ginger tearoti, chicken biryanifilter coffee, badam milk, idli, hot coffee, samosa, lemon tea, mini idlissandwiches, fruit juices, french fries, irish coffeepizza parantha, chai, paratha, fries, cheese maggi, rajma chawaltea, coffee, neer dosa, gajar ka halwa, thali, chaat, cheese dosacoffee, sandwiches, teafruit bowl, grape juice, nannari sharbat, cheese sandwich, tea, cheese sandwiches, orange juiceginger tea, filter coffee, sandwich, poha, waffles, vadamomos, chicken lollipop, chicken momo, noodles, chicken thukpapoha, jalebi, paratha, bhindi masala, kachori, puri sabzi, samosabiryani, paratha, chicken masala, kerala parottaspicy chickenraita, hyderabadi biryanirolls, veggie roll, chicken tikka roll, beda rotiveg momos, burgers, chocolate momos, momo burger, whole meat shawarma, paneer momoskachori, indori poha, cheese paratha, paneer parantha, thali, poha jalebibiryani, murgh lababdar, thalihyderabadi biryani, ginger chickenparatha, mutton curryburgers, raita, fries, chicken noodle, bbq burger, poha, sandwichescoffee, vegetable biryani, masala chai, rotiburgers, belgian fries, pasta, salads, falafel pockets, greek sandwichginger tea, chai, samosa, bun omelette, elaichi tea, egg bhurji, carrot cakepizza, peri peri fries, veg paprikatea, chai, sandwiches, sandwichtandoori chicken, butter naan, kadai paneer, pepper chickenpizza, ice cream rollegg noodles, biryanipizza fries, almond shakebenne dosanutella waffleparatha, liti chokha, buttermilk, tea, aloo litti, raitachai, masala tea, samosa, banana cake, egg puff, ginger teasea foodnoodles, beef momos, chicken shaptra, chicken thukpa, clear soup, beef momo, chicken thupkasabudana khichdi, pav bhaji, pyaz kachori, chole bhature, faluda, malai ghewar, lassiperi peri chicken, fries, lemongrass chicken, margherita pizzachicken nachos, chicken tacos, rice bowlappam, buttermilk, fry prawns, roast beef, masala prawn, chicken stew, murgh ghee roastsandwiches, maggi, ginger chai, samosa, ginger tea, kesar chai, masala chaithali, dhokla, chaat, samosa, panipuri, jalebi, pav bhajidhokla, raj kachori, panipuri, jalebi, pyaz kachoriwaffles, nutella ice cream, french friessandwiches, sandwichcup cakeluchi, mutton kosha, mutton curry, roti, fish finger, chicken currychole bhature, omeletteenglish breakfast, eggs, baked beans, oreo pancake, nutella pancakes, french toast, omeletteginger tea, poha, irani chai, chaai, sandwich, thick shakesrolls, shawarma roll, chicken grill, thaliveg thali, fish thalithalidonne biryani, mutton biryani, chicken kebab, chilli chicken, chicken biryani, kshatriya kebab, chicken frieschai, aloo samosa, teafish curry, appam, tea, egg roast, sea foodpoha, kachori, samosa, sabudana khichdi, parathadal makhani, rice, buttermilkidli, masala dosa, sweet lassisea food, thali, red snapper, fish fry, neer dosanachos, rice bowl, california burrito, rice bowls, chicken quesadilla, bbq chicken, pink lemonademomos, noodles, thukpa, chicken thupka, manchow soup, chicken momo, crispy honey chickenchicken biryani, thali, rolls, ambur biryani, palak paneer, salad, bhatti ka murghthali, chicken lollipop, gundappa donne biryani, mutton biryanisandwiches, fruit juices, burgers, chicken sandwich, omelette, french fries, oreo shakesandwiches, sandwich, coffeethali, thepla, gulab jamun, masala lassi, rice, gujarati food, rotiparathawood fire pizzachicken noodle, noodles, paneer lababdar, parathachicken biryani, chicken kebabfaluda, sandwiches, paneer tikka pizza, cream mango, custard apple cream, veg sandwichburgerslassi, nachos, mojito, roti, panipuri, pizza, wafflesthali, dhokla, chaat, samosa, panipuri, jalebi, pav bhajihazelnut cappuccino, pancakes, nutella shake, chocolate icecreams, butter chicken, vanilla ice cream, hibiscus teabingsu, mocktails, custard, chocolate oreo, sandwiches, brownie, korean ice creammishti doi, rasgulla, radhaballavi, rasmalai, chamcham, dum aloo, malai rollwaffles, nutella ice cream, french friesfaluda, sandwiches, paneer tikka pizza, cream mango, custard apple cream, veg sandwichsandwiches, sandwich, coffeeclub chicken sandwich, sandwiches, coffee, pie, burgers, carrot cake, cheesecakechole, kulfi, kachori, samosa, chaat, pav bhaji, barfiginger tea, masala tea, banana cake, poha, samosa, vada pav, sandwichesthali, dhokla, chaat, samosa, panipuri, jalebi, pav bhajichole bhature, omeletterolls, shawarma roll, chicken grill, thalitacos, nachos, potato pops, potato burrito, fiery potato, rice bowls, taco jointpyaz kachori, chaat, gajar ka halwa, shrikhand, jalebi rabri, churma, boondi raitalassi, nachos, mojito, roti, panipuri, pizza, wafflesmasala chaach, stuffed paratha, gulkand lassipodi idli, masala dosa, pongal, coffee, mini idlis, appam, raagi dosagulab jamun, raita, chaat, chole, soya chaap, panipuri, dal makhanipizza, ice cream rolltea, upma, coffee, pongal, podi idli, masala vada, mini idliscoffee, sandwiches, tearice bowl, burgers, hot wings, virgin mojito, chicken popcorn, fries, zinger burgerpizza, barbeque chickenchaat, dabeli, pav bhaji, dhokla, gujarati food, jalebi, panipuripoha, kachori, samosa, sabudana khichdi, parathasabudana khichdi, pav bhaji, pyaz kachori, chole bhature, faluda, malai ghewar, lassirolls, chicken wings, shawarma, chicken tikka roll, burgers, fries, pastaburgers, mojito, bbq burger, peri peri fries, grilled burgerdhokla, raj kachori, panipuri, jalebi, pyaz kachoributter chicken, dal makhani, roti, tangdi kabab, panneer butter masalaperi peri chicken, fries, lemongrass chicken, margherita pizzaluchi, mutton kosha, mutton curry, roti, fish finger, chicken currychicken nachos, chicken tacos, rice bowlenglish breakfast, eggs, baked beans, oreo pancake, nutella pancakes, french toast, omelettesandwiches, sandwich, salads, shahi paneeregg noodles, biryanidum aloo, sweet lassi, aloo paratha, biryanifaluda, sandwiches, paneer tikka pizza, cream mango, custard apple cream, veg sandwichbutter chicken, parathanachos, rice bowl, california burrito, rice bowls, chicken quesadilla, bbq chicken, pink lemonadefries, white sauce pasta, monster pizza, cheesy garlic bread, cheesy pizza, margherita pizzafilter coffee, lunch thali, idli, mini idlis, ghee masala dosa, rasam vada, pongalmomos, noodlesbingsu, mocktails, custard, chocolate oreo, sandwiches, brownie, korean ice creamchai, ginger tea, maggi, aloo paratha, samosa, coffee, sandwichmomos, noodles, thukpa, chicken thupka, manchow soup, chicken momo, crispy honey chickenbaklava, falafel roll, falafel plate, pita bread, mint lemonade, pita pocket, pomegranate juicemomos, noodles, thukpa, teriyaki chicken, chicken chowmein, clear chicken soup, beef chillipizza, spinach curry, saladburgers, peri peri chicken, spicy chicken, grilled lamb burger, chicken burger, french friesappam, buttermilk, fry prawns, roast beef, masala prawn, chicken stew, murgh ghee roastmasala idli, filter coffeenoodles, pasta, tibetan momos, clear soup, thukpa, steak, chicken momoveg momos, noodles, cheese momos, jhol momos, wai wai bhel, brownie, chicken momoneer dosachole, kulcha, mutton curry, paratha, mint raita, chicken curry, dal makhaniburgers, chicken crisp burger, chicken whopper, chicken keema burger, chicken fries, mutton whopper, chocolate shakesandwiches, masala pav, chicken burger, filter coffee, burgers, masala chai, french friesmomos, rice noodles, kung pao chicken, rice bowl, noodle, thai green curry, chicken dim sumkosha mangsho, daab chingri, fish curry, dum biryanirolls, bbq chicken, paneer makhanwala, jumbo chicken roll, veggie wrap, sabudana vada, chicken wrapnoodles, beef momos, chicken shaptra, chicken thukpa, clear soup, beef momo, chicken thupkamishti doi, rasgulla, radhaballavi, rasmalai, chamcham, dum aloo, malai rollbutter naan, tandoori chicken, chicken tikka masala, malai kofta, biryani, wheat paratha, noodlesginger tea, chai, samosa, bun omelette, elaichi tea, egg bhurji, carrot cakebhindi fry, aloo fry, sweet lassi, paratha, tawa roti, palak paneer, butter chickensea foodsalads, chicken tikka, veg shammi, teriyaki chicken, sandwich, veggie delight, aloo pattyappam, chicken curry, passion fruit juice, crepetea, coffee, neer dosa, gajar ka halwa, thali, chaat, cheese dosachicken biryani, thali, rolls, ambur biryani, palak paneer, salad, bhatti ka murghtikki, chicken tikka, chicken biryani, thali, shammi kebab roll, rumali roti, niharifish thali, aloo parathapizza, peri peri fries, veg paprikaplain paratha, prawn, chicken biryani, chicken dak bunglow, chicken masala, roti, aloo postomasala dosathali, chicken lollipop, gundappa donne biryani, mutton biryaniburgers, wedges, ice tea, maharaja burger, maharaja mac, french fries, hash brownmomos, chicken lollipop, chicken momo, noodles, chicken thukpachicken curry, fish, thali, rolls, rasgulla, chicken biryaninaanpav bhaji, dabeli, paratha, raj kachori, vada pavbiryani, paratha, chicken masala, kerala parottaparatha, mutton currycoffee, burgers, pasta, beef steak, chicken lasagne, salads, sandwichesdal makhani, amritsari kulchasaag, veg thalipizza, dragon chicken, butter chicken, noodles, chicken wings, chicken noodlehyderabadi biryani, ginger chickenmasala dosa, biryani, chicken stew, tea, appam, paratharolls, masala veg frankie, chicken frankieparatha, fish fryrolls, momos, masala fries, kulfi, french fries, egg roll, paneer rollparatha, liti chokha, buttermilk, tea, aloo litti, raitagarlic bread, pasta, veggie pizza, salsa, nachos, nawabi pizza, sicilian pizzathaliburgers, fries, chicken wings, popcorn, chicken grillburgers, belgian fries, pasta, salads, falafel pockets, greek sandwichchicken curry, red rice, fish curryidli, vada, coffee, masala dosa, masala poorisea food, thali, red snapper, fish fry, neer dosajeera rice, corn paratha, paneer bhurji, gobhi matar, vegetarian, sweet lassi, dal frysandwiches, sandwich, coffeethali, thepla, gulab jamun, masala lassi, rice, gujarati food, rotiburgers, zinger burgerchai, lemon tea, ginger tea, rollsfilter coffee, masala dosafalafel, shawarma, chicken shawarama, salad, whole wheat pita, middle eastern food, pizzachicken noodle, noodles, paneer lababdar, parathachocolate momos, thukpa, tandoori momos, paneer momostea, chole, khichda, butter paneer, paneer bhurji, paratha, masala chaiclub chicken sandwich, sandwiches, coffee, pie, burgers, carrot cake, cheesecakerolls, momos, chicken egg roll, fries, cheese roll, veggie rollchicken biryani, chicken kebabrolls, veggie roll, chicken tikka roll, beda rotipanneer butter masalapoha, bread omelette, ginger chai, ginger teaburgers, wood fire pizza, nachosfish, appam, egg roast, kadala curry, chicken curry, beef fry, ghee riceroast chicken, thalassery biryanimasala dosa, panneer butter masalashawarma, chicken grill, faludadonne biryani, mutton biryani, chicken kebab, chilli chicken, chicken biryani, kshatriya kebab, chicken friesparatha, rolls, rotimutton biryani, ambur biryani, chicken biryanichicken grill, biryani, shawarma roll, rolls, arabian pulpy grape juicechaat, dabeli, panipuribeef fry, fish fry, appam, masala prawn, egg roast, chicken curry, biryanikachori, indori poha, cheese paratha, paneer parantha, thali, poha jalebichicken stew, ghee rice, chai, beef biryanimutton biryani, dragon chicken, chicken dum biryani, vegetable biryani, paneer biryaniraita, hyderabadi biryanisandwiches, fruit juices, burgers, chicken sandwich, omelette, french fries, oreo shakeroti, chicken biryanipizza parantha, chai, paratha, fries, cheese maggi, rajma chawalnutella wafflemasala dosa, plain dosaparathawood fire pizzaputtu biryani, egg roastdum biryani, mutton biryanitandoori chicken, butter chicken, tandoori roti, bhindi masala, paratha, dal makhanimasala dosaburgers, mojito, bbq burger, peri peri fries, grilled burgerperi peri chicken, fries, lemongrass chicken, margherita pizzaginger tea, poha, irani chai, chaai, sandwich, thick shakesradhaballavi, egg noodles, egg roll, egg devils, alur domchole, kulfi, kachori, samosa, chaat, pav bhaji, barfijeera rice, corn paratha, paneer bhurji, gobhi matar, vegetarian, sweet lassi, dal frygulab jamun, raita, chaat, chole, soya chaap, panipuri, dal makhaniputtu biryani, egg roastburgers, peri peri chicken, spicy chicken, grilled lamb burger, chicken burger, french friesparatha, shahi paneerfries, white sauce pasta, monster pizza, cheesy garlic bread, cheesy pizza, margherita pizzashawarma, chicken grill, faludafish, parathapanneer butter masala, idli, masala dosa, vada, coffee, roti, thaliroast chickenwhole meat shawarma, fries, jumbo shawarma, malgoum shawarma, rolls, chicken shawarama, kerala parottagulab jamun, buttermilk, egg bhurji, sprout salad, rotisalads, chicken tikka, veg shammi, teriyaki chicken, sandwich, veggie delight, aloo pattyfish, appam, egg roast, kadala curry, chicken curry, beef fry, ghee ricelassi, veg thali, roti, aloo paratha, egg currythali, egg masala, chole, paratha, roti, butter chicken, paneer manchurianrolls, bbq chicken, paneer makhanwala, jumbo chicken roll, veggie wrap, sabudana vada, chicken wrapmutton biryani, dragon chicken, chicken dum biryani, vegetable biryani, paneer biryanirasgulla, mutton kosha, chicken kasha, samosa chaat, kheer, veg thalidum biryani, mutton biryanifriendly staffveg momos, noodles, cheese momos, jhol momos, wai wai bhel, brownie, chicken momoneer dosaparatha, kadai paneerambur biryani, mutton biryani, raitatacos, nachos, potato pops, potato burrito, fiery potato, rice bowls, taco jointbutter chicken, parathapyaz kachori, chaat, gajar ka halwa, shrikhand, jalebi rabri, churma, boondi raitachicken grill, grape juice, biryani, shawarma roll, rolls, chicken kebab, chicken shwarma rollburgers, chicken crisp burger, chicken whopper, chicken keema burger, chicken fries, mutton whopper, chocolate shakecoffee, masala dosa, tea, badam milk, vada, idli, raagi dosabutter naan, tandoori chicken, chicken tikka masala, malai kofta, biryani, wheat paratha, noodleschicken stew, ghee rice, chai, beef biryanichicken biryani, rollsfilter coffee, lunch thali, idli, mini idlis, ghee masala dosa, rasam vada, pongallassirolls, chicken roll, tandoori chicken, biryani, chicken lollipop, paratha, chicken grillpizza, spinach curry, saladmasala dosa, panneer butter masalaraita, vegetable biryani, biryani comboburgers, chicken bucket, paneer zinger burgermasala dosatandoori chicken, butter chicken, tandoori roti, bhindi masala, paratha, dal makhaniegg biryani, donne biryanilassi, paratha, paneer parantha, butter chicken, punjabi chicken, shahi paneer, chicken kolhapurivada, masala dosa, kharabath, filter coffee, kesari bath, idli sambarpodi idli, masala dosa, pongal, coffee, mini idlis, appam, raagi dosaparatha, vada pav, chaat, pav bhaji, panipuri, masala poori, dhoklalassi, punjabi chicken, paratha, kadhai murgh, butter naan, lemon chicken, rotibiryani, chicken curry, paratha, paya soup, mutton keema, chicken guntur, pepper chickenrava dosa, roti, masala dosa, kulcha, sandwiches, vada pav, idlirolls, momos, paratha, chicken tikka roll, mutton keema, egg rolltandoori chicken, chicken boneless biryani, hyderabadi biryani, lemon chicken, mutton biryani, raitabhindi fry, aloo fry, sweet lassi, paratha, tawa roti, palak paneer, butter chickenmasala dosadabeli, samosa, tawa pulav, cheese vada pavrumali roti, rumali shawarma, burgers, shawarma burgerfish thali, aloo parathachaat, samosa, thali, sweet lassi, biryani, egg roll, masala paneerparatha, coffee, halwa, lassisandwiches, fruit juices, chaat, paneer sandwich, watermelon juice, cheese sandwichvada, rava idli, masala dosa, coffeechole, kulcha, mutton curry, paratha, mint raita, chicken curry, dal makhaniginger chai, ginger tea, banana cake, samosa, masala chai, banana walnutchai, lemon tea, chicken rollpizza, dragon chicken, butter chicken, noodles, chicken wings, chicken noodlechaat, dabeli, panipuriplain paratha, prawn, chicken biryani, chicken dak bunglow, chicken masala, roti, aloo postomutton biryani, ambur biryani, chicken biryanibutter chicken, dal makhani, roti, tangdi kabab, panneer butter masalamomos, pizza sandwich, manchow soup, chowmein, spring roll, noodles, white pastachaat, dabeli, pav bhaji, dhokla, gujarati food, jalebi, panipurialoo paratha, poha, samosa, kachori, chaatnoodles, pasta, tibetan momos, clear soup, thukpa, steak, chicken momomomos, noodles, thukpa, teriyaki chicken, chicken chowmein, clear chicken soup, beef chillibeef fry, fish fry, appam, masala prawn, egg roast, chicken curry, biryanipasta, burgers, sandwichespav bhaji, dabeli, paratha, raj kachori, vada pavmushroom masala, thali, aloo paratha, roti, samosa, panneer butter masalamasala dosa, pongal, filter coffee, tea, idlimutton kosha, basanti pulao, fish curry, chicken biryanimasala dosa, pongal, tea, bonda, filter coffeenoodles, pasta, schezwan momos, chicken momo, teriyaki chicken, thukpa, friesburgers, oreo mcflurry, french fries, mcspicy chicken burger, paneer pockets, tikki, chicken maharaja macfrench fries, peri peri fries, cup cake, potato fries, fried cheese, chicken fries, mexican friesparatha, palak paneertea, chole, khichda, butter paneer, paneer bhurji, paratha, masala chaipie, thin crust pizza, cheesy pizza, pepperoni pizza, paneer pizzaparatha, rolls, rotiburgers, tea, ferrero rocher, sandwich, french frieschicken curry, fish, thali, rolls, rasgulla, chicken biryanichaat, chole bhature, raj kachori, thali, rasmalai, paratha, pav bhajiginger chai, ginger tea, pakoda, paratha, maggi, pav bhaji, sulemani chaifish, rasmalai, doi katla, aalo bhaja, bhetki paturi, chicken kasha, aloo postoappam, chicken curry, passion fruit juice, crepemomos, noodlescoffee, burgers, pasta, beef steak, chicken lasagne, salads, sandwichesbaklava, falafel roll, falafel plate, pita bread, mint lemonade, pita pocket, pomegranate juicetikki, chicken tikka, chicken biryani, thali, shammi kebab roll, rumali roti, niharibingsu, mocktails, custard, chocolate oreo, sandwiches, brownie, korean ice creamburgers, chicken popcorn, peri peri chicken, peri peri burger, fries, chicken wings, crunchy veg burgerbiryanishawarma, sandwichesgarlic bread, pasta, veggie pizza, salsa, nachos, nawabi pizza, sicilian pizzapizza, garlic bread, chocolavadal makhani, amritsari kulcharolls, burgers, sandwiches, nachos, sweet lassi, fries, methi parathagulab jamun, samosa, paratha, paneer curry, biryani, chaat, veg cutletrolls, biryani, mutton seekh, egg roll, chicken tikka, chicken rollgarlic bread, sandwiches, aloo tikki burger, club sandwich, white sauce pasta, garlic ricecheese paratharolls, chicken wings, shawarma, chicken tikka roll, burgers, fries, pastakosha mangsho, daab chingri, fish curry, dum biryaniwhole meat shawarma, jumbo shawarma, spicy shawarma, momosmomos, rice noodles, kung pao chicken, rice bowl, noodle, thai green curry, chicken dim sumnaanchaat, panipuri, lassi, gol gappe, paratha, pav bhaji, samosasaag, veg thalisattu parathaburgers, fries, chicken wings, popcorn, chicken grillmasala dosa, vada, tea, coffee, idliburgers, wood fire pizza, nachosroti, dal makhani, lassi, panneer butter masala, kulcha, masala papad, butter chickenburgers, mojito, bbq burger, peri peri fries, grilled burgerchicken curry, red rice, fish currymasala dosa, biryani, chicken stew, tea, appam, parathaburgers, zinger burgerbiryani, fries, thick shakespoha, bread omelette, ginger chai, ginger teaakki rottis, neer dosaroti, chicken biryanichaat, aloo tikki, dabeli, panipuri, pav bhaji, vada pav, masala poorifilter coffee, badam milk, idli, hot coffee, samosa, lemon tea, mini idlissandwiches, fruit juices, french fries, irish coffeepaneer sandwich, sandwiches, burgers, momos, maggi, ferrero rocher shake, thick shakespizza parantha, chai, paratha, fries, cheese maggi, rajma chawalcheese vada pav, kulfi, burgers, tikki, cheese fingers, schezwan vada pavtea, coffee, neer dosa, gajar ka halwa, thali, chaat, cheese dosacoffee, sandwiches, teafruit bowl, grape juice, nannari sharbat, cheese sandwich, tea, cheese sandwiches, orange juicemasala dosa, vada, filter coffeeginger tea, filter coffee, sandwich, poha, waffles, vadamomos, chicken lollipop, chicken momo, noodles, chicken thukpapoha, jalebi, paratha, bhindi masala, kachori, puri sabzi, samosalitti, liti chokha, lassi, tea, paratha, thali, chaibiryani, paratha, chicken masala, kerala parottacoffeeraita, hyderabadi biryaniparatha, butter naan, thali, tandoori roti, lassisandwiches, sandwichkachori, indori poha, cheese paratha, paneer parantha, thali, poha jalebihyderabadi biryani, ginger chickenparatha, mutton currylassi, chai, parathaburgers, belgian fries, pasta, salads, falafel pockets, greek sandwichginger tea, chai, samosa, bun omelette, elaichi tea, egg bhurji, carrot cakeburgers, cheesy pizza, chips, fries, rice bowl, white sauce pasta, chicken wingspizza, peri peri fries, veg paprikatea, chai, sandwiches, sandwichcoffee, thali, kharabath, masala dosa, idli vada, vanilla ice cream, bisi bele bhaathtandoori chicken, butter naan, kadai paneer, pepper chickenpizza, ice cream rollegg noodles, biryanipizza fries, almond shakevada pav, misal pav, sabudana vada, dabeli, pav bhaji, sabudana khichdi, lassichicken lollipop, dragon rolls, pasta alfredo, chicken pakora, burgers, cappuccino, chicken wingsnutella wafflethali, chicken lollipop, gundappa donne biryani, mutton biryanisea foodnoodles, beef momos, chicken shaptra, chicken thukpa, clear soup, beef momo, chicken thupkaperi peri chicken, fries, lemongrass chicken, margherita pizzachicken nachos, chicken tacos, rice bowlappam, buttermilk, fry prawns, roast beef, masala prawn, chicken stew, murgh ghee roastchai, ginger tea, maggi, aloo paratha, samosa, coffee, sandwichchicken grill, rumali roti, rollswaffles, nutella ice cream, french frieshoney chilli potatoes, nachos, lemonade, hakka noodles, babycorn manchurian, mushroom manchurian, spring rollrolls, aloo paratha, lassi, bread omelettebenne dosa, idli, coffeecoffee, cappuccinoveg thali, fish thalithalidonne biryani, mutton biryani, chicken kebab, chilli chicken, chicken biryani, kshatriya kebab, chicken friesfaluda, brownie, sandwich, kulfi, fruit salad, sweet lassi, chocolate fudgefish curry, appam, tea, egg roast, sea foodpoha, kachori, samosa, sabudana khichdi, parathadal makhani, rice, buttermilkidli, masala dosa, sweet lassisea food, thali, red snapper, fish fry, neer dosalassi, nachos, mojito, roti, panipuri, pizza, wafflesnachos, rice bowl, california burrito, rice bowls, chicken quesadilla, bbq chicken, pink lemonademomos, noodles, thukpa, chicken thupka, manchow soup, chicken momo, crispy honey chickenchai, aloo samosa, teanoodles, nasi goreng, rolls, kiwi mojito, brownie, tom yum soup, dumplingsmatar paneer, paratha, chole bhature, lassisabudana khichdi, pav bhaji, pyaz kachori, chole bhature, faluda, malai ghewar, lassithali, dhokla, chaat, samosa, panipuri, jalebi, pav bhajidhokla, raj kachori, panipuri, jalebi, pyaz kachorisandwiches, fruit juices, burgers, chicken sandwich, omelette, french fries, oreo shakeluchi, mutton kosha, mutton curry, roti, fish finger, chicken currysandwiches, sandwich, coffeethali, thepla, gulab jamun, masala lassi, rice, gujarati food, rotilassi, soya chaap, fish, masala papadparathachole bhature, omeletteenglish breakfast, eggs, baked beans, oreo pancake, nutella pancakes, french toast, omelettebhaji dosawood fire pizzaginger tea, poha, irani chai, chaai, sandwich, thick shakesrolls, shawarma roll, chicken grill, thalichicken biryani, chicken kebabfaluda, sandwiches, paneer tikka pizza, cream mango, custard apple cream, veg sandwichburgersmishti doi, rasgulla, radhaballavi, rasmalai, chamcham, dum aloo, malai rollwaffles, nutella ice cream, french frieshazelnut cappuccino, pancakes, nutella shake, chocolate icecreams, butter chicken, vanilla ice cream, hibiscus tealassi, nachos, mojito, roti, panipuri, pizza, wafflesbingsu, mocktails, custard, chocolate oreo, sandwiches, brownie, korean ice creamfaluda, sandwiches, paneer tikka pizza, cream mango, custard apple cream, veg sandwichthali, dhokla, chaat, samosa, panipuri, jalebi, pav bhajisandwiches, sandwich, coffeeclub chicken sandwich, sandwiches, coffee, pie, burgers, carrot cake, cheesecakechole, kulfi, kachori, samosa, chaat, pav bhaji, barfichole bhature, puri sabzi, chaat, panipuri, rasmalai, jalebi, pav bhajimomos, noodles, thukpa, teriyaki chicken, chicken chowmein, clear chicken soup, beef chillipizza, spinach curry, saladappam, buttermilk, fry prawns, roast beef, masala prawn, chicken stew, murgh ghee roastkulcha, chole, mutton curry, paratha, mint raita, chicken curry, dal makhaniburgers, chicken crisp burger, chicken whopper, chicken keema burger, chicken fries, mutton whopper, chocolate shakemishti doi, rasgulla, radhaballavi, rasmalai, chamcham, dum aloo, malai rollpizza, peri peri fries, veg paprikafish thali, aloo parathathali, chicken lollipop, gundappa donne biryani, mutton biryaniburgers, wedges, ice tea, maharaja burger, maharaja mac, french fries, hash brownbiryani, paratha, chicken masala, kerala parottaburgers, zinger burger, chicken bucket, virgin mojito, chicken wings, crispy chicken, hot wingscoffee, burgers, pasta, beef steak, chicken lasagne, salads, sandwichesdal makhani, amritsari kulcharolls, masala veg frankie, chicken frankierolls, aloo paratha, lassi, bread omeletteparatha, biryani, fish fryburgers, fries, chicken wings, popcorn, chicken grillidli, vada, coffee, masala dosa, masala poorichai, lemon tea, ginger tea, rollsfalafel, shawarma, chicken shawarama, salad, whole wheat pita, middle eastern food, pizzachocolate momos, thukpa, tandoori momos, paneer momosrolls, momos, chicken egg roll, fries, cheese roll, veggie rollchaat, thali, chole bhature, kulfi, paneer tikka, lassi, badam milkginger tea, masala tea, banana cake, poha, samosa, vada pav, sandwichesdum aloo, sweet lassi, aloo paratha, biryanifaluda, sandwiches, paneer tikka pizza, cream mango, custard apple cream, veg sandwichthali, dhokla, chaat, samosa, panipuri, jalebi, pav bhajichole bhature, omeletterolls, shawarma roll, chicken grill, thalibutter chicken, parathatacos, nachos, potato pops, potato burrito, fiery potato, rice bowls, taco jointpyaz kachori, chaat, gajar ka halwa, shrikhand, jalebi rabri, churma, boondi raitalassi, nachos, mojito, roti, panipuri, pizza, wafflesmasala chaach, stuffed paratha, gulkand lassirice bowl, nachos, california burrito, rice bowls, chicken quesadilla, bbq chicken, pink lemonadefries, white sauce pasta, monster pizza, cheesy garlic bread, cheesy pizza, margherita pizzafilter coffee, lunch thali, idli, mini idlis, ghee masala dosa, rasam vada, pongalmomos, noodlesbingsu, mocktails, custard, chocolate oreo, sandwiches, brownie, korean ice creampodi idli, masala dosa, pongal, coffee, mini idlis, appam, raagi dosamomos, noodles, thukpa, chicken thupka, manchow soup, chicken momo, crispy honey chickengulab jamun, raita, chaat, chole, soya chaap, panipuri, dal makhanipizza, ice cream rollburgers, peri peri chicken, spicy chicken, grilled lamb burger, chicken burger, french friesmasala idli, filter coffeenoodles, pasta, tibetan momos, clear soup, thukpa, steak, chicken momoveg momos, noodles, cheese momos, jhol momos, wai wai bhel, brownie, chicken momoneer dosatea, upma, coffee, pongal, podi idli, masala vada, mini idliscoffee, sandwiches, teasandwiches, masala pav, chicken burger, filter coffee, burgers, masala chai, french frieskosha mangsho, daab chingri, fish curry, dum biryanirolls, bbq chicken, paneer makhanwala, jumbo chicken roll, veggie wrap, sabudana vada, chicken wrappizza, barbeque chickennoodles, beef momos, chicken shaptra, chicken thukpa, clear soup, beef momo, chicken thupkabutter naan, tandoori chicken, chicken tikka masala, malai kofta, biryani, wheat paratha, noodlesginger tea, chai, samosa, bun omelette, elaichi tea, egg bhurji, carrot cakebhindi fry, aloo fry, sweet lassi, paratha, tawa roti, palak paneer, butter chickensea foodsalads, chicken tikka, veg shammi, teriyaki chicken, sandwich, veggie delight, aloo pattychaat, dabeli, pav bhaji, dhokla, gujarati food, jalebi, panipuritea, coffee, neer dosa, gajar ka halwa, thali, chaat, cheese dosamasala dosapoha, kachori, samosa, sabudana khichdi, parathamomos, chicken lollipop, chicken momo, noodles, chicken thukpafish, thali, rolls, rasgulla, chicken biryanisabudana khichdi, pav bhaji, pyaz kachori, chole bhature, faluda, malai ghewar, lassinaanrolls, chicken wings, shawarma, chicken tikka roll, burgers, fries, pastaburgers, mojito, bbq burger, peri peri fries, grilled burgerparatha, mutton currydhokla, raj kachori, panipuri, jalebi, pyaz kachoributter chicken, dal makhani, roti, tangdi kabab, panneer butter masalapizza, dragon chicken, butter chicken, noodles, chicken wings, chicken noodleperi peri chicken, fries, lemongrass chicken, margherita pizzaparatha, liti chokha, buttermilk, tea, aloo litti, raitagarlic bread, pasta, veggie pizza, salsa, nachos, nawabi pizza, sicilian pizzaluchi, mutton kosha, mutton curry, roti, fish finger, chicken curryburgers, belgian fries, pasta, salads, falafel pockets, greek sandwichsea food, thali, red snapper, fish fry, neer dosachicken nachos, chicken tacos, rice bowlsandwiches, sandwich, coffeethali, thepla, gulab jamun, masala lassi, rice, gujarati food, rotiburgers, zinger burgerenglish breakfast, eggs, baked beans, oreo pancake, nutella pancakes, french toast, omelettesandwiches, sandwich, salads, shahi paneertea, chole, khichda, butter paneer, paneer bhurji, paratha, masala chaiclub chicken sandwich, sandwiches, coffee, pie, burgers, carrot cake, cheesecakeegg noodles, biryanirolls, veggie roll, chicken tikka roll, beda rotipanneer butter masalafriendly staffburgers, wood fire pizza, nachoschai, ginger tea, maggi, aloo paratha, samosa, coffee, sandwichbaklava, falafel roll, falafel plate, pita bread, mint lemonade, pita pocket, pomegranate juicelassi, paratha, paneer parantha, butter chicken, punjabi chicken, shahi paneer, chicken kolhapurifish, appam, egg roast, kadala curry, chicken curry, beef fry, ghee riceroast chicken, thalassery biryaniambur biryani, mutton biryani, prawn, raita, brinjal curry, vegetable biryani, fishtandoori chicken, butter naan, kadai paneer, pepper chickenmomos, rice noodles, kung pao chicken, rice bowl, noodle, thai green curry, chicken dim sumchai, lemon tea, chicken rollmasala dosa, panneer butter masalashawarma, chicken grill, faludaappam, chicken curry, passion fruit juice, crepeparatha, rolls, rotichicken grill, biryani, shawarma roll, rolls, arabian pulpy grape juicelassi, veg thali, roti, aloo paratha, egg currytikki, chicken tikka, chicken biryani, thali, shammi kebab roll, rumali roti, nihariwhole meat shawarmachaat, dabeli, panipuriidli, masala dosa, sweet lassiburgers, chicken popcorn, peri peri chicken, peri peri burger, fries, chicken wings, crunchy veg burgernoodles, nasi goreng, rolls, kiwi mojito, brownie, tom yum soup, dumplingsbeef fry, fish fry, appam, masala prawn, egg roast, chicken curry, biryanimatar paneer, paratha, chole bhature, lassikachori, indori poha, cheese paratha, paneer parantha, thali, poha jalebichicken stew, ghee rice, chai, beef biryanimutton biryani, dragon chicken, chicken dum biryani, vegetable biryani, paneer biryanichole bhature, puri sabzi, chaat, panipuri, rasmalai, jalebi, pav bhajivada, rava idli, masala dosa, coffeeraita, hyderabadi biryanisandwiches, fruit juices, burgers, chicken sandwich, omelette, french fries, oreo shakeroti, chicken biryanipizza parantha, chai, paratha, fries, cheese maggi, rajma chawalchaat, panipuri, lassi, aloo paratha, chai, gulab jamunthalidal makhani, rice, buttermilkchicken curry, red rice, fish currynutella wafflefish curry, appam, tea, egg roast, sea foodrolls, chicken roll, tandoori chicken, biryani, chicken lollipop, paratha, chicken grillpongal, filter coffee, idli, masala dosamasala dosa, plain dosalassi, soya chaap, fish, masala papadfilter coffee, masala dosamasala dosa, idliparathawood fire pizzaputtu biryani, egg roastdum biryani, mutton biryanitandoori chicken, butter chicken, tandoori roti, bhindi masala, paratha, dal makhanichicken biryani, chicken kebabmasala dosasalads, sandwiches, arugula salad, pasta, avocado sandwich, protein smoothie, spaghettiwaffles, pie, corn dogburgers, fries, peri peri chicken, nachos, wings, rolls, tandoori burgerpizza, nachos, salads, peri peri fries, brownie, pasta alfredo, spaghettichaat, pav bhaji, dabeli, vada pav, tawa pulav, panipuri, malpuaburgers, coffee, chocolate donut, bagel, chocolate drink, dunkaccinos, hot chocolaterolls, fries, egg rollchaat, panipuri, masala poori, pav bhaji, bhel puri, pizza, dahi papdibutter chicken, parathagarlic bread, paneer pizza, supreme pizza, tandoori paneerburgers, crispy chicken, chicken zinger burger, french fries, chicken fries, hot wingsrasgulla, luchi, samosa, radhaballavi, rasmalai, kheer kadam, chamchamtawa pulav, faluda, pav bhaji, ice cream sundae, brownie, hot chocolate fudge, fruit saladcoffee, roti, vada pavwhite pasta, noodles, babycorn manchurian, pizza, veg momos, fry momos, tawa pulavburgers, chicken tandoori grill burger, cheesy chicken fries, chicken whopper, whopper burger, tandoor chicken burger, mutton whopperbiryaniburgers, bun nippat masala, masala cola, pizza, masala pepsi, masala soda, sandwichessalad, salads, sandwichesvada pav, dabeli, pav bhaji, samosa pavgarlic bread, sandwiches, aloo tikki burger, club sandwich, white sauce pasta, garlic ricerolls, chicken tikka roll, cheese rollburgers, chocolate momos, noodles, cheese momoswaffles, pie, corn dogbanana cake, ginger tea, samosa, chicken sandwich, masala chai, ginger chai, masala teapizza, pasta, burgers, lasagne, masala garlic breadchaat, sandwiches, rasmalaimaggi, sandwiches, rollsfilter coffee, kesari bath, curd rice, idli vada, crispy masala dosa, masala tea, thick coconut chutneyrolls, burgers, sandwiches, nachos, sweet lassi, fries, methi parathasandwiches, rose faluda, pizza, custard apple cream, pav bhajipizza, garlic breadrolls, whole meat shawarmahariyali chicken, rice kheer, chicken kebab, chicken biryani, firewood biryani, mutton biryani, badam phirnipizza, white sauce pasta, masala garlic breadrolls, mutton seekh roll, malai tikka, chicken tikka roll, mutton baida roti, reshmi tikka roll, beda rotiburgers, mc spicy chicken, chicken burger, maharaja macparatha, paneer pakora, chole bhature, rajma chawal, chaach, lassi, buttermilkrolls, biryani, butter chicken, chicken manchurian rollburgers, sandwiches, momos, chicken seekh roll, sandwichbadam milk, potato twister, pav bhaji, panipuri, tikki chaat, cheese cutletchole, tea, filter coffee, vada, upma, butter masala dosa, idlimasala dosa, coffeevada, idli, kharabath, noodles, filter coffeemasala dosa, panneer butter masala, thalifried cheese, french fries, maggi, thick shakes, chilli cheese fries, teaburgers, salad, mocktails, pasta arrabiata, fries, nutella cheesecake, teriyaki chicken wingsirish coffee, gelato ice cream, italian icecream, chocolate cakechilli chickenrolls, shawarma, chicken shawarama, beef shwarma, haleem, beef seekh roll, chicken rollsandwiches, tea, masala chai, pasta, maggi, sandwich, chicken burgerlassi, amritsari kulcha, choledonne biryani, mutton biryanibutter naan, buttermilk, jowar roti, panneer butter masalachilli chicken, chicken curry, mutton biryani, gundappa donne biryanidal makhanicoffee, paratha, chaat, masala dosa, dahipuri, pav bhaji, teadonne chicken biryani, akki rottis, roti, mutton chops, chicken curry, vada, coffeebeef biryani, chicken biryani, chicken kebab, mutton biryani, beef kabab, paratha, ghee ricemomos, hakka noodles, chop sueysandwiches, fruit bowl, panipuri, corn sandwich, palak paneer, arabian grape juice, cheesy grilled sandwichburgers, biryaninachos, california burrito, rice bowl, saladsshawarma, burgers, beef burger, potato wedges, vegetable noodles, cheese fatayer, garlic friesrolls, momos, paneer roll, veggie rollgobhi pakoda, bajji, raita, ginger tea, jalapeno cheese poppers, mojito, chaitandoori chicken, butter chicken, garlic naangarlic naan, tandoori chicken, basmati ricesamosa, teaparatha, samosa, vada pavtea, filter coffee, pongal, masala dosacoffee, veg puff, latteirish coffee, gelato ice cream, italian icecream, chocolate cakeburgers, coffee, chocolate donut, bagel, chocolate drink, dunkaccinos, hot chocolategulab jamun, jalebi, samosa, chole, sev puri, rasgulla, masala pooriplum cakesandwiches, rose faluda, pizza, custard apple cream, pav bhajibadam milk, chaat, rasmalai, mysore pak, samosa, paneer cutlets, kachoriwaffles, pie, corn dogburgers, sandwiches, momos, chicken seekh roll, sandwichchaat, sandwiches, rasmalaisandwiches, chicken sandwich, oreo shake, irish coffee creamparatha, samosa, vada pavpanipuri, paratha, dhokla, vada pav, hot badam milk, chaat, thalicoffee, veg puff, lattesalads, sandwiches, arugula salad, pasta, avocado sandwich, protein smoothie, spaghettichole, tea, filter coffee, vada, upma, butter masala dosa, idlisea food, fish fry, fish curry, fish kebab, buttermilk, fry prawns, ragi muddesalad, salads, sandwichesrasgulla, luchi, samosa, radhaballavi, rasmalai, kheer kadam, chamchamfilter coffee, rava idli, rava masala dosa, vada, raagi dosa, podi dosa, badam halwamasala dosa, panneer butter masala, thalinoodles, thukpa, beef momos, chowmein, veg momos, cheese momosbanana cake, ginger tea, masala chai, samosa, ginger chai, poha, egg puffgarlic naan, tandoori chicken, basmati riceburgers, coffee, chocolate donut, bagel, chocolate drink, dunkaccinos, hot chocolaterolls, beef kabab, seekh kebab, seekh rollburgers, salad, mocktails, pasta arrabiata, fries, nutella cheesecake, teriyaki chicken wingsbeef biryani, chicken biryani, chicken kebab, mutton biryani, beef kabab, paratha, ghee ricegulab jamun, jalebi, samosa, chole, sev puri, rasgulla, masala poorimomos, hakka noodles, chop sueymutton cutlets, masala dosa, filter coffee, omelette, vada, scrambled eggs, hot coffeemasala dosa, idli, kali dosa, ghee khali dosa, tomato rice, set dosa, ghee ricebiryaniburgers, fries, peri peri chicken, nachos, wings, rolls, tandoori burgerchicken curry, biryani, chilli chicken, fry prawns, chicken kebabparatha, paneer pakora, chole bhature, rajma chawal, chaach, lassi, buttermilksandwiches, fruit bowl, panipuri, corn sandwich, palak paneer, arabian grape juice, cheesy grilled sandwichakki rottis, rumali roti, masala dosa, vada, raagi roti, rava idli, coffeeburgers, ginger chicken, virgin mojito, popcorn, rice bowlburgers, biryanifilter coffee, idliplum cakeburgers, chicken tandoori grill burger, cheesy chicken fries, chicken whopper, whopper burger, tandoor chicken burger, mutton whopperrolls, shawarma, chicken shawarama, beef shwarma, haleem, beef seekh roll, chicken rollrolls, burgers, sandwiches, nachos, sweet lassi, fries, methi parathasandwiches, rose faluda, pizza, custard apple cream, pav bhajipizza, garlic breadvada, idli, kharabath, noodles, filter coffeebiryaniburgers, sandwiches, momos, chicken seekh roll, sandwichpav bhaji, panipuri, chaatburgers, peri peri friesthukpa, vegetable noodles, steam chicken momos, chowmein, chicken shaptra, chicken manchurian, dumplingschilli chickendonne chicken biryani, akki rottis, roti, mutton chops, chicken curry, vada, coffeeshawarma, burgers, beef burger, potato wedges, vegetable noodles, cheese fatayer, garlic friesburgers, chocolate momos, noodles, cheese momosmasala dosa, filter coffee, vada, akki rottis, rava dosadonne biryani, mutton biryanirolls, chicken tikka roll, cheese rollcoffee, paratha, chaat, masala dosa, dahipuri, pav bhaji, teahariyali chicken, rice kheer, chicken kebab, chicken biryani, firewood biryani, mutton biryani, badam phirnirolls, veggie wrap, chicken wrap, paneer wrap, chole, dal makhani, jal-jeeramasala dosa, filter coffeefilter coffee, kesari bath, curd rice, idli vada, crispy masala dosa, masala tea, thick coconut chutneychilli chicken, mutton biryani, pepper chicken, chicken fry, donne chicken biryani, chicken guntur, chicken kebabgobhi pakoda, bajji, raita, ginger tea, jalapeno cheese poppers, mojito, chaitandoori chicken, butter chicken, garlic naanpav bhaji, chaat, masala poori, panipuri, dahipuri, sev puri, sandwichessamosa, teachicken biryani, mutton biryani, andhra meal, mutton fry, fry prawns, fish fry, chilli chickenchicken kebab, ghee rice, chicken grill, paratha, chicken biryanibiryani, buttermilk, mutton fry, mutton curry, thalipodi masala dosa, crispy masala dosa, idli, vada, coffee, paper plain dosa, aloo palyaidli, coffeemasala dosa, khali dosa, kali dosa, gini dosa, idli, potato masala, coffeeragi mudde, buttermilkvadanachos, california burrito, rice bowl, saladspanipuri, paratha, dhokla, vada pav, hot badam milk, chaat, thalidal makhanipongal, filter coffee, idli, masala dosanachos, pasta del barone, cheesy garlic bread, thin crust pizza, oreo milkshake, tortilla chips, manali pizzapav bhaji, chaat, panipuri, grilled sandwich, hot dog, bhel puri, masala pooriburgers, peri peri chicken, salad, nachos, peri peri wings, chicken fries, saladsdabeli, masala poori, misal pav, dahipuri, papdi chaat, panipuri, pav bhajibenne masala dosa, aloo palyahyderabadi biryani, chicken biryani, vegetable biryanibadam milk, chaat, sandwich, noodles, ghee dosa, paratha, masala dosaburgers, chicken wings, mango shake, chicken crisp burger, cheesy fries, chicken fries, burger mealkerala parotta, shawarmachaat, pav bhaji, bhel puri, dahipuri, vada pav, raj kachori, samosapav bhaji, paratha, pizza sandwich, burgers, vada pav, chocolate mousse, sandwicheschaat, panipuri, masala poori, pav bhaji, bhel puri, pizza, dahi papdimomos, noodles, fish, spring roll, chicken noodle, hunan chicken, chicken momobiryaniwhole meat shawarma, malgoum shawarma, roti, kerala parotta, pita breadparathabamboo chicken biryanibiryani, rumali roti, chicken noodlemalai kofta, fries, chicken biryani, stuffed kulchaburgers, crispy chicken, chicken zinger burger, french fries, chicken fries, hot wingsmasala dosarolls, veggie roll, chicken biryani, paneer tikka roll, wheat rollvada, thatte idli, kesari bathakki rottis, roti, rava idli, filter coffee, pongal, masala dosa, kokum juicevada, filter coffee, masala dosaaloo palya, masala poori, panipuri, rolls, chaat, benne dosa, dahipuribenne masala dosa, filter coffee, chai, butter masala dosa, crispy vada, tea, kesari bathtawa pulav, faluda, pav bhaji, ice cream sundae, brownie, hot chocolate fudge, fruit saladburgers, popcorn, chicken rolltea, chai, pohavada, idli, pongal, upma, tea, kesari bath, coffeemishti doi, doi katla, mutton kosha, fish curry, aloo posto, gulab jamundhokla, tea, lassi, tiranga paratha, sandwich, pizza parantha, rasgullaegg manchurian, paratha, momos, masala chai, raj kachori, rolls, chaatvada pav, dabeli, pav bhaji, chaat, misal pav, bread pakora, jumbo vada pavsvada pav, dabeli, pav bhaji, samosa pavsandwiches, chicken grilled sandwich, thick shakes, friespasta, momos, noodles, manchurian, peri peri fries, chinese bhel, tacoscheese paratha, lassi, pizza, paneer paranthabutter chicken, tandoori chicken, rolls, chicken masala, chicken tikka, rotifilter coffee, vada, chai, caramel coffee, masala dosa, kesari bath, veg dosaneer dosa, fish curry, chicken sukha, rawas fry, thali, fish rava fryburgers, nachos, mocktails, schezwan momos, paneer manchurian, paneer noodles, patiala paneerchaat, lassi, tawa pulav, potato twister, dal makhani, chole bhature, rajmasalad, sandwichfilter coffee, kharabath, masala dosa, tea, idli vada, kesari bathparatha, sandwiches, sweet lassi, sandwich, eggless cake, gulab jamun, bread pakorabeef biryani, paratha, fish curry, chicken biryani, fish fryrolls, chicken tikka, chicken seekh roll, seekh kebab, aloo tikka roll, murgh malai kebab, beda rotiburgers, coke float, french friespizza, garlic bread, chocolava cakechicken sukha, neer dosarolls, paneer tikka roll, chicken reshmi tikka roll, beda rotirolls, biryani, chicken tikka roll, chicken manchurianvada, sweet corn soupmomos, pizza, nachos, burgers, pastafilter coffee, crispy dosa, vada, burgers, mini idlis, ghee roast masala dosa, parathamutton biryanimasala dosa, akki rottis, filter coffee, tea, bonda soup, puri saagu, vadavada, idli, coffee, kesari bathparatha, vada pav, thali, lassi, manchurianmasala dosa, coffeekesari bath, idli vada, sweet pongal, filter coffee, idli chatni, idli chutney, upmabiryanichaap, egg noodles, chicken momo, veg momos, wheat momo, thukpafrench chicken, roti, biryanimaggi, sandwiches, rollsdonne biryani, chicken kebab, chicken lollipop, mutton biryani, chicken biryani combochicken grill, shawarma, rolls, biryani, kerala parottaparatha, deluxe thali, lassi, paneer tikka, roti, biryani, panneer butter masalacoffee, kadhai paneerpork pepper fry, mutton chops, mutton biryani, chicken fry, garlic chicken, akki rottis, pepper chickensandwiches, salad, corn soupchilli chicken, chicken curry, mutton biryani, gundappa donne biryanimisal pav, vada pav, buttermilk, dabeli, sabudana vada, shrikhand, sabudana khichditawa pulav, faluda, pav bhaji, ice cream sundae, brownie, hot chocolate fudge, fruit saladbadami holige, puran polirava idli, benne masala dosa, filter coffee, tea, pav bhaji, pongal, curd vadaibenne masala dosa, filter coffee, chai, butter masala dosa, crispy vada, tea, kesari bathakki rottis, roti, rava idli, filter coffee, pongal, masala dosa, kokum juicemasala dosa, pongal, bisi bele bhaath, curd vadai, rava idli, filter coffee, idli vadabiryanimasala dosabanana leaf mealneer dosa, filter coffee, button idli, benne masala dosa, puri saagu, badam halwa, vadaaloo palya, masala poori, panipuri, rolls, chaat, benne dosa, dahipurimasala dosa, filter coffee, tea, onion dosa, vada sambar, badam milk, badam halwaneer dosa, fish curry, chicken sukha, rawas fry, thali, fish rava fryzinger burger, french fries, choco lash, hot wings, virgin mojitopanneer butter masala, manchurian, fruit salad, idli, filter coffee, dhokla, kashmiri pulaoparathathali, idli, neer dosashahi paneer, custard, rajma, sweet lassi, protein chapati, biryani, jeera riceburgers, chicken fries, veg burger, chicken wings, chicken whopper, mango shake, supreme burgerpizza, garlic bread, chocolava cakepasta, momos, noodles, manchurian, peri peri fries, chinese bhel, tacosburgers, french fries, maharaja burgerchaat, chips, dahipuri, masala poorisandwiches, sandwich, bun nippat cheesedabeli, masala poori, misal pav, dahipuri, papdi chaat, panipuri, pav bhajichilli paneer, manchurian, aloo paratha, dahipuriparatha, vada pav, thali, lassi, manchurianshawarma, chicken shawarama, falafel wrap, lemonadeparatha, sandwiches, sweet lassi, sandwich, eggless cake, gulab jamun, bread pakorachaat, dahipuri, chips, masala poori, bhel puri, jal-jeera, sev purimasala dosa, akki rottis, filter coffee, tea, bonda soup, puri saagu, vadasalad, sandwichsandwiches, salad, corn soupvada, masala idli, benne khali dosa, benne masala dosa, set dosa, filter coffeemasala dosa, coffee, khali dosa, idli, kali dosachilli chicken, chicken curry, mutton biryani, gundappa donne biryanicoffee, bonda soup, masala dosa, neer dosamaggi, sandwiches, rollschaat, panipuri, masala poori, pav bhaji, bhel puri, pizza, dahi papdiidli, masala dosaupma, filter coffee, sagu masala dosa, badam halwa, rava idli, hot coffee, kesari bathbamboo chicken biryanidonne biryani, chicken kebab, chicken lollipop, mutton biryani, chicken biryani comboparatha, deluxe thali, lassi, paneer tikka, roti, biryani, panneer butter masalamasala dosa, chaat, panneer butter masalavada, sweet corn soupmomos, noodles, fish, spring roll, chicken noodle, hunan chicken, chicken momobiryani, roti, thali, sandwich, salad, gulab jamunparatha, thalirabri, naan, chaap, raita, tandoori chicken, tangdi kabab, dal makhaniroti, fish fry, egg noodlespizza burgerchole, vada, roti, parathaburgers, mcmuffin, french fries, waffles, pancakes, mc veggie, coffeeburgers, jerk chicken salad, salads, lemon mojito, lemonade, chicken patty, veg burgerhyderabadi biryani, dum biryani, chicken biryanitandoori chickenparathadabeli, pav bhaji, cheese vada pavparathasandwiches, lassi, berry delight, faluda, oreo shakesandwiches, paratha, fruit lassi, gulab jamunrolls, falafel, biryani, parathatandoori momos, pasta, afghani momos, chicken wings, chowmein, roasted chillibiryani, chicken grill, roast chicken, tandoori chicken, pepper chicken, roti, rollsveg platter, chicken kebab roll, chai, aloo samosa, chicken samosasandwich, paratha, poha, sandwiches, idli vada, tea, rotijeera rice, thali, rotipanneer butter masala, paratha, vegetable biryanichaat, ginger tea, club kachori, samosa, aloo paratha, dhokla, thaliparatha, veg thali, chole bhature, gulab jamun, lassi, dal fry, rotipoha, aloo parathachicken guntur, vegetable biryani, executive chicken biryani, mutton biryani, hyderabadi chicken biryaniparatha, thalichicken wrap, veggie wrap, rollsdonut, burgers, eclair, hot chocolatemutton thali, salad, palak paneer, chicken curry, butter chicken, buttermilk, shahi paneerbiryani, idli, vada, chicken currycrispy chickenfish, veg thali, biryanivegetable biryani, chicken biryani, chicken kebab, mutton biryanifishchole bhature, deluxe thali, lassi, chaat, aloo paratha, soya chaap biryani, dahipuripepperoni pizzathali, fish curry, dal makhani, khichda, chicken handikheer, paneer chatpata, mango lassi, thali, paratha, gulab jamun, buttermilkchicken grill, shawarma, naanappam, masala dosa, tea, coffeerasgulla, mutton kosha, luchi, fish cutlet, aloo posto, alur dom, thaliliti chokha, litti, sattu paratha, dal bati, thali, rotiburgers, fries, peri peri wings, chicken jumbo burger, salads, jumbo royale burger, peri peri chickenrolls, chicken roll, chicken baida rotifrench fries, whole meat shawarma, chicken shawaramachole, samosa chaat, papdi chaat, dahipuri, sev puri, chai, panipurihealthy breakfast, kadhi, sprout salad, rajma chawal, salads, onion paratha, dal makhanichicken noodle, momosmutton curry, veg thaliparathaplain dosa, palak dosa, mushroom dosafrench fries, peri peri friesrolls, rice, biryanichole bhature, chaat, jalebi, puri sabzi, buttermilk, dhokla, panipuributter chicken, dal makhani, malai koftafish, paratha, fried riceparatha, roti, paneer tikka masala, bhindi masala, aloo gobhi masalabiryani, parathapastaparatha, pizza parantha, sandwich, tea, honey chilli potatoes, pasta alfredo, coffeeparathaaloo paratha, dal makhani, chaatmudpie, sandwich, masala dosa, hot coffee, pasta, pizza dosa, parathachocolate momos, thukpa, momo burger, chicken momobiryani, chicken currymutton biryanigulab jamun, thali, saladchaat, panipuri, jalebi, vada pav, samosa, chole bhature, gol gappepork curry, pandi currythali, lassi, rice, chole bhature, paratha, dal makhani, dal tadkaburgersparatha, thali, rajmaroti, riceroast chicken, appam, kadala curry, fish frydal tadkaparatha, lassi, panneer butter masala, tandoori rotisandwichpanneer butter masala, lassiparatha, tandoori chicken, panneer butter masala, chole bhaturelassi, paratha, paneer bhurjiveggie pizza, french friesburgers, chicken fries, chicken grill, hot wings, chicken rollgulab jamunthali, fried rice, chicken tikka, butter chickenrolls, rasgulla, fish fry, bhetki paturi, mutton kosha, veg thali, luchitacos, nachos, burrito, rice bowl, pizza, fiesta potatoes, chicken burritospizzathepla, poha, gujarati food, paratha, chocolate sandwich, cheese dabelinon veg thali, egg maggimutton curry, aloo parathasandwiches, chaat, panipuri, sandwichsamosa, jalebi, rasmalai, poha, aloo poori, panipuri, aloo sabjibiryani, raitawaffles, burgers, pizza, teapapdi chaat, panneer butter masala, tea, paneer lababdar, biryani, kullad chai, chicken tikka masalabiryani, coffee, kerala parotta, tea, thalassery dum biriyani, appam, noodlespasta, burgers, pizza, nachos, exotic garlic bread, french fries, chocolate shakerolls, chicken biryani, chilli chicken, butter chicken, roti, panneer butter masala, tandoori chickenvada, set dosa, thali, masala dosa, roti, idliveg thali, fish thalirolls, noodles, mughlai paratha, paneer kathi roll, veg manchow soup, crispy chicken, chicken manchurianlassi, naan, chicken biryani, butter chicken, aloo paratha, manchurian, paneer tikka masalaburgers, pasta, chicken zinger burger, french friesrasgulla, mishti doi, samosa, gulab jamun, indian sweets, malai rollchicken kasha, tawa roti, manchurian, mutton curry, mutton kosha, prawnchole bhature, chaat, jalebi, puri sabzi, buttermilk, dhokla, panipuridonut, burgers, eclair, hot chocolatevada, set dosa, thali, masala dosa, roti, idligarlic bread, veggie pizzasandwiches, lassi, berry delight, faluda, oreo shakechaat, panipuri, jalebi, vada pav, samosa, chole bhature, gol gappeburgers, fries, peri peri wings, chicken jumbo burger, salads, jumbo royale burger, peri peri chickensamosa, jalebi, rasmalai, poha, aloo poori, panipuri, aloo sabjipizza, peppy paneercrispy chickenchaat, ginger tea, club kachori, samosa, aloo paratha, dhokla, thaligulab jamun, thali, saladmutton thali, salad, palak paneer, chicken curry, butter chicken, buttermilk, shahi paneermutton curry, aloo parathatandoori chickenbiryani, raitavegetable biryani, chicken biryani, chicken kebab, mutton biryanibiryani, parathachicken grill, rose milk, pulpy grape juice, shawarma roll, chicken wings, rolls, butter chickenmutton curry, veg thalirasgulla, mutton kosha, luchi, fish cutlet, aloo posto, alur dom, thalidabeli, veg manchow soup, momos, hakka noodles, egg roll, rolls, dragon chickenkheer, paneer chatpata, mango lassi, thali, paratha, gulab jamun, buttermilkparatha, pizza parantha, sandwich, tea, honey chilli potatoes, pasta alfredo, coffeeparathajeera rice, thali, rotiroast chicken, appam, kadala curry, fish frychole bhature, deluxe thali, lassi, chaat, aloo paratha, soya chaap biryani, dahipuriparatha, veg thali, chole bhature, gulab jamun, lassi, dal fry, rotirolls, salad, dal makhani, chicken wrap, pizza, chocolate cake, chocolate fantasyburgers, jerk chicken salad, salads, lemon mojito, lemonade, chicken patty, veg burgerrolls, falafel, biryani, parathathali, fried rice, chicken tikka, butter chickenidli, vada, pongal, onion rava dosarolls, mix vegaloo paratha, dal makhani, chaatparatha, thali, rajmapapdi chaat, panneer butter masala, tea, paneer lababdar, biryani, kullad chai, chicken tikka masalaburgers, chocolate cakeparathapasta, burgers, pizza, nachos, exotic garlic bread, french fries, chocolate shakemutton biryanidal tadkarolls, rasgulla, fish fry, bhetki paturi, mutton kosha, veg thali, luchibiryani, coffee, kerala parotta, tea, thalassery dum biriyani, appam, noodlesbiryani, roti, thali, sandwich, salad, gulab jamunchocolate momos, thukpa, momo burger, chicken momoidli, plain dosaroti, fish fry, egg noodleschicken guntur, vegetable biryani, executive chicken biryani, mutton biryani, hyderabadi chicken biryaniparatha, thaliparatharolls, rice, biryanichole, samosa chaat, papdi chaat, dahipuri, sev puri, chai, panipuripepperoni pizzaveg thali, fish thalibiryani, idli, vada, chicken currygulab jamunfishthali, fish curry, dal makhani, khichda, chicken handiburgers, chicken fries, chicken grill, hot wings, chicken rollparathachole, vada, roti, parathaparatha, roti, paneer tikka masala, bhindi masala, aloo gobhi masalachole bhature, chaat, jalebi, puri sabzi, buttermilk, dhokla, panipurifish, veg thali, biryanibiryani, chicken grill, roast chicken, tandoori chicken, pepper chicken, roti, rollschicken grill, shawarma, naanparatha, lassi, panneer butter masala, tandoori rotiliti chokha, litti, sattu paratha, dal bati, thali, rotitacos, nachos, burrito, rice bowl, pizza, fiesta potatoes, chicken burritosveggie pizza, french friespanneer butter masala, paratha, vegetable biryanirolls, chicken roll, chicken baida rotibutter chicken, dal makhani, malai koftawaffles, burgers, pizza, teapanneer butter masala, coffee, tea, idli, manchurian, vada, thaliidlithali, lassi, rice, chole bhature, paratha, dal makhani, dal tadkaburgers, mcmuffin, french fries, waffles, pancakes, mc veggie, coffeebiryani, chicken curryfish, paratha, fried ricedonut, burgers, eclair, hot chocolatemasala dosa, tea, onion dosa, vada, rava idli, kesari bathpanneer butter masala, lassisandwiches, chaat, panipuri, sandwichmudpie, sandwich, masala dosa, hot coffee, pasta, pizza dosa, parathaparatha, tandoori chicken, panneer butter masala, chole bhatureburgerswaffles, pie, corn dogsalads, sandwiches, arugula salad, pasta, avocado sandwich, protein smoothie, spaghettifish curry, roast chicken, kerala parotta, appam, mutton pepper fry, sea food, ghee riceburgers, fries, peri peri chicken, nachos, wings, rolls, tandoori burgerburgers, tandoori grill burger, mango shake, cheesy fries, whopper burger, chicken keema burger, chicken crisp burgerpepper chicken, chicken biryani, mutton biryaniidli vada, tea, masala dosa, filter coffee, pav bhaji, kesari bath, chaatdal fryrolls, beda roti, kathi roll, veggie roll, chicken seekh roll, chicken kalimirch, mutton kebab rollbutter chicken, paratharolls, fries, egg rollrolls, chicken grillburgers, coffee, chocolate donut, bagel, chocolate drink, dunkaccinos, hot chocolategarlic bread, paneer pizza, supreme pizza, tandoori paneerburgers, crispy chicken, chicken zinger burger, french fries, chicken fries, hot wingstacos, fries, nachos, tikka masala burrito, chicken quesadilla, crispy chicken, salsalassi, amritsari kulcha, choletawa pulav, faluda, pav bhaji, ice cream sundae, brownie, hot chocolate fudge, fruit saladcoffee, roti, vada pavsandwiches, tea, masala chai, pasta, maggi, sandwich, chicken burgerchicken biryani, lemon chicken rollginger tea, maggi, ice tea, ginger chai, samosa, lemon tea, vada pavkesari bath, vada, filter coffeebiryaniburgers, sandwiches, pizza, beef burger, french fries, chicken bbq burger, lamb burgerpasta, pesto pizzarolls, shawarma, chicken shawarama, beef shwarma, haleem, beef seekh roll, chicken rollsalad, salads, sandwicheswaffles, pie, corn dogperi peri chicken, shawarma, biryani, rollsmutton chops, mutton fry, brain fry, mutton masala, mutton curry, donne biryani, chicken currypizza, pasta, burgers, lasagne, masala garlic breadburgers, chocolate momos, noodles, cheese momospizza, garlic breadvada, masala dosa, filter coffeerolls, chicken tikka roll, cheese rollrolls, burgers, sandwiches, nachos, sweet lassi, fries, methi parathamomos, shawarma, chicken shawaramadum biryanisandwiches, rose faluda, pizza, custard apple cream, pav bhajidal makhanirolls, whole meat shawarmarice kheer, hariyali chicken, chicken kebab, chicken biryani, firewood biryani, mutton biryani, badam phirnirolls, egg roll, chai, ginger tea, biryani, luchi, rasgullanachos, pasta del barone, cheesy garlic bread, thin crust pizza, oreo milkshake, tortilla chips, manali pizzaburgers, mc spicy chicken, chicken burger, maharaja macrasmalai, gulab jamun, pav bhaji, chaat, sev puri, kaju katlichaat, panipuri, chole bhature, rasmalai, chhole bhature, sev puri, samosafilter coffee, vadaburgers, fries, veg burger, wingschai, maggi, english breakfastmasala dosa, coffeedonne biryani, mutton biryanimasala dosa, chole, filter coffee, tea, vada, idli, upmaburgers, salad, mocktails, pasta arrabiata, fries, nutella cheesecake, teriyaki chicken wingsmasala dosa, panneer butter masala, thalicoffee, idli, masala dosa, burgersbiryani, chicken curry, kerala parotta, appam, chicken grillirish coffee, gelato ice cream, italian icecream, chocolate cakeburgers, cheesy pizza, chips, fries, rice bowl, white sauce pasta, chicken wingsburgers, biryanichilli chickenburgers, sandwiches, momos, chicken seekh roll, sandwichfilter coffee, mini idlisrasgulla, luchi, samosa, radhaballavi, rasmalai, kheer kadam, chamchamfried cheese, french fries, maggi, thick shakes, chilli cheese fries, teaparatha, panneer butter masala, dal tadka, shahi paneer, sweet lassi, dal makhani, biryanigarlic naan, tandoori chicken, basmati riceparatha, samosa, vada pavlassi, shahi paneer, kheer, paneer bhurji, methi paratha, paneer parantha, stuffed parathaparatha, paneer pakora, chole bhature, rajma chawal, chaach, lassi, buttermilkfilter coffee, kesari bath, curd rice, idli vada, crispy masala dosa, masala tea, thick coconut chutneydonne biryani, chilli chicken, chicken guntur, mutton biryani, mutton thali, chicken biryanifilter coffee, rava dosa, masala dosa, tea, pav bhaji, manchurian, dahi vadacoffee, pasta, sandwiches, sunday breakfast, apple pie, hot chocolate, chicken quichedonne chicken biryani, akki rottis, roti, mutton chops, chicken curry, vada, coffeerice, hyderabadi biryani, crab masala, mutton, chilli chickenbeef biryani, chicken biryani, chicken kebab, mutton biryani, beef kabab, paratha, ghee ricemomos, hakka noodles, chop sueysandwiches, fruit bowl, panipuri, corn sandwich, palak paneer, arabian grape juice, cheesy grilled sandwichveg momos, honey chilli potatoesshawarma, burgers, beef burger, potato wedges, vegetable noodles, cheese fatayer, garlic friesrolls, momos, paneer roll, veggie rollseekh kebab, hyderabadi biryani, vegetable biryani, chicken biryani, raita, kheer, egg biryanigobhi pakoda, bajji, raita, ginger tea, jalapeno cheese poppers, mojito, chaitandoori chicken, butter chicken, garlic naansamosa, teaparatha, samosa, vada pavburgers, coffee, chocolate donut, bagel, chocolate drink, dunkaccinos, hot chocolategulab jamun, jalebi, samosa, chole, sev puri, rasgulla, masala pooriirish coffee, gelato ice cream, italian icecream, chocolate cakeplum cakesandwiches, rose faluda, pizza, custard apple cream, pav bhajibadam milk, chaat, rasmalai, mysore pak, samosa, paneer cutlets, kachoriwaffles, pie, corn dogburgers, sandwiches, momos, chicken seekh roll, sandwichrasgulla, mishti doi, samosa, kheer kadam, veg cutlet, rasmalaichaat, sandwiches, rasmalaisandwiches, chicken sandwich, oreo shake, irish coffee creamcoffee, veg puff, latteplum cake, burgers, sandwiches, donut, mutton samosa, sponge cake, baked breadrasgulla, luchi, samosa, radhaballavi, rasmalai, kheer kadam, chamchamgarlic naan, tandoori chicken, basmati riceburgers, salad, mocktails, pasta arrabiata, fries, nutella cheesecake, teriyaki chicken wingsburgers, biryanipizza, garlic breadburgers, french fries, maharaja chicken burger, mc flurrymasala dosa, filter coffee, vada, akki rottis, rava dosamasala dosa, idli, vada, filter coffeefilter coffee, rava idli, rava masala dosa, vada, raagi dosa, podi dosa, badam halwasalads, sandwiches, arugula salad, pasta, avocado sandwich, protein smoothie, spaghettimasala dosa, panneer butter masala, thalinoodles, thukpa, chowmein, beef momos, veg momos, cheese momosbanana cake, ginger tea, masala chai, samosa, ginger chai, poha, egg puffburgers, coffee, chocolate donut, bagel, chocolate drink, dunkaccinos, hot chocolatemasala dosa, chole, filter coffee, tea, vada, idli, upmarolls, beef kabab, seekh kebab, seekh rollbeef biryani, chicken biryani, chicken kebab, mutton biryani, beef kabab, paratha, ghee ricegulab jamun, jalebi, samosa, chole, sev puri, rasgulla, masala poorimomos, hakka noodles, chop sueymutton cutlets, masala dosa, filter coffee, omelette, vada, scrambled eggs, hot coffeelassi, amritsari kulcha, cholebiryaniburgers, fries, peri peri chicken, nachos, wings, rolls, tandoori burgerchicken curry, biryani, chilli chicken, fry prawns, chicken kebabparatha, paneer pakora, chole bhature, rajma chawal, chaach, lassi, buttermilksandwiches, fruit bowl, panipuri, corn sandwich, palak paneer, arabian grape juice, cheesy grilled sandwichcoffee, roti, vada pavfilter coffee, vadaburgers, ginger chicken, virgin mojito, crispy chicken, rice bowl, popcornfilter coffee, idliplum cakeburgers, chicken tandoori grill burger, cheesy chicken fries, chicken whopper, whopper burger, tandoor chicken burger, mutton whopperrolls, shawarma, chicken shawarama, beef shwarma, haleem, beef seekh roll, chicken rollsandwiches, rose faluda, pizza, custard apple cream, pav bhajivada, idli, kharabath, noodles, filter coffeeparatha, momos, pasta, lassi, sandwiches, burgers, nachosbiryaniburgers, sandwiches, momos, chicken seekh roll, sandwichpav bhaji, panipuri, chaatthukpa, vegetable noodles, steam chicken momos, chowmein, chicken shaptra, chicken manchurian, dumplingschilli chickendonne chicken biryani, akki rottis, roti, mutton chops, chicken curry, vada, coffeeshawarma, burgers, beef burger, potato wedges, vegetable noodles, cheese fatayer, garlic friessandwichdonne biryani, mutton biryanirolls, beda roti, afghan chicken, reshmi kebab, chicken tikka rollrolls, chicken tikka roll, cheese rollrice kheer, hariyali chicken, chicken kebab, chicken biryani, firewood biryani, mutton biryani, badam phirnirolls, veggie wrap, chicken wrap, paneer wrap, chole, dal makhani, jal-jeeradal makhanifilter coffee, kesari bath, curd rice, idli vada, crispy masala dosa, masala tea, thick coconut chutneychilli chicken, mutton biryani, pepper chicken, chicken fry, donne chicken biryani, chicken guntur, chicken kebabgobhi pakoda, bajji, raita, ginger tea, jalapeno cheese poppers, mojito, chaitandoori chicken, butter chicken, garlic naanpav bhaji, chaat, masala poori, panipuri, dahipuri, sev puri, sandwichessamosa, teaplum cake, burgers, sandwiches, donut, mutton samosa, sponge cake, baked breadtea, tomato rice, vada, pongal, filter coffee, idli, biryanichai, maggi, english breakfastakki rottis, rumali roti, masala dosa, vada, raagi roti, rava idli, coffeebiryani, buttermilk, mutton fry, mutton curry, thalibiryani, chicken curry, kerala parotta, appam, chicken grillsandwiches, tea, masala chai, pasta, maggi, sandwich, chicken burgerpepper chicken, chicken biryani, mutton biryanirolls, french fries, chicken momo, roti, pulpy grape juice, mutton keema, chicken kebabidli, filter coffee, vada curry, podi dosa, sweet pongalveg momos, honey chilli potatoesseekh kebab, hyderabadi biryani, vegetable biryani, chicken biryani, raita, kheer, egg biryanipizza, pasta, burgers, lasagne, masala garlic breadrolls, chicken grillvada, masala dosa, filter coffeenachos, pasta del barone, cheesy garlic bread, thin crust pizza, oreo milkshake, tortilla chips, manali pizzacoffee, pasta, sandwiches, sunday breakfast, apple pie, hot chocolate, chicken quicheburgers, peri peri chicken, salad, nachos, peri peri wings, chicken fries, saladshyderabadi biryani, chicken biryani, vegetable biryanimalai kofta, fries, chicken biryani, stuffed kulchakerala parotta, shawarmabiryanibadam milk, chaat, sandwich, noodles, ghee dosa, paratha, masala dosaburgers, chicken wings, mango shake, chicken crisp burger, cheesy fries, chicken fries, burger mealaloo paratha, roti, butter chickenpav bhaji, paratha, pizza sandwich, burgers, vada pav, chocolate mousse, sandwicheschaat, pav bhaji, bhel puri, dahipuri, vada pav, raj kachori, samosabiryani, rumali roti, chicken noodlemomos, shanghai chickenwhole meat shawarma, malgoum shawarma, roti, kerala parotta, pita breadlassi, faluda, kulfiburgers, chicken grill, chicken popcorn, hot wingstandoori chicken, rolls, punjabi chicken, hyderabadi biryani, butter chickenmishti doi, doi katla, mutton kosha, fish curry, aloo posto, gulab jamunvada, coffee, vegetable biryani, idli, cheese masala dosa, chole bhatureegg manchurian, paratha, momos, masala chai, raj kachori, rolls, chaatchaat, lassi, tawa pulav, potato twister, dal makhani, chole bhature, rajmatea, chai, pohacheese paratha, lassi, pizza, paneer paranthafilter coffee, vada, chai, caramel coffee, masala dosa, kesari bath, veg dosatandoori fries, pizza friessandwiches, chicken grilled sandwich, thick shakes, friesvada pav, dabeli, pav bhaji, chaat, misal pav, bread pakora, jumbo vada pavschaat, paratha, badam milk, gulab jamun, masala poori, sev purichicken curry, akki rottis, pork curry, chilli pork, roti, neer dosabeef biryani, paratha, fish curry, chicken biryani, fish frysea food, malabar fish currypizza, masala garlic bread, nachoschicken sukha, neer dosaburgers, coke float, french friesrolls, chicken tikka, chicken seekh roll, seekh kebab, aloo tikka roll, murgh malai kebab, beda rotirolls, paneer tikka roll, chicken reshmi tikka roll, beda rotipizza, garlic breadchicken kebab, mutton biryanimomos, thukpa, noodles, honey chilli potatoes, clear soup, chicken noodle, crispy noodlefriendly staffchicken grill, shawarma, rolls, biryani, kerala parottasandwich, chicken ham, sandwiches, chicken tikkadonne biryani, mutton chops, chicken fry, chicken biryaniappam, fish curry, fish fry, pothichorupork pepper fry, mutton chops, mutton biryani, chicken fry, garlic chicken, akki rottis, pepper chickenpasta, sandwiches, chicken jumbo burger, burgers, lime soda sweet, sandwich, fried cheeseburgers, doner kebabs, lamb doner, hummus pita, momos, rolls, chicken donerrolls, paneer roll, chicken egg roll, double egg rollchicken biryaninutella waffle, chocolate waffles, banana caramelrasmalai, gulab jamunchocolate cakefruit juices, chaatmomos, thukpa, noodles, honey chilli potatoes, clear soup, chicken noodle, crispy noodledonne biryani, mutton chops, chicken fry, chicken biryanichicken curry, akki rottis, pork curry, chilli pork, roti, neer dosatandoori chicken, rolls, punjabi chicken, hyderabadi biryani, butter chickenaloo paratha, roti, butter chickenhyderabadi biryani, chicken biryani, vegetable biryaniburgers, peri peri chicken, salad, nachos, peri peri wings, chicken fries, saladsgarlic bread, pasta, chicken wings, chocolava, spicy chicken, cheesy pizzasandwich, chicken ham, sandwiches, chicken tikkanutella waffle, chocolate waffles, banana caramelburgers, chicken wings, mango shake, chicken crisp burger, cheesy fries, chicken fries, burger mealburgers, coke float, french frieskerala parotta, shawarmamishti doi, doi katla, mutton kosha, fish curry, aloo posto, gulab jamunsea food, malabar fish curryegg manchurian, paratha, momos, masala chai, raj kachori, rolls, chaatbiryanichicken grill, shawarma, rolls, biryani, kerala parottarolls, chicken tikka, chicken seekh roll, seekh kebab, aloo tikka roll, murgh malai kebab, beda rotichocolate cakemalai kofta, fries, chicken biryani, stuffed kulchaburgers, chicken grill, chicken popcorn, hot wingschaat, pav bhaji, bhel puri, dahipuri, vada pav, raj kachori, samosarolls, paneer tikka roll, chicken reshmi tikka roll, beda rotipav bhaji, paratha, pizza sandwich, burgers, vada pav, chocolate mousse, sandwichespasta, sandwiches, chicken jumbo burger, burgers, lime soda sweet, sandwich, fried cheesepizza, masala garlic bread, nachosfilter coffee, vada, chai, caramel coffee, masala dosa, kesari bath, veg dosaburgers, doner kebabs, lamb doner, hummus pita, momos, rolls, chicken donercheese paratha, lassi, pizza, paneer paranthachaat, lassi, tawa pulav, potato twister, dal makhani, chole bhature, rajmafruit juices, chaatmomos, shanghai chickenappam, fish curry, fish fry, pothichorutea, sandwichesburgers, coffee, peri peri chicken wings, beef burger, veggie pizza, mango salad, chicken burgerfish curry, roast chicken, kerala parotta, appam, mutton pepper fry, sea food, ghee ricelassi, soya chaap, tandoori chaap, malai chaap, biryani, laccha paratha, gulab jamunkadhai paneer, parathabiryani, chicken kebabparatha, tikka, rajma, sweet lassi, murgh patiala, paneer lababdar, dal makhaniburgers, tandoori grill burger, mango shake, cheesy fries, whopper burger, chicken keema burger, chicken crisp burgerpepper chicken, chicken biryani, mutton biryanirollsbiryani, thalibiryaniidli vada, tea, masala dosa, filter coffee, pav bhaji, kesari bath, chaatrolls, chicken tikka roll, egg roll, veggie rollchicken grill, shawarma, naanpav bhaji, gulab jamun, chaat, paratha, vada pav, buttermilk, thalichicken noodle, momosdal fryrolls, beda roti, kathi roll, veggie roll, chicken seekh roll, chicken kalimirch, mutton kebab rollidli vada, masala dosa, filter coffee, curd ricechaat, dabeli, pav bhaji, sandwiches, farsan, sandwich, vada pavburgers, peri peri chicken, fries, jumbo royale burger, falafel roll, shawarma, chicken jumbo burgerbiryani, roast beef, chicken curry, tea, pazham pori, fish fry, beef fryrajma, tandoori roti, sweet lassi, tandoori chicken, naan, dal makhani, veg thaliburgers, ginger chicken, hot wings, veg burger, french fries, rice bowlburgers, coffee, peri peri chicken wings, beef burger, veggie pizza, mango salad, chicken burgerdonne biryani, pepper chicken, chicken biryani combo, chicken frytacos, fries, nachos, tikka masala burrito, chicken quesadilla, crispy chicken, salsacoffeerotiburgers, french fries, garlic bread, sandwiches, cheesy juicy burger, veg burgerappam, masala dosa, tea, coffeeburgers, cheesy pizza, chips, fries, rice bowl, white sauce pasta, chicken wingsginger tea, maggi, ice tea, ginger chai, samosa, lemon tea, vada pavmasala dosa, rava dosa, rava idli, filter coffee, vada, kesari bath, veg sandwichbiryanisandwichchicken wrap, rolls, chicken overload, falafel, paratha, paneer wrap, veggie wrapburgers, sandwiches, pizza, beef burger, french fries, chicken bbq burger, lamb burgerpasta, supreme pizza, thin crust pizza, cheesy garlic breadtea, sandwichespasta, pesto pizzasamosa, poha, chaat, ginger tea, chhole bhature, chole, aloo tikkisandwiches, sandwich, french fries, creme caramel, onion rings, potato friesfish, thali, rolls, rasgulla, chicken biryanichicken grill, rolls, chicken roll, shawarma roll, rumali roti, paneer roll, tandoori chickenperi peri chicken, shawarma, biryani, rollsparatha, lassi, panneer butter masala, tandoori rotirolls, paratha, double egg rollmutton chops, mutton fry, brain fry, mutton masala, mutton curry, donne biryani, chicken curryshawarma, rolls, chicken grill, kathi roll, chicken biryani, paneer roll, chicken shawaramapalak chicken, mutton keema masala, sarson ka saag, mushroom masala, makkai roti, dal tadka, palak paneersea food, fish, tomato masala, murgh ghee roast, neer dosa, ghee roast mutton, mutton sukharolls, chicken roll, chicken baida rotimalabar fish curry, appam, sea food, idiyappam, fish fry, thali, ghee riceburgers, pancakes, steak, beef burger, oreo thick shakes, chicken juicy burger, pastachicken grill, chicken shawarama, shawarma, tandoori chicken, rumali roti, rolls, egg biryanirolls, paratha, chicken chaap, kathi roll, chicken egg roll, mutton biryanimomos, shawarma, chicken shawaramadum biryanisweet lassi, thali, kadhai paneer, kadhi, aloo paratha, paneer bhurji, cholemomos, thukpa, butter teanaanrolls, beda roti, chicken malai roll, paneer roll, peri peri chicken, mutton baida roti, chicken bedaparatha, gulab jamun, sweet lassi, paneer bhurji, chaach, paneer parantha, raitapaneer biryani, vegetable biryani, paratharolls, egg roll, chai, ginger tea, biryani, rasgulla, luchiparatha, panipuri, puri sabzi, rasgulla, rasmalai, pav bhaji, samosa chaatfrench friesrasmalai, gulab jamun, pav bhaji, chaat, sev puri, kaju katlimomos, thick shakes, peri peri fries, burgers, hot chocolate, sandwich, virgin mojitochaat, panipuri, chole bhature, rasmalai, chhole bhature, sev puri, samosanoodles, paneer manchurian, chaat, paratha, paneer fried rice, babycorn manchurianchole, veg thalichai, maggi, english breakfastpizzabiryani, murgh lababdar, thalisandwiches, thick shakes, nutella shake, sandwich, coffee, choco almondburgers, raita, fries, chicken noodle, bbq burger, poha, sandwichescoffee, vegetable biryani, masala chai, rotibiryani, chicken curry, kerala parotta, appam, chicken grillvada, kesari bath, filter coffeeegg noodles, biryanibiryanisandwiches, maggi, ginger chai, samosa, ginger tea, kesar chai, masala chaichaat, panipuri, rajma chawal, dahi bhalle, dhokla, theplaparatha, panneer butter masala, dal tadka, shahi paneer, sweet lassi, dal makhani, biryanipoha, bun maskas, ginger chai, sabudana khichdi, vada pav, paneer akuri, teafilter coffee, mini idlisginger tea, cheesy samosa, ginger chai, masala tea, indori poha, chocolate samosa, chicken samosaburgersbeef fry, kerala parotta, fish, roast beef, appam, crab toast, mackerel frydonne biryani, chilli chicken, chicken guntur, mutton biryani, mutton thali, chicken biryanisalads, pasta, sandwiches, momos, hakka noodles, veg salad, russian saladcajun potato, pasta, panneer butter masala, sandwich, kulcha, raita, dal makhanicup cake, almond pie, chicken delight, apple pie, chicken quichetandoori chicken, aloo paratha, chicken curry, butter naan, paneer bhurjirice bowl, rice bowls, california burrito, bbq chicken, nachos, salads, spicy paneervada, coffee, masala dosa, idli, tea, podi dosa, pongalchaat, pav bhaji, panipuri, kheer, jalebi, tea, dahipurisandwiches, chicken sandwich, paneer sandwich, fruit juices, hot chocolate, oreo shake, watermelon juiceambur biryanichaat, pav bhaji, panipuri, samosa, chole bhature, jalebi, parathachicken, biryani, rice, garlic naan, rotipanneer butter masala, rolls, chicken roll, paneer roll, tandoori chicken, naan, egg bhurjiparatha, panipuri, puri sabzi, rasgulla, rasmalai, pav bhaji, samosa chaatchaat, pav bhaji, panipuri, samosa, chole bhature, jalebi, parathaburgers, coffee, peri peri chicken wings, beef burger, veggie pizza, mango salad, chicken burgersalads, pasta, sandwiches, momos, hakka noodles, veg salad, russian saladcup cake, almond pie, chicken delight, apple pie, chicken quicheparatha, tikka, rajma, sweet lassi, murgh patiala, paneer lababdar, dal makhanichaat, panipuri, rajma chawal, dahi bhalle, dhokla, theplaburgers, ginger chicken, hot wings, veg burger, french fries, rice bowlsandwiches, maggi, ginger chai, samosa, ginger tea, kesar chai, masala chaibiryanicoffeethali, chole bhature, lassi, gulab jamun, saladfilter coffee, rava dosa, panneer butter masala, tea, masala dosa, idli, thaligarlic bread, burst pizzarajma, tandoori roti, sweet lassi, tandoori chicken, naan, dal makhani, veg thalifrench frieschicken wrap, veggie wrap, paratha, chicken meatballsbiryani, thalibiryaniburgersburgersbiryani, murgh lababdar, thalimasala dosa, rava dosa, rava idli, filter coffee, vada, kesari bath, veg sandwichmalabar fish curry, appam, sea food, idiyappam, fish fry, thali, ghee riceburgers, peri peri chicken, fries, jumbo royale burger, falafel roll, shawarma, chicken jumbo burgersandwiches, sandwich, french fries, creme caramel, onion rings, potato frieslassi, soya chaap, tandoori chaap, malai chaap, biryani, laccha paratha, gulab jamunbiryani, roast beef, chicken curry, tea, pazham pori, fish fry, beef fryshawarma, rolls, chicken grill, kathi roll, chicken biryani, paneer roll, chicken shawaramaginger tea, cheesy samosa, ginger chai, masala tea, indori poha, chocolate samosa, chicken samosanoodles, paneer manchurian, chaat, paratha, paneer fried rice, babycorn manchurianbiryani, chicken kebabsamosa, poha, chaat, ginger tea, chhole bhature, chole, aloo tikkibiryanichicken grill, chicken shawarama, shawarma, tandoori chicken, rumali roti, rolls, egg biryaniparatha, panipuri, puri sabzi, rasgulla, rasmalai, pav bhaji, samosa chaatsea food, fish, tomato masala, murgh ghee roast, neer dosa, ghee roast mutton, mutton sukhachole, veg thalipalak chicken, mutton keema masala, sarson ka saag, mushroom masala, makkai roti, dal tadka, palak paneeridli vada, masala dosa, filter coffee, curd ricechaat, pav bhaji, panipuri, kheer, jalebi, tea, dahipurirolls, paratha, chicken chaap, kathi roll, chicken egg roll, mutton biryanipav bhaji, masala dosa, tea, roticajun potato, pasta, panneer butter masala, sandwich, kulcha, raita, dal makhaniambur biryanichaat, pav bhaji, panipuri, samosa, chole bhature, jalebi, parathapoha, bun maskas, ginger chai, sabudana khichdi, vada pav, paneer akuri, teadal frychicken grill, rolls, chicken roll, shawarma roll, rumali roti, paneer roll, tandoori chickentea, sandwichesburgers, coffee, peri peri chicken wings, beef burger, veggie pizza, mango salad, chicken burgertandoori chicken, aloo paratha, chicken curry, butter naan, paneer bhurjichaat, dabeli, pav bhaji, sandwiches, farsan, sandwich, vada pavperi peri chicken, shawarma, biryani, rollsfish curry, roast chicken, kerala parotta, appam, mutton pepper fry, sea food, ghee ricesalads, pasta, sandwiches, momos, hakka noodles, veg salad, russian saladrolls, egg roll, chai, ginger tea, biryani, rasgulla, luchiburgers, raita, fries, chicken noodle, bbq burger, poha, sandwichescoffeeparatha, panneer butter masala, dal tadka, shahi paneer, sweet lassi, dal makhani, biryanivada, rava masala dosa, biryanimomos, thick shakes, peri peri fries, burgers, hot chocolate, sandwich, virgin mojitochicken teriyaki bao, kaffir lime, walnut brownie, rice bowls, khao suey, veg bao, snapperburgers, french fries, garlic bread, sandwiches, cheesy juicy burger, veg burgerrice bowl, rice bowls, california burrito, bbq chicken, nachos, salads, spicy paneerrollsparatha, gulab jamun, sweet lassi, paneer bhurji, chaach, paneer parantha, raitacup cake, almond pie, chicken delight, apple pie, chicken quicherolls, beda roti, chicken malai roll, paneer roll, peri peri chicken, mutton baida roti, chicken bedabeef fry, kerala parotta, fish, roast beef, appam, crab toast, mackerel frycoffee, vegetable biryani, masala chai, rotisalads, salad, sandwich, chicken ham, roast chicken subchicken, biryani, rice, garlic naan, rotipav bhaji, gulab jamun, chaat, paratha, vada pav, buttermilk, thalirotipanneer butter masala, rolls, chicken roll, paneer roll, tandoori chicken, naan, egg bhurjidum biryanipasta, supreme pizza, thin crust pizza, cheesy garlic breadmomos, noodles, fish, spring roll, chicken noodle, hunan chicken, chicken momoparathabiryanibiryani, pepper chickenbiryani, chicken fryrolls, veggie roll, chicken biryani, paneer tikka roll, wheat rollmasala dosachaat, panipuri, masala poori, pav bhaji, bhel puri, pizza, dahi papditandoori chicken, masala tikkaakki rottis, roti, rava idli, filter coffee, pongal, masala dosa, kokum juiceburgers, hot wings, popcorn chickenvada, thatte idli, kesari bathdabeli, masala poori, misal pav, dahipuri, papdi chaat, panipuri, pav bhajiburgers, french fries, crispy veg burger, chicken fries, chicken crisp burgeraloo palya, masala poori, panipuri, rolls, chaat, benne dosa, dahipuritawa pulav, faluda, pav bhaji, ice cream sundae, brownie, hot chocolate fudge, fruit saladneer dosa, fish curry, chicken sukha, rawas fry, thali, fish rava frychaat, pizza, gol gappe, lassi, rolls, vada pav, dabelifrench chicken, roti, biryaniparatha, deluxe thali, lassi, paneer tikka, roti, biryani, panneer butter masalacoffee, kadhai paneerchaatvada pav, dabeli, pav bhaji, samosa pavpasta, momos, noodles, manchurian, peri peri fries, chinese bhel, tacosbadam halwa, butter masala dosa, filter coffee, neer dosa, pasta, tea, biryaniparatha, sandwiches, sweet lassi, sandwich, eggless cake, gulab jamun, bread pakorasalad, sandwichfilter coffee, crispy dosa, vada, burgers, mini idlis, ghee roast masala dosa, parathaparatha, vada pav, thali, lassi, manchurianmomos, pizza, nachos, burgers, pastavada, sweet corn souppizza, garlic bread, chocolava cakebenne masala dosa, aloo palyarolls, chicken roll, chicken biryani, chicken lollipopkesari bath, idli vada, sweet pongal, filter coffee, idli chatni, idli chutney, upmafilter coffee, kharabath, tea, idli vada, khara bhath, kesari bath, crispy vadabenne masala dosa, filter coffee, chai, butter masala dosa, crispy vada, tea, kesari bathdonne biryani, chicken kebab, chicken lollipop, mutton biryani, chicken biryani comboburgers, nachos, mocktails, schezwan momos, paneer manchurian, paneer noodles, patiala paneermaggi, sandwiches, rollsmutton biryanimasala dosa, akki rottis, filter coffee, tea, bonda soup, puri saagu, vadavada, idli, coffee, kesari bathchilli chicken, chicken curry, mutton biryani, gundappa donne biryanimasala poori, bhel puri, panipuri, chaat, dahipuri, sev puri, dahi aloo purilemon chicken, chicken biryanicup cake, cake pops, chocolate trufflechaat, pav bhaji, masala poori, vada pavsandwiches, salad, corn soupcup cake, cake pops, chocolate trufflechaat, pav bhaji, masala poori, vada pavmutton biryanichicken biryani, chicken masala, brain fry, chilli chicken, mutton biryani, nalli fry, chicken frydonne biryani, chicken kebab, chicken lollipop, mutton biryani, chicken biryani combocoffee, kadhai paneerpizzafrench chicken, roti, biryaniparatha, deluxe thali, lassi, paneer tikka, roti, biryani, panneer butter masalavada, sweet corn soupburgers, popcorn, chicken rollmasala dosa, chaat, panneer butter masalagarlic bread, pastamomos, noodles, fish, spring roll, chicken noodle, hunan chicken, chicken momolemon chicken, chicken biryanidonne biryani, chicken biryani, chilli chickenchaat, pav bhaji, masala poori, vada pavburgers, hot wings, popcorn chickenmasala dosa, bonda soup, rava dosa, tomato soup, bhel puri, coffee, rotichaatcup cake, cake pops, chocolate trufflesandwiches, cheese sandwichtandoori chicken, masala tikkabenne masala dosa, filter coffee, chai, butter masala dosa, crispy vada, tea, kesari bathakki rottis, roti, rava idli, filter coffee, pongal, masala dosa, kokum juicebadami holige, puran polimasala dosa, pongal, bisi bele bhaath, curd vadai, rava idli, filter coffee, idli vadabiryanibanana leaf mealaloo palya, masala poori, panipuri, rolls, chaat, benne dosa, dahipurineer dosa, filter coffee, button idli, benne masala dosa, puri saagu, badam halwa, vadamasala dosa, filter coffee, tea, onion dosa, vada sambar, badam milk, badam halwamasala dosa, coffee, khali dosa, idli, kali dosashahi paneer, custard, rajma, sweet lassi, protein chapati, biryani, jeera riceparathaneer dosa, fish curry, chicken sukha, rawas fry, thali, fish rava frythali, idli, neer dosapasta, momos, noodles, manchurian, peri peri fries, chinese bhel, tacosrolls, chicken roll, chicken biryani, chicken lollipopchaat, chips, dahipuri, masala poorisandwiches, sandwich, bun nippat cheesedabeli, masala poori, misal pav, dahipuri, papdi chaat, panipuri, pav bhajichilli paneer, manchurian, aloo paratha, dahipurimaggi, sandwiches, rollsshawarma, chicken shawarama, falafel wrap, lemonadeparatha, vada pav, thali, lassi, manchuriansalad, sandwichbiryani, pepper chickensandwiches, salad, corn soupmasala dosa, akki rottis, filter coffee, tea, bonda soup, puri saagu, vadawaffles, pie, corn dogsalads, sandwiches, arugula salad, pasta, avocado sandwich, protein smoothie, spaghettipepper chicken, chicken biryani, mutton biryaniburgers, fries, peri peri chicken, nachos, wings, rolls, tandoori burgerbutter chicken, parathapizza, nachos, salads, peri peri fries, brownie, pasta alfredo, spaghettirasgulla, luchi, samosa, radhaballavi, rasmalai, kheer kadam, chamchamrolls, fries, egg rollburgers, coffee, chocolate donut, bagel, chocolate drink, dunkaccinos, hot chocolatelassi, amritsari kulcha, cholecoffee, roti, vada pavgarlic bread, paneer pizza, supreme pizza, tandoori paneerburgers, crispy chicken, chicken zinger burger, french fries, chicken fries, hot wingstawa pulav, faluda, pav bhaji, ice cream sundae, brownie, hot chocolate fudge, fruit saladsandwiches, tea, masala chai, pasta, maggi, sandwich, chicken burgerbiryaniburgers, chicken tandoori grill burger, cheesy chicken fries, chicken whopper, whopper burger, tandoor chicken burger, mutton whopperchilli chickenrolls, chicken tikka roll, cheese rollfilter coffee, kesari bath, curd rice, idli vada, crispy masala dosa, masala tea, thick coconut chutneybanana cake, ginger tea, samosa, chicken sandwich, masala chai, ginger chai, masala teapizza, garlic breadgarlic bread, sandwiches, aloo tikki burger, club sandwich, white sauce pasta, garlic riceburgers, chocolate momos, noodles, cheese momospizza, pasta, burgers, lasagne, masala garlic breadparatha, paneer pakora, chole bhature, rajma chawal, chaach, lassi, buttermilkrolls, burgers, sandwiches, nachos, sweet lassi, fries, methi paratharolls, shawarma, chicken shawarama, beef shwarma, haleem, beef seekh roll, chicken rollchaat, sandwiches, rasmalairice kheer, hariyali chicken, chicken kebab, chicken biryani, firewood biryani, mutton biryani, badam phirnidonne biryani, mutton biryanibutter naan, buttermilk, jowar roti, panneer butter masalasandwiches, rose faluda, pizza, custard apple cream, pav bhajiburgers, mc spicy chicken, chicken burger, maharaja macmasala dosa, chole, filter coffee, tea, vada, idli, upmavada, idli, kharabath, noodles, filter coffeefilter coffee, vadadal makhaninachos, pasta del barone, cheesy garlic bread, thin crust pizza, oreo milkshake, tortilla chips, manali pizzachai, maggi, english breakfastmasala dosa, coffeesandwiches, chicken sandwich, oreo shake, irish coffee creamrolls, mutton seekh roll, malai tikka, chicken tikka roll, mutton baida roti, reshmi tikka roll, beda rotiwaffles, pie, corn dogrolls, biryani, butter chicken, chicken manchurian rollburgers, sandwiches, momos, chicken seekh roll, sandwichchaat, pav bhaji, dabeli, vada pav, tawa pulav, panipuri, malpuamasala dosa, panneer butter masala, thaliirish coffee, gelato ice cream, italian icecream, chocolate cakefried cheese, french fries, maggi, thick shakes, chilli cheese fries, teamomos, chicken lollipop, chicken momo, noodles, chicken thukparolls, whole meat shawarmaburgers, salad, mocktails, pasta arrabiata, fries, nutella cheesecake, teriyaki chicken wingssamosa, teaburgers, cheesy pizza, chips, fries, rice bowl, white sauce pasta, chicken wingsbadam milk, potato twister, pav bhaji, panipuri, tikki chaat, cheese cutletchilli chicken, mutton biryani, pepper chicken, chicken fry, donne chicken biryani, chicken guntur, chicken kebabdonne chicken biryani, akki rottis, roti, mutton chops, chicken curry, vada, coffeecoffee, paratha, chaat, masala dosa, dahipuri, pav bhaji, teabeef biryani, chicken biryani, chicken kebab, mutton biryani, beef kabab, paratha, ghee ricemomos, hakka noodles, chop sueysandwiches, fruit bowl, panipuri, corn sandwich, palak paneer, arabian grape juice, cheesy grilled sandwichburgers, biryaninachos, california burrito, rice bowl, saladsshawarma, burgers, beef burger, potato wedges, vegetable noodles, cheese fatayer, garlic friesrolls, momos, paneer roll, veggie rollgobhi pakoda, bajji, raita, ginger tea, jalapeno cheese poppers, mojito, chaitandoori chicken, butter chicken, garlic naangarlic naan, tandoori chicken, basmati riceparatha, samosa, vada pavtea, filter coffee, pongal, masala dosacoffee, veg puff, lattewaffles, pie, corn dogburgers, coffee, chocolate donut, bagel, chocolate drink, dunkaccinos, hot chocolateirish coffee, gelato ice cream, italian icecream, chocolate cakeplum cakeburgers, sandwiches, momos, chicken seekh roll, sandwichchaat, sandwiches, rasmalaisandwiches, chicken sandwich, oreo shake, irish coffee creamparatha, samosa, vada pavgulab jamun, jalebi, samosa, chole, sev puri, rasgulla, masala poorisandwiches, rose faluda, pizza, custard apple cream, pav bhajibadam milk, chaat, rasmalai, mysore pak, samosa, paneer cutlets, kachoricoffee, veg puff, lattebanana cake, ginger tea, masala chai, samosa, ginger chai, poha, egg puffpav bhaji, kulfi, chaat, fries, coffee, chole bhature, parathavada, idli, kharabath, noodles, filter coffeedonne chicken biryani, akki rottis, roti, mutton chops, chicken curry, vada, coffeerice kheer, hariyali chicken, chicken kebab, chicken biryani, firewood biryani, mutton biryani, badam phirnirolls, veggie wrap, chicken wrap, paneer wrap, chole, dal makhani, jal-jeerasamosa, tearasgulla, luchi, samosa, radhaballavi, rasmalai, kheer kadam, chamchamfilter coffee, rava idli, rava masala dosa, vada, raagi dosa, podi dosa, badam halwabiryanisalads, sandwiches, arugula salad, pasta, avocado sandwich, protein smoothie, spaghettimasala dosa, panneer butter masala, thalinoodles, thukpa, chowmein, beef momos, veg momos, cheese momosgarlic naan, tandoori chicken, basmati riceburgers, coffee, chocolate donut, bagel, chocolate drink, dunkaccinos, hot chocolatemasala dosa, chole, filter coffee, tea, vada, idli, upmarolls, beef kabab, seekh kebab, seekh rollburgers, salad, mocktails, pasta arrabiata, fries, nutella cheesecake, teriyaki chicken wingsbeef biryani, chicken biryani, chicken kebab, mutton biryani, beef kabab, paratha, ghee ricemomos, hakka noodles, chop sueymutton cutlets, masala dosa, filter coffee, omelette, vada, scrambled eggs, hot coffeemasala dosa, idli, kali dosa, ghee khali dosa, tomato rice, set dosa, ghee ricebiryani, teaburgers, fries, peri peri chicken, nachos, wings, rolls, tandoori burgerchicken curry, biryani, chilli chicken, fry prawns, chicken kebabparatha, paneer pakora, chole bhature, rajma chawal, chaach, lassi, buttermilksandwiches, fruit bowl, panipuri, corn sandwich, palak paneer, arabian grape juice, cheesy grilled sandwichakki rottis, rumali roti, masala dosa, vada, raagi roti, rava idli, coffeeburgers, ginger chicken, virgin mojito, crispy chicken, rice bowl, popcornburgers, biryaniplum cakerolls, shawarma, chicken shawarama, beef shwarma, haleem, beef seekh roll, chicken rollrolls, burgers, sandwiches, nachos, sweet lassi, fries, methi parathapizza, garlic breadburgers, sandwiches, momos, chicken seekh roll, sandwichsea food, fish fry, fish curry, fish kebab, buttermilk, fry prawns, ragi muddethukpa, vegetable noodles, steam chicken momos, chowmein, chicken shaptra, chicken manchurian, dumplingschilli chickenburgers, french fries, maharaja chicken burger, mc flurryshawarma, burgers, beef burger, potato wedges, vegetable noodles, cheese fatayer, garlic friesburgers, chocolate momos, noodles, cheese momosmasala dosa, filter coffee, vada, akki rottis, rava dosasandwichdonne biryani, mutton biryanirolls, chicken tikka roll, cheese rollcoffee, paratha, chaat, masala dosa, dahipuri, pav bhaji, teamasala dosa, filter coffeefilter coffee, kesari bath, curd rice, idli vada, crispy masala dosa, masala tea, thick coconut chutneychilli chicken, mutton biryani, pepper chicken, chicken fry, donne chicken biryani, chicken guntur, chicken kebabtandoori chicken, butter chicken, garlic naangulab jamun, jalebi, samosa, chole, sev puri, rasgulla, masala poorilassi, amritsari kulcha, cholebiryani, buttermilk, mutton fry, mutton curry, thalipodi masala dosa, crispy masala dosa, idli, vada, coffee, paper plain dosa, aloo palyafilter coffee, vadamasala dosa, khali dosa, kali dosa, gini dosa, idli, potato masala, coffeefilter coffee, idlisandwiches, rose faluda, pizza, custard apple cream, pav bhajipav bhaji, panipuri, chaatvadanachos, california burrito, rice bowl, saladsdal makhanipongal, filter coffee, idli, masala dosagobhi pakoda, bajji, raita, ginger tea, jalapeno cheese poppers, mojito, chaipav bhaji, chaat, masala poori, panipuri, dahipuri, sev puri, sandwichesnachos, pasta del barone, cheesy garlic bread, thin crust pizza, oreo milkshake, tortilla chips, manali pizzawaffles, sandwiches, burgers, pasta primavera, veg burger, omelette, chicken sausagespasta, apple pie, sandwich, chocolate cake, burgers, hot chocolate, donutjeera rice, thali, rotitea, biryaninaan, paratha, sweet lassi, egg masala, matar paneer, dal tadka, panneer butter masalagulab jamun, thali, saladlassi, naan, chicken biryani, butter chicken, aloo paratha, manchurian, paneer tikka masalaburgerssandwiches, paratha, fruit lassi, gulab jamunlassi, dal makhani, ajwaini paratha, mushroom masala, roti, shahi tukda, shahi paneerrolls, momos, paratha, chaapvada, idli, masala dosa, coffeebiryanifilter coffee, vada, biryani, masala dosaginger tea, poha, banana cake, lemon chai, samosa, masala tea, ginger chaivada, set dosa, thali, masala dosa, roti, idlirice bowl, burgers, crispy chicken, chicken wings, french fries, popcorn chickenbeef fry, beef biryani, fish curry, appam, karimeen frypoha, panneer butter masala, aloo paratha, malai koftaparatha, chai, pav bhaji, rolls, vada pav, tea, poori choletea, coffee, sabudana khichdi, samosa, sandwiches, onion pakoda, khichdafries, whole meat shawarma, rollscoffee, vada, chaat, rava idlichole bhature, jalebi, noodle samosa, chaatbiryani, gulab jamun, shikanji, kulfi, chaatrolls, parathathalassery biryani, chicken fry, chicken biryaniburgers, strawberry shake, fries, pancakes, chicken salad, lambsandwiches, maggi, rolls, chole bhature, ginger tea, paratha, rava masala dosaparatha, samosa, chole bhature, pav bhaji, kachori, vada pavthali, lassi, dal bati churma, paratha, buttermilk, paneer malai kofta, dal tadkachicken curry, paratha, fish, kerala parottaliti chokha, palak paneer, litti, poha, pav bhaji, noodles, chaiburgers, friesrolls, chicken shawarama, chicken shwarma roll, abbabi chicken, shawarma rollparatha, thali, rajma, pohavada, coffee, idli, tea, masala dosa, onion dosa, podi dosadal fry, chilli paneer, aloo paratha, dal tadkamasala vada pav, kulfimocktails, chicken wingschole bhature, rasmalai, chaat, rasgulla, pav bhaji, kaju katli, samosalassi, thali, paratha, rajma, malai kofta, buttermilk, phulke ghar kechai, vada pav, pizzapaneer tikka, dal bati, gulab jamun, thali, tandoori mushrooms, chole, chinese bheldal tadkapasta, apple pie, sandwich, chocolate cake, burgers, hot chocolate, donutsandwiches, chicken tikka sandwichburgersmanchow soup, tandoori chicken, parathahyderabadi biryani, paneer biryanirolls, chicken biryanidal bati, liti chokharice bowl, paneer tikka, rice bowls, california burritoaloo paratha, panneer butter masalapaneer tikka, tandoori momos, soya chaap, afghani chaapburgers, jerk chicken salad, salads, lemon mojito, lemonade, chicken patty, veg burgerwaffles, sandwiches, burgers, pasta primavera, veg burger, omelette, chicken sausagescheese naan, biryani, onion ringschicken grill, shawarma roll, biryani, pulpy grape juice, paratha, chicken shawarama, chicken tikkaparatha, rajma chawalpasta, pizza, garlic breadshawarma, pita bread, al faham chicken, barbeque chickendal tadka, matar methi malai, malai kofta, jeera rice, rotichicken grill, butter chicken, shawarma, chicken shwarma roll, chicken lollipop, rumali roti, rollsliti chokha, chilli chicken, chicken litti, paratha, lassi, pan fried momos, egg curryrolls, beda roti, chicken baida roti, chicken tikka roll, aloo tikka roll, mushroom rollbiryani, pepper chicken, ghee rice, dal frysattu paratha, lassi, dal makhani, rotichole, lassi, parathachicken biryani, mutton biryanirolls, veg momos, chicken momo, paneer tikka rollparatha, puri sabzi, tea, cholechaat, burgers, cheese maggi, tea, chocolate shake, lassi, cheese vada pavpasta, sandwich, sandwiches, caesar salad, salads, fries, egg wrapchole bhature, rasmalai, chaat, rasgulla, pav bhaji, kaju katli, samosaparatha, kaju barfi, papdi chaatparatha, samosa, chole bhature, pav bhaji, kachori, vada pavpasta, sandwich, sandwiches, caesar salad, salads, fries, egg wrapwaffles, sandwiches, burgers, pasta primavera, veg burger, omelette, chicken sausageschaat, chole bhature, thali, dahipuri, raj kachori, raita, lassiparatha, kaju barfi, papdi chaatliti chokha, palak paneer, litti, poha, pav bhaji, noodles, chaitea, coffee, sabudana khichdi, samosa, sandwiches, onion pakoda, khichdathalassery biryani, chicken fry, chicken biryaniburgersrice bowl, paneer tikka, rice bowls, california burritorice bowl, burgers, crispy chicken, chicken wings, french fries, popcorn chickenbiryanichole bhature, jalebi, noodle samosa, chaatvada, coffee, idli, tea, masala dosa, onion dosa, podi dosarolls, chicken biryanistuffed garlic breadshawarma, pita bread, al faham chicken, barbeque chickenparatha, rajma chawalchicken grill, butter chicken, shawarma, chicken shwarma roll, chicken lollipop, rumali roti, rollsidli, vada, pongal, filter coffee, mini idlis, rava masala dosa, teaparatha, chai, pav bhaji, rolls, vada pav, tea, poori cholechicken curry, paratha, fish, kerala parottamanchow soup, tandoori chicken, parathasattu paratha, lassi, dal makhani, rotipasta, pizza, garlic breaddal fry, chilli paneer, aloo paratha, dal tadkachicken grill, shawarma roll, biryani, pulpy grape juice, paratha, chicken shawarama, chicken tikkarolls, beda roti, chicken baida roti, chicken tikka roll, aloo tikka roll, mushroom rollmocktails, chicken wingsrolls, whole meat shawarma, chicken shawarama, malgoum shawarmarolls, veg momos, chicken momo, paneer tikka rollthali, lassi, dal bati churma, paratha, buttermilk, paneer malai kofta, dal tadkabiryani, pepper chicken, ghee rice, dal frydal bati, liti chokhafilter coffee, vada, biryani, masala dosalassi, paratha, chur chur naan, raita, chana masala, buttermilk, kheerlassi, thali, paratha, rajma, malai kofta, buttermilk, phulke ghar kehyderabadi biryani, paneer biryanipoha, panneer butter masala, aloo paratha, malai koftadal tadka, matar methi malai, malai kofta, jeera rice, rotiparatha, samosa, chole bhature, pav bhaji, kachori, vada pavchole, lassi, parathalassi, naan, chicken biryani, butter chicken, aloo paratha, manchurian, paneer tikka masalabeef fry, beef biryani, fish curry, appam, karimeen fryburgers, friesaloo paratha, panneer butter masalachai, vada pav, pizzarolls, chicken shawarama, chicken shwarma roll, abbabi chicken, shawarma rollmasala vada pav, kulfiparatha, thali, rajma, pohapasta, sandwich, sandwiches, caesar salad, salads, fries, egg wrapcheese naan, biryani, onion ringstea, biryanichicken biryani, mutton biryanipaneer tikka, dal bati, gulab jamun, thali, tandoori mushrooms, chole, chinese bhelparathanaan, paratha, sweet lassi, egg masala, matar paneer, dal tadka, panneer butter masalachaat, tea, sev puri, chai, raj kachori, coffee, pakodarolls, parathawaffles, coffee, pizza, burgers, hot chocolate, brownie, friesburgers, hot dog, mushroom burger, mojito, chicken bbq burger, french fries, grilled burgerburgers, tandoor chicken burger, mutton whopper, mutton burger, cheesy fries, chicken whopper, chicken crisp burgerpoha, vada pav, tea, sandwiches, chicken sandwich, french omelette, french frieschaat, ginger tea, club kachori, samosa, aloo paratha, dhokla, thalinoodles, chilli chickensandwich, poha, gujarati food, dabeli, pav bhaji, tea, thalimasala dosa, roti, curd ricerollsliti chokhaburgers, popcorn chicken, hot wings, virgin mojito, rice bowlchicken biryaniburgers, masala fries, wingstacos, nachos, burrito, rice bowl, pizza, fiesta potatoes, chicken burritospane pizza, garlic bread, thin crust pizza, paneer pizza, pepperoni, pastapanneer butter masala, paratha, vegetable biryanichole, paratha, rajma, dal makhanicheesy chicken wrap, veggie wrap, chicken rice feast, chicken biryani, paratha, paneer wrap, rollsliti chokha, litti, sattu paratha, dal bati, thali, rotibiryani, chicken currydonut, burgers, eclair, hot chocolatelaccha paratha, murgh lababdar, biryani, mutton bhuna gosht, litti, bhuna chickenfilter coffee, plain dosaparatha, paneer thali, tandoori roti, chole bhaturesandwiches, chaat, panipuri, sandwichplain dosa, palak dosa, mushroom dosaburgers, club chicken sandwich, fries, lamb burger, cheese sandwich, chicken bbq burgersabudana vada, kulfi, schezwan vada pav, ginger teasandwich, sandwiches, salad, salads, chicken teriyaki subrajma, dal makhani, paneer thaliburgers, mcmuffin, french fries, waffles, pancakes, mc veggie, coffeepoha, samosa, ginger chai, ginger tea, banana cake, cake rusk, coffeerolls, chicken tikka roll, chicken bhuna roll, biryani, lassi, paneer bhurji roll, beda rotihealthy breakfast, kadhi, sprout salad, rajma chawal, salads, onion paratha, dal makhanichocolate momos, fried momosandwich, paratha, poha, sandwiches, idli vada, tea, rotiparatha, thalipotato fries, chicken currychicken biryaniburgersmasala chai, sandwiches, samosa, masala tea, ice tea, bombay sandwich, chicken mayo sandwichbiryani, fish, mughlai parathaburgers, hot dog, mint mojito, french fries, bbq burger, lime mojito, grilled burgerpizzalaccha paratha, butter naan, roti, vegetable biryanichaat, burgersfrench fries, peri peri friesveggie pizza, french friesmomos, chocolate bar, fish, sweet potato fries, dumplings, rice noodles, paneer baonon veg thali, egg maggimutton biryani, rotirolls, noodles, mughlai paratha, paneer kathi roll, veg manchow soup, crispy chicken, chicken manchurianthali, biryani, aloo parathawaffles, coffee, pizza, burgers, hot chocolate, brownie, friespaneer biryanifish, veg thali, biryanilassi, paratha, paneer bhurjichicken grill, chicken tikka roll, grape juice, biryani, shawarma roll, tandoori chicken, tandoori raanpanneer butter masala, lassichole bhature, parathaparathawaffles, burgers, pizza, teaappam, egg curryparathabiryani, shawarmaparathamutton curry, kulcha, biryani, chicken currylassi, chaat, chole bhature, jalebi, panipuri, thali, parathabutter naan, kulcha, paratha, butter chicken, shawarma, roti, thalithali, jowar roti, brinjal curry, coffee, buttermilk, salad, akki rottisrolls, momos, fries, chicken manchurian rollchicken grill, dal fry, arabian grape juice, rumali roti, shawarma rollroti, dal tadkarice bowl, nachos, rice bowls, california burrito, burrito bowl, salads, tacosrice, paratha, thalimutton currypasta, burgers, thick shakes, sunday brunch, apple pie, waffles, sandwichesbeef fry, appam, chicken curry, kerala parotta, idiyappam, egg curry, biryanilassi, paratha, chaach, chole bhature, thalidal makhani, reshmi kebab, thali, panneer butter masala, naan, masala papadparatha, tandoori chicken, panneer butter masala, chole bhaturerice, mutton biryani, chicken biryani, haleem, vegetable biryani, hyderabadi biryani, chicken gunturveg tandoori momos, keema pav, butter chicken, pav bhaji, rolls, galauti kebab, achari paneerthali, biryaniparatha, thalidal makhani, thali, shahi paneerdum biryanichaipastaburgers, chicken roll, rolls, fries, wings, tandoori momos, chicken grillwaffles, coffee, pizza, burgers, hot chocolate, brownie, friesrolls, cinnamon roll, cinnamon bunaloo tikki chatpasta, burgers, thick shakes, sunday brunch, apple pie, waffles, sandwicheschicken grill, chicken tikka roll, grape juice, biryani, shawarma roll, tandoori chicken, tandoori raanbutter naan, kulcha, paratha, butter chicken, shawarma, roti, thaliappam, egg curryfish curry, chicken curryparatha, thalichaimasala chai, sandwiches, samosa, masala tea, ice tea, bombay sandwich, chicken mayo sandwichginger tea, banana cake, green tea, veg puff, lemon tea, ice teachaach, sweet lassi, onion paratha, chicken parantha, vegetable paratha, aloo methilaccha paratha, murgh lababdar, biryani, mutton bhuna gosht, litti, bhuna chickenburgers, tandoor chicken burger, mutton whopper, mutton burger, cheesy fries, chicken whopper, chicken crisp burgerburgerschole bhature, parathawaffles, coffee, pizza, burgers, hot chocolate, brownie, friesbeef fry, appam, chicken curry, kerala parotta, idiyappam, egg curry, biryanisandwich, paratha, poha, sandwiches, idli vada, tea, rotimutton curry, kulcha, biryani, chicken currytacos, nachos, pizza, mexican frieslaccha paratha, butter naan, roti, vegetable biryanirolls, cheesy chicken, chocolava cake, paneer wrapmasala dosa, roti, curd ricerice, paratha, thalipaneer biryanisandwich, poha, gujarati food, dabeli, pav bhaji, tea, thaliburgers, chicken popcorn, zinger burger, french friesfilter coffee, plain dosamomos, chocolate bar, fish, sweet potato fries, dumplings, rice noodles, paneer baolassi, chaat, chole bhature, jalebi, panipuri, thali, paratharoti, dal tadkathali, jowar roti, brinjal curry, coffee, buttermilk, salad, akki rottisfries, peri peri chicken, chicken crisp burgernon veg thali, egg maggibiryani, fish, mughlai parathaparatharolls, momos, fries, chicken manchurian rolldum biryanimutton biryani, rotichicken grill, dal fry, arabian grape juice, rumali roti, shawarma rollpalak paneer, idli, aloo paratha, rajma chawal, salads, salad, detox smoothiechicken grill, thalassery biryani, hyderabadi chicken biryani, shawarmaburgers, club chicken sandwich, fries, lamb burger, cheese sandwich, chicken bbq burgerrice bowl, nachos, rice bowls, california burrito, burrito bowl, salads, tacosmutton currychicken biryaniburgers, chicken roll, rolls, fries, wings, tandoori momos, chicken grillveg tandoori momos, keema pav, butter chicken, pav bhaji, rolls, galauti kebab, achari paneernoodles, chilli chickencoffee, mini idlis, kothu parotta, podi dosa, tea, masala dosa, parathathali, biryani, aloo parathahakka noodles, momosdal makhani, reshmi kebab, thali, panneer butter masala, naan, masala papadchicken biryanirollsdal makhani, thali, shahi paneerpanneer butter masala, lassilassi, paratha, chaach, chole bhature, thaliburgers, hot dog, mushroom burger, mojito, chicken bbq burger, french fries, grilled burgerlassi, paratha, paneer bhurjirice, mutton biryani, chicken biryani, haleem, vegetable biryani, hyderabadi biryani, chicken gunturpastamasala dosa, filter coffee, ghee rice, teathali, biryanifilter coffee, idli, vada, masala dosa, tea, pongal, plain dosapoha, vada pav, tea, sandwiches, chicken sandwich, french omelette, french friesparatha, paneer thali, tandoori roti, chole bhaturechaat, burgerspotato fries, chicken curryrolls, chicken tikka roll, chicken bhuna roll, biryani, lassi, paneer bhurji roll, beda roticoffee, vada, mla dosafish, veg thali, biryaniburgers'"
      ]
     },
     "execution_count": 29,
     "metadata": {},
     "output_type": "execute_result"
    }
   ],
   "source": [
    "all_dishes = data_qk['dish_liked'].str.lower().str.cat() # concate all dishes in string format for wordcloud \n",
    "all_dishes"
   ]
  },
  {
   "cell_type": "code",
   "execution_count": 30,
   "id": "c8b932d1",
   "metadata": {},
   "outputs": [
    {
     "name": "stdout",
     "output_type": "stream",
     "text": [
      "Collecting wordcloud\n",
      "  Obtaining dependency information for wordcloud from https://files.pythonhosted.org/packages/34/ac/72a4e42e76bf549dfd91791a6b10a9832f046c1d48b5e778be9ec012aa47/wordcloud-1.9.2-cp311-cp311-win_amd64.whl.metadata\n",
      "  Downloading wordcloud-1.9.2-cp311-cp311-win_amd64.whl.metadata (3.4 kB)\n",
      "Requirement already satisfied: numpy>=1.6.1 in c:\\users\\user\\appdata\\local\\programs\\python\\python311\\lib\\site-packages (from wordcloud) (1.26.0)\n",
      "Requirement already satisfied: pillow in c:\\users\\user\\appdata\\local\\programs\\python\\python311\\lib\\site-packages (from wordcloud) (10.0.1)\n",
      "Requirement already satisfied: matplotlib in c:\\users\\user\\appdata\\local\\programs\\python\\python311\\lib\\site-packages (from wordcloud) (3.8.0)\n",
      "Requirement already satisfied: contourpy>=1.0.1 in c:\\users\\user\\appdata\\local\\programs\\python\\python311\\lib\\site-packages (from matplotlib->wordcloud) (1.1.1)\n",
      "Requirement already satisfied: cycler>=0.10 in c:\\users\\user\\appdata\\local\\programs\\python\\python311\\lib\\site-packages (from matplotlib->wordcloud) (0.12.1)\n",
      "Requirement already satisfied: fonttools>=4.22.0 in c:\\users\\user\\appdata\\local\\programs\\python\\python311\\lib\\site-packages (from matplotlib->wordcloud) (4.43.1)\n",
      "Requirement already satisfied: kiwisolver>=1.0.1 in c:\\users\\user\\appdata\\local\\programs\\python\\python311\\lib\\site-packages (from matplotlib->wordcloud) (1.4.5)\n",
      "Requirement already satisfied: packaging>=20.0 in c:\\users\\user\\appdata\\local\\programs\\python\\python311\\lib\\site-packages (from matplotlib->wordcloud) (23.1)\n",
      "Requirement already satisfied: pyparsing>=2.3.1 in c:\\users\\user\\appdata\\local\\programs\\python\\python311\\lib\\site-packages (from matplotlib->wordcloud) (3.1.1)\n",
      "Requirement already satisfied: python-dateutil>=2.7 in c:\\users\\user\\appdata\\local\\programs\\python\\python311\\lib\\site-packages (from matplotlib->wordcloud) (2.8.2)\n",
      "Requirement already satisfied: six>=1.5 in c:\\users\\user\\appdata\\local\\programs\\python\\python311\\lib\\site-packages (from python-dateutil>=2.7->matplotlib->wordcloud) (1.16.0)\n",
      "Downloading wordcloud-1.9.2-cp311-cp311-win_amd64.whl (151 kB)\n",
      "   ---------------------------------------- 0.0/151.4 kB ? eta -:--:--\n",
      "   -- ------------------------------------- 10.2/151.4 kB ? eta -:--:--\n",
      "   -- ------------------------------------- 10.2/151.4 kB ? eta -:--:--\n",
      "   ------- ------------------------------- 30.7/151.4 kB 262.6 kB/s eta 0:00:01\n",
      "   ------------------ -------------------- 71.7/151.4 kB 393.8 kB/s eta 0:00:01\n",
      "   ------------------ -------------------- 71.7/151.4 kB 393.8 kB/s eta 0:00:01\n",
      "   ------------------ -------------------- 71.7/151.4 kB 393.8 kB/s eta 0:00:01\n",
      "   ------------------ -------------------- 71.7/151.4 kB 393.8 kB/s eta 0:00:01\n",
      "   ------------------ -------------------- 71.7/151.4 kB 393.8 kB/s eta 0:00:01\n",
      "   ------------------ -------------------- 71.7/151.4 kB 393.8 kB/s eta 0:00:01\n",
      "   ------------------ -------------------- 71.7/151.4 kB 393.8 kB/s eta 0:00:01\n",
      "   ------------------ -------------------- 71.7/151.4 kB 393.8 kB/s eta 0:00:01\n",
      "   ------------------ -------------------- 71.7/151.4 kB 393.8 kB/s eta 0:00:01\n",
      "   ------------------ -------------------- 71.7/151.4 kB 393.8 kB/s eta 0:00:01\n",
      "   ------------------ -------------------- 71.7/151.4 kB 393.8 kB/s eta 0:00:01\n",
      "   ------------------ -------------------- 71.7/151.4 kB 393.8 kB/s eta 0:00:01\n",
      "   ------------------ -------------------- 71.7/151.4 kB 393.8 kB/s eta 0:00:01\n",
      "   ------------------ -------------------- 71.7/151.4 kB 393.8 kB/s eta 0:00:01\n",
      "   ------------------ -------------------- 71.7/151.4 kB 393.8 kB/s eta 0:00:01\n",
      "   ------------------ -------------------- 71.7/151.4 kB 393.8 kB/s eta 0:00:01\n",
      "   ------------------ -------------------- 71.7/151.4 kB 393.8 kB/s eta 0:00:01\n",
      "   ------------------ -------------------- 71.7/151.4 kB 393.8 kB/s eta 0:00:01\n",
      "   ------------------ -------------------- 71.7/151.4 kB 393.8 kB/s eta 0:00:01\n",
      "   ------------------ -------------------- 71.7/151.4 kB 393.8 kB/s eta 0:00:01\n",
      "   ------------------ -------------------- 71.7/151.4 kB 393.8 kB/s eta 0:00:01\n",
      "   ------------------ -------------------- 71.7/151.4 kB 393.8 kB/s eta 0:00:01\n",
      "   ------------------ -------------------- 71.7/151.4 kB 393.8 kB/s eta 0:00:01\n",
      "   ------------------ -------------------- 71.7/151.4 kB 393.8 kB/s eta 0:00:01\n",
      "   ------------------ -------------------- 71.7/151.4 kB 393.8 kB/s eta 0:00:01\n",
      "   ------------------ -------------------- 71.7/151.4 kB 393.8 kB/s eta 0:00:01\n",
      "   ------------------ -------------------- 71.7/151.4 kB 393.8 kB/s eta 0:00:01\n",
      "   ------------------------ --------------- 92.2/151.4 kB 57.0 kB/s eta 0:00:02\n",
      "   ------------------------ --------------- 92.2/151.4 kB 57.0 kB/s eta 0:00:02\n",
      "   ------------------------ --------------- 92.2/151.4 kB 57.0 kB/s eta 0:00:02\n",
      "   ------------------------ --------------- 92.2/151.4 kB 57.0 kB/s eta 0:00:02\n",
      "   ------------------------ --------------- 92.2/151.4 kB 57.0 kB/s eta 0:00:02\n",
      "   ------------------------ --------------- 92.2/151.4 kB 57.0 kB/s eta 0:00:02\n",
      "   ------------------------ --------------- 92.2/151.4 kB 57.0 kB/s eta 0:00:02\n",
      "   ------------------------ --------------- 92.2/151.4 kB 57.0 kB/s eta 0:00:02\n",
      "   ------------------------ --------------- 92.2/151.4 kB 57.0 kB/s eta 0:00:02\n",
      "   ------------------------ --------------- 92.2/151.4 kB 57.0 kB/s eta 0:00:02\n",
      "   ------------------------ --------------- 92.2/151.4 kB 57.0 kB/s eta 0:00:02\n",
      "   ------------------------ --------------- 92.2/151.4 kB 57.0 kB/s eta 0:00:02\n",
      "   ------------------------ --------------- 92.2/151.4 kB 57.0 kB/s eta 0:00:02\n",
      "   ------------------------ --------------- 92.2/151.4 kB 57.0 kB/s eta 0:00:02\n",
      "   ------------------------ --------------- 92.2/151.4 kB 57.0 kB/s eta 0:00:02\n",
      "   ------------------------ --------------- 92.2/151.4 kB 57.0 kB/s eta 0:00:02\n",
      "   ------------------------ --------------- 92.2/151.4 kB 57.0 kB/s eta 0:00:02\n",
      "   ------------------------ --------------- 92.2/151.4 kB 57.0 kB/s eta 0:00:02\n",
      "   ------------------------ --------------- 92.2/151.4 kB 57.0 kB/s eta 0:00:02\n",
      "   ------------------------ --------------- 92.2/151.4 kB 57.0 kB/s eta 0:00:02\n",
      "   ------------------------ --------------- 92.2/151.4 kB 57.0 kB/s eta 0:00:02\n",
      "   ------------------------ --------------- 92.2/151.4 kB 57.0 kB/s eta 0:00:02\n",
      "   ------------------------ --------------- 92.2/151.4 kB 57.0 kB/s eta 0:00:02\n",
      "   ------------------------ --------------- 92.2/151.4 kB 57.0 kB/s eta 0:00:02\n",
      "   ------------------------ --------------- 92.2/151.4 kB 57.0 kB/s eta 0:00:02\n",
      "   ------------------------ --------------- 92.2/151.4 kB 57.0 kB/s eta 0:00:02\n",
      "   ------------------------ --------------- 92.2/151.4 kB 57.0 kB/s eta 0:00:02\n",
      "   ------------------------ --------------- 92.2/151.4 kB 57.0 kB/s eta 0:00:02\n",
      "   ------------------------ --------------- 92.2/151.4 kB 57.0 kB/s eta 0:00:02\n",
      "   ------------------------ --------------- 92.2/151.4 kB 57.0 kB/s eta 0:00:02\n",
      "   ------------------------ --------------- 92.2/151.4 kB 57.0 kB/s eta 0:00:02\n",
      "   ------------------------ --------------- 92.2/151.4 kB 57.0 kB/s eta 0:00:02\n",
      "   ------------------------ --------------- 92.2/151.4 kB 57.0 kB/s eta 0:00:02\n",
      "   ------------------------ --------------- 92.2/151.4 kB 57.0 kB/s eta 0:00:02\n",
      "   ------------------------ --------------- 92.2/151.4 kB 57.0 kB/s eta 0:00:02\n",
      "   ------------------------ --------------- 92.2/151.4 kB 57.0 kB/s eta 0:00:02\n",
      "   ------------------------ --------------- 92.2/151.4 kB 57.0 kB/s eta 0:00:02\n",
      "   ------------------------ --------------- 92.2/151.4 kB 57.0 kB/s eta 0:00:02\n",
      "   ------------------------ --------------- 92.2/151.4 kB 57.0 kB/s eta 0:00:02\n",
      "   ------------------------ --------------- 92.2/151.4 kB 57.0 kB/s eta 0:00:02\n",
      "   ------------------------ --------------- 92.2/151.4 kB 57.0 kB/s eta 0:00:02\n",
      "   ------------------------ --------------- 92.2/151.4 kB 57.0 kB/s eta 0:00:02\n",
      "   ------------------------ --------------- 92.2/151.4 kB 57.0 kB/s eta 0:00:02\n",
      "   ------------------------ --------------- 92.2/151.4 kB 57.0 kB/s eta 0:00:02\n",
      "   ------------------------ --------------- 92.2/151.4 kB 57.0 kB/s eta 0:00:02\n",
      "   ------------------------ --------------- 92.2/151.4 kB 57.0 kB/s eta 0:00:02\n",
      "   ------------------------ --------------- 92.2/151.4 kB 57.0 kB/s eta 0:00:02\n",
      "   ------------------------ --------------- 92.2/151.4 kB 57.0 kB/s eta 0:00:02\n",
      "   ------------------------ --------------- 92.2/151.4 kB 57.0 kB/s eta 0:00:02\n",
      "   ------------------------ --------------- 92.2/151.4 kB 57.0 kB/s eta 0:00:02\n",
      "   ------------------------ --------------- 92.2/151.4 kB 57.0 kB/s eta 0:00:02\n",
      "   ------------------------ --------------- 92.2/151.4 kB 57.0 kB/s eta 0:00:02\n",
      "   ------------------------ --------------- 92.2/151.4 kB 57.0 kB/s eta 0:00:02\n",
      "   ------------------------ --------------- 92.2/151.4 kB 57.0 kB/s eta 0:00:02\n",
      "   ------------------------ --------------- 92.2/151.4 kB 57.0 kB/s eta 0:00:02\n",
      "   ------------------------ --------------- 92.2/151.4 kB 57.0 kB/s eta 0:00:02\n",
      "   ------------------------ --------------- 92.2/151.4 kB 57.0 kB/s eta 0:00:02\n",
      "   ------------------------ --------------- 92.2/151.4 kB 57.0 kB/s eta 0:00:02\n",
      "   ------------------------ --------------- 92.2/151.4 kB 57.0 kB/s eta 0:00:02\n",
      "   ------------------------ --------------- 92.2/151.4 kB 57.0 kB/s eta 0:00:02\n",
      "   ------------------------ --------------- 92.2/151.4 kB 57.0 kB/s eta 0:00:02\n",
      "   ------------------------ --------------- 92.2/151.4 kB 57.0 kB/s eta 0:00:02\n",
      "   ------------------------ --------------- 92.2/151.4 kB 57.0 kB/s eta 0:00:02\n",
      "   ------------------------ --------------- 92.2/151.4 kB 57.0 kB/s eta 0:00:02\n",
      "   ------------------------ --------------- 92.2/151.4 kB 57.0 kB/s eta 0:00:02\n",
      "   ------------------------ --------------- 92.2/151.4 kB 57.0 kB/s eta 0:00:02\n",
      "   ------------------------ --------------- 92.2/151.4 kB 57.0 kB/s eta 0:00:02\n",
      "   ------------------------ --------------- 92.2/151.4 kB 57.0 kB/s eta 0:00:02\n",
      "   ------------------------ --------------- 92.2/151.4 kB 57.0 kB/s eta 0:00:02\n",
      "   ------------------------ --------------- 92.2/151.4 kB 57.0 kB/s eta 0:00:02\n",
      "   ------------------------ --------------- 92.2/151.4 kB 57.0 kB/s eta 0:00:02\n",
      "   ------------------------ --------------- 92.2/151.4 kB 57.0 kB/s eta 0:00:02\n",
      "   ------------------------ --------------- 92.2/151.4 kB 57.0 kB/s eta 0:00:02\n",
      "   ------------------------ --------------- 92.2/151.4 kB 57.0 kB/s eta 0:00:02\n",
      "   ------------------------ --------------- 92.2/151.4 kB 57.0 kB/s eta 0:00:02\n",
      "   ------------------------ --------------- 92.2/151.4 kB 57.0 kB/s eta 0:00:02\n",
      "   ------------------------ --------------- 92.2/151.4 kB 57.0 kB/s eta 0:00:02\n",
      "   ------------------------ --------------- 92.2/151.4 kB 57.0 kB/s eta 0:00:02\n",
      "   ------------------------ --------------- 92.2/151.4 kB 57.0 kB/s eta 0:00:02\n",
      "   ------------------------ --------------- 92.2/151.4 kB 57.0 kB/s eta 0:00:02\n",
      "   ------------------------ --------------- 92.2/151.4 kB 57.0 kB/s eta 0:00:02\n",
      "   ------------------------ --------------- 92.2/151.4 kB 57.0 kB/s eta 0:00:02\n",
      "   ------------------------ --------------- 92.2/151.4 kB 57.0 kB/s eta 0:00:02\n",
      "   ------------------------ --------------- 92.2/151.4 kB 57.0 kB/s eta 0:00:02\n",
      "   ------------------------ --------------- 92.2/151.4 kB 57.0 kB/s eta 0:00:02\n",
      "   ------------------------ --------------- 92.2/151.4 kB 57.0 kB/s eta 0:00:02\n",
      "   ------------------------ --------------- 92.2/151.4 kB 57.0 kB/s eta 0:00:02\n",
      "   ------------------------ --------------- 92.2/151.4 kB 57.0 kB/s eta 0:00:02\n",
      "   ------------------------ --------------- 92.2/151.4 kB 57.0 kB/s eta 0:00:02\n",
      "   ------------------------ --------------- 92.2/151.4 kB 57.0 kB/s eta 0:00:02\n",
      "   ------------------------ --------------- 92.2/151.4 kB 57.0 kB/s eta 0:00:02\n",
      "   ------------------------ --------------- 92.2/151.4 kB 57.0 kB/s eta 0:00:02\n",
      "   ------------------------ --------------- 92.2/151.4 kB 57.0 kB/s eta 0:00:02\n",
      "   ------------------------ --------------- 92.2/151.4 kB 57.0 kB/s eta 0:00:02\n",
      "   ------------------------------------ -- 143.4/151.4 kB 22.8 kB/s eta 0:00:01\n",
      "   --------------------------------------- 151.4/151.4 kB 23.8 kB/s eta 0:00:00\n",
      "Installing collected packages: wordcloud\n",
      "Successfully installed wordcloud-1.9.2\n"
     ]
    }
   ],
   "source": [
    "!pip install wordcloud"
   ]
  },
  {
   "cell_type": "code",
   "execution_count": 31,
   "id": "02e34266",
   "metadata": {},
   "outputs": [],
   "source": [
    "import wordcloud"
   ]
  },
  {
   "cell_type": "code",
   "execution_count": 32,
   "id": "d6ba395e",
   "metadata": {},
   "outputs": [],
   "source": [
    "from wordcloud import WordCloud"
   ]
  },
  {
   "cell_type": "code",
   "execution_count": 33,
   "id": "12fd9325",
   "metadata": {
    "scrolled": true
   },
   "outputs": [
    {
     "data": {
      "text/plain": [
       "(-0.5, 399.5, 199.5, -0.5)"
      ]
     },
     "execution_count": 33,
     "metadata": {},
     "output_type": "execute_result"
    },
    {
     "data": {
      "image/png": "[encoded data removed]",
      "text/plain": [
       "<Figure size 640x480 with 1 Axes>"
      ]
     },
     "metadata": {},
     "output_type": "display_data"
    }
   ],
   "source": [
    "wordcloud = WordCloud().generate(all_dishes)\n",
    "plt.imshow(wordcloud)\n",
    "plt.axis('on')"
   ]
  },
  {
   "cell_type": "markdown",
   "id": "9882fa42",
   "metadata": {},
   "source": [
    "### lets work on missing value"
   ]
  },
  {
   "cell_type": "code",
   "execution_count": 34,
   "id": "30eb203a",
   "metadata": {},
   "outputs": [
    {
     "data": {
      "text/plain": [
       "Index(['index', 'url', 'address', 'name', 'online_order', 'book_table', 'rate',\n",
       "       'votes', 'phone', 'location', 'rest_type', 'dish_liked', 'cuisines',\n",
       "       'approx_cost(for two people)', 'reviews_list', 'menu_item',\n",
       "       'listed_in(type)', 'listed_in(city)'],\n",
       "      dtype='object')"
      ]
     },
     "execution_count": 34,
     "metadata": {},
     "output_type": "execute_result"
    }
   ],
   "source": [
    "df.columns"
   ]
  },
  {
   "cell_type": "code",
   "execution_count": 35,
   "id": "5748a19d",
   "metadata": {
    "scrolled": true
   },
   "outputs": [
    {
     "data": {
      "text/html": [
       "<div>\n",
       "<style scoped>\n",
       "    .dataframe tbody tr th:only-of-type {\n",
       "        vertical-align: middle;\n",
       "    }\n",
       "\n",
       "    .dataframe tbody tr th {\n",
       "        vertical-align: top;\n",
       "    }\n",
       "\n",
       "    .dataframe thead th {\n",
       "        text-align: right;\n",
       "    }\n",
       "</style>\n",
       "<table border=\"1\" class=\"dataframe\">\n",
       "  <thead>\n",
       "    <tr style=\"text-align: right;\">\n",
       "      <th></th>\n",
       "      <th>rate</th>\n",
       "      <th>reviews_list</th>\n",
       "    </tr>\n",
       "  </thead>\n",
       "  <tbody>\n",
       "    <tr>\n",
       "      <th>0</th>\n",
       "      <td>4.1</td>\n",
       "      <td>[('Rated 4.0', 'RATED\\n  A beautiful place to ...</td>\n",
       "    </tr>\n",
       "    <tr>\n",
       "      <th>1</th>\n",
       "      <td>4.1</td>\n",
       "      <td>[('Rated 4.0', 'RATED\\n  Had been here for din...</td>\n",
       "    </tr>\n",
       "    <tr>\n",
       "      <th>2</th>\n",
       "      <td>3.8</td>\n",
       "      <td>[('Rated 3.0', \"RATED\\n  Ambience is not that ...</td>\n",
       "    </tr>\n",
       "    <tr>\n",
       "      <th>3</th>\n",
       "      <td>3.7</td>\n",
       "      <td>[('Rated 4.0', \"RATED\\n  Great food and proper...</td>\n",
       "    </tr>\n",
       "    <tr>\n",
       "      <th>4</th>\n",
       "      <td>3.8</td>\n",
       "      <td>[('Rated 4.0', 'RATED\\n  Very good restaurant ...</td>\n",
       "    </tr>\n",
       "    <tr>\n",
       "      <th>...</th>\n",
       "      <td>...</td>\n",
       "      <td>...</td>\n",
       "    </tr>\n",
       "    <tr>\n",
       "      <th>51712</th>\n",
       "      <td>3.6</td>\n",
       "      <td>[('Rated 5.0', \"RATED\\n  Food and service are ...</td>\n",
       "    </tr>\n",
       "    <tr>\n",
       "      <th>51713</th>\n",
       "      <td>NaN</td>\n",
       "      <td>[]</td>\n",
       "    </tr>\n",
       "    <tr>\n",
       "      <th>51714</th>\n",
       "      <td>NaN</td>\n",
       "      <td>[]</td>\n",
       "    </tr>\n",
       "    <tr>\n",
       "      <th>51715</th>\n",
       "      <td>4.3</td>\n",
       "      <td>[('Rated 4.0', 'RATED\\n  Nice and friendly pla...</td>\n",
       "    </tr>\n",
       "    <tr>\n",
       "      <th>51716</th>\n",
       "      <td>3.4</td>\n",
       "      <td>[('Rated 5.0', 'RATED\\n  Great ambience , look...</td>\n",
       "    </tr>\n",
       "  </tbody>\n",
       "</table>\n",
       "<p>51717 rows × 2 columns</p>\n",
       "</div>"
      ],
      "text/plain": [
       "       rate                                       reviews_list\n",
       "0       4.1  [('Rated 4.0', 'RATED\\n  A beautiful place to ...\n",
       "1       4.1  [('Rated 4.0', 'RATED\\n  Had been here for din...\n",
       "2       3.8  [('Rated 3.0', \"RATED\\n  Ambience is not that ...\n",
       "3       3.7  [('Rated 4.0', \"RATED\\n  Great food and proper...\n",
       "4       3.8  [('Rated 4.0', 'RATED\\n  Very good restaurant ...\n",
       "...     ...                                                ...\n",
       "51712   3.6  [('Rated 5.0', \"RATED\\n  Food and service are ...\n",
       "51713   NaN                                                 []\n",
       "51714   NaN                                                 []\n",
       "51715   4.3  [('Rated 4.0', 'RATED\\n  Nice and friendly pla...\n",
       "51716   3.4  [('Rated 5.0', 'RATED\\n  Great ambience , look...\n",
       "\n",
       "[51717 rows x 2 columns]"
      ]
     },
     "execution_count": 35,
     "metadata": {},
     "output_type": "execute_result"
    }
   ],
   "source": [
    "df[['rate','reviews_list']]"
   ]
  },
  {
   "cell_type": "code",
   "execution_count": 36,
   "id": "434ec275",
   "metadata": {},
   "outputs": [
    {
     "data": {
      "text/plain": [
       "Index([   72,    75,    84,    90,    91,    92,   107,   110,   113,   114,\n",
       "       ...\n",
       "       51636, 51638, 51639, 51642, 51643, 51644, 51675, 51710, 51713, 51714],\n",
       "      dtype='int64', length=10052)"
      ]
     },
     "execution_count": 36,
     "metadata": {},
     "output_type": "execute_result"
    }
   ],
   "source": [
    "df[df['rate'].isnull()].index## rows in which 'rate' have missing value .."
   ]
  },
  {
   "cell_type": "code",
   "execution_count": 37,
   "id": "d9d5e02d",
   "metadata": {},
   "outputs": [
    {
     "data": {
      "text/plain": [
       "nan"
      ]
     },
     "execution_count": 37,
     "metadata": {},
     "output_type": "execute_result"
    }
   ],
   "source": [
    "df['rate'][72]"
   ]
  },
  {
   "cell_type": "code",
   "execution_count": 38,
   "id": "98589141",
   "metadata": {},
   "outputs": [
    {
     "data": {
      "text/plain": [
       "str"
      ]
     },
     "execution_count": 38,
     "metadata": {},
     "output_type": "execute_result"
    }
   ],
   "source": [
    "type(df['reviews_list'][72])"
   ]
  },
  {
   "cell_type": "code",
   "execution_count": 39,
   "id": "0af8cc0b",
   "metadata": {},
   "outputs": [],
   "source": [
    "import ast ## inbuilt module ast (abstract syntax trees)"
   ]
  },
  {
   "cell_type": "code",
   "execution_count": 40,
   "id": "1b68c35d",
   "metadata": {},
   "outputs": [
    {
     "data": {
      "text/plain": [
       "[('Rated 4.0',\n",
       "  'RATED\\n  cost for chicken rolls is very high but fine taste by pandey and is crew. pls deduct the cost of rolls and great variety of food is been served'),\n",
       " ('Rated 5.0',\n",
       "  'RATED\\n  Awesome taste, feel rich taste of food, cleanness is very good, very friendly nature by the hotel person, totally awesome, all the best gud luck')]"
      ]
     },
     "execution_count": 40,
     "metadata": {},
     "output_type": "execute_result"
    }
   ],
   "source": [
    "ast.literal_eval(df['reviews_list'][72])# return \"a list of tuples\""
   ]
  },
  {
   "cell_type": "code",
   "execution_count": 41,
   "id": "3c40314a",
   "metadata": {},
   "outputs": [
    {
     "data": {
      "text/plain": [
       "('Rated 4.0',\n",
       " 'RATED\\n  cost for chicken rolls is very high but fine taste by pandey and is crew. pls deduct the cost of rolls and great variety of food is been served')"
      ]
     },
     "execution_count": 41,
     "metadata": {},
     "output_type": "execute_result"
    }
   ],
   "source": [
    "first_input = ast.literal_eval(df['reviews_list'][72])[0]\n",
    "first_input"
   ]
  },
  {
   "cell_type": "code",
   "execution_count": 42,
   "id": "05cd98b4",
   "metadata": {},
   "outputs": [
    {
     "data": {
      "text/plain": [
       "str"
      ]
     },
     "execution_count": 42,
     "metadata": {},
     "output_type": "execute_result"
    }
   ],
   "source": [
    "type([i.replace('Rated','').strip() for i in first_input][0])"
   ]
  },
  {
   "cell_type": "code",
   "execution_count": 43,
   "id": "b74368f6",
   "metadata": {},
   "outputs": [
    {
     "data": {
      "text/plain": [
       "4.0"
      ]
     },
     "execution_count": 43,
     "metadata": {},
     "output_type": "execute_result"
    }
   ],
   "source": [
    "float([i.replace('Rated','').strip() for i in first_input][0])## convert string value into float.."
   ]
  },
  {
   "cell_type": "code",
   "execution_count": 44,
   "id": "1815af27",
   "metadata": {},
   "outputs": [],
   "source": [
    "### let's make function so that we are able to apply this function on \"reviews_list\" to extract \"rating\" as much as we can !\n",
    "\n",
    "def get_rate(x):\n",
    "    list_of_reviews = ast.literal_eval(x)\n",
    "    \n",
    "    if list_of_reviews is None or len(list_of_reviews)<=1:\n",
    "        return None\n",
    "    else:\n",
    "        first_input = list_of_reviews[0]\n",
    "        rate = float([i.replace('Rated','').strip() for i in first_input][0])\n",
    "        return rate"
   ]
  },
  {
   "cell_type": "code",
   "execution_count": 45,
   "id": "2a1adf4d",
   "metadata": {},
   "outputs": [],
   "source": [
    "df['rate_from_reviews_list']=df['reviews_list'].apply(get_rate)"
   ]
  },
  {
   "cell_type": "code",
   "execution_count": 46,
   "id": "6f0cf402",
   "metadata": {},
   "outputs": [
    {
     "name": "stderr",
     "output_type": "stream",
     "text": [
      "C:\\Users\\User\\AppData\\Local\\Temp\\ipykernel_42488\\3626387152.py:1: SettingWithCopyWarning: \n",
      "A value is trying to be set on a copy of a slice from a DataFrame\n",
      "\n",
      "See the caveats in the documentation: https://pandas.pydata.org/pandas-docs/stable/user_guide/indexing.html#returning-a-view-versus-a-copy\n",
      "  df['rate'][72] = df['rate_from_reviews_list'][72] ## lets fill \"nan\" with 4.0\n"
     ]
    }
   ],
   "source": [
    "df['rate'][72] = df['rate_from_reviews_list'][72] ## lets fill \"nan\" with 4.0"
   ]
  },
  {
   "cell_type": "code",
   "execution_count": 47,
   "id": "db5e58e8",
   "metadata": {},
   "outputs": [],
   "source": [
    "import warnings\n",
    "from warnings import filterwarnings\n",
    "filterwarnings('ignore')"
   ]
  },
  {
   "cell_type": "code",
   "execution_count": 48,
   "id": "cacebc23",
   "metadata": {},
   "outputs": [],
   "source": [
    "nan_index = df[df['rate'].isnull()].index"
   ]
  },
  {
   "cell_type": "code",
   "execution_count": 49,
   "id": "babe62c1",
   "metadata": {},
   "outputs": [],
   "source": [
    "for index in nan_index:\n",
    "    df['rate'][index] = df['rate_from_reviews_list'][index]"
   ]
  },
  {
   "cell_type": "code",
   "execution_count": 50,
   "id": "e508e13c",
   "metadata": {},
   "outputs": [
    {
     "data": {
      "text/plain": [
       "8542"
      ]
     },
     "execution_count": 50,
     "metadata": {},
     "output_type": "execute_result"
    }
   ],
   "source": [
    "df['rate'].isnull().sum()"
   ]
  },
  {
   "cell_type": "code",
   "execution_count": 51,
   "id": "369de795",
   "metadata": {},
   "outputs": [
    {
     "data": {
      "text/plain": [
       "index                              0\n",
       "url                                0\n",
       "address                            0\n",
       "name                               0\n",
       "online_order                       0\n",
       "book_table                         0\n",
       "rate                            8542\n",
       "votes                              0\n",
       "phone                           1208\n",
       "location                          21\n",
       "rest_type                        227\n",
       "dish_liked                     28078\n",
       "cuisines                          45\n",
       "approx_cost(for two people)      346\n",
       "reviews_list                       0\n",
       "menu_item                          0\n",
       "listed_in(type)                    0\n",
       "listed_in(city)                    0\n",
       "rate_from_reviews_list         16120\n",
       "dtype: int64"
      ]
     },
     "execution_count": 51,
     "metadata": {},
     "output_type": "execute_result"
    }
   ],
   "source": [
    "df.isnull().sum()"
   ]
  },
  {
   "cell_type": "code",
   "execution_count": 52,
   "id": "22497924",
   "metadata": {},
   "outputs": [],
   "source": [
    "dataframe = df.drop(['dish_liked' , 'rate_from_reviews_list'] , axis=1)# since more than 50%"
   ]
  },
  {
   "cell_type": "code",
   "execution_count": 53,
   "id": "4beb7ff5",
   "metadata": {},
   "outputs": [
    {
     "data": {
      "text/html": [
       "<div>\n",
       "<style scoped>\n",
       "    .dataframe tbody tr th:only-of-type {\n",
       "        vertical-align: middle;\n",
       "    }\n",
       "\n",
       "    .dataframe tbody tr th {\n",
       "        vertical-align: top;\n",
       "    }\n",
       "\n",
       "    .dataframe thead th {\n",
       "        text-align: right;\n",
       "    }\n",
       "</style>\n",
       "<table border=\"1\" class=\"dataframe\">\n",
       "  <thead>\n",
       "    <tr style=\"text-align: right;\">\n",
       "      <th></th>\n",
       "      <th>index</th>\n",
       "      <th>url</th>\n",
       "      <th>address</th>\n",
       "      <th>name</th>\n",
       "      <th>online_order</th>\n",
       "      <th>book_table</th>\n",
       "      <th>rate</th>\n",
       "      <th>votes</th>\n",
       "      <th>phone</th>\n",
       "      <th>location</th>\n",
       "      <th>rest_type</th>\n",
       "      <th>cuisines</th>\n",
       "      <th>approx_cost(for two people)</th>\n",
       "      <th>reviews_list</th>\n",
       "      <th>menu_item</th>\n",
       "      <th>listed_in(type)</th>\n",
       "      <th>listed_in(city)</th>\n",
       "    </tr>\n",
       "  </thead>\n",
       "  <tbody>\n",
       "    <tr>\n",
       "      <th>0</th>\n",
       "      <td>0</td>\n",
       "      <td>https://www.zomato.com/bangalore/jalsa-banasha...</td>\n",
       "      <td>942, 21st Main Road, 2nd Stage, Banashankari, ...</td>\n",
       "      <td>Jalsa</td>\n",
       "      <td>Yes</td>\n",
       "      <td>Yes</td>\n",
       "      <td>4.1</td>\n",
       "      <td>775</td>\n",
       "      <td>080 42297555\\r\\n+91 9743772233</td>\n",
       "      <td>Banashankari</td>\n",
       "      <td>Casual Dining</td>\n",
       "      <td>North Indian, Mughlai, Chinese</td>\n",
       "      <td>800.0</td>\n",
       "      <td>[('Rated 4.0', 'RATED\\n  A beautiful place to ...</td>\n",
       "      <td>[]</td>\n",
       "      <td>Buffet</td>\n",
       "      <td>Banashankari</td>\n",
       "    </tr>\n",
       "    <tr>\n",
       "      <th>1</th>\n",
       "      <td>1</td>\n",
       "      <td>https://www.zomato.com/bangalore/spice-elephan...</td>\n",
       "      <td>2nd Floor, 80 Feet Road, Near Big Bazaar, 6th ...</td>\n",
       "      <td>Spice Elephant</td>\n",
       "      <td>Yes</td>\n",
       "      <td>No</td>\n",
       "      <td>4.1</td>\n",
       "      <td>787</td>\n",
       "      <td>080 41714161</td>\n",
       "      <td>Banashankari</td>\n",
       "      <td>Casual Dining</td>\n",
       "      <td>Chinese, North Indian, Thai</td>\n",
       "      <td>800.0</td>\n",
       "      <td>[('Rated 4.0', 'RATED\\n  Had been here for din...</td>\n",
       "      <td>[]</td>\n",
       "      <td>Buffet</td>\n",
       "      <td>Banashankari</td>\n",
       "    </tr>\n",
       "    <tr>\n",
       "      <th>2</th>\n",
       "      <td>2</td>\n",
       "      <td>https://www.zomato.com/SanchurroBangalore?cont...</td>\n",
       "      <td>1112, Next to KIMS Medical College, 17th Cross...</td>\n",
       "      <td>San Churro Cafe</td>\n",
       "      <td>Yes</td>\n",
       "      <td>No</td>\n",
       "      <td>3.8</td>\n",
       "      <td>918</td>\n",
       "      <td>+91 9663487993</td>\n",
       "      <td>Banashankari</td>\n",
       "      <td>Cafe, Casual Dining</td>\n",
       "      <td>Cafe, Mexican, Italian</td>\n",
       "      <td>800.0</td>\n",
       "      <td>[('Rated 3.0', \"RATED\\n  Ambience is not that ...</td>\n",
       "      <td>[]</td>\n",
       "      <td>Buffet</td>\n",
       "      <td>Banashankari</td>\n",
       "    </tr>\n",
       "  </tbody>\n",
       "</table>\n",
       "</div>"
      ],
      "text/plain": [
       "   index                                                url  \\\n",
       "0      0  https://www.zomato.com/bangalore/jalsa-banasha...   \n",
       "1      1  https://www.zomato.com/bangalore/spice-elephan...   \n",
       "2      2  https://www.zomato.com/SanchurroBangalore?cont...   \n",
       "\n",
       "                                             address             name  \\\n",
       "0  942, 21st Main Road, 2nd Stage, Banashankari, ...            Jalsa   \n",
       "1  2nd Floor, 80 Feet Road, Near Big Bazaar, 6th ...   Spice Elephant   \n",
       "2  1112, Next to KIMS Medical College, 17th Cross...  San Churro Cafe   \n",
       "\n",
       "  online_order book_table  rate  votes                           phone  \\\n",
       "0          Yes        Yes   4.1    775  080 42297555\\r\\n+91 9743772233   \n",
       "1          Yes         No   4.1    787                    080 41714161   \n",
       "2          Yes         No   3.8    918                  +91 9663487993   \n",
       "\n",
       "       location            rest_type                        cuisines  \\\n",
       "0  Banashankari        Casual Dining  North Indian, Mughlai, Chinese   \n",
       "1  Banashankari        Casual Dining     Chinese, North Indian, Thai   \n",
       "2  Banashankari  Cafe, Casual Dining          Cafe, Mexican, Italian   \n",
       "\n",
       "   approx_cost(for two people)  \\\n",
       "0                        800.0   \n",
       "1                        800.0   \n",
       "2                        800.0   \n",
       "\n",
       "                                        reviews_list menu_item  \\\n",
       "0  [('Rated 4.0', 'RATED\\n  A beautiful place to ...        []   \n",
       "1  [('Rated 4.0', 'RATED\\n  Had been here for din...        []   \n",
       "2  [('Rated 3.0', \"RATED\\n  Ambience is not that ...        []   \n",
       "\n",
       "  listed_in(type) listed_in(city)  \n",
       "0          Buffet    Banashankari  \n",
       "1          Buffet    Banashankari  \n",
       "2          Buffet    Banashankari  "
      ]
     },
     "execution_count": 53,
     "metadata": {},
     "output_type": "execute_result"
    }
   ],
   "source": [
    "dataframe.head(3)"
   ]
  },
  {
   "cell_type": "markdown",
   "id": "21a03d0a",
   "metadata": {},
   "source": [
    "## let's do feature engineering"
   ]
  },
  {
   "cell_type": "markdown",
   "id": "6588e96d",
   "metadata": {},
   "source": [
    "### Feature EXtraction"
   ]
  },
  {
   "cell_type": "code",
   "execution_count": 54,
   "id": "070f6e48",
   "metadata": {
    "scrolled": true
   },
   "outputs": [
    {
     "data": {
      "text/html": [
       "<div>\n",
       "<style scoped>\n",
       "    .dataframe tbody tr th:only-of-type {\n",
       "        vertical-align: middle;\n",
       "    }\n",
       "\n",
       "    .dataframe tbody tr th {\n",
       "        vertical-align: top;\n",
       "    }\n",
       "\n",
       "    .dataframe thead th {\n",
       "        text-align: right;\n",
       "    }\n",
       "</style>\n",
       "<table border=\"1\" class=\"dataframe\">\n",
       "  <thead>\n",
       "    <tr style=\"text-align: right;\">\n",
       "      <th></th>\n",
       "      <th>index</th>\n",
       "      <th>url</th>\n",
       "      <th>address</th>\n",
       "      <th>name</th>\n",
       "      <th>online_order</th>\n",
       "      <th>book_table</th>\n",
       "      <th>rate</th>\n",
       "      <th>votes</th>\n",
       "      <th>phone</th>\n",
       "      <th>location</th>\n",
       "      <th>rest_type</th>\n",
       "      <th>cuisines</th>\n",
       "      <th>approx_cost(for two people)</th>\n",
       "      <th>reviews_list</th>\n",
       "      <th>menu_item</th>\n",
       "      <th>listed_in(type)</th>\n",
       "      <th>listed_in(city)</th>\n",
       "    </tr>\n",
       "  </thead>\n",
       "  <tbody>\n",
       "    <tr>\n",
       "      <th>0</th>\n",
       "      <td>0</td>\n",
       "      <td>https://www.zomato.com/bangalore/jalsa-banasha...</td>\n",
       "      <td>942, 21st Main Road, 2nd Stage, Banashankari, ...</td>\n",
       "      <td>Jalsa</td>\n",
       "      <td>Yes</td>\n",
       "      <td>Yes</td>\n",
       "      <td>4.1</td>\n",
       "      <td>775</td>\n",
       "      <td>080 42297555\\r\\n+91 9743772233</td>\n",
       "      <td>Banashankari</td>\n",
       "      <td>Casual Dining</td>\n",
       "      <td>North Indian, Mughlai, Chinese</td>\n",
       "      <td>800.0</td>\n",
       "      <td>[('Rated 4.0', 'RATED\\n  A beautiful place to ...</td>\n",
       "      <td>[]</td>\n",
       "      <td>Buffet</td>\n",
       "      <td>Banashankari</td>\n",
       "    </tr>\n",
       "    <tr>\n",
       "      <th>1</th>\n",
       "      <td>1</td>\n",
       "      <td>https://www.zomato.com/bangalore/spice-elephan...</td>\n",
       "      <td>2nd Floor, 80 Feet Road, Near Big Bazaar, 6th ...</td>\n",
       "      <td>Spice Elephant</td>\n",
       "      <td>Yes</td>\n",
       "      <td>No</td>\n",
       "      <td>4.1</td>\n",
       "      <td>787</td>\n",
       "      <td>080 41714161</td>\n",
       "      <td>Banashankari</td>\n",
       "      <td>Casual Dining</td>\n",
       "      <td>Chinese, North Indian, Thai</td>\n",
       "      <td>800.0</td>\n",
       "      <td>[('Rated 4.0', 'RATED\\n  Had been here for din...</td>\n",
       "      <td>[]</td>\n",
       "      <td>Buffet</td>\n",
       "      <td>Banashankari</td>\n",
       "    </tr>\n",
       "    <tr>\n",
       "      <th>2</th>\n",
       "      <td>2</td>\n",
       "      <td>https://www.zomato.com/SanchurroBangalore?cont...</td>\n",
       "      <td>1112, Next to KIMS Medical College, 17th Cross...</td>\n",
       "      <td>San Churro Cafe</td>\n",
       "      <td>Yes</td>\n",
       "      <td>No</td>\n",
       "      <td>3.8</td>\n",
       "      <td>918</td>\n",
       "      <td>+91 9663487993</td>\n",
       "      <td>Banashankari</td>\n",
       "      <td>Cafe, Casual Dining</td>\n",
       "      <td>Cafe, Mexican, Italian</td>\n",
       "      <td>800.0</td>\n",
       "      <td>[('Rated 3.0', \"RATED\\n  Ambience is not that ...</td>\n",
       "      <td>[]</td>\n",
       "      <td>Buffet</td>\n",
       "      <td>Banashankari</td>\n",
       "    </tr>\n",
       "  </tbody>\n",
       "</table>\n",
       "</div>"
      ],
      "text/plain": [
       "   index                                                url  \\\n",
       "0      0  https://www.zomato.com/bangalore/jalsa-banasha...   \n",
       "1      1  https://www.zomato.com/bangalore/spice-elephan...   \n",
       "2      2  https://www.zomato.com/SanchurroBangalore?cont...   \n",
       "\n",
       "                                             address             name  \\\n",
       "0  942, 21st Main Road, 2nd Stage, Banashankari, ...            Jalsa   \n",
       "1  2nd Floor, 80 Feet Road, Near Big Bazaar, 6th ...   Spice Elephant   \n",
       "2  1112, Next to KIMS Medical College, 17th Cross...  San Churro Cafe   \n",
       "\n",
       "  online_order book_table  rate  votes                           phone  \\\n",
       "0          Yes        Yes   4.1    775  080 42297555\\r\\n+91 9743772233   \n",
       "1          Yes         No   4.1    787                    080 41714161   \n",
       "2          Yes         No   3.8    918                  +91 9663487993   \n",
       "\n",
       "       location            rest_type                        cuisines  \\\n",
       "0  Banashankari        Casual Dining  North Indian, Mughlai, Chinese   \n",
       "1  Banashankari        Casual Dining     Chinese, North Indian, Thai   \n",
       "2  Banashankari  Cafe, Casual Dining          Cafe, Mexican, Italian   \n",
       "\n",
       "   approx_cost(for two people)  \\\n",
       "0                        800.0   \n",
       "1                        800.0   \n",
       "2                        800.0   \n",
       "\n",
       "                                        reviews_list menu_item  \\\n",
       "0  [('Rated 4.0', 'RATED\\n  A beautiful place to ...        []   \n",
       "1  [('Rated 4.0', 'RATED\\n  Had been here for din...        []   \n",
       "2  [('Rated 3.0', \"RATED\\n  Ambience is not that ...        []   \n",
       "\n",
       "  listed_in(type) listed_in(city)  \n",
       "0          Buffet    Banashankari  \n",
       "1          Buffet    Banashankari  \n",
       "2          Buffet    Banashankari  "
      ]
     },
     "execution_count": 54,
     "metadata": {},
     "output_type": "execute_result"
    }
   ],
   "source": [
    "dataframe.head(3)"
   ]
  },
  {
   "cell_type": "code",
   "execution_count": 55,
   "id": "69f89c28",
   "metadata": {},
   "outputs": [
    {
     "data": {
      "text/plain": [
       "str"
      ]
     },
     "execution_count": 55,
     "metadata": {},
     "output_type": "execute_result"
    }
   ],
   "source": [
    "type(dataframe['cuisines'][0])"
   ]
  },
  {
   "cell_type": "code",
   "execution_count": 56,
   "id": "8420fa8a",
   "metadata": {},
   "outputs": [
    {
     "data": {
      "text/plain": [
       "['North Indian', ' Mughlai', ' Chinese']"
      ]
     },
     "execution_count": 56,
     "metadata": {},
     "output_type": "execute_result"
    }
   ],
   "source": [
    "dataframe['cuisines'][0].split(',')# now it becomes a list"
   ]
  },
  {
   "cell_type": "code",
   "execution_count": 57,
   "id": "f6750283",
   "metadata": {},
   "outputs": [
    {
     "data": {
      "text/plain": [
       "3"
      ]
     },
     "execution_count": 57,
     "metadata": {},
     "output_type": "execute_result"
    }
   ],
   "source": [
    "len(dataframe['cuisines'][0].split(','))"
   ]
  },
  {
   "cell_type": "code",
   "execution_count": 58,
   "id": "4f791f45",
   "metadata": {},
   "outputs": [],
   "source": [
    "# creating a function \n",
    "def count(row):\n",
    "    return len(row.split(','))"
   ]
  },
  {
   "cell_type": "code",
   "execution_count": 59,
   "id": "8b80096f",
   "metadata": {},
   "outputs": [],
   "source": [
    "dataframe['total_cuisines'] = dataframe['cuisines'].astype(str).apply(count)\n",
    "dataframe['multiple_resto'] = dataframe['rest_type'].astype(str).apply(count)"
   ]
  },
  {
   "cell_type": "code",
   "execution_count": 60,
   "id": "9743ef18",
   "metadata": {},
   "outputs": [
    {
     "data": {
      "text/html": [
       "<div>\n",
       "<style scoped>\n",
       "    .dataframe tbody tr th:only-of-type {\n",
       "        vertical-align: middle;\n",
       "    }\n",
       "\n",
       "    .dataframe tbody tr th {\n",
       "        vertical-align: top;\n",
       "    }\n",
       "\n",
       "    .dataframe thead th {\n",
       "        text-align: right;\n",
       "    }\n",
       "</style>\n",
       "<table border=\"1\" class=\"dataframe\">\n",
       "  <thead>\n",
       "    <tr style=\"text-align: right;\">\n",
       "      <th></th>\n",
       "      <th>index</th>\n",
       "      <th>url</th>\n",
       "      <th>address</th>\n",
       "      <th>name</th>\n",
       "      <th>online_order</th>\n",
       "      <th>book_table</th>\n",
       "      <th>rate</th>\n",
       "      <th>votes</th>\n",
       "      <th>phone</th>\n",
       "      <th>location</th>\n",
       "      <th>rest_type</th>\n",
       "      <th>cuisines</th>\n",
       "      <th>approx_cost(for two people)</th>\n",
       "      <th>reviews_list</th>\n",
       "      <th>menu_item</th>\n",
       "      <th>listed_in(type)</th>\n",
       "      <th>listed_in(city)</th>\n",
       "      <th>total_cuisines</th>\n",
       "      <th>multiple_resto</th>\n",
       "    </tr>\n",
       "  </thead>\n",
       "  <tbody>\n",
       "    <tr>\n",
       "      <th>0</th>\n",
       "      <td>0</td>\n",
       "      <td>https://www.zomato.com/bangalore/jalsa-banasha...</td>\n",
       "      <td>942, 21st Main Road, 2nd Stage, Banashankari, ...</td>\n",
       "      <td>Jalsa</td>\n",
       "      <td>Yes</td>\n",
       "      <td>Yes</td>\n",
       "      <td>4.1</td>\n",
       "      <td>775</td>\n",
       "      <td>080 42297555\\r\\n+91 9743772233</td>\n",
       "      <td>Banashankari</td>\n",
       "      <td>Casual Dining</td>\n",
       "      <td>North Indian, Mughlai, Chinese</td>\n",
       "      <td>800.0</td>\n",
       "      <td>[('Rated 4.0', 'RATED\\n  A beautiful place to ...</td>\n",
       "      <td>[]</td>\n",
       "      <td>Buffet</td>\n",
       "      <td>Banashankari</td>\n",
       "      <td>3</td>\n",
       "      <td>1</td>\n",
       "    </tr>\n",
       "    <tr>\n",
       "      <th>1</th>\n",
       "      <td>1</td>\n",
       "      <td>https://www.zomato.com/bangalore/spice-elephan...</td>\n",
       "      <td>2nd Floor, 80 Feet Road, Near Big Bazaar, 6th ...</td>\n",
       "      <td>Spice Elephant</td>\n",
       "      <td>Yes</td>\n",
       "      <td>No</td>\n",
       "      <td>4.1</td>\n",
       "      <td>787</td>\n",
       "      <td>080 41714161</td>\n",
       "      <td>Banashankari</td>\n",
       "      <td>Casual Dining</td>\n",
       "      <td>Chinese, North Indian, Thai</td>\n",
       "      <td>800.0</td>\n",
       "      <td>[('Rated 4.0', 'RATED\\n  Had been here for din...</td>\n",
       "      <td>[]</td>\n",
       "      <td>Buffet</td>\n",
       "      <td>Banashankari</td>\n",
       "      <td>3</td>\n",
       "      <td>1</td>\n",
       "    </tr>\n",
       "    <tr>\n",
       "      <th>2</th>\n",
       "      <td>2</td>\n",
       "      <td>https://www.zomato.com/SanchurroBangalore?cont...</td>\n",
       "      <td>1112, Next to KIMS Medical College, 17th Cross...</td>\n",
       "      <td>San Churro Cafe</td>\n",
       "      <td>Yes</td>\n",
       "      <td>No</td>\n",
       "      <td>3.8</td>\n",
       "      <td>918</td>\n",
       "      <td>+91 9663487993</td>\n",
       "      <td>Banashankari</td>\n",
       "      <td>Cafe, Casual Dining</td>\n",
       "      <td>Cafe, Mexican, Italian</td>\n",
       "      <td>800.0</td>\n",
       "      <td>[('Rated 3.0', \"RATED\\n  Ambience is not that ...</td>\n",
       "      <td>[]</td>\n",
       "      <td>Buffet</td>\n",
       "      <td>Banashankari</td>\n",
       "      <td>3</td>\n",
       "      <td>2</td>\n",
       "    </tr>\n",
       "  </tbody>\n",
       "</table>\n",
       "</div>"
      ],
      "text/plain": [
       "   index                                                url  \\\n",
       "0      0  https://www.zomato.com/bangalore/jalsa-banasha...   \n",
       "1      1  https://www.zomato.com/bangalore/spice-elephan...   \n",
       "2      2  https://www.zomato.com/SanchurroBangalore?cont...   \n",
       "\n",
       "                                             address             name  \\\n",
       "0  942, 21st Main Road, 2nd Stage, Banashankari, ...            Jalsa   \n",
       "1  2nd Floor, 80 Feet Road, Near Big Bazaar, 6th ...   Spice Elephant   \n",
       "2  1112, Next to KIMS Medical College, 17th Cross...  San Churro Cafe   \n",
       "\n",
       "  online_order book_table  rate  votes                           phone  \\\n",
       "0          Yes        Yes   4.1    775  080 42297555\\r\\n+91 9743772233   \n",
       "1          Yes         No   4.1    787                    080 41714161   \n",
       "2          Yes         No   3.8    918                  +91 9663487993   \n",
       "\n",
       "       location            rest_type                        cuisines  \\\n",
       "0  Banashankari        Casual Dining  North Indian, Mughlai, Chinese   \n",
       "1  Banashankari        Casual Dining     Chinese, North Indian, Thai   \n",
       "2  Banashankari  Cafe, Casual Dining          Cafe, Mexican, Italian   \n",
       "\n",
       "   approx_cost(for two people)  \\\n",
       "0                        800.0   \n",
       "1                        800.0   \n",
       "2                        800.0   \n",
       "\n",
       "                                        reviews_list menu_item  \\\n",
       "0  [('Rated 4.0', 'RATED\\n  A beautiful place to ...        []   \n",
       "1  [('Rated 4.0', 'RATED\\n  Had been here for din...        []   \n",
       "2  [('Rated 3.0', \"RATED\\n  Ambience is not that ...        []   \n",
       "\n",
       "  listed_in(type) listed_in(city)  total_cuisines  multiple_resto  \n",
       "0          Buffet    Banashankari               3               1  \n",
       "1          Buffet    Banashankari               3               1  \n",
       "2          Buffet    Banashankari               3               2  "
      ]
     },
     "execution_count": 60,
     "metadata": {},
     "output_type": "execute_result"
    }
   ],
   "source": [
    "dataframe.head(3)"
   ]
  },
  {
   "cell_type": "markdown",
   "id": "4ed8aa3a",
   "metadata": {},
   "source": [
    "## let's  see important features"
   ]
  },
  {
   "cell_type": "code",
   "execution_count": 61,
   "id": "867d4d9b",
   "metadata": {},
   "outputs": [],
   "source": [
    "#making a target feature\n",
    "threshold=3.80\n",
    "dataframe['target'] = dataframe['rate'].apply(lambda x: 1 if x>=threshold else 0)"
   ]
  },
  {
   "cell_type": "code",
   "execution_count": 62,
   "id": "220122ea",
   "metadata": {},
   "outputs": [
    {
     "data": {
      "text/plain": [
       "Index(['index', 'url', 'address', 'name', 'online_order', 'book_table', 'rate',\n",
       "       'votes', 'phone', 'location', 'rest_type', 'cuisines',\n",
       "       'approx_cost(for two people)', 'reviews_list', 'menu_item',\n",
       "       'listed_in(type)', 'listed_in(city)', 'total_cuisines',\n",
       "       'multiple_resto', 'target'],\n",
       "      dtype='object')"
      ]
     },
     "execution_count": 62,
     "metadata": {},
     "output_type": "execute_result"
    }
   ],
   "source": [
    "dataframe.columns"
   ]
  },
  {
   "cell_type": "code",
   "execution_count": 63,
   "id": "558773c9",
   "metadata": {},
   "outputs": [
    {
     "data": {
      "text/plain": [
       "<matplotlib.legend.Legend at 0x2ad5a15cfd0>"
      ]
     },
     "execution_count": 63,
     "metadata": {},
     "output_type": "execute_result"
    },
    {
     "data": {
      "image/png": "[encoded data removed]",
      "text/plain": [
       "<Figure size 640x480 with 1 Axes>"
      ]
     },
     "metadata": {},
     "output_type": "display_data"
    }
   ],
   "source": [
    "sns.distplot(dataframe[dataframe['target']==0]['total_cuisines'],hist=False,label=0)\n",
    "sns.distplot(dataframe[dataframe['target']==1]['total_cuisines'],hist = False,label=1)\n",
    "plt.legend()"
   ]
  },
  {
   "cell_type": "code",
   "execution_count": 64,
   "id": "ee233344",
   "metadata": {},
   "outputs": [],
   "source": [
    "## we find that featuture total_cuisines is not important since it does not influence the rating or sucess of the restaurant."
   ]
  },
  {
   "cell_type": "code",
   "execution_count": 65,
   "id": "867d3c37",
   "metadata": {
    "scrolled": true
   },
   "outputs": [
    {
     "data": {
      "text/plain": [
       "<matplotlib.legend.Legend at 0x2ad4104e290>"
      ]
     },
     "execution_count": 65,
     "metadata": {},
     "output_type": "execute_result"
    },
    {
     "data": {
      "image/png": "[encoded data removed]",
      "text/plain": [
       "<Figure size 640x480 with 1 Axes>"
      ]
     },
     "metadata": {},
     "output_type": "display_data"
    }
   ],
   "source": [
    "sns.distplot(dataframe[dataframe['target']==0]['multiple_resto'],hist=False,label=0)\n",
    "sns.distplot(dataframe[dataframe['target']==1]['multiple_resto'],hist = False,label=1)\n",
    "plt.legend()"
   ]
  },
  {
   "cell_type": "code",
   "execution_count": 66,
   "id": "3bfce486",
   "metadata": {},
   "outputs": [],
   "source": [
    "## it is also not a important feature "
   ]
  },
  {
   "cell_type": "code",
   "execution_count": 67,
   "id": "3650dd4b",
   "metadata": {},
   "outputs": [
    {
     "data": {
      "text/plain": [
       "<matplotlib.legend.Legend at 0x2ad61c08310>"
      ]
     },
     "execution_count": 67,
     "metadata": {},
     "output_type": "execute_result"
    },
    {
     "data": {
      "image/png": "[encoded data removed]",
      "text/plain": [
       "<Figure size 640x480 with 1 Axes>"
      ]
     },
     "metadata": {},
     "output_type": "display_data"
    }
   ],
   "source": [
    "sns.distplot(dataframe[dataframe['target']==0]['approx_cost(for two people)'],hist=False,label=0)\n",
    "sns.distplot(dataframe[dataframe['target']==1]['approx_cost(for two people)'],hist = False,label=1)\n",
    "plt.legend()"
   ]
  },
  {
   "cell_type": "code",
   "execution_count": 68,
   "id": "c04577e2",
   "metadata": {},
   "outputs": [],
   "source": [
    "## above feature is havinga partial overlap hence is a contributing feeaeture"
   ]
  },
  {
   "cell_type": "code",
   "execution_count": 69,
   "id": "5af31aca",
   "metadata": {},
   "outputs": [
    {
     "data": {
      "text/plain": [
       "<matplotlib.legend.Legend at 0x2ad61c55190>"
      ]
     },
     "execution_count": 69,
     "metadata": {},
     "output_type": "execute_result"
    },
    {
     "data": {
      "image/png": "[encoded data removed]",
      "text/plain": [
       "<Figure size 640x480 with 1 Axes>"
      ]
     },
     "metadata": {},
     "output_type": "display_data"
    }
   ],
   "source": [
    "sns.distplot(dataframe[dataframe['target']==0]['votes'],hist=False,label=0)\n",
    "sns.distplot(dataframe[dataframe['target']==1]['votes'],hist = False,label=1)\n",
    "plt.legend()## this feature is important for prediction of sucess or failure of restaurant"
   ]
  },
  {
   "cell_type": "code",
   "execution_count": 70,
   "id": "bcb492bb",
   "metadata": {},
   "outputs": [],
   "source": [
    "#now lets drop not so important features for our machine learning "
   ]
  },
  {
   "cell_type": "code",
   "execution_count": 71,
   "id": "ffdbec01",
   "metadata": {
    "scrolled": true
   },
   "outputs": [
    {
     "data": {
      "text/plain": [
       "Index(['index', 'url', 'address', 'name', 'online_order', 'book_table', 'rate',\n",
       "       'votes', 'phone', 'location', 'rest_type', 'cuisines',\n",
       "       'approx_cost(for two people)', 'reviews_list', 'menu_item',\n",
       "       'listed_in(type)', 'listed_in(city)', 'total_cuisines',\n",
       "       'multiple_resto', 'target'],\n",
       "      dtype='object')"
      ]
     },
     "execution_count": 71,
     "metadata": {},
     "output_type": "execute_result"
    }
   ],
   "source": [
    "dataframe.columns"
   ]
  },
  {
   "cell_type": "code",
   "execution_count": 72,
   "id": "981ae2ff",
   "metadata": {},
   "outputs": [],
   "source": [
    "data=dataframe.dropna()"
   ]
  },
  {
   "cell_type": "code",
   "execution_count": 73,
   "id": "846cf2c8",
   "metadata": {},
   "outputs": [
    {
     "data": {
      "text/plain": [
       "(42144, 20)"
      ]
     },
     "execution_count": 73,
     "metadata": {},
     "output_type": "execute_result"
    }
   ],
   "source": [
    "data.shape"
   ]
  },
  {
   "cell_type": "code",
   "execution_count": 74,
   "id": "e7cc07a1",
   "metadata": {},
   "outputs": [],
   "source": [
    "important_features = ['online_order', 'book_table', \n",
    "       'votes',  'location', 'rest_type',\n",
    "       'approx_cost(for two people)', 'reviews_list',\n",
    "       'listed_in(type)', 'listed_in(city)', 'target']"
   ]
  },
  {
   "cell_type": "code",
   "execution_count": 75,
   "id": "d4a70850",
   "metadata": {},
   "outputs": [],
   "source": [
    "data = dataframe[important_features]## our important feature list and new data"
   ]
  },
  {
   "cell_type": "code",
   "execution_count": 76,
   "id": "b012a24c",
   "metadata": {},
   "outputs": [
    {
     "data": {
      "text/plain": [
       "(51717, 10)"
      ]
     },
     "execution_count": 76,
     "metadata": {},
     "output_type": "execute_result"
    }
   ],
   "source": [
    "data.shape"
   ]
  },
  {
   "cell_type": "code",
   "execution_count": 77,
   "id": "c52d371f",
   "metadata": {},
   "outputs": [
    {
     "data": {
      "text/plain": [
       "['online_order',\n",
       " 'book_table',\n",
       " 'location',\n",
       " 'rest_type',\n",
       " 'reviews_list',\n",
       " 'listed_in(type)',\n",
       " 'listed_in(city)']"
      ]
     },
     "execution_count": 77,
     "metadata": {},
     "output_type": "execute_result"
    }
   ],
   "source": [
    " categorical_features = [col for col in data.columns if data[col].dtype=='O']\n",
    "categorical_features"
   ]
  },
  {
   "cell_type": "code",
   "execution_count": 78,
   "id": "1db79b8f",
   "metadata": {},
   "outputs": [],
   "source": [
    "numerical_feature = [col for col in data.columns if data[col].dtype!='O']"
   ]
  },
  {
   "cell_type": "code",
   "execution_count": 79,
   "id": "625b592f",
   "metadata": {},
   "outputs": [
    {
     "name": "stdout",
     "output_type": "stream",
     "text": [
      "online_order has total 2 unique features\n",
      "book_table has total 2 unique features\n",
      "location has total 93 unique features\n",
      "rest_type has total 93 unique features\n"
     ]
    },
    {
     "name": "stdout",
     "output_type": "stream",
     "text": [
      "reviews_list has total 22513 unique features\n",
      "listed_in(type) has total 7 unique features\n",
      "listed_in(city) has total 30 unique features\n"
     ]
    }
   ],
   "source": [
    "for feature in categorical_features:\n",
    "    print('{} has total {} unique features'.format(feature,data[feature].nunique()))"
   ]
  },
  {
   "cell_type": "code",
   "execution_count": 80,
   "id": "be208c27",
   "metadata": {},
   "outputs": [
    {
     "data": {
      "text/plain": [
       "Index(['Quick Bites', 'Casual Dining', 'Cafe', 'Delivery', 'Dessert Parlor',\n",
       "       'Takeaway, Delivery'],\n",
       "      dtype='object', name='rest_type')"
      ]
     },
     "execution_count": 80,
     "metadata": {},
     "output_type": "execute_result"
    }
   ],
   "source": [
    "fre_data = data['rest_type'].value_counts()[0:6]/len(data)*100 ## giving % of top\n",
    "fre_data.index"
   ]
  },
  {
   "cell_type": "code",
   "execution_count": 81,
   "id": "00d10167",
   "metadata": {
    "scrolled": true
   },
   "outputs": [
    {
     "data": {
      "text/html": [
       "<div>\n",
       "<style scoped>\n",
       "    .dataframe tbody tr th:only-of-type {\n",
       "        vertical-align: middle;\n",
       "    }\n",
       "\n",
       "    .dataframe tbody tr th {\n",
       "        vertical-align: top;\n",
       "    }\n",
       "\n",
       "    .dataframe thead th {\n",
       "        text-align: right;\n",
       "    }\n",
       "</style>\n",
       "<table border=\"1\" class=\"dataframe\">\n",
       "  <thead>\n",
       "    <tr style=\"text-align: right;\">\n",
       "      <th></th>\n",
       "      <th>online_order</th>\n",
       "      <th>book_table</th>\n",
       "      <th>votes</th>\n",
       "      <th>location</th>\n",
       "      <th>rest_type</th>\n",
       "      <th>approx_cost(for two people)</th>\n",
       "      <th>reviews_list</th>\n",
       "      <th>listed_in(type)</th>\n",
       "      <th>listed_in(city)</th>\n",
       "      <th>target</th>\n",
       "    </tr>\n",
       "  </thead>\n",
       "  <tbody>\n",
       "    <tr>\n",
       "      <th>0</th>\n",
       "      <td>Yes</td>\n",
       "      <td>Yes</td>\n",
       "      <td>775</td>\n",
       "      <td>Banashankari</td>\n",
       "      <td>Casual Dining</td>\n",
       "      <td>800.0</td>\n",
       "      <td>[('Rated 4.0', 'RATED\\n  A beautiful place to ...</td>\n",
       "      <td>Buffet</td>\n",
       "      <td>Banashankari</td>\n",
       "      <td>1</td>\n",
       "    </tr>\n",
       "    <tr>\n",
       "      <th>1</th>\n",
       "      <td>Yes</td>\n",
       "      <td>No</td>\n",
       "      <td>787</td>\n",
       "      <td>Banashankari</td>\n",
       "      <td>Casual Dining</td>\n",
       "      <td>800.0</td>\n",
       "      <td>[('Rated 4.0', 'RATED\\n  Had been here for din...</td>\n",
       "      <td>Buffet</td>\n",
       "      <td>Banashankari</td>\n",
       "      <td>1</td>\n",
       "    </tr>\n",
       "    <tr>\n",
       "      <th>3</th>\n",
       "      <td>No</td>\n",
       "      <td>No</td>\n",
       "      <td>88</td>\n",
       "      <td>Banashankari</td>\n",
       "      <td>Quick Bites</td>\n",
       "      <td>300.0</td>\n",
       "      <td>[('Rated 4.0', \"RATED\\n  Great food and proper...</td>\n",
       "      <td>Buffet</td>\n",
       "      <td>Banashankari</td>\n",
       "      <td>0</td>\n",
       "    </tr>\n",
       "    <tr>\n",
       "      <th>4</th>\n",
       "      <td>No</td>\n",
       "      <td>No</td>\n",
       "      <td>166</td>\n",
       "      <td>Basavanagudi</td>\n",
       "      <td>Casual Dining</td>\n",
       "      <td>600.0</td>\n",
       "      <td>[('Rated 4.0', 'RATED\\n  Very good restaurant ...</td>\n",
       "      <td>Buffet</td>\n",
       "      <td>Banashankari</td>\n",
       "      <td>1</td>\n",
       "    </tr>\n",
       "    <tr>\n",
       "      <th>5</th>\n",
       "      <td>Yes</td>\n",
       "      <td>No</td>\n",
       "      <td>286</td>\n",
       "      <td>Basavanagudi</td>\n",
       "      <td>Casual Dining</td>\n",
       "      <td>600.0</td>\n",
       "      <td>[('Rated 3.0', 'RATED\\n  Food 3/5\\nAmbience 3/...</td>\n",
       "      <td>Buffet</td>\n",
       "      <td>Banashankari</td>\n",
       "      <td>1</td>\n",
       "    </tr>\n",
       "    <tr>\n",
       "      <th>...</th>\n",
       "      <td>...</td>\n",
       "      <td>...</td>\n",
       "      <td>...</td>\n",
       "      <td>...</td>\n",
       "      <td>...</td>\n",
       "      <td>...</td>\n",
       "      <td>...</td>\n",
       "      <td>...</td>\n",
       "      <td>...</td>\n",
       "      <td>...</td>\n",
       "    </tr>\n",
       "    <tr>\n",
       "      <th>51641</th>\n",
       "      <td>No</td>\n",
       "      <td>No</td>\n",
       "      <td>4</td>\n",
       "      <td>Brookefield</td>\n",
       "      <td>Quick Bites</td>\n",
       "      <td>NaN</td>\n",
       "      <td>[('Rated 2.0', \"RATED\\n  Food is not upto the ...</td>\n",
       "      <td>Dine-out</td>\n",
       "      <td>Whitefield</td>\n",
       "      <td>0</td>\n",
       "    </tr>\n",
       "    <tr>\n",
       "      <th>51642</th>\n",
       "      <td>No</td>\n",
       "      <td>No</td>\n",
       "      <td>0</td>\n",
       "      <td>Brookefield</td>\n",
       "      <td>Quick Bites</td>\n",
       "      <td>200.0</td>\n",
       "      <td>[]</td>\n",
       "      <td>Dine-out</td>\n",
       "      <td>Whitefield</td>\n",
       "      <td>0</td>\n",
       "    </tr>\n",
       "    <tr>\n",
       "      <th>51643</th>\n",
       "      <td>No</td>\n",
       "      <td>No</td>\n",
       "      <td>0</td>\n",
       "      <td>Brookefield</td>\n",
       "      <td>Quick Bites</td>\n",
       "      <td>300.0</td>\n",
       "      <td>[]</td>\n",
       "      <td>Dine-out</td>\n",
       "      <td>Whitefield</td>\n",
       "      <td>0</td>\n",
       "    </tr>\n",
       "    <tr>\n",
       "      <th>51644</th>\n",
       "      <td>No</td>\n",
       "      <td>No</td>\n",
       "      <td>0</td>\n",
       "      <td>Brookefield</td>\n",
       "      <td>Quick Bites</td>\n",
       "      <td>400.0</td>\n",
       "      <td>[]</td>\n",
       "      <td>Dine-out</td>\n",
       "      <td>Whitefield</td>\n",
       "      <td>0</td>\n",
       "    </tr>\n",
       "    <tr>\n",
       "      <th>51645</th>\n",
       "      <td>Yes</td>\n",
       "      <td>No</td>\n",
       "      <td>49</td>\n",
       "      <td>Brookefield</td>\n",
       "      <td>Quick Bites</td>\n",
       "      <td>300.0</td>\n",
       "      <td>[('Rated 5.0', \"RATED\\n  I was randomly lookin...</td>\n",
       "      <td>Dine-out</td>\n",
       "      <td>Whitefield</td>\n",
       "      <td>0</td>\n",
       "    </tr>\n",
       "  </tbody>\n",
       "</table>\n",
       "<p>40098 rows × 10 columns</p>\n",
       "</div>"
      ],
      "text/plain": [
       "      online_order book_table  votes      location      rest_type  \\\n",
       "0              Yes        Yes    775  Banashankari  Casual Dining   \n",
       "1              Yes         No    787  Banashankari  Casual Dining   \n",
       "3               No         No     88  Banashankari    Quick Bites   \n",
       "4               No         No    166  Basavanagudi  Casual Dining   \n",
       "5              Yes         No    286  Basavanagudi  Casual Dining   \n",
       "...            ...        ...    ...           ...            ...   \n",
       "51641           No         No      4   Brookefield    Quick Bites   \n",
       "51642           No         No      0   Brookefield    Quick Bites   \n",
       "51643           No         No      0   Brookefield    Quick Bites   \n",
       "51644           No         No      0   Brookefield    Quick Bites   \n",
       "51645          Yes         No     49   Brookefield    Quick Bites   \n",
       "\n",
       "       approx_cost(for two people)  \\\n",
       "0                            800.0   \n",
       "1                            800.0   \n",
       "3                            300.0   \n",
       "4                            600.0   \n",
       "5                            600.0   \n",
       "...                            ...   \n",
       "51641                          NaN   \n",
       "51642                        200.0   \n",
       "51643                        300.0   \n",
       "51644                        400.0   \n",
       "51645                        300.0   \n",
       "\n",
       "                                            reviews_list listed_in(type)  \\\n",
       "0      [('Rated 4.0', 'RATED\\n  A beautiful place to ...          Buffet   \n",
       "1      [('Rated 4.0', 'RATED\\n  Had been here for din...          Buffet   \n",
       "3      [('Rated 4.0', \"RATED\\n  Great food and proper...          Buffet   \n",
       "4      [('Rated 4.0', 'RATED\\n  Very good restaurant ...          Buffet   \n",
       "5      [('Rated 3.0', 'RATED\\n  Food 3/5\\nAmbience 3/...          Buffet   \n",
       "...                                                  ...             ...   \n",
       "51641  [('Rated 2.0', \"RATED\\n  Food is not upto the ...        Dine-out   \n",
       "51642                                                 []        Dine-out   \n",
       "51643                                                 []        Dine-out   \n",
       "51644                                                 []        Dine-out   \n",
       "51645  [('Rated 5.0', \"RATED\\n  I was randomly lookin...        Dine-out   \n",
       "\n",
       "      listed_in(city)  target  \n",
       "0        Banashankari       1  \n",
       "1        Banashankari       1  \n",
       "3        Banashankari       0  \n",
       "4        Banashankari       1  \n",
       "5        Banashankari       1  \n",
       "...               ...     ...  \n",
       "51641      Whitefield       0  \n",
       "51642      Whitefield       0  \n",
       "51643      Whitefield       0  \n",
       "51644      Whitefield       0  \n",
       "51645      Whitefield       0  \n",
       "\n",
       "[40098 rows x 10 columns]"
      ]
     },
     "execution_count": 81,
     "metadata": {},
     "output_type": "execute_result"
    }
   ],
   "source": [
    "data[data['rest_type'].isin(fre_data.index)]"
   ]
  },
  {
   "cell_type": "code",
   "execution_count": 82,
   "id": "6cfbae86",
   "metadata": {},
   "outputs": [],
   "source": [
    "data['rest_type'] = data['rest_type'].apply(lambda x:'other' if x not in fre_data.index else x)"
   ]
  },
  {
   "cell_type": "code",
   "execution_count": 83,
   "id": "af21baa1",
   "metadata": {},
   "outputs": [
    {
     "data": {
      "text/plain": [
       "['online_order',\n",
       " 'book_table',\n",
       " 'location',\n",
       " 'rest_type',\n",
       " 'reviews_list',\n",
       " 'listed_in(type)',\n",
       " 'listed_in(city)']"
      ]
     },
     "execution_count": 83,
     "metadata": {},
     "output_type": "execute_result"
    }
   ],
   "source": [
    "categorical_features"
   ]
  },
  {
   "cell_type": "code",
   "execution_count": 84,
   "id": "4511db2d",
   "metadata": {
    "scrolled": true
   },
   "outputs": [
    {
     "data": {
      "text/plain": [
       "listed_in(city)\n",
       "BTM                      6.340275\n",
       "Koramangala 7th Block    5.680917\n",
       "Koramangala 5th Block    5.483690\n",
       "Koramangala 4th Block    5.373475\n",
       "Koramangala 6th Block    5.071833\n",
       "Jayanagar                4.584566\n",
       "JP Nagar                 4.052826\n",
       "Indiranagar              3.596496\n",
       "Church Street            3.532688\n",
       "MG Road                  3.501750\n",
       "Brigade Road             3.420539\n",
       "Lavelle Road             3.372199\n",
       "HSR                      3.366398\n",
       "Marathahalli             3.207843\n",
       "Residency Road           3.132432\n",
       "Whitefield               3.132432\n",
       "Bannerghatta Road        3.126631\n",
       "Brookefield              2.935205\n",
       "Old Airport Road         2.755380\n",
       "Kammanahalli             2.569755\n",
       "Kalyan Nagar             2.531083\n",
       "Basavanagudi             2.447938\n",
       "Sarjapur Road            2.438270\n",
       "Electronic City          2.376395\n",
       "Bellandur                2.372527\n",
       "Frazer Town              2.291316\n",
       "Malleshwaram             2.119226\n",
       "Rajajinagar              2.086355\n",
       "Banashankari             1.668697\n",
       "New BEL Road             1.430864\n",
       "Name: count, dtype: float64"
      ]
     },
     "execution_count": 84,
     "metadata": {},
     "output_type": "execute_result"
    }
   ],
   "source": [
    "data['listed_in(city)'].value_counts()/len(data)*100 ## here top 5 doed not contributes to 70-90% of the data.so not good for ohe."
   ]
  },
  {
   "cell_type": "code",
   "execution_count": 85,
   "id": "ddbabf20",
   "metadata": {
    "scrolled": true
   },
   "outputs": [
    {
     "data": {
      "text/plain": [
       "listed_in(type)\n",
       "Delivery              50.161456\n",
       "Dine-out              34.377477\n",
       "Desserts               6.947425\n",
       "Cafes                  3.331593\n",
       "Drinks & nightlife     2.128894\n",
       "Buffet                 1.705435\n",
       "Pubs and bars          1.347719\n",
       "Name: count, dtype: float64"
      ]
     },
     "execution_count": 85,
     "metadata": {},
     "output_type": "execute_result"
    }
   ],
   "source": [
    "data['listed_in(type)'].value_counts()/len(data)*100 ##will use ohe since top 5 contriction ie good amount"
   ]
  },
  {
   "cell_type": "code",
   "execution_count": 86,
   "id": "f4516df0",
   "metadata": {},
   "outputs": [
    {
     "data": {
      "text/plain": [
       "location\n",
       "BTM                      9.907767\n",
       "HSR                      4.878473\n",
       "Koramangala 5th Block    4.841735\n",
       "JP Nagar                 4.321596\n",
       "Whitefield               4.145639\n",
       "                           ...   \n",
       "West Bangalore           0.011602\n",
       "Yelahanka                0.011602\n",
       "Jakkur                   0.005801\n",
       "Rajarajeshwari Nagar     0.003867\n",
       "Peenya                   0.001934\n",
       "Name: count, Length: 93, dtype: float64"
      ]
     },
     "execution_count": 86,
     "metadata": {},
     "output_type": "execute_result"
    }
   ],
   "source": [
    "data['location'].value_counts()/len(data)*100### not important to use ohe"
   ]
  },
  {
   "cell_type": "code",
   "execution_count": 87,
   "id": "56912d3d",
   "metadata": {},
   "outputs": [
    {
     "data": {
      "text/plain": [
       "['online_order',\n",
       " 'book_table',\n",
       " 'location',\n",
       " 'rest_type',\n",
       " 'reviews_list',\n",
       " 'listed_in(type)',\n",
       " 'listed_in(city)']"
      ]
     },
     "execution_count": 87,
     "metadata": {},
     "output_type": "execute_result"
    }
   ],
   "source": [
    "categorical_features"
   ]
  },
  {
   "cell_type": "code",
   "execution_count": 88,
   "id": "b3e37b22",
   "metadata": {},
   "outputs": [],
   "source": [
    "##thus overall in book 'online_order', 'book_table','rest_type','listed_in(type)' we are going to use OHE.here all categorical columns are\n",
    "# and these all are nominal so insteaed of coloumn transformer we will use fuction\n"
   ]
  },
  {
   "cell_type": "code",
   "execution_count": 89,
   "id": "06444a5b",
   "metadata": {
    "scrolled": true
   },
   "outputs": [
    {
     "data": {
      "text/html": [
       "<div>\n",
       "<style scoped>\n",
       "    .dataframe tbody tr th:only-of-type {\n",
       "        vertical-align: middle;\n",
       "    }\n",
       "\n",
       "    .dataframe tbody tr th {\n",
       "        vertical-align: top;\n",
       "    }\n",
       "\n",
       "    .dataframe thead th {\n",
       "        text-align: right;\n",
       "    }\n",
       "</style>\n",
       "<table border=\"1\" class=\"dataframe\">\n",
       "  <thead>\n",
       "    <tr style=\"text-align: right;\">\n",
       "      <th></th>\n",
       "      <th>online_order_Yes</th>\n",
       "    </tr>\n",
       "  </thead>\n",
       "  <tbody>\n",
       "    <tr>\n",
       "      <th>0</th>\n",
       "      <td>True</td>\n",
       "    </tr>\n",
       "    <tr>\n",
       "      <th>1</th>\n",
       "      <td>True</td>\n",
       "    </tr>\n",
       "    <tr>\n",
       "      <th>2</th>\n",
       "      <td>True</td>\n",
       "    </tr>\n",
       "    <tr>\n",
       "      <th>3</th>\n",
       "      <td>False</td>\n",
       "    </tr>\n",
       "    <tr>\n",
       "      <th>4</th>\n",
       "      <td>False</td>\n",
       "    </tr>\n",
       "    <tr>\n",
       "      <th>...</th>\n",
       "      <td>...</td>\n",
       "    </tr>\n",
       "    <tr>\n",
       "      <th>51712</th>\n",
       "      <td>False</td>\n",
       "    </tr>\n",
       "    <tr>\n",
       "      <th>51713</th>\n",
       "      <td>False</td>\n",
       "    </tr>\n",
       "    <tr>\n",
       "      <th>51714</th>\n",
       "      <td>False</td>\n",
       "    </tr>\n",
       "    <tr>\n",
       "      <th>51715</th>\n",
       "      <td>False</td>\n",
       "    </tr>\n",
       "    <tr>\n",
       "      <th>51716</th>\n",
       "      <td>False</td>\n",
       "    </tr>\n",
       "  </tbody>\n",
       "</table>\n",
       "<p>51717 rows × 1 columns</p>\n",
       "</div>"
      ],
      "text/plain": [
       "       online_order_Yes\n",
       "0                  True\n",
       "1                  True\n",
       "2                  True\n",
       "3                 False\n",
       "4                 False\n",
       "...                 ...\n",
       "51712             False\n",
       "51713             False\n",
       "51714             False\n",
       "51715             False\n",
       "51716             False\n",
       "\n",
       "[51717 rows x 1 columns]"
      ]
     },
     "execution_count": 89,
     "metadata": {},
     "output_type": "execute_result"
    }
   ],
   "source": [
    "pd.get_dummies(data['online_order'],prefix='online_order',drop_first=True)"
   ]
  },
  {
   "cell_type": "code",
   "execution_count": 90,
   "id": "14718917",
   "metadata": {},
   "outputs": [],
   "source": [
    "for col in ['online_order', 'book_table','rest_type','listed_in(type)']:\n",
    "     col_encoded = pd.get_dummies(data[col],prefix=col,drop_first=True)\n",
    "     data = pd.concat([data,col_encoded],axis=1)\n",
    "    "
   ]
  },
  {
   "cell_type": "code",
   "execution_count": 91,
   "id": "d8ac2fbe",
   "metadata": {
    "scrolled": true
   },
   "outputs": [
    {
     "data": {
      "text/html": [
       "<div>\n",
       "<style scoped>\n",
       "    .dataframe tbody tr th:only-of-type {\n",
       "        vertical-align: middle;\n",
       "    }\n",
       "\n",
       "    .dataframe tbody tr th {\n",
       "        vertical-align: top;\n",
       "    }\n",
       "\n",
       "    .dataframe thead th {\n",
       "        text-align: right;\n",
       "    }\n",
       "</style>\n",
       "<table border=\"1\" class=\"dataframe\">\n",
       "  <thead>\n",
       "    <tr style=\"text-align: right;\">\n",
       "      <th></th>\n",
       "      <th>online_order</th>\n",
       "      <th>book_table</th>\n",
       "      <th>votes</th>\n",
       "      <th>location</th>\n",
       "      <th>rest_type</th>\n",
       "      <th>approx_cost(for two people)</th>\n",
       "      <th>reviews_list</th>\n",
       "      <th>listed_in(type)</th>\n",
       "      <th>listed_in(city)</th>\n",
       "      <th>target</th>\n",
       "      <th>...</th>\n",
       "      <th>rest_type_Dessert Parlor</th>\n",
       "      <th>rest_type_Quick Bites</th>\n",
       "      <th>rest_type_Takeaway, Delivery</th>\n",
       "      <th>rest_type_other</th>\n",
       "      <th>listed_in(type)_Cafes</th>\n",
       "      <th>listed_in(type)_Delivery</th>\n",
       "      <th>listed_in(type)_Desserts</th>\n",
       "      <th>listed_in(type)_Dine-out</th>\n",
       "      <th>listed_in(type)_Drinks &amp; nightlife</th>\n",
       "      <th>listed_in(type)_Pubs and bars</th>\n",
       "    </tr>\n",
       "  </thead>\n",
       "  <tbody>\n",
       "    <tr>\n",
       "      <th>0</th>\n",
       "      <td>Yes</td>\n",
       "      <td>Yes</td>\n",
       "      <td>775</td>\n",
       "      <td>Banashankari</td>\n",
       "      <td>Casual Dining</td>\n",
       "      <td>800.0</td>\n",
       "      <td>[('Rated 4.0', 'RATED\\n  A beautiful place to ...</td>\n",
       "      <td>Buffet</td>\n",
       "      <td>Banashankari</td>\n",
       "      <td>1</td>\n",
       "      <td>...</td>\n",
       "      <td>False</td>\n",
       "      <td>False</td>\n",
       "      <td>False</td>\n",
       "      <td>False</td>\n",
       "      <td>False</td>\n",
       "      <td>False</td>\n",
       "      <td>False</td>\n",
       "      <td>False</td>\n",
       "      <td>False</td>\n",
       "      <td>False</td>\n",
       "    </tr>\n",
       "    <tr>\n",
       "      <th>1</th>\n",
       "      <td>Yes</td>\n",
       "      <td>No</td>\n",
       "      <td>787</td>\n",
       "      <td>Banashankari</td>\n",
       "      <td>Casual Dining</td>\n",
       "      <td>800.0</td>\n",
       "      <td>[('Rated 4.0', 'RATED\\n  Had been here for din...</td>\n",
       "      <td>Buffet</td>\n",
       "      <td>Banashankari</td>\n",
       "      <td>1</td>\n",
       "      <td>...</td>\n",
       "      <td>False</td>\n",
       "      <td>False</td>\n",
       "      <td>False</td>\n",
       "      <td>False</td>\n",
       "      <td>False</td>\n",
       "      <td>False</td>\n",
       "      <td>False</td>\n",
       "      <td>False</td>\n",
       "      <td>False</td>\n",
       "      <td>False</td>\n",
       "    </tr>\n",
       "    <tr>\n",
       "      <th>2</th>\n",
       "      <td>Yes</td>\n",
       "      <td>No</td>\n",
       "      <td>918</td>\n",
       "      <td>Banashankari</td>\n",
       "      <td>other</td>\n",
       "      <td>800.0</td>\n",
       "      <td>[('Rated 3.0', \"RATED\\n  Ambience is not that ...</td>\n",
       "      <td>Buffet</td>\n",
       "      <td>Banashankari</td>\n",
       "      <td>1</td>\n",
       "      <td>...</td>\n",
       "      <td>False</td>\n",
       "      <td>False</td>\n",
       "      <td>False</td>\n",
       "      <td>True</td>\n",
       "      <td>False</td>\n",
       "      <td>False</td>\n",
       "      <td>False</td>\n",
       "      <td>False</td>\n",
       "      <td>False</td>\n",
       "      <td>False</td>\n",
       "    </tr>\n",
       "  </tbody>\n",
       "</table>\n",
       "<p>3 rows × 24 columns</p>\n",
       "</div>"
      ],
      "text/plain": [
       "  online_order book_table  votes      location      rest_type  \\\n",
       "0          Yes        Yes    775  Banashankari  Casual Dining   \n",
       "1          Yes         No    787  Banashankari  Casual Dining   \n",
       "2          Yes         No    918  Banashankari          other   \n",
       "\n",
       "   approx_cost(for two people)  \\\n",
       "0                        800.0   \n",
       "1                        800.0   \n",
       "2                        800.0   \n",
       "\n",
       "                                        reviews_list listed_in(type)  \\\n",
       "0  [('Rated 4.0', 'RATED\\n  A beautiful place to ...          Buffet   \n",
       "1  [('Rated 4.0', 'RATED\\n  Had been here for din...          Buffet   \n",
       "2  [('Rated 3.0', \"RATED\\n  Ambience is not that ...          Buffet   \n",
       "\n",
       "  listed_in(city)  target  ...  rest_type_Dessert Parlor  \\\n",
       "0    Banashankari       1  ...                     False   \n",
       "1    Banashankari       1  ...                     False   \n",
       "2    Banashankari       1  ...                     False   \n",
       "\n",
       "   rest_type_Quick Bites  rest_type_Takeaway, Delivery  rest_type_other  \\\n",
       "0                  False                         False            False   \n",
       "1                  False                         False            False   \n",
       "2                  False                         False             True   \n",
       "\n",
       "   listed_in(type)_Cafes  listed_in(type)_Delivery  listed_in(type)_Desserts  \\\n",
       "0                  False                     False                     False   \n",
       "1                  False                     False                     False   \n",
       "2                  False                     False                     False   \n",
       "\n",
       "   listed_in(type)_Dine-out  listed_in(type)_Drinks & nightlife  \\\n",
       "0                     False                               False   \n",
       "1                     False                               False   \n",
       "2                     False                               False   \n",
       "\n",
       "   listed_in(type)_Pubs and bars  \n",
       "0                          False  \n",
       "1                          False  \n",
       "2                          False  \n",
       "\n",
       "[3 rows x 24 columns]"
      ]
     },
     "execution_count": 91,
     "metadata": {},
     "output_type": "execute_result"
    }
   ],
   "source": [
    "data.head(3)"
   ]
  },
  {
   "cell_type": "code",
   "execution_count": 92,
   "id": "56067645",
   "metadata": {},
   "outputs": [
    {
     "data": {
      "text/plain": [
       "location\n",
       "BTM                  0.269906\n",
       "Banashankari         0.402870\n",
       "Banaswadi            0.189759\n",
       "Bannerghatta Road    0.241104\n",
       "Basavanagudi         0.459064\n",
       "                       ...   \n",
       "West Bangalore       0.166667\n",
       "Whitefield           0.312500\n",
       "Wilson Garden        0.223577\n",
       "Yelahanka            0.333333\n",
       "Yeshwantpur          0.210084\n",
       "Name: target, Length: 93, dtype: float64"
      ]
     },
     "execution_count": 92,
     "metadata": {},
     "output_type": "execute_result"
    }
   ],
   "source": [
    "data.groupby(['location'])['target'].mean()"
   ]
  },
  {
   "cell_type": "code",
   "execution_count": 93,
   "id": "18d1b0a5",
   "metadata": {
    "scrolled": true
   },
   "outputs": [
    {
     "data": {
      "text/plain": [
       "{'BTM': 0.26990632318501173,\n",
       " 'Banashankari': 0.40286975717439294,\n",
       " 'Banaswadi': 0.1897590361445783,\n",
       " 'Bannerghatta Road': 0.2411042944785276,\n",
       " 'Basavanagudi': 0.4590643274853801,\n",
       " 'Basaveshwara Nagar': 0.31413612565445026,\n",
       " 'Bellandur': 0.276049766718507,\n",
       " 'Bommanahalli': 0.046218487394957986,\n",
       " 'Brigade Road': 0.4671592775041051,\n",
       " 'Brookefield': 0.3404255319148936,\n",
       " 'CV Raman Nagar': 0.08888888888888889,\n",
       " 'Central Bangalore': 0.0,\n",
       " 'Church Street': 0.7785588752196837,\n",
       " 'City Market': 0.16666666666666666,\n",
       " 'Commercial Street': 0.35945945945945945,\n",
       " 'Cunningham Road': 0.6741344195519349,\n",
       " 'Domlur': 0.3165322580645161,\n",
       " 'East Bangalore': 0.11363636363636363,\n",
       " 'Ejipura': 0.07972665148063782,\n",
       " 'Electronic City': 0.18600953895071543,\n",
       " 'Frazer Town': 0.3246217331499312,\n",
       " 'HBR Layout': 0.39215686274509803,\n",
       " 'HSR': 0.40388426476416966,\n",
       " 'Hebbal': 0.2857142857142857,\n",
       " 'Hennur': 0.13664596273291926,\n",
       " 'Hosur Road': 0.3627450980392157,\n",
       " 'ITPL Main Road, Whitefield': 0.26548672566371684,\n",
       " 'Indiranagar': 0.599615938550168,\n",
       " 'Infantry Road': 0.6026490066225165,\n",
       " 'JP Nagar': 0.39865771812080536,\n",
       " 'Jakkur': 0.0,\n",
       " 'Jalahalli': 0.02631578947368421,\n",
       " 'Jayanagar': 0.519730010384216,\n",
       " 'Jeevan Bhima Nagar': 0.375,\n",
       " 'KR Puram': 0.05555555555555555,\n",
       " 'Kaggadasapura': 0.32673267326732675,\n",
       " 'Kalyan Nagar': 0.5181711606096131,\n",
       " 'Kammanahalli': 0.3611111111111111,\n",
       " 'Kanakapura Road': 0.05263157894736842,\n",
       " 'Kengeri': 0.2222222222222222,\n",
       " 'Koramangala': 0.3541666666666667,\n",
       " 'Koramangala 1st Block': 0.32794830371567046,\n",
       " 'Koramangala 2nd Block': 0.4411764705882353,\n",
       " 'Koramangala 3rd Block': 0.7314814814814815,\n",
       " 'Koramangala 4th Block': 0.6194690265486725,\n",
       " 'Koramangala 5th Block': 0.7264376996805112,\n",
       " 'Koramangala 6th Block': 0.5596885813148789,\n",
       " 'Koramangala 7th Block': 0.611346316680779,\n",
       " 'Koramangala 8th Block': 0.403125,\n",
       " 'Kumaraswamy Layout': 0.2,\n",
       " 'Langford Town': 0.8148148148148148,\n",
       " 'Lavelle Road': 0.7939508506616257,\n",
       " 'MG Road': 0.6383442265795207,\n",
       " 'Magadi Road': 0.14705882352941177,\n",
       " 'Majestic': 0.16774193548387098,\n",
       " 'Malleshwaram': 0.5172413793103449,\n",
       " 'Marathahalli': 0.26652221018418204,\n",
       " 'Mysore Road': 0.13636363636363635,\n",
       " 'Nagarbhavi': 0.0,\n",
       " 'Nagawara': 0.2620320855614973,\n",
       " 'New BEL Road': 0.3713405238828968,\n",
       " 'North Bangalore': 0.0,\n",
       " 'Old Airport Road': 0.38789237668161436,\n",
       " 'Old Madras Road': 0.13636363636363635,\n",
       " 'Peenya': 0.0,\n",
       " 'RT Nagar': 0.125,\n",
       " 'Race Course Road': 0.4460431654676259,\n",
       " 'Rajajinagar': 0.2961082910321489,\n",
       " 'Rajarajeshwari Nagar': 0.5,\n",
       " 'Rammurthy Nagar': 0.1875,\n",
       " 'Residency Road': 0.5881481481481482,\n",
       " 'Richmond Road': 0.4544334975369458,\n",
       " 'Sadashiv Nagar': 0.6349206349206349,\n",
       " 'Sahakara Nagar': 0.33962264150943394,\n",
       " 'Sanjay Nagar': 0.2236842105263158,\n",
       " 'Sankey Road': 0.6296296296296297,\n",
       " 'Sarjapur Road': 0.35774647887323946,\n",
       " 'Seshadripuram': 0.4303030303030303,\n",
       " 'Shanti Nagar': 0.2172211350293542,\n",
       " 'Shivajinagar': 0.1282565130260521,\n",
       " 'South Bangalore': 0.21495327102803738,\n",
       " 'St. Marks Road': 0.7642045454545454,\n",
       " 'Thippasandra': 0.18041237113402062,\n",
       " 'Ulsoor': 0.48289345063538613,\n",
       " 'Uttarahalli': 0.0,\n",
       " 'Varthur Main Road, Whitefield': 0.26495726495726496,\n",
       " 'Vasanth Nagar': 0.36271186440677966,\n",
       " 'Vijay Nagar': 0.325,\n",
       " 'West Bangalore': 0.16666666666666666,\n",
       " 'Whitefield': 0.3125,\n",
       " 'Wilson Garden': 0.22357723577235772,\n",
       " 'Yelahanka': 0.3333333333333333,\n",
       " 'Yeshwantpur': 0.21008403361344538}"
      ]
     },
     "execution_count": 93,
     "metadata": {},
     "output_type": "execute_result"
    }
   ],
   "source": [
    "dict_mean_location  = data.groupby(['location'])['target'].mean().to_dict()\n",
    "dict_mean_location"
   ]
  },
  {
   "cell_type": "code",
   "execution_count": null,
   "id": "66afe2e8",
   "metadata": {},
   "outputs": [],
   "source": []
  },
  {
   "cell_type": "code",
   "execution_count": 94,
   "id": "5eb906ca",
   "metadata": {},
   "outputs": [],
   "source": [
    "data['location'] = data['location'].map(dict_mean_location) ## lets map \"dict_mean_location\" on top of \"location\" feature"
   ]
  },
  {
   "cell_type": "code",
   "execution_count": 95,
   "id": "8e12d9e1",
   "metadata": {},
   "outputs": [
    {
     "data": {
      "text/plain": [
       "0        0.402870\n",
       "1        0.402870\n",
       "2        0.402870\n",
       "3        0.402870\n",
       "4        0.459064\n",
       "           ...   \n",
       "51712    0.312500\n",
       "51713    0.312500\n",
       "51714    0.312500\n",
       "51715    0.265487\n",
       "51716    0.265487\n",
       "Name: location, Length: 51717, dtype: float64"
      ]
     },
     "execution_count": 95,
     "metadata": {},
     "output_type": "execute_result"
    }
   ],
   "source": [
    "data['location']"
   ]
  },
  {
   "cell_type": "code",
   "execution_count": 96,
   "id": "e6154aaa",
   "metadata": {},
   "outputs": [
    {
     "data": {
      "text/html": [
       "<div>\n",
       "<style scoped>\n",
       "    .dataframe tbody tr th:only-of-type {\n",
       "        vertical-align: middle;\n",
       "    }\n",
       "\n",
       "    .dataframe tbody tr th {\n",
       "        vertical-align: top;\n",
       "    }\n",
       "\n",
       "    .dataframe thead th {\n",
       "        text-align: right;\n",
       "    }\n",
       "</style>\n",
       "<table border=\"1\" class=\"dataframe\">\n",
       "  <thead>\n",
       "    <tr style=\"text-align: right;\">\n",
       "      <th></th>\n",
       "      <th>online_order</th>\n",
       "      <th>book_table</th>\n",
       "      <th>votes</th>\n",
       "      <th>location</th>\n",
       "      <th>rest_type</th>\n",
       "      <th>approx_cost(for two people)</th>\n",
       "      <th>reviews_list</th>\n",
       "      <th>listed_in(type)</th>\n",
       "      <th>listed_in(city)</th>\n",
       "      <th>target</th>\n",
       "      <th>...</th>\n",
       "      <th>rest_type_Dessert Parlor</th>\n",
       "      <th>rest_type_Quick Bites</th>\n",
       "      <th>rest_type_Takeaway, Delivery</th>\n",
       "      <th>rest_type_other</th>\n",
       "      <th>listed_in(type)_Cafes</th>\n",
       "      <th>listed_in(type)_Delivery</th>\n",
       "      <th>listed_in(type)_Desserts</th>\n",
       "      <th>listed_in(type)_Dine-out</th>\n",
       "      <th>listed_in(type)_Drinks &amp; nightlife</th>\n",
       "      <th>listed_in(type)_Pubs and bars</th>\n",
       "    </tr>\n",
       "  </thead>\n",
       "  <tbody>\n",
       "    <tr>\n",
       "      <th>0</th>\n",
       "      <td>Yes</td>\n",
       "      <td>Yes</td>\n",
       "      <td>775</td>\n",
       "      <td>0.40287</td>\n",
       "      <td>Casual Dining</td>\n",
       "      <td>800.0</td>\n",
       "      <td>[('Rated 4.0', 'RATED\\n  A beautiful place to ...</td>\n",
       "      <td>Buffet</td>\n",
       "      <td>Banashankari</td>\n",
       "      <td>1</td>\n",
       "      <td>...</td>\n",
       "      <td>False</td>\n",
       "      <td>False</td>\n",
       "      <td>False</td>\n",
       "      <td>False</td>\n",
       "      <td>False</td>\n",
       "      <td>False</td>\n",
       "      <td>False</td>\n",
       "      <td>False</td>\n",
       "      <td>False</td>\n",
       "      <td>False</td>\n",
       "    </tr>\n",
       "    <tr>\n",
       "      <th>1</th>\n",
       "      <td>Yes</td>\n",
       "      <td>No</td>\n",
       "      <td>787</td>\n",
       "      <td>0.40287</td>\n",
       "      <td>Casual Dining</td>\n",
       "      <td>800.0</td>\n",
       "      <td>[('Rated 4.0', 'RATED\\n  Had been here for din...</td>\n",
       "      <td>Buffet</td>\n",
       "      <td>Banashankari</td>\n",
       "      <td>1</td>\n",
       "      <td>...</td>\n",
       "      <td>False</td>\n",
       "      <td>False</td>\n",
       "      <td>False</td>\n",
       "      <td>False</td>\n",
       "      <td>False</td>\n",
       "      <td>False</td>\n",
       "      <td>False</td>\n",
       "      <td>False</td>\n",
       "      <td>False</td>\n",
       "      <td>False</td>\n",
       "    </tr>\n",
       "    <tr>\n",
       "      <th>2</th>\n",
       "      <td>Yes</td>\n",
       "      <td>No</td>\n",
       "      <td>918</td>\n",
       "      <td>0.40287</td>\n",
       "      <td>other</td>\n",
       "      <td>800.0</td>\n",
       "      <td>[('Rated 3.0', \"RATED\\n  Ambience is not that ...</td>\n",
       "      <td>Buffet</td>\n",
       "      <td>Banashankari</td>\n",
       "      <td>1</td>\n",
       "      <td>...</td>\n",
       "      <td>False</td>\n",
       "      <td>False</td>\n",
       "      <td>False</td>\n",
       "      <td>True</td>\n",
       "      <td>False</td>\n",
       "      <td>False</td>\n",
       "      <td>False</td>\n",
       "      <td>False</td>\n",
       "      <td>False</td>\n",
       "      <td>False</td>\n",
       "    </tr>\n",
       "  </tbody>\n",
       "</table>\n",
       "<p>3 rows × 24 columns</p>\n",
       "</div>"
      ],
      "text/plain": [
       "  online_order book_table  votes  location      rest_type  \\\n",
       "0          Yes        Yes    775   0.40287  Casual Dining   \n",
       "1          Yes         No    787   0.40287  Casual Dining   \n",
       "2          Yes         No    918   0.40287          other   \n",
       "\n",
       "   approx_cost(for two people)  \\\n",
       "0                        800.0   \n",
       "1                        800.0   \n",
       "2                        800.0   \n",
       "\n",
       "                                        reviews_list listed_in(type)  \\\n",
       "0  [('Rated 4.0', 'RATED\\n  A beautiful place to ...          Buffet   \n",
       "1  [('Rated 4.0', 'RATED\\n  Had been here for din...          Buffet   \n",
       "2  [('Rated 3.0', \"RATED\\n  Ambience is not that ...          Buffet   \n",
       "\n",
       "  listed_in(city)  target  ...  rest_type_Dessert Parlor  \\\n",
       "0    Banashankari       1  ...                     False   \n",
       "1    Banashankari       1  ...                     False   \n",
       "2    Banashankari       1  ...                     False   \n",
       "\n",
       "   rest_type_Quick Bites  rest_type_Takeaway, Delivery  rest_type_other  \\\n",
       "0                  False                         False            False   \n",
       "1                  False                         False            False   \n",
       "2                  False                         False             True   \n",
       "\n",
       "   listed_in(type)_Cafes  listed_in(type)_Delivery  listed_in(type)_Desserts  \\\n",
       "0                  False                     False                     False   \n",
       "1                  False                     False                     False   \n",
       "2                  False                     False                     False   \n",
       "\n",
       "   listed_in(type)_Dine-out  listed_in(type)_Drinks & nightlife  \\\n",
       "0                     False                               False   \n",
       "1                     False                               False   \n",
       "2                     False                               False   \n",
       "\n",
       "   listed_in(type)_Pubs and bars  \n",
       "0                          False  \n",
       "1                          False  \n",
       "2                          False  \n",
       "\n",
       "[3 rows x 24 columns]"
      ]
     },
     "execution_count": 96,
     "metadata": {},
     "output_type": "execute_result"
    }
   ],
   "source": [
    "data.head(3)"
   ]
  },
  {
   "cell_type": "code",
   "execution_count": 97,
   "id": "eb0888a9",
   "metadata": {
    "scrolled": true
   },
   "outputs": [
    {
     "data": {
      "text/plain": [
       "Index(['online_order', 'book_table', 'votes', 'location', 'rest_type',\n",
       "       'approx_cost(for two people)', 'reviews_list', 'listed_in(type)',\n",
       "       'listed_in(city)', 'target', 'online_order_Yes', 'book_table_Yes',\n",
       "       'rest_type_Casual Dining', 'rest_type_Delivery',\n",
       "       'rest_type_Dessert Parlor', 'rest_type_Quick Bites',\n",
       "       'rest_type_Takeaway, Delivery', 'rest_type_other',\n",
       "       'listed_in(type)_Cafes', 'listed_in(type)_Delivery',\n",
       "       'listed_in(type)_Desserts', 'listed_in(type)_Dine-out',\n",
       "       'listed_in(type)_Drinks & nightlife', 'listed_in(type)_Pubs and bars'],\n",
       "      dtype='object')"
      ]
     },
     "execution_count": 97,
     "metadata": {},
     "output_type": "execute_result"
    }
   ],
   "source": [
    "data.columns"
   ]
  },
  {
   "cell_type": "code",
   "execution_count": 98,
   "id": "b0e8e520",
   "metadata": {},
   "outputs": [],
   "source": [
    "data.drop(['online_order', 'book_table','rest_type','reviews_list','listed_in(type)','listed_in(city)', 'target'],axis=1,inplace=True)"
   ]
  },
  {
   "cell_type": "code",
   "execution_count": 99,
   "id": "af61296b",
   "metadata": {},
   "outputs": [
    {
     "data": {
      "text/plain": [
       "(51717, 17)"
      ]
     },
     "execution_count": 99,
     "metadata": {},
     "output_type": "execute_result"
    }
   ],
   "source": [
    "data.shape"
   ]
  },
  {
   "cell_type": "code",
   "execution_count": 100,
   "id": "678f5c5e",
   "metadata": {},
   "outputs": [
    {
     "data": {
      "text/html": [
       "<div>\n",
       "<style scoped>\n",
       "    .dataframe tbody tr th:only-of-type {\n",
       "        vertical-align: middle;\n",
       "    }\n",
       "\n",
       "    .dataframe tbody tr th {\n",
       "        vertical-align: top;\n",
       "    }\n",
       "\n",
       "    .dataframe thead th {\n",
       "        text-align: right;\n",
       "    }\n",
       "</style>\n",
       "<table border=\"1\" class=\"dataframe\">\n",
       "  <thead>\n",
       "    <tr style=\"text-align: right;\">\n",
       "      <th></th>\n",
       "      <th>votes</th>\n",
       "      <th>location</th>\n",
       "      <th>approx_cost(for two people)</th>\n",
       "      <th>online_order_Yes</th>\n",
       "      <th>book_table_Yes</th>\n",
       "      <th>rest_type_Casual Dining</th>\n",
       "      <th>rest_type_Delivery</th>\n",
       "      <th>rest_type_Dessert Parlor</th>\n",
       "      <th>rest_type_Quick Bites</th>\n",
       "      <th>rest_type_Takeaway, Delivery</th>\n",
       "      <th>rest_type_other</th>\n",
       "      <th>listed_in(type)_Cafes</th>\n",
       "      <th>listed_in(type)_Delivery</th>\n",
       "      <th>listed_in(type)_Desserts</th>\n",
       "      <th>listed_in(type)_Dine-out</th>\n",
       "      <th>listed_in(type)_Drinks &amp; nightlife</th>\n",
       "      <th>listed_in(type)_Pubs and bars</th>\n",
       "    </tr>\n",
       "  </thead>\n",
       "  <tbody>\n",
       "    <tr>\n",
       "      <th>0</th>\n",
       "      <td>775</td>\n",
       "      <td>0.40287</td>\n",
       "      <td>800.0</td>\n",
       "      <td>True</td>\n",
       "      <td>True</td>\n",
       "      <td>True</td>\n",
       "      <td>False</td>\n",
       "      <td>False</td>\n",
       "      <td>False</td>\n",
       "      <td>False</td>\n",
       "      <td>False</td>\n",
       "      <td>False</td>\n",
       "      <td>False</td>\n",
       "      <td>False</td>\n",
       "      <td>False</td>\n",
       "      <td>False</td>\n",
       "      <td>False</td>\n",
       "    </tr>\n",
       "    <tr>\n",
       "      <th>1</th>\n",
       "      <td>787</td>\n",
       "      <td>0.40287</td>\n",
       "      <td>800.0</td>\n",
       "      <td>True</td>\n",
       "      <td>False</td>\n",
       "      <td>True</td>\n",
       "      <td>False</td>\n",
       "      <td>False</td>\n",
       "      <td>False</td>\n",
       "      <td>False</td>\n",
       "      <td>False</td>\n",
       "      <td>False</td>\n",
       "      <td>False</td>\n",
       "      <td>False</td>\n",
       "      <td>False</td>\n",
       "      <td>False</td>\n",
       "      <td>False</td>\n",
       "    </tr>\n",
       "    <tr>\n",
       "      <th>2</th>\n",
       "      <td>918</td>\n",
       "      <td>0.40287</td>\n",
       "      <td>800.0</td>\n",
       "      <td>True</td>\n",
       "      <td>False</td>\n",
       "      <td>False</td>\n",
       "      <td>False</td>\n",
       "      <td>False</td>\n",
       "      <td>False</td>\n",
       "      <td>False</td>\n",
       "      <td>True</td>\n",
       "      <td>False</td>\n",
       "      <td>False</td>\n",
       "      <td>False</td>\n",
       "      <td>False</td>\n",
       "      <td>False</td>\n",
       "      <td>False</td>\n",
       "    </tr>\n",
       "  </tbody>\n",
       "</table>\n",
       "</div>"
      ],
      "text/plain": [
       "   votes  location  approx_cost(for two people)  online_order_Yes  \\\n",
       "0    775   0.40287                        800.0              True   \n",
       "1    787   0.40287                        800.0              True   \n",
       "2    918   0.40287                        800.0              True   \n",
       "\n",
       "   book_table_Yes  rest_type_Casual Dining  rest_type_Delivery  \\\n",
       "0            True                     True               False   \n",
       "1           False                     True               False   \n",
       "2           False                    False               False   \n",
       "\n",
       "   rest_type_Dessert Parlor  rest_type_Quick Bites  \\\n",
       "0                     False                  False   \n",
       "1                     False                  False   \n",
       "2                     False                  False   \n",
       "\n",
       "   rest_type_Takeaway, Delivery  rest_type_other  listed_in(type)_Cafes  \\\n",
       "0                         False            False                  False   \n",
       "1                         False            False                  False   \n",
       "2                         False             True                  False   \n",
       "\n",
       "   listed_in(type)_Delivery  listed_in(type)_Desserts  \\\n",
       "0                     False                     False   \n",
       "1                     False                     False   \n",
       "2                     False                     False   \n",
       "\n",
       "   listed_in(type)_Dine-out  listed_in(type)_Drinks & nightlife  \\\n",
       "0                     False                               False   \n",
       "1                     False                               False   \n",
       "2                     False                               False   \n",
       "\n",
       "   listed_in(type)_Pubs and bars  \n",
       "0                          False  \n",
       "1                          False  \n",
       "2                          False  "
      ]
     },
     "execution_count": 100,
     "metadata": {},
     "output_type": "execute_result"
    }
   ],
   "source": [
    "data.head(3)## all are numerical columns no ready to feed to Machine Learning."
   ]
  }
 ],
 "metadata": {
  "kernelspec": {
   "display_name": "Python 3 (ipykernel)",
   "language": "python",
   "name": "python3"
  },
  "language_info": {
   "codemirror_mode": {
    "name": "ipython",
    "version": 3
   },
   "file_extension": ".py",
   "mimetype": "text/x-python",
   "name": "python",
   "nbconvert_exporter": "python",
   "pygments_lexer": "ipython3",
   "version": "3.11.5"
  }
 },
 "nbformat": 4,
 "nbformat_minor": 5
}
